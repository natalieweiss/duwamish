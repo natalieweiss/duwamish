{
 "cells": [
  {
   "cell_type": "code",
   "execution_count": 2,
   "metadata": {},
   "outputs": [],
   "source": [
    "import pandas as pd\n",
    "import geopandas as gp\n",
    "import numpy as np\n",
    "import os\n",
    "import requests\n",
    "import urllib.parse"
   ]
  },
  {
   "cell_type": "code",
   "execution_count": 3,
   "metadata": {},
   "outputs": [],
   "source": [
    "shp_path = \"/home/nweiss/gdrive/Year 2/Summer - Duwamish/GIS/Shareholder Proposal/Robin_and_BJ_tour.shp\"\n",
    "out_path = \"/home/nweiss/gdrive/Year 2/Summer - Duwamish/GIS/Shareholder Proposal/Robin_and_BJ_tour.csv\""
   ]
  },
  {
   "cell_type": "code",
   "execution_count": 16,
   "metadata": {},
   "outputs": [],
   "source": [
    "shp = gp.read_file(shp_path)\n",
    "shp.to_crs('4326', inplace = True)\n",
    "shp['Latitude'] = shp.geometry.y\n",
    "shp['Longitude'] = shp.geometry.x\n",
    "shp['SAMPLED'] = ''\n",
    "shp[['Field_Note','Latitude', 'Longitude']].to_csv(out_path)"
   ]
  },
  {
   "cell_type": "code",
   "execution_count": 17,
   "metadata": {},
   "outputs": [],
   "source": [
    "shp.to_file(\"/home/nweiss/gdrive/Year 2/Summer - Duwamish/GIS/Shareholder Proposal/Robin_and_BJ_tour.geojson\", driver = 'GeoJSON')"
   ]
  },
  {
   "cell_type": "markdown",
   "metadata": {},
   "source": [
    "GNSS Processing\n",
    "- takes GNSS points from arcgis field collector app and joins to screening results"
   ]
  },
  {
   "cell_type": "code",
   "execution_count": 8,
   "metadata": {},
   "outputs": [],
   "source": [
    "## GNSS Processing\n",
    "url_base = \"https://gisdata.seattle.gov/server/rest/services/SPU/SPU_DWW/MapServer/6\"\n",
    "response = requests.get(url=url_base)\n",
    "params = {\n",
    "    'geometryType': 'esriGeometryPoint',\n",
    "    'inSR': '4326',\n",
    "    'distance': '10000', \n",
    "    'units': 'esriSRUnit_Meter', \n",
    "    'returnGeometry': 'true'\n",
    "    }\n",
    "url_final = url_base + urllib.parse.urlencode(params)\n",
    "response = requests.get(url=url_final)\n",
    "dir(response)\n",
    "data = response.json\n",
    "#gdf_temp = gp.read_file(data)"
   ]
  },
  {
   "cell_type": "code",
   "execution_count": 10,
   "metadata": {},
   "outputs": [
    {
     "name": "stderr",
     "output_type": "stream",
     "text": [
      "/home/nweiss/miniconda3/envs/gis/lib/python3.11/site-packages/dask/dataframe/_pyarrow_compat.py:17: FutureWarning: Minimal version of pyarrow will soon be increased to 14.0.1. You are using 11.0.0. Please consider upgrading.\n",
      "  warnings.warn(\n"
     ]
    }
   ],
   "source": [
    "response"
   ]
  },
  {
   "cell_type": "code",
   "execution_count": null,
   "metadata": {},
   "outputs": [],
   "source": [
    "\n",
    "# bring in GNSS points\n",
    "gnss_pts = \"/home/nweiss/gdrive/Year 2/Summer - Duwamish/GIS/Sampling/GNSS_20231105.shp\"\n",
    "gnss_pts_gdf = gp.read_file(gnss_pts)\n",
    "\n",
    "# bring in screening results\n",
    "results = \"/home/nweiss/gdrive/Year 2/Summer - Duwamish/Sampling_Results/Screening_Results20231105.csv\"\n",
    "results_df = pd.read_csv(results)\n"
   ]
  },
  {
   "cell_type": "code",
   "execution_count": 37,
   "metadata": {},
   "outputs": [],
   "source": [
    "dup_row_s41 = gnss_pts_gdf[gnss_pts_gdf['Field_Note']=='S4W-1 and S4S-1'].copy()\n",
    "dup_row_s42 = gnss_pts_gdf[gnss_pts_gdf['Field_Note']=='S4W-2 and S4W-2'].copy() "
   ]
  },
  {
   "cell_type": "code",
   "execution_count": 38,
   "metadata": {},
   "outputs": [],
   "source": [
    "dup_row_s41['Field_Note'] = 'S4W-1'\n",
    "gnss_pts_gdf['Field_Note'] = np.where(gnss_pts_gdf['Field_Note']== 'S4W-1 and S4S-1','S4S-1',gnss_pts_gdf['Field_Note'])"
   ]
  },
  {
   "cell_type": "code",
   "execution_count": 39,
   "metadata": {},
   "outputs": [],
   "source": [
    "dup_row_s42['Field_Note'] = 'S4W-2'\n",
    "gnss_pts_gdf['Field_Note'] = np.where(gnss_pts_gdf['Field_Note']== 'S4W-2 and S4W-2','S4S-2',gnss_pts_gdf['Field_Note'])"
   ]
  },
  {
   "cell_type": "code",
   "execution_count": 43,
   "metadata": {},
   "outputs": [],
   "source": [
    "gnss_pts_gdf = pd.concat([gnss_pts_gdf,dup_row_s41, dup_row_s42])"
   ]
  },
  {
   "cell_type": "code",
   "execution_count": 44,
   "metadata": {},
   "outputs": [],
   "source": [
    "gnss_pts_gdf['Field_Note'] = np.where(gnss_pts_gdf['Field_Note']=='Dww-6','DWW-6',gnss_pts_gdf['Field_Note'])\n",
    "gnss_pts_gdf['Field_Note'] = np.where(gnss_pts_gdf['Field_Note']=='DWw-5c','DWW-5C',gnss_pts_gdf['Field_Note'])\n",
    "gnss_pts_gdf['Field_Note'] = np.where(gnss_pts_gdf['Field_Note']=='Dww 4','DWW-4',gnss_pts_gdf['Field_Note'])\n",
    "gnss_pts_gdf['Field_Note'] = np.where(gnss_pts_gdf['Field_Note']=='Dws-5a','DWS-5A',gnss_pts_gdf['Field_Note'])\n",
    "gnss_pts_gdf['Field_Note'] = np.where(gnss_pts_gdf['Field_Note']=='Dws-4, correct location','DWS-4',gnss_pts_gdf['Field_Note'])\n"
   ]
  },
  {
   "cell_type": "code",
   "execution_count": 46,
   "metadata": {},
   "outputs": [],
   "source": [
    "results_merge = results_df.merge(gnss_pts_gdf[['Field_Note','geometry']],how = 'left' ,left_on ='Samp_ID', right_on='Field_Note')"
   ]
  },
  {
   "cell_type": "code",
   "execution_count": 48,
   "metadata": {},
   "outputs": [],
   "source": [
    "results_gdf = gp.GeoDataFrame(results_merge)"
   ]
  },
  {
   "cell_type": "code",
   "execution_count": 53,
   "metadata": {},
   "outputs": [],
   "source": [
    "results_gdf.to_crs('4326', inplace = True)\n",
    "out_path = '/home/nweiss/gdrive/Year 2/Summer - Duwamish/GIS/Sampling/sampling_screening_results_20231105.geojson'\n",
    "geo = results_gdf.to_file(out_path, driver = 'GeoJSON')"
   ]
  },
  {
   "cell_type": "code",
   "execution_count": 11,
   "metadata": {},
   "outputs": [],
   "source": [
    "## tutorial of ESRI API\n",
    "## https://developers.arcgis.com/python/guide/download-data/\n",
    "\n",
    "from arcgis.gis import GIS\n",
    "from pathlib import Path\n",
    "from zipfile import ZipFile\n",
    "\n",
    "gis = GIS()\n"
   ]
  },
  {
   "cell_type": "code",
   "execution_count": 24,
   "metadata": {},
   "outputs": [
    {
     "name": "stdout",
     "output_type": "stream",
     "text": [
      "<Item title:\"DWW Storm Outfalls\" type:Feature Layer Collection owner:PublicUtilities_SeattleCityGIS>\n"
     ]
    },
    {
     "data": {
      "text/plain": [
       "['Parks_and_Open_Space.zip', 'Trailheads.csv', 'Trails.geojson']"
      ]
     },
     "execution_count": 24,
     "metadata": {},
     "output_type": "execute_result"
    }
   ],
   "source": [
    "public_data_item_id = '5b9edce6791f406fa8fa391e55e07345'\n",
    "\n",
    "data_item = gis.content.get(public_data_item_id)\n",
    "print(data_item)\n",
    "\n",
    "# configure where to save the data, and where the ZIP file is located\n",
    "data_path = Path('./data')\n",
    "if not data_path.exists():\n",
    "    data_path.mkdir()\n",
    "zip_path = data_path.joinpath('LA_Hub_Datasets.zip')\n",
    "extract_path = data_path.joinpath('LA_Hub_datasets')\n",
    "data_item.download(save_path=data_path)\n",
    "\n",
    "zip_file = ZipFile(zip_path)\n",
    "zip_file.extractall(path=data_path)\n",
    "\n",
    "files = [file.name for file in extract_path.glob('*')]\n",
    "files"
   ]
  }
 ],
 "metadata": {
  "kernelspec": {
   "display_name": "gis",
   "language": "python",
   "name": "python3"
  },
  "language_info": {
   "codemirror_mode": {
    "name": "ipython",
    "version": 3
   },
   "file_extension": ".py",
   "mimetype": "text/x-python",
   "name": "python",
   "nbconvert_exporter": "python",
   "pygments_lexer": "ipython3",
   "version": "3.11.4"
  },
  "orig_nbformat": 4
 },
 "nbformat": 4,
 "nbformat_minor": 2
}
