{
 "cells": [
  {
   "cell_type": "code",
   "execution_count": 56,
   "metadata": {},
   "outputs": [],
   "source": [
    "import pandas as pd\n",
    "import geopandas as gp\n",
    "import numpy as np\n",
    "import os\n",
    "import requests\n",
    "import urllib.parse"
   ]
  },
  {
   "cell_type": "code",
   "execution_count": 57,
   "metadata": {},
   "outputs": [],
   "source": [
    "# initiate columns to keep in final dataframe\n",
    "soil_RCRA_cols = ['DATE', 'SAMP_ID', 'Arsenic', 'Barium', 'Cadmium', 'Chromium', 'Lead','Selenium', 'Silver', 'Mercury']\n",
    "water_RCRA_cols = ['DATE', 'SAMP_ID', 'Arsenic', 'Barium', 'Cadmium', 'Chromium', 'Lead', 'Selenium', 'Silver', 'Mercury (CVAFS)', 'Mercury (CVAA)']\n",
    "pah_cols = ['DATE','SAMP_ID','1-Methylnaphthalene', '2-Methylnaphthalene', 'Acenaphthene', 'Acenaphthylene', 'Anthracene', 'Benzo(a)anthracene', 'Benzo(a)pyrene', 'Benzo(b)fluoranthene', 'Benzo(g,h,i)perylene', 'Benzo(k)fluoranthene', 'Chrysene', 'Dibenz(a,h)anthracene', 'Fluoranthene', 'Fluorene', 'Indeno(1,2,3-cd)pyrene', 'Naphthalene', 'Phenanthrene', 'Pyrene', '2-Fluorobiphenyl (S) %', 'Terphenyl-d14 (S) %']\n",
    "soil_pcb_cols = ['DATE', 'SAMP_ID', 'PCB Isomer','Concentrations Detected (mg/Kg)']\n",
    "water_pcb_cols = ['DATE', 'SAMP_ID', 'PCB Isomer','Concentrations Detected (ug/L)']\n",
    "soil_dxf_cols = ['DATE', 'SAMP_ID', 'Analyte', 'Result (mg/Kg)']\n",
    "soil_dxf_teq_cols = ['DATE','SAMP_ID', 'Analyte', 'Result (ng/Kg)', 'UB (mg/kg)']\n",
    "water_dxf_cols = ['DATE', 'SAMP_ID', 'Analyte', 'Result (ug/L)']\n",
    "water_dxf_teq_cols = ['DATE','SAMP_ID', 'Analyte', 'Result (pg/L)', 'UB (ug/L)']"
   ]
  },
  {
   "cell_type": "code",
   "execution_count": 58,
   "metadata": {},
   "outputs": [],
   "source": [
    "# create empty data frames to store collated results across all sampling dates\n",
    "# by medium and pollutant type\n",
    "soil_rcra = pd.DataFrame()\n",
    "water_rcra = pd.DataFrame()\n",
    "soil_pah = pd.DataFrame()\n",
    "water_pah = pd.DataFrame()\n",
    "soil_pcb = pd.DataFrame()\n",
    "water_pcb = pd.DataFrame()\n",
    "soil_dxf = pd.DataFrame()\n",
    "soil_dxf_teq = pd.DataFrame()\n",
    "water_dxf = pd.DataFrame()\n",
    "water_dxf_teq = pd.DataFrame()"
   ]
  },
  {
   "cell_type": "code",
   "execution_count": 59,
   "metadata": {},
   "outputs": [],
   "source": [
    "# list all files in the directory\n",
    "subfolder_path = \"/home/nweiss/gdrive/Year 2/Summer - Duwamish/Sampling_Results/2023 Screening Results\"\n",
    "\n",
    "# Use a list comprehension to get all .xlsx files in the subfolder\n",
    "results_files = [f for f in os.listdir(subfolder_path) if f.endswith(\".xlsx\")]\n",
    "results_files.remove(\"TEMPLATE_UPD.xlsx\")\n",
    "results_files.remove(\"S4 and S6 Screening Results_CLEAN.xlsx\") # this is processed separated in \"exceedance_processing.ipynb\""
   ]
  },
  {
   "cell_type": "code",
   "execution_count": 60,
   "metadata": {},
   "outputs": [
    {
     "name": "stdout",
     "output_type": "stream",
     "text": [
      "August 8 Sampling Event Screening Results_CLEAN.xlsx sheet found\n",
      "Data Entry and QA QC Log.xlsx no sheet\n"
     ]
    },
    {
     "name": "stdout",
     "output_type": "stream",
     "text": [
      "Duwamish Puget Creek Screening Results_CLEAN.xlsx sheet found\n",
      "Duwamish Superfund Waters_CLEAN.xlsx no sheet\n",
      "Kellogg Island Screening Results_CLEAN.xlsx sheet found\n",
      "People's Park Screening Result_CLEAN.xlsx sheet found\n",
      "S4 Screening Results_CLEAN.xlsx sheet found\n"
     ]
    }
   ],
   "source": [
    "# soil rcra processing\n",
    "\n",
    "for i in results_files:\n",
    "    try:\n",
    "        soil_rcra8_df = pd.read_excel(subfolder_path+'/'+i, sheet_name = 'Soil RCRA8')\n",
    "        print(i , \"sheet found\")\n",
    "\n",
    "        soil_rcra8_df = soil_rcra8_df[1:]\n",
    "        soil_rcra8_df = soil_rcra8_df[soil_RCRA_cols]\n",
    "        soil_rcra8_df = soil_rcra8_df.melt(id_vars=['DATE','SAMP_ID'])\n",
    "        soil_rcra8_df['Result Value Units'] = 'mg/kg'\n",
    "        soil_rcra8_df['Sample Matrix'] = 'Soil'\n",
    "        soil_rcra= pd.concat([soil_rcra, soil_rcra8_df], ignore_index= True)\n",
    "    except:\n",
    "        print(i, \"no sheet\")"
   ]
  },
  {
   "cell_type": "code",
   "execution_count": 61,
   "metadata": {},
   "outputs": [
    {
     "name": "stdout",
     "output_type": "stream",
     "text": [
      "August 8 Sampling Event Screening Results_CLEAN.xlsx no sheet\n",
      "Data Entry and QA QC Log.xlsx no sheet\n",
      "Duwamish Puget Creek Screening Results_CLEAN.xlsx sheet found\n",
      "Duwamish Superfund Waters_CLEAN.xlsx sheet found\n",
      "Kellogg Island Screening Results_CLEAN.xlsx no sheet\n",
      "People's Park Screening Result_CLEAN.xlsx sheet found\n",
      "S4 Screening Results_CLEAN.xlsx sheet found\n"
     ]
    }
   ],
   "source": [
    "# water rcra results\n",
    "for i in results_files:\n",
    "    try:\n",
    "        water_rcra8_df = pd.read_excel(subfolder_path+'/'+i, sheet_name = 'Water RCRA8')\n",
    "        print(i , \"sheet found\")\n",
    "        water_rcra8_df = water_rcra8_df[1:]\n",
    "        water_rcra8_df = water_rcra8_df[water_RCRA_cols]\n",
    "        water_rcra8_df = water_rcra8_df.melt(id_vars=['DATE','SAMP_ID'])\n",
    "        water_rcra8_df['Result Value Units'] = 'ug/L'\n",
    "        water_rcra8_df['Sample Matrix'] = 'Water'\n",
    "        water_rcra= pd.concat([water_rcra, water_rcra8_df], ignore_index= True)\n",
    "    except:\n",
    "        print(i, \"no sheet\")"
   ]
  },
  {
   "cell_type": "code",
   "execution_count": 62,
   "metadata": {},
   "outputs": [
    {
     "name": "stdout",
     "output_type": "stream",
     "text": [
      "August 8 Sampling Event Screening Results_CLEAN.xlsx sheet found\n",
      "Data Entry and QA QC Log.xlsx no sheet found\n",
      "Duwamish Puget Creek Screening Results_CLEAN.xlsx sheet found\n",
      "Duwamish Superfund Waters_CLEAN.xlsx no sheet found\n",
      "Kellogg Island Screening Results_CLEAN.xlsx sheet found\n",
      "People's Park Screening Result_CLEAN.xlsx sheet found\n",
      "S4 Screening Results_CLEAN.xlsx sheet found\n"
     ]
    }
   ],
   "source": [
    "# soil pah results\n",
    "for i in results_files:\n",
    "    try:\n",
    "        soil_pah_df = pd.read_excel(subfolder_path+'/'+i, sheet_name = 'PAH Soils')\n",
    "        print(i , \"sheet found\")\n",
    "        soil_pah_df = soil_pah_df[1:]\n",
    "        soil_pah_df= soil_pah_df[pah_cols]\n",
    "        soil_pah_df = soil_pah_df.melt(id_vars=['DATE','SAMP_ID'])\n",
    "        soil_pah_df['Result Value Units'] = 'mg/kg'\n",
    "        soil_pah_df['Sample Matrix'] = 'Soil'\n",
    "        soil_pah = pd.concat([soil_pah, soil_pah_df], ignore_index= True)\n",
    "    except:\n",
    "        print(i, \"no sheet found\")"
   ]
  },
  {
   "cell_type": "code",
   "execution_count": 63,
   "metadata": {},
   "outputs": [
    {
     "name": "stdout",
     "output_type": "stream",
     "text": [
      "August 8 Sampling Event Screening Results_CLEAN.xlsx no sheet found\n",
      "Data Entry and QA QC Log.xlsx no sheet found\n",
      "Duwamish Puget Creek Screening Results_CLEAN.xlsx sheet found\n",
      "Duwamish Superfund Waters_CLEAN.xlsx sheet found\n",
      "Kellogg Island Screening Results_CLEAN.xlsx no sheet found\n",
      "People's Park Screening Result_CLEAN.xlsx sheet found\n",
      "S4 Screening Results_CLEAN.xlsx sheet found\n"
     ]
    }
   ],
   "source": [
    "# water pah results\n",
    "for i in results_files:\n",
    "    try:\n",
    "        water_pah_df = pd.read_excel(subfolder_path+'/'+i, sheet_name = 'PAH Soil to Groundwater')\n",
    "        print(i , \"sheet found\")\n",
    "        water_pah_df = water_pah_df[1:]\n",
    "        water_pah_df= water_pah_df[pah_cols]\n",
    "        water_pah_df = water_pah_df.melt(id_vars=['DATE','SAMP_ID'])\n",
    "        water_pah_df['Result Value Units'] = 'ug/L'\n",
    "        water_pah_df['Sample Matrix'] = 'Water'\n",
    "        water_pah = pd.concat([water_pah, water_pah_df], ignore_index= True)\n",
    "    except:\n",
    "        print(i, \"no sheet found\")"
   ]
  },
  {
   "cell_type": "code",
   "execution_count": 64,
   "metadata": {},
   "outputs": [
    {
     "name": "stdout",
     "output_type": "stream",
     "text": [
      "August 8 Sampling Event Screening Results_CLEAN.xlsx no sheet found\n",
      "Data Entry and QA QC Log.xlsx no sheet found\n",
      "Duwamish Puget Creek Screening Results_CLEAN.xlsx no sheet found\n",
      "Duwamish Superfund Waters_CLEAN.xlsx no sheet found\n",
      "Kellogg Island Screening Results_CLEAN.xlsx sheet found\n",
      "People's Park Screening Result_CLEAN.xlsx sheet found\n",
      "S4 Screening Results_CLEAN.xlsx sheet found\n"
     ]
    }
   ],
   "source": [
    "# soil pcb results\n",
    "for i in results_files:\n",
    "    try:\n",
    "        soil_pcb_df = pd.read_excel(subfolder_path+'/'+i, sheet_name = 'PCBs Soils')\n",
    "        print(i , \"sheet found\")\n",
    "        soil_pcb_df = soil_pcb_df[1:]\n",
    "        soil_pcb_df= soil_pcb_df[soil_pcb_cols]\n",
    "        soil_pcb_df = soil_pcb_df.melt(id_vars=['DATE','SAMP_ID','PCB Isomer'])\n",
    "        soil_pcb_df.drop(columns = 'variable', inplace = True)\n",
    "        soil_pcb_df.rename(columns = {\"PCB Isomer\": 'variable'}, inplace = True)\n",
    "        soil_pcb_df['Result Value Units'] = 'mg/kg'\n",
    "        soil_pcb_df['Sample Matrix'] = 'Soil'\n",
    "        soil_pcb = pd.concat([soil_pcb, soil_pcb_df], ignore_index= True)\n",
    "    except:\n",
    "        print(i, \"no sheet found\")"
   ]
  },
  {
   "cell_type": "code",
   "execution_count": 65,
   "metadata": {},
   "outputs": [
    {
     "name": "stdout",
     "output_type": "stream",
     "text": [
      "August 8 Sampling Event Screening Results_CLEAN.xlsx no sheet found\n",
      "Data Entry and QA QC Log.xlsx no sheet found\n",
      "Duwamish Puget Creek Screening Results_CLEAN.xlsx no sheet found\n",
      "Duwamish Superfund Waters_CLEAN.xlsx sheet found\n",
      "Duwamish Superfund Waters_CLEAN.xlsx no sheet found\n",
      "Kellogg Island Screening Results_CLEAN.xlsx no sheet found\n",
      "People's Park Screening Result_CLEAN.xlsx sheet found\n",
      "S4 Screening Results_CLEAN.xlsx sheet found\n"
     ]
    }
   ],
   "source": [
    "# water pcb results\n",
    "for i in results_files:\n",
    "\n",
    "    try:\n",
    "        water_pcb_df = pd.read_excel(subfolder_path+'/'+i, sheet_name = 'PCBs Waters')\n",
    "        print(i, \"sheet found\")\n",
    "\n",
    "        water_pcb_df = water_pcb_df[1:]\n",
    "\n",
    "        water_pcb_df= water_pcb_df[water_pcb_cols]\n",
    "        water_pcb_df = water_pcb_df.melt(id_vars=['DATE','SAMP_ID','PCB Isomer'])\n",
    "        water_pcb_df.drop(columns = 'variable', inplace = True)\n",
    "        water_pcb_df.rename(columns = {\"PCB Isomer\": 'variable'}, inplace = True)\n",
    "\n",
    "        water_pcb_df['Result Value Units'] = 'ug/L'\n",
    "        water_pcb_df['Sample Matrix'] = 'Water'\n",
    "        water_pcb = pd.concat([water_pcb, water_pcb_df], ignore_index= True)\n",
    "    except:\n",
    "        print(i, \"no sheet found\")"
   ]
  },
  {
   "cell_type": "code",
   "execution_count": 66,
   "metadata": {},
   "outputs": [
    {
     "name": "stdout",
     "output_type": "stream",
     "text": [
      "August 8 Sampling Event Screening Results_CLEAN.xlsx no sheet found\n",
      "Data Entry and QA QC Log.xlsx no sheet found\n",
      "Duwamish Puget Creek Screening Results_CLEAN.xlsx sheet found\n",
      "Duwamish Superfund Waters_CLEAN.xlsx no sheet found\n",
      "Kellogg Island Screening Results_CLEAN.xlsx sheet found\n",
      "People's Park Screening Result_CLEAN.xlsx sheet found\n",
      "S4 Screening Results_CLEAN.xlsx sheet found\n"
     ]
    }
   ],
   "source": [
    "# soil dioxins and furans results\n",
    "for i in results_files:\n",
    "\n",
    "    try:\n",
    "        soil_dxf_df = pd.read_excel(subfolder_path+'/'+i, sheet_name = 'Dioxins and Furans Soils')\n",
    "        print(i, \"sheet found\")\n",
    "\n",
    "        soil_dxf_df = soil_dxf_df[soil_dxf_cols]\n",
    "        soil_dxf_df.rename(columns = {\"Analyte\": 'variable', \"Result (mg/Kg)\":\"value\"}, inplace = True)\n",
    "        soil_dxf_df['Result Value Units'] = 'mg/kg'\n",
    "        soil_dxf_df['Sample Matrix'] = 'Soil'\n",
    "        soil_dxf = pd.concat([soil_dxf, soil_dxf_df], ignore_index= True)\n",
    "\n",
    "    except:\n",
    "        print(i, \"no sheet found\")"
   ]
  },
  {
   "cell_type": "code",
   "execution_count": 67,
   "metadata": {},
   "outputs": [
    {
     "name": "stdout",
     "output_type": "stream",
     "text": [
      "August 8 Sampling Event Screening Results_CLEAN.xlsx no sheet found\n",
      "Data Entry and QA QC Log.xlsx no sheet found\n",
      "Duwamish Puget Creek Screening Results_CLEAN.xlsx sheet found\n",
      "Duwamish Superfund Waters_CLEAN.xlsx no sheet found\n",
      "Kellogg Island Screening Results_CLEAN.xlsx sheet found\n",
      "People's Park Screening Result_CLEAN.xlsx sheet found\n",
      "S4 Screening Results_CLEAN.xlsx sheet found\n"
     ]
    }
   ],
   "source": [
    "# soil dioxins and furans TEQ results\n",
    "for i in results_files:\n",
    "\n",
    "    try:\n",
    "        # calculate TEQ for dioxins and furans\n",
    "        soil_dxf_teq_df = pd.read_excel(subfolder_path+'/'+i, sheet_name = 'Dioxins and Furans Soils TEQ')\n",
    "        print(i, \"sheet found\")\n",
    "\n",
    "        soil_dxf_teq_df = soil_dxf_teq_df[soil_dxf_teq_cols]\n",
    "        soil_dxf_teq_df['Analyte'] = soil_dxf_teq_df['Analyte'] + ' TEQ'\n",
    "        soil_dxf_teq_df.rename(columns = {\"Analyte\": 'variable', \"UB (mg/kg)\":\"value\"}, inplace = True)\n",
    "        soil_dxf_teq_df['Result Value Units'] = 'mg/kg'\n",
    "        soil_dxf_teq_df['Sample Matrix'] = 'Soil'\n",
    "        soil_dxf_teq_df['Measured'] = np.where(soil_dxf_teq_df['Result (ng/Kg)'].isna(), 'Upper Bound','Measured')\n",
    "        soil_dxf_teq_df['Measured'] = np.where(soil_dxf_teq_df['Result (ng/Kg)']=='ND', 'Upper Bound',soil_dxf_teq_df['Measured'])\n",
    "        soil_dxf_teq_df.drop(columns ='Result (ng/Kg)', inplace = True)\n",
    "\n",
    "        soil_dxf_teq = pd.concat([soil_dxf_teq, soil_dxf_teq_df], ignore_index= True)\n",
    "    \n",
    "    except:\n",
    "        print(i, \"no sheet found\")"
   ]
  },
  {
   "cell_type": "code",
   "execution_count": 68,
   "metadata": {},
   "outputs": [
    {
     "name": "stdout",
     "output_type": "stream",
     "text": [
      "August 8 Sampling Event Screening Results_CLEAN.xlsx no sheet found\n",
      "Data Entry and QA QC Log.xlsx no sheet found\n",
      "Duwamish Puget Creek Screening Results_CLEAN.xlsx no sheet found\n",
      "Duwamish Superfund Waters_CLEAN.xlsx no sheet found\n",
      "Kellogg Island Screening Results_CLEAN.xlsx no sheet found\n",
      "People's Park Screening Result_CLEAN.xlsx sheet found\n",
      "S4 Screening Results_CLEAN.xlsx sheet found\n"
     ]
    }
   ],
   "source": [
    "# water dioxins and furans results\n",
    "for i in results_files:\n",
    "\n",
    "    try:\n",
    "        water_dxf_df = pd.read_excel(subfolder_path+'/'+i, sheet_name = 'Dioxins and Furans Water')\n",
    "        print(i, \"sheet found\")\n",
    "\n",
    "        water_dxf_df = water_dxf_df[water_dxf_cols]\n",
    "        water_dxf_df.rename(columns = {\"Analyte\": 'variable', \"Result (mg/Kg)\":\"value\"}, inplace = True)\n",
    "        water_dxf_df['Result Value Units'] = 'ug/L'\n",
    "        water_dxf_df['Sample Matrix'] = 'Water'\n",
    "        water_dxf = pd.concat([water_dxf, water_dxf_df], ignore_index= True)\n",
    "\n",
    "    except:\n",
    "        print(i, \"no sheet found\")"
   ]
  },
  {
   "cell_type": "code",
   "execution_count": 69,
   "metadata": {},
   "outputs": [
    {
     "name": "stdout",
     "output_type": "stream",
     "text": [
      "August 8 Sampling Event Screening Results_CLEAN.xlsx no sheet found\n",
      "Data Entry and QA QC Log.xlsx no sheet found\n",
      "Duwamish Puget Creek Screening Results_CLEAN.xlsx no sheet found\n",
      "Duwamish Superfund Waters_CLEAN.xlsx sheet found\n",
      "Duwamish Superfund Waters_CLEAN.xlsx no sheet found\n",
      "Kellogg Island Screening Results_CLEAN.xlsx no sheet found\n",
      "People's Park Screening Result_CLEAN.xlsx sheet found\n",
      "S4 Screening Results_CLEAN.xlsx sheet found\n"
     ]
    }
   ],
   "source": [
    "# water dioxins and furans TEQ results\n",
    "for i in results_files:\n",
    "\n",
    "    try:\n",
    "        # calculate TEQ for dioxins and furans\n",
    "        water_dxf_teq_df = pd.read_excel(subfolder_path+'/'+i, sheet_name = 'Dioxins and Furans Waters TEQ')\n",
    "        print(i, \"sheet found\")\n",
    "\n",
    "        water_dxf_teq_df = water_dxf_teq_df[water_dxf_teq_cols]\n",
    "        water_dxf_teq_df['Analyte'] = water_dxf_teq_df['Analyte'] + ' TEQ'\n",
    "        water_dxf_teq_df.rename(columns = {\"Analyte\": 'variable', \"UB (ug/L)\":\"value\"}, inplace = True)\n",
    "        water_dxf_teq_df['Result Value Units'] = 'ug/L'\n",
    "        water_dxf_teq_df['Sample Matrix'] = 'Water'\n",
    "        water_dxf_teq_df['Measured'] = np.where(water_dxf_teq_df['Result (pg/L)'].isna(), 'Upper Bound','Measured')\n",
    "        water_dxf_teq_df['Measured'] = np.where(water_dxf_teq_df['Result (pg/L)']=='ND', 'Upper Bound',water_dxf_teq_df['Measured'])\n",
    "        water_dxf_teq_df.drop(columns ='Result (pg/L)', inplace = True)\n",
    "\n",
    "        water_dxf_teq = pd.concat([water_dxf_teq, water_dxf_teq_df], ignore_index= True)\n",
    "    \n",
    "    except:\n",
    "        print(i, \"no sheet found\")"
   ]
  },
  {
   "cell_type": "code",
   "execution_count": 70,
   "metadata": {},
   "outputs": [],
   "source": [
    "all_results = pd.concat([soil_rcra,soil_pah,soil_pcb,water_rcra, water_pah, water_pcb, soil_dxf, soil_dxf_teq, water_dxf, water_dxf_teq])\n",
    "all_results.rename(columns = {'variable': 'Result Parameter Name', 'value': 'Result Value', 'SAMP_ID': 'Sample ID'}, inplace = True)"
   ]
  },
  {
   "cell_type": "code",
   "execution_count": 71,
   "metadata": {},
   "outputs": [],
   "source": [
    "all_results.dropna(subset=['DATE'], inplace = True)\n",
    "all_results['No_Detect'] = np.where(all_results['Result Value']=='ND',1,0)\n",
    "all_results['No_Detect'] = np.where(all_results['Measured']=='Upper Bound',1,all_results['No_Detect'])\n",
    "all_results['Result Value'] = np.where(all_results['Result Value']=='ND',np.NaN,all_results['Result Value'])\n",
    "all_results['Result Value'] = np.where(all_results['Result Value']=='--',np.NaN,all_results['Result Value'])"
   ]
  },
  {
   "cell_type": "code",
   "execution_count": 72,
   "metadata": {},
   "outputs": [],
   "source": [
    "all_results.to_csv(\"/home/nweiss/gdrive/Year 2/Summer - Duwamish/duwamish/code/all_results.csv\",index = False)"
   ]
  },
  {
   "cell_type": "markdown",
   "metadata": {},
   "source": [
    "JOIN TO SCREENING LEVELS"
   ]
  },
  {
   "cell_type": "code",
   "execution_count": 73,
   "metadata": {},
   "outputs": [],
   "source": [
    "results = \"/home/nweiss/gdrive/Year 2/Summer - Duwamish/Sampling_Results/S4 and S6 Screening Results_CLEAN.xlsx\"\n",
    "sl = \"/home/nweiss/gdrive/Year 2/Summer - Duwamish/Sampling_Results/Master_Screening_Levels.xlsx\"\n",
    "pcb_arc_lookup = pd.read_excel(results, sheet_name='PCB to Aroclor Lookup')\n",
    "\n",
    "# format pcb to aroclor loo\n",
    "pcb_arc_lookup = pcb_arc_lookup[pcb_arc_lookup['Aroclor Name'].str.contains('aroclor', na=False)][['PCB Isomer', 'Aroclor Name']]\n",
    "\n",
    "# create data frame of the screening levels for soils and\n",
    "sl_soil_df = pd.read_excel(sl, sheet_name='Soil')\n",
    "sl_water_df = pd.read_excel(sl, sheet_name='Water')"
   ]
  },
  {
   "cell_type": "code",
   "execution_count": 74,
   "metadata": {},
   "outputs": [],
   "source": [
    "# replace pcb names with the aroclor names to match with F&B results\n",
    "sl_soil_df_join = pd.merge(sl_soil_df, pcb_arc_lookup, how = 'outer', left_on = 'Chemical', right_on = 'PCB Isomer')\n",
    "sl_soil_df_join['Chemical'] = np.where(sl_soil_df_join['Aroclor Name'].str.contains('aroclor', na=False), sl_soil_df_join['Aroclor Name'], sl_soil_df_join['Chemical'])\n",
    "sl_soil_df_join.drop(columns = pcb_arc_lookup.columns, inplace = True)\n",
    "sl_soil_df_join = sl_soil_df_join[sl_soil_df_join['Medium']=='Soil']\n",
    "\n",
    "# replace pcb names with the aroclor names to match with F&B results\n",
    "sl_water_df_join = pd.merge(sl_water_df, pcb_arc_lookup, how = 'outer', left_on = 'Chemical', right_on = 'PCB Isomer')\n",
    "sl_water_df_join['Chemical'] = np.where(sl_water_df_join['Aroclor Name'].str.contains('aroclor', na=False), sl_water_df_join['Aroclor Name'], sl_water_df_join['Chemical'])\n",
    "sl_water_df_join.drop(columns = pcb_arc_lookup.columns, inplace = True)\n",
    "sl_water_df_join = sl_water_df_join[sl_water_df_join['Medium']=='Water']"
   ]
  },
  {
   "cell_type": "code",
   "execution_count": 75,
   "metadata": {},
   "outputs": [],
   "source": [
    "# split results into soil and water\n",
    "results_soil_df = all_results[all_results['Sample Matrix'] == 'Soil']\n",
    "results_water_df = all_results[all_results['Sample Matrix'] == 'Water']"
   ]
  },
  {
   "cell_type": "code",
   "execution_count": 76,
   "metadata": {},
   "outputs": [],
   "source": [
    "# join screening levels to the results\n",
    "soil_sl_join = pd.merge(sl_soil_df_join,results_soil_df,how = 'outer', left_on = ['Chemical'], right_on = ['Result Parameter Name'])\n",
    "\n",
    "# remove screening levels that do not have values\n",
    "soil_sl_join = soil_sl_join[(soil_sl_join['Screening Level Measurement']!='na')]\n",
    "soil_sl_join = soil_sl_join[(soil_sl_join['Screening Level Measurement']!='TBD')]\n",
    "soil_sl_join = soil_sl_join[(soil_sl_join['Screening Level Measurement']!='PQL')]\n",
    "soil_sl_join['Screening Level Measurement'].astype(float)\n",
    "soil_sl_join['Result Value'].astype(float)\n",
    "\n",
    "# calculate whether the screening levels have been exceeded\n",
    "soil_sl_join['SL_exceeded'] = np.where(soil_sl_join['Screening Level Measurement'] < soil_sl_join['Result Value'],'Y','N')"
   ]
  },
  {
   "cell_type": "code",
   "execution_count": 77,
   "metadata": {},
   "outputs": [],
   "source": [
    "# join screening levels to results\n",
    "water_sl_join = pd.merge(sl_water_df_join,results_water_df,how = 'outer', left_on = ['Chemical'], right_on = ['Result Parameter Name'])\n",
    "water_sl_join = water_sl_join[(water_sl_join['Screening Level Measurement']!='na')]\n",
    "water_sl_join = water_sl_join[(water_sl_join['Screening Level Measurement']!='TBD')]\n",
    "water_sl_join = water_sl_join[(water_sl_join['Screening Level Measurement']!='PQL')]\n",
    "water_sl_join['Screening Level Measurement'].astype(float)\n",
    "\n",
    "## TODO: make sure everything is converted correctly, including ppb / ppm\n",
    "# convert any screening levels that are in mg/L to ug/L\n",
    "water_sl_join['Screening_Level_Measurement_Convert'] = np.where(water_sl_join['SL Unit'] == 'mg/L', water_sl_join['Screening Level Measurement']*1000, water_sl_join['Screening Level Measurement'])\n",
    "water_sl_join['Screening_Level_Measurement_Convert'] = np.where(water_sl_join['SL Unit'] == 'ppm', water_sl_join['Screening Level Measurement']*1000, water_sl_join['Screening Level Measurement'])\n",
    "water_sl_join['Screening_Level_Measurement_Convert'].astype(float)\n",
    "water_sl_join['Result Value'].astype(float)\n",
    "\n",
    "# calculate whether the screening levels have been exceeded\n",
    "water_sl_join['SL_exceeded'] = np.where(water_sl_join['Screening_Level_Measurement_Convert']< water_sl_join['Result Value'], 'Y','N')"
   ]
  },
  {
   "cell_type": "code",
   "execution_count": 78,
   "metadata": {},
   "outputs": [
    {
     "data": {
      "text/plain": [
       "Index(['Medium', 'Chemical Group', 'Chemical', 'Scenario',\n",
       "       'Screening Level Type', 'Screening Level Measurement', 'SL Unit',\n",
       "       'Source', 'Parameter in Spreadsheet', 'DATE', 'Sample ID',\n",
       "       'Result Parameter Name', 'Result Value', 'Result Value Units',\n",
       "       'Sample Matrix', 'Measured', 'Result (ug/L)', 'No_Detect',\n",
       "       'SL_exceeded'],\n",
       "      dtype='object')"
      ]
     },
     "execution_count": 78,
     "metadata": {},
     "output_type": "execute_result"
    }
   ],
   "source": [
    "soil_sl_join.columns"
   ]
  },
  {
   "cell_type": "code",
   "execution_count": 79,
   "metadata": {},
   "outputs": [],
   "source": [
    "columns = ['Medium', 'DATE','Sample ID','Chemical Group', 'Chemical', 'Result Parameter Name', 'Scenario', 'Screening Level Type',\n",
    "       'Screening Level Measurement', 'SL Unit','Result Value', 'Result Value Units', 'Source', 'SL_exceeded']\n",
    "\n",
    "all_SL_results = pd.concat([soil_sl_join[columns],water_sl_join[columns]])\n",
    "\n",
    "# where the screening level is blank, replace exceedance with \"no screening level identified\"\n",
    "all_SL_results['Screening Level Measurement'].fillna('No Screening Level Identified', inplace = True)\n",
    "all_SL_results['SL_exceeded'] = np.where(all_SL_results['Screening Level Measurement']=='No Screening Level Identified','No Screening Level Identified', all_SL_results['SL_exceeded'])"
   ]
  },
  {
   "cell_type": "code",
   "execution_count": 80,
   "metadata": {},
   "outputs": [],
   "source": [
    "all_SL_results.dropna(subset=['Sample ID'], inplace=True)\n",
    "all_SL_results.to_csv('/home/nweiss/gdrive/Year 2/Summer - Duwamish/Sampling_Results/all_previous_results.csv', index = False)"
   ]
  },
  {
   "cell_type": "code",
   "execution_count": 81,
   "metadata": {},
   "outputs": [],
   "source": [
    "df = pd.read_csv(\"/home/nweiss/gdrive/Year 2/Summer - Duwamish/Sampling_Results/s4_and_s6_results.csv\")\n",
    "df.rename(columns = {\"Field Collection Start Date\": 'DATE'}, inplace = True)\n",
    "df_upd = pd.concat([all_SL_results,df])"
   ]
  },
  {
   "cell_type": "code",
   "execution_count": 82,
   "metadata": {},
   "outputs": [],
   "source": [
    "df_upd.to_excel(\"/home/nweiss/gdrive/Year 2/Summer - Duwamish/Sampling_Results/all_results_for_tableau.xlsx\", index = False)"
   ]
  },
  {
   "cell_type": "code",
   "execution_count": 28,
   "metadata": {},
   "outputs": [
    {
     "data": {
      "text/html": [
       "<div>\n",
       "<style scoped>\n",
       "    .dataframe tbody tr th:only-of-type {\n",
       "        vertical-align: middle;\n",
       "    }\n",
       "\n",
       "    .dataframe tbody tr th {\n",
       "        vertical-align: top;\n",
       "    }\n",
       "\n",
       "    .dataframe thead th {\n",
       "        text-align: right;\n",
       "    }\n",
       "</style>\n",
       "<table border=\"1\" class=\"dataframe\">\n",
       "  <thead>\n",
       "    <tr style=\"text-align: right;\">\n",
       "      <th></th>\n",
       "      <th>Medium</th>\n",
       "      <th>DATE</th>\n",
       "      <th>Sample ID</th>\n",
       "      <th>Chemical Group</th>\n",
       "      <th>Chemical</th>\n",
       "      <th>Result Parameter Name</th>\n",
       "      <th>Scenario</th>\n",
       "      <th>Screening Level Type</th>\n",
       "      <th>Screening Level Measurement</th>\n",
       "      <th>SL Unit</th>\n",
       "      <th>Result Value</th>\n",
       "      <th>Result Value Units</th>\n",
       "      <th>Source</th>\n",
       "      <th>SL_exceeded</th>\n",
       "      <th>Result Data Qualifier</th>\n",
       "    </tr>\n",
       "  </thead>\n",
       "  <tbody>\n",
       "    <tr>\n",
       "      <th>0</th>\n",
       "      <td>Soil</td>\n",
       "      <td>2023-08-08 00:00:00</td>\n",
       "      <td>HPS-1</td>\n",
       "      <td>RCRA8</td>\n",
       "      <td>Arsenic</td>\n",
       "      <td>Arsenic</td>\n",
       "      <td>Resident</td>\n",
       "      <td>Ingested</td>\n",
       "      <td>0.77</td>\n",
       "      <td>mg/kg</td>\n",
       "      <td>23.2</td>\n",
       "      <td>mg/kg</td>\n",
       "      <td>EPA Regional Screening Level</td>\n",
       "      <td>Y</td>\n",
       "      <td>NaN</td>\n",
       "    </tr>\n",
       "    <tr>\n",
       "      <th>1</th>\n",
       "      <td>Soil</td>\n",
       "      <td>2023-08-08 00:00:00</td>\n",
       "      <td>TPS-1</td>\n",
       "      <td>RCRA8</td>\n",
       "      <td>Arsenic</td>\n",
       "      <td>Arsenic</td>\n",
       "      <td>Resident</td>\n",
       "      <td>Ingested</td>\n",
       "      <td>0.77</td>\n",
       "      <td>mg/kg</td>\n",
       "      <td>6.5</td>\n",
       "      <td>mg/kg</td>\n",
       "      <td>EPA Regional Screening Level</td>\n",
       "      <td>Y</td>\n",
       "      <td>NaN</td>\n",
       "    </tr>\n",
       "    <tr>\n",
       "      <th>2</th>\n",
       "      <td>Soil</td>\n",
       "      <td>2023-08-08 00:00:00</td>\n",
       "      <td>GPS-1</td>\n",
       "      <td>RCRA8</td>\n",
       "      <td>Arsenic</td>\n",
       "      <td>Arsenic</td>\n",
       "      <td>Resident</td>\n",
       "      <td>Ingested</td>\n",
       "      <td>0.77</td>\n",
       "      <td>mg/kg</td>\n",
       "      <td>83.6</td>\n",
       "      <td>mg/kg</td>\n",
       "      <td>EPA Regional Screening Level</td>\n",
       "      <td>Y</td>\n",
       "      <td>NaN</td>\n",
       "    </tr>\n",
       "    <tr>\n",
       "      <th>3</th>\n",
       "      <td>Soil</td>\n",
       "      <td>2023-06-19 00:00:00</td>\n",
       "      <td>DWS-5A</td>\n",
       "      <td>RCRA8</td>\n",
       "      <td>Arsenic</td>\n",
       "      <td>Arsenic</td>\n",
       "      <td>Resident</td>\n",
       "      <td>Ingested</td>\n",
       "      <td>0.77</td>\n",
       "      <td>mg/kg</td>\n",
       "      <td>9.1</td>\n",
       "      <td>mg/kg</td>\n",
       "      <td>EPA Regional Screening Level</td>\n",
       "      <td>Y</td>\n",
       "      <td>NaN</td>\n",
       "    </tr>\n",
       "    <tr>\n",
       "      <th>4</th>\n",
       "      <td>Soil</td>\n",
       "      <td>2023-06-19 00:00:00</td>\n",
       "      <td>DWS-5B</td>\n",
       "      <td>RCRA8</td>\n",
       "      <td>Arsenic</td>\n",
       "      <td>Arsenic</td>\n",
       "      <td>Resident</td>\n",
       "      <td>Ingested</td>\n",
       "      <td>0.77</td>\n",
       "      <td>mg/kg</td>\n",
       "      <td>3.4</td>\n",
       "      <td>mg/kg</td>\n",
       "      <td>EPA Regional Screening Level</td>\n",
       "      <td>Y</td>\n",
       "      <td>NaN</td>\n",
       "    </tr>\n",
       "    <tr>\n",
       "      <th>...</th>\n",
       "      <td>...</td>\n",
       "      <td>...</td>\n",
       "      <td>...</td>\n",
       "      <td>...</td>\n",
       "      <td>...</td>\n",
       "      <td>...</td>\n",
       "      <td>...</td>\n",
       "      <td>...</td>\n",
       "      <td>...</td>\n",
       "      <td>...</td>\n",
       "      <td>...</td>\n",
       "      <td>...</td>\n",
       "      <td>...</td>\n",
       "      <td>...</td>\n",
       "      <td>...</td>\n",
       "    </tr>\n",
       "    <tr>\n",
       "      <th>477</th>\n",
       "      <td>Water</td>\n",
       "      <td>9/26/2023</td>\n",
       "      <td>S6W-1</td>\n",
       "      <td>NaN</td>\n",
       "      <td>NaN</td>\n",
       "      <td>PCB-aroclor 1262</td>\n",
       "      <td>NaN</td>\n",
       "      <td>NaN</td>\n",
       "      <td>No Screening Level Identified</td>\n",
       "      <td>NaN</td>\n",
       "      <td>0.0038</td>\n",
       "      <td>NaN</td>\n",
       "      <td>NaN</td>\n",
       "      <td>No Screening Level Identified</td>\n",
       "      <td>U</td>\n",
       "    </tr>\n",
       "    <tr>\n",
       "      <th>478</th>\n",
       "      <td>Water</td>\n",
       "      <td>9/26/2023</td>\n",
       "      <td>S4W-1</td>\n",
       "      <td>NaN</td>\n",
       "      <td>NaN</td>\n",
       "      <td>PCB-aroclor 1268</td>\n",
       "      <td>NaN</td>\n",
       "      <td>NaN</td>\n",
       "      <td>No Screening Level Identified</td>\n",
       "      <td>NaN</td>\n",
       "      <td>0.0038</td>\n",
       "      <td>NaN</td>\n",
       "      <td>NaN</td>\n",
       "      <td>No Screening Level Identified</td>\n",
       "      <td>U</td>\n",
       "    </tr>\n",
       "    <tr>\n",
       "      <th>479</th>\n",
       "      <td>Water</td>\n",
       "      <td>9/26/2023</td>\n",
       "      <td>S4W-2</td>\n",
       "      <td>NaN</td>\n",
       "      <td>NaN</td>\n",
       "      <td>PCB-aroclor 1268</td>\n",
       "      <td>NaN</td>\n",
       "      <td>NaN</td>\n",
       "      <td>No Screening Level Identified</td>\n",
       "      <td>NaN</td>\n",
       "      <td>0.0038</td>\n",
       "      <td>NaN</td>\n",
       "      <td>NaN</td>\n",
       "      <td>No Screening Level Identified</td>\n",
       "      <td>U</td>\n",
       "    </tr>\n",
       "    <tr>\n",
       "      <th>480</th>\n",
       "      <td>Water</td>\n",
       "      <td>9/26/2023</td>\n",
       "      <td>S4W-3</td>\n",
       "      <td>NaN</td>\n",
       "      <td>NaN</td>\n",
       "      <td>PCB-aroclor 1268</td>\n",
       "      <td>NaN</td>\n",
       "      <td>NaN</td>\n",
       "      <td>No Screening Level Identified</td>\n",
       "      <td>NaN</td>\n",
       "      <td>0.0038</td>\n",
       "      <td>NaN</td>\n",
       "      <td>NaN</td>\n",
       "      <td>No Screening Level Identified</td>\n",
       "      <td>U</td>\n",
       "    </tr>\n",
       "    <tr>\n",
       "      <th>481</th>\n",
       "      <td>Water</td>\n",
       "      <td>9/26/2023</td>\n",
       "      <td>S6W-1</td>\n",
       "      <td>NaN</td>\n",
       "      <td>NaN</td>\n",
       "      <td>PCB-aroclor 1268</td>\n",
       "      <td>NaN</td>\n",
       "      <td>NaN</td>\n",
       "      <td>No Screening Level Identified</td>\n",
       "      <td>NaN</td>\n",
       "      <td>0.0038</td>\n",
       "      <td>NaN</td>\n",
       "      <td>NaN</td>\n",
       "      <td>No Screening Level Identified</td>\n",
       "      <td>U</td>\n",
       "    </tr>\n",
       "  </tbody>\n",
       "</table>\n",
       "<p>9160 rows × 15 columns</p>\n",
       "</div>"
      ],
      "text/plain": [
       "    Medium                 DATE Sample ID Chemical Group Chemical  \\\n",
       "0     Soil  2023-08-08 00:00:00     HPS-1          RCRA8  Arsenic   \n",
       "1     Soil  2023-08-08 00:00:00     TPS-1          RCRA8  Arsenic   \n",
       "2     Soil  2023-08-08 00:00:00     GPS-1          RCRA8  Arsenic   \n",
       "3     Soil  2023-06-19 00:00:00    DWS-5A          RCRA8  Arsenic   \n",
       "4     Soil  2023-06-19 00:00:00    DWS-5B          RCRA8  Arsenic   \n",
       "..     ...                  ...       ...            ...      ...   \n",
       "477  Water            9/26/2023     S6W-1            NaN      NaN   \n",
       "478  Water            9/26/2023     S4W-1            NaN      NaN   \n",
       "479  Water            9/26/2023     S4W-2            NaN      NaN   \n",
       "480  Water            9/26/2023     S4W-3            NaN      NaN   \n",
       "481  Water            9/26/2023     S6W-1            NaN      NaN   \n",
       "\n",
       "    Result Parameter Name  Scenario Screening Level Type  \\\n",
       "0                 Arsenic  Resident             Ingested   \n",
       "1                 Arsenic  Resident             Ingested   \n",
       "2                 Arsenic  Resident             Ingested   \n",
       "3                 Arsenic  Resident             Ingested   \n",
       "4                 Arsenic  Resident             Ingested   \n",
       "..                    ...       ...                  ...   \n",
       "477      PCB-aroclor 1262       NaN                  NaN   \n",
       "478      PCB-aroclor 1268       NaN                  NaN   \n",
       "479      PCB-aroclor 1268       NaN                  NaN   \n",
       "480      PCB-aroclor 1268       NaN                  NaN   \n",
       "481      PCB-aroclor 1268       NaN                  NaN   \n",
       "\n",
       "       Screening Level Measurement SL Unit Result Value Result Value Units  \\\n",
       "0                             0.77   mg/kg         23.2              mg/kg   \n",
       "1                             0.77   mg/kg          6.5              mg/kg   \n",
       "2                             0.77   mg/kg         83.6              mg/kg   \n",
       "3                             0.77   mg/kg          9.1              mg/kg   \n",
       "4                             0.77   mg/kg          3.4              mg/kg   \n",
       "..                             ...     ...          ...                ...   \n",
       "477  No Screening Level Identified     NaN       0.0038                NaN   \n",
       "478  No Screening Level Identified     NaN       0.0038                NaN   \n",
       "479  No Screening Level Identified     NaN       0.0038                NaN   \n",
       "480  No Screening Level Identified     NaN       0.0038                NaN   \n",
       "481  No Screening Level Identified     NaN       0.0038                NaN   \n",
       "\n",
       "                           Source                    SL_exceeded  \\\n",
       "0    EPA Regional Screening Level                              Y   \n",
       "1    EPA Regional Screening Level                              Y   \n",
       "2    EPA Regional Screening Level                              Y   \n",
       "3    EPA Regional Screening Level                              Y   \n",
       "4    EPA Regional Screening Level                              Y   \n",
       "..                            ...                            ...   \n",
       "477                           NaN  No Screening Level Identified   \n",
       "478                           NaN  No Screening Level Identified   \n",
       "479                           NaN  No Screening Level Identified   \n",
       "480                           NaN  No Screening Level Identified   \n",
       "481                           NaN  No Screening Level Identified   \n",
       "\n",
       "    Result Data Qualifier  \n",
       "0                     NaN  \n",
       "1                     NaN  \n",
       "2                     NaN  \n",
       "3                     NaN  \n",
       "4                     NaN  \n",
       "..                    ...  \n",
       "477                     U  \n",
       "478                     U  \n",
       "479                     U  \n",
       "480                     U  \n",
       "481                     U  \n",
       "\n",
       "[9160 rows x 15 columns]"
      ]
     },
     "execution_count": 28,
     "metadata": {},
     "output_type": "execute_result"
    }
   ],
   "source": [
    "df_upd"
   ]
  }
 ],
 "metadata": {
  "kernelspec": {
   "display_name": "gis",
   "language": "python",
   "name": "python3"
  },
  "language_info": {
   "codemirror_mode": {
    "name": "ipython",
    "version": 3
   },
   "file_extension": ".py",
   "mimetype": "text/x-python",
   "name": "python",
   "nbconvert_exporter": "python",
   "pygments_lexer": "ipython3",
   "version": "3.11.4"
  },
  "orig_nbformat": 4
 },
 "nbformat": 4,
 "nbformat_minor": 2
}
