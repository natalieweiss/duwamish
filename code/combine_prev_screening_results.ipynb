{
 "cells": [
  {
   "cell_type": "code",
   "execution_count": 55,
   "metadata": {},
   "outputs": [],
   "source": [
    "import pandas as pd\n",
    "import geopandas as gp\n",
    "import numpy as np\n",
    "import os\n",
    "import requests\n",
    "import urllib.parse"
   ]
  },
  {
   "cell_type": "code",
   "execution_count": 56,
   "metadata": {},
   "outputs": [],
   "source": [
    "output_results_path = \"/home/nweiss/gdrive/Year 2/Summer - Duwamish/Sampling_Results/all_results.csv\""
   ]
  },
  {
   "cell_type": "code",
   "execution_count": 57,
   "metadata": {},
   "outputs": [],
   "source": [
    "# initiate columns to keep in final dataframe\n",
    "soil_RCRA_cols = ['DATE', 'SAMP_ID', 'Arsenic', 'Barium', 'Cadmium', 'Chromium', 'Lead','Selenium', 'Silver', 'Mercury']\n",
    "water_RCRA_cols = ['DATE', 'SAMP_ID', 'Arsenic', 'Barium', 'Cadmium', 'Chromium', 'Lead', 'Selenium', 'Silver', 'Mercury (CVAFS)', 'Mercury (CVAA)']\n",
    "pah_cols = ['DATE','SAMP_ID','1-Methylnaphthalene', '2-Methylnaphthalene', 'Acenaphthene', 'Acenaphthylene', 'Anthracene', 'Benzo(a)anthracene', 'Benzo(a)pyrene', 'Benzo(b)fluoranthene', 'Benzo(g,h,i)perylene', 'Benzo(k)fluoranthene', 'Chrysene', 'Dibenz(a,h)anthracene', 'Fluoranthene', 'Fluorene', 'Indeno(1,2,3-cd)pyrene', 'Naphthalene', 'Phenanthrene', 'Pyrene', '2-Fluorobiphenyl (S) %', 'Terphenyl-d14 (S) %']\n",
    "soil_pcb_cols = ['DATE', 'SAMP_ID', 'PCB Isomer','Concentrations Detected (mg/Kg)']\n",
    "water_pcb_cols = ['DATE', 'SAMP_ID', 'PCB Isomer','Concentrations Detected (ug/L)']\n",
    "soil_dxf_cols = ['DATE', 'SAMP_ID', 'Analyte', 'Result (mg/Kg)']\n",
    "soil_dxf_teq_cols = ['DATE','SAMP_ID', 'Analyte', 'Result (ng/Kg)', 'UB (mg/kg)']\n",
    "water_dxf_cols = ['DATE', 'SAMP_ID', 'Analyte', 'Result (ug/L)']\n",
    "water_dxf_teq_cols = ['DATE','SAMP_ID', 'Analyte', 'Result (pg/L)', 'UB (ug/L)']"
   ]
  },
  {
   "cell_type": "code",
   "execution_count": 58,
   "metadata": {},
   "outputs": [],
   "source": [
    "# create empty data frames to store collated results across all sampling dates\n",
    "# by medium and pollutant type\n",
    "soil_rcra = pd.DataFrame()\n",
    "water_rcra = pd.DataFrame()\n",
    "soil_pah = pd.DataFrame()\n",
    "water_pah = pd.DataFrame()\n",
    "soil_pcb = pd.DataFrame()\n",
    "water_pcb = pd.DataFrame()\n",
    "soil_dxf = pd.DataFrame()\n",
    "soil_dxf_teq = pd.DataFrame()\n",
    "water_dxf = pd.DataFrame()\n",
    "water_dxf_teq = pd.DataFrame()"
   ]
  },
  {
   "cell_type": "code",
   "execution_count": 59,
   "metadata": {},
   "outputs": [],
   "source": [
    "# list all files in the directory\n",
    "subfolder_path = \"/home/nweiss/gdrive/Year 2/Summer - Duwamish/Sampling_Results/2023 Screening Results\"\n",
    "\n",
    "# Use a list comprehension to get all .xlsx files in the subfolder\n",
    "results_files = [f for f in os.listdir(subfolder_path) if f.endswith(\".xlsx\")]\n",
    "results_files.remove(\"TEMPLATE_UPD.xlsx\")\n",
    "results_files.remove(\"S4 and S6 Screening Results_CLEAN.xlsx\") # this is processed separated in \"exceedance_processing.ipynb\""
   ]
  },
  {
   "cell_type": "code",
   "execution_count": 60,
   "metadata": {},
   "outputs": [
    {
     "name": "stdout",
     "output_type": "stream",
     "text": [
      "August 8 Sampling Event Screening Results_CLEAN.xlsx sheet found\n",
      "Data Entry and QA QC Log.xlsx no sheet\n"
     ]
    },
    {
     "name": "stdout",
     "output_type": "stream",
     "text": [
      "Duwamish Puget Creek Screening Results_CLEAN.xlsx sheet found\n",
      "Duwamish Superfund Waters_CLEAN.xlsx no sheet\n",
      "Kellogg Island Screening Results_CLEAN.xlsx sheet found\n",
      "People's Park Screening Result_CLEAN.xlsx sheet found\n",
      "S4 Screening Results_CLEAN.xlsx sheet found\n"
     ]
    }
   ],
   "source": [
    "# soil rcra processing\n",
    "\n",
    "for i in results_files:\n",
    "    try:\n",
    "        soil_rcra8_df = pd.read_excel(subfolder_path+'/'+i, sheet_name = 'Soil RCRA8')\n",
    "        print(i , \"sheet found\")\n",
    "\n",
    "        soil_rcra8_df = soil_rcra8_df[1:]\n",
    "        soil_rcra8_df = soil_rcra8_df[soil_RCRA_cols]\n",
    "        soil_rcra8_df = soil_rcra8_df.melt(id_vars=['DATE','SAMP_ID'])\n",
    "        soil_rcra8_df['Result Value Units'] = 'mg/kg'\n",
    "        soil_rcra8_df['Sample Matrix'] = 'Soil'\n",
    "        soil_rcra= pd.concat([soil_rcra, soil_rcra8_df], ignore_index= True)\n",
    "    except:\n",
    "        print(i, \"no sheet\")"
   ]
  },
  {
   "cell_type": "code",
   "execution_count": 61,
   "metadata": {},
   "outputs": [
    {
     "name": "stdout",
     "output_type": "stream",
     "text": [
      "August 8 Sampling Event Screening Results_CLEAN.xlsx no sheet\n",
      "Data Entry and QA QC Log.xlsx no sheet\n",
      "Duwamish Puget Creek Screening Results_CLEAN.xlsx sheet found\n",
      "Duwamish Superfund Waters_CLEAN.xlsx sheet found\n",
      "Kellogg Island Screening Results_CLEAN.xlsx no sheet\n",
      "People's Park Screening Result_CLEAN.xlsx sheet found\n",
      "S4 Screening Results_CLEAN.xlsx sheet found\n"
     ]
    }
   ],
   "source": [
    "# water rcra results\n",
    "for i in results_files:\n",
    "    try:\n",
    "        water_rcra8_df = pd.read_excel(subfolder_path+'/'+i, sheet_name = 'Water RCRA8')\n",
    "        print(i , \"sheet found\")\n",
    "        water_rcra8_df = water_rcra8_df[1:]\n",
    "        water_rcra8_df = water_rcra8_df[water_RCRA_cols]\n",
    "        water_rcra8_df = water_rcra8_df.melt(id_vars=['DATE','SAMP_ID'])\n",
    "        water_rcra8_df['Result Value Units'] = 'ug/L'\n",
    "        water_rcra8_df['Sample Matrix'] = 'Water'\n",
    "        water_rcra= pd.concat([water_rcra, water_rcra8_df], ignore_index= True)\n",
    "    except:\n",
    "        print(i, \"no sheet\")"
   ]
  },
  {
   "cell_type": "code",
   "execution_count": 62,
   "metadata": {},
   "outputs": [
    {
     "name": "stdout",
     "output_type": "stream",
     "text": [
      "August 8 Sampling Event Screening Results_CLEAN.xlsx sheet found\n",
      "Data Entry and QA QC Log.xlsx no sheet found\n",
      "Duwamish Puget Creek Screening Results_CLEAN.xlsx sheet found\n",
      "Duwamish Superfund Waters_CLEAN.xlsx no sheet found\n",
      "Kellogg Island Screening Results_CLEAN.xlsx sheet found\n",
      "People's Park Screening Result_CLEAN.xlsx sheet found\n",
      "S4 Screening Results_CLEAN.xlsx sheet found\n"
     ]
    }
   ],
   "source": [
    "# soil pah results\n",
    "for i in results_files:\n",
    "    try:\n",
    "        soil_pah_df = pd.read_excel(subfolder_path+'/'+i, sheet_name = 'PAH Soils')\n",
    "        print(i , \"sheet found\")\n",
    "        soil_pah_df = soil_pah_df[1:]\n",
    "        soil_pah_df= soil_pah_df[pah_cols]\n",
    "        soil_pah_df = soil_pah_df.melt(id_vars=['DATE','SAMP_ID'])\n",
    "        soil_pah_df['Result Value Units'] = 'mg/kg'\n",
    "        soil_pah_df['Sample Matrix'] = 'Soil'\n",
    "        soil_pah = pd.concat([soil_pah, soil_pah_df], ignore_index= True)\n",
    "    except:\n",
    "        print(i, \"no sheet found\")"
   ]
  },
  {
   "cell_type": "code",
   "execution_count": 63,
   "metadata": {},
   "outputs": [
    {
     "name": "stdout",
     "output_type": "stream",
     "text": [
      "August 8 Sampling Event Screening Results_CLEAN.xlsx no sheet found\n",
      "Data Entry and QA QC Log.xlsx no sheet found\n",
      "Duwamish Puget Creek Screening Results_CLEAN.xlsx sheet found\n",
      "Duwamish Superfund Waters_CLEAN.xlsx sheet found\n",
      "Kellogg Island Screening Results_CLEAN.xlsx no sheet found\n",
      "People's Park Screening Result_CLEAN.xlsx sheet found\n",
      "S4 Screening Results_CLEAN.xlsx sheet found\n"
     ]
    }
   ],
   "source": [
    "# water pah results\n",
    "for i in results_files:\n",
    "    try:\n",
    "        water_pah_df = pd.read_excel(subfolder_path+'/'+i, sheet_name = 'PAH Soil to Groundwater')\n",
    "        print(i , \"sheet found\")\n",
    "        water_pah_df = water_pah_df[1:]\n",
    "        water_pah_df= water_pah_df[pah_cols]\n",
    "        water_pah_df = water_pah_df.melt(id_vars=['DATE','SAMP_ID'])\n",
    "        water_pah_df['Result Value Units'] = 'ug/L'\n",
    "        water_pah_df['Sample Matrix'] = 'Water'\n",
    "        water_pah = pd.concat([water_pah, water_pah_df], ignore_index= True)\n",
    "    except:\n",
    "        print(i, \"no sheet found\")"
   ]
  },
  {
   "cell_type": "code",
   "execution_count": 64,
   "metadata": {},
   "outputs": [
    {
     "name": "stdout",
     "output_type": "stream",
     "text": [
      "August 8 Sampling Event Screening Results_CLEAN.xlsx no sheet found\n",
      "Data Entry and QA QC Log.xlsx no sheet found\n",
      "Duwamish Puget Creek Screening Results_CLEAN.xlsx no sheet found\n"
     ]
    },
    {
     "name": "stdout",
     "output_type": "stream",
     "text": [
      "Duwamish Superfund Waters_CLEAN.xlsx no sheet found\n",
      "Kellogg Island Screening Results_CLEAN.xlsx sheet found\n",
      "People's Park Screening Result_CLEAN.xlsx sheet found\n",
      "S4 Screening Results_CLEAN.xlsx sheet found\n"
     ]
    }
   ],
   "source": [
    "# soil pcb results\n",
    "for i in results_files:\n",
    "    try:\n",
    "        soil_pcb_df = pd.read_excel(subfolder_path+'/'+i, sheet_name = 'PCBs Soils')\n",
    "        print(i , \"sheet found\")\n",
    "        soil_pcb_df = soil_pcb_df[1:]\n",
    "        soil_pcb_df= soil_pcb_df[soil_pcb_cols]\n",
    "        soil_pcb_df = soil_pcb_df.melt(id_vars=['DATE','SAMP_ID','PCB Isomer'])\n",
    "        soil_pcb_df.drop(columns = 'variable', inplace = True)\n",
    "        soil_pcb_df.rename(columns = {\"PCB Isomer\": 'variable'}, inplace = True)\n",
    "        soil_pcb_df['Result Value Units'] = 'mg/kg'\n",
    "        soil_pcb_df['Sample Matrix'] = 'Soil'\n",
    "        soil_pcb = pd.concat([soil_pcb, soil_pcb_df], ignore_index= True)\n",
    "    except:\n",
    "        print(i, \"no sheet found\")"
   ]
  },
  {
   "cell_type": "code",
   "execution_count": 65,
   "metadata": {},
   "outputs": [
    {
     "name": "stdout",
     "output_type": "stream",
     "text": [
      "August 8 Sampling Event Screening Results_CLEAN.xlsx no sheet found\n",
      "Worksheet named 'PCBs Waters' not found\n",
      "Data Entry and QA QC Log.xlsx no sheet found\n",
      "Worksheet named 'PCBs Waters' not found\n",
      "Duwamish Puget Creek Screening Results_CLEAN.xlsx no sheet found\n",
      "Worksheet named 'PCBs Waters' not found\n",
      "Duwamish Superfund Waters_CLEAN.xlsx sheet found\n",
      "Kellogg Island Screening Results_CLEAN.xlsx no sheet found\n",
      "Worksheet named 'PCBs Waters' not found\n",
      "People's Park Screening Result_CLEAN.xlsx sheet found\n",
      "S4 Screening Results_CLEAN.xlsx sheet found\n"
     ]
    }
   ],
   "source": [
    "# water pcb results\n",
    "for i in results_files:\n",
    "\n",
    "    try:\n",
    "        water_pcb_df = pd.read_excel(subfolder_path+'/'+i, sheet_name = 'PCBs Waters')\n",
    "        print(i, \"sheet found\")\n",
    "\n",
    "        water_pcb_df = water_pcb_df[1:]\n",
    "\n",
    "        water_pcb_df= water_pcb_df[water_pcb_cols]\n",
    "        water_pcb_df = water_pcb_df.melt(id_vars=['DATE','SAMP_ID','PCB Isomer'])\n",
    "        water_pcb_df.drop(columns = 'variable', inplace = True)\n",
    "        water_pcb_df.rename(columns = {\"PCB Isomer\": 'variable'}, inplace = True)\n",
    "        water_pcb_df['Result Value Units'] = 'ug/L'\n",
    "        water_pcb_df['Sample Matrix'] = 'Water'\n",
    "        water_pcb = pd.concat([water_pcb, water_pcb_df], ignore_index= True)\n",
    "    except Exception as e:\n",
    "        print(i, \"no sheet found\")\n",
    "        print(e)"
   ]
  },
  {
   "cell_type": "code",
   "execution_count": 66,
   "metadata": {},
   "outputs": [
    {
     "name": "stdout",
     "output_type": "stream",
     "text": [
      "August 8 Sampling Event Screening Results_CLEAN.xlsx no sheet found\n",
      "Data Entry and QA QC Log.xlsx no sheet found\n",
      "Duwamish Puget Creek Screening Results_CLEAN.xlsx sheet found\n",
      "Duwamish Superfund Waters_CLEAN.xlsx no sheet found\n",
      "Kellogg Island Screening Results_CLEAN.xlsx sheet found\n",
      "People's Park Screening Result_CLEAN.xlsx sheet found\n",
      "S4 Screening Results_CLEAN.xlsx sheet found\n"
     ]
    }
   ],
   "source": [
    "# soil dioxins and furans results\n",
    "for i in results_files:\n",
    "\n",
    "    try:\n",
    "        soil_dxf_df = pd.read_excel(subfolder_path+'/'+i, sheet_name = 'Dioxins and Furans Soils')\n",
    "        print(i, \"sheet found\")\n",
    "\n",
    "        soil_dxf_df = soil_dxf_df[soil_dxf_cols]\n",
    "        soil_dxf_df.rename(columns = {\"Analyte\": 'variable', \"Result (mg/Kg)\":\"value\"}, inplace = True)\n",
    "        soil_dxf_df['Result Value Units'] = 'mg/kg'\n",
    "        soil_dxf_df['Sample Matrix'] = 'Soil'\n",
    "        soil_dxf = pd.concat([soil_dxf, soil_dxf_df], ignore_index= True)\n",
    "\n",
    "    except:\n",
    "        print(i, \"no sheet found\")"
   ]
  },
  {
   "cell_type": "code",
   "execution_count": 67,
   "metadata": {},
   "outputs": [
    {
     "name": "stdout",
     "output_type": "stream",
     "text": [
      "August 8 Sampling Event Screening Results_CLEAN.xlsx no sheet found\n",
      "Data Entry and QA QC Log.xlsx no sheet found\n",
      "Duwamish Puget Creek Screening Results_CLEAN.xlsx sheet found\n",
      "Duwamish Superfund Waters_CLEAN.xlsx no sheet found\n",
      "Kellogg Island Screening Results_CLEAN.xlsx sheet found\n",
      "People's Park Screening Result_CLEAN.xlsx sheet found\n",
      "S4 Screening Results_CLEAN.xlsx sheet found\n"
     ]
    }
   ],
   "source": [
    "# soil dioxins and furans TEQ results\n",
    "for i in results_files:\n",
    "\n",
    "    try:\n",
    "        # calculate TEQ for dioxins and furans\n",
    "        soil_dxf_teq_df = pd.read_excel(subfolder_path+'/'+i, sheet_name = 'Dioxins and Furans Soils TEQ')\n",
    "        print(i, \"sheet found\")\n",
    "\n",
    "        soil_dxf_teq_df = soil_dxf_teq_df[soil_dxf_teq_cols]\n",
    "        soil_dxf_teq_df['Analyte'] = soil_dxf_teq_df['Analyte'] + ' TEQ'\n",
    "        soil_dxf_teq_df.rename(columns = {\"Analyte\": 'variable', \"UB (mg/kg)\":\"value\"}, inplace = True)\n",
    "        soil_dxf_teq_df['Result Value Units'] = 'mg/kg'\n",
    "        soil_dxf_teq_df['Sample Matrix'] = 'Soil'\n",
    "        soil_dxf_teq_df['Measured'] = np.where(soil_dxf_teq_df['Result (ng/Kg)'].isna(), 'Upper Bound','Measured')\n",
    "        soil_dxf_teq_df['Measured'] = np.where(soil_dxf_teq_df['Result (ng/Kg)']=='ND', 'Upper Bound',soil_dxf_teq_df['Measured'])\n",
    "        soil_dxf_teq_df.drop(columns ='Result (ng/Kg)', inplace = True)\n",
    "        soil_dxf_teq = pd.concat([soil_dxf_teq, soil_dxf_teq_df], ignore_index= True)\n",
    "    \n",
    "    except:\n",
    "        print(i, \"no sheet found\")"
   ]
  },
  {
   "cell_type": "code",
   "execution_count": 68,
   "metadata": {},
   "outputs": [
    {
     "name": "stdout",
     "output_type": "stream",
     "text": [
      "August 8 Sampling Event Screening Results_CLEAN.xlsx no sheet found\n",
      "Worksheet named 'Dioxins and Furans Water' not found\n",
      "Data Entry and QA QC Log.xlsx no sheet found\n",
      "Worksheet named 'Dioxins and Furans Water' not found\n",
      "Duwamish Puget Creek Screening Results_CLEAN.xlsx no sheet found\n",
      "Worksheet named 'Dioxins and Furans Water' not found\n",
      "Duwamish Superfund Waters_CLEAN.xlsx no sheet found\n",
      "Worksheet named 'Dioxins and Furans Water' not found\n",
      "Kellogg Island Screening Results_CLEAN.xlsx no sheet found\n",
      "Worksheet named 'Dioxins and Furans Water' not found\n",
      "People's Park Screening Result_CLEAN.xlsx sheet found\n",
      "S4 Screening Results_CLEAN.xlsx sheet found\n"
     ]
    }
   ],
   "source": [
    "# water dioxins and furans results\n",
    "for i in results_files:\n",
    "\n",
    "    try:\n",
    "        water_dxf_df = pd.read_excel(subfolder_path+'/'+i, sheet_name = 'Dioxins and Furans Water')\n",
    "        print(i, \"sheet found\")\n",
    "\n",
    "        water_dxf_df = water_dxf_df[water_dxf_cols]\n",
    "        water_dxf_df.rename(columns = {\"Analyte\": 'variable', \"Result (ug/L)\":\"value\"}, inplace = True)\n",
    "        water_dxf_df['Result Value Units'] = 'ug/L'\n",
    "        water_dxf_df['Sample Matrix'] = 'Water'\n",
    "        water_dxf = pd.concat([water_dxf, water_dxf_df], ignore_index= True)\n",
    "\n",
    "    except Exception as e:\n",
    "        print(i, \"no sheet found\")\n",
    "        print(e)"
   ]
  },
  {
   "cell_type": "code",
   "execution_count": 69,
   "metadata": {},
   "outputs": [
    {
     "name": "stdout",
     "output_type": "stream",
     "text": [
      "August 8 Sampling Event Screening Results_CLEAN.xlsx no sheet found\n",
      "Data Entry and QA QC Log.xlsx no sheet found\n",
      "Duwamish Puget Creek Screening Results_CLEAN.xlsx no sheet found\n",
      "Duwamish Superfund Waters_CLEAN.xlsx sheet found\n",
      "Kellogg Island Screening Results_CLEAN.xlsx no sheet found\n",
      "People's Park Screening Result_CLEAN.xlsx sheet found\n",
      "S4 Screening Results_CLEAN.xlsx sheet found\n"
     ]
    }
   ],
   "source": [
    "# water dioxins and furans TEQ results\n",
    "for i in results_files:\n",
    "\n",
    "    try:\n",
    "        # calculate TEQ for dioxins and furans\n",
    "        water_dxf_teq_df = pd.read_excel(subfolder_path+'/'+i, sheet_name = 'Dioxins and Furans Waters TEQ')\n",
    "        print(i, \"sheet found\")\n",
    "\n",
    "        water_dxf_teq_df = water_dxf_teq_df[water_dxf_teq_cols]\n",
    "        water_dxf_teq_df['Analyte'] = water_dxf_teq_df['Analyte'] + ' TEQ'\n",
    "        water_dxf_teq_df.rename(columns = {\"Analyte\": 'variable', \"UB (ug/L)\":\"value\"}, inplace = True)\n",
    "        water_dxf_teq_df['Result Value Units'] = 'ug/L'\n",
    "        water_dxf_teq_df['Sample Matrix'] = 'Water'\n",
    "        water_dxf_teq_df['Measured'] = np.where(water_dxf_teq_df['Result (pg/L)'].isna(), 'Upper Bound','Measured')\n",
    "        water_dxf_teq_df['Measured'] = np.where(water_dxf_teq_df['Result (pg/L)']=='ND', 'Upper Bound',water_dxf_teq_df['Measured'])\n",
    "        water_dxf_teq_df.drop(columns ='Result (pg/L)', inplace = True)\n",
    "\n",
    "        water_dxf_teq = pd.concat([water_dxf_teq, water_dxf_teq_df], ignore_index= True)\n",
    "    \n",
    "    except:\n",
    "        print(i, \"no sheet found\")"
   ]
  },
  {
   "cell_type": "code",
   "execution_count": 70,
   "metadata": {},
   "outputs": [],
   "source": [
    "## merge all results\n",
    "all_results = pd.concat([soil_rcra,soil_pah,soil_pcb,water_rcra, water_pah, water_pcb, soil_dxf, soil_dxf_teq, water_dxf, water_dxf_teq])\n",
    "all_results.rename(columns = {'variable': 'Result Parameter Name', 'value': 'Result Value', 'SAMP_ID': 'Sample ID', 'Sample Matrix':'Sample Matrix_clean'}, inplace = True)"
   ]
  },
  {
   "cell_type": "code",
   "execution_count": 71,
   "metadata": {},
   "outputs": [],
   "source": [
    "# create no detect columns and format result values\n",
    "all_results.dropna(subset=['DATE'], inplace = True)\n",
    "all_results['No_Detect'] = np.where(all_results['Result Value']=='ND',1,0)\n",
    "all_results['No_Detect'] = np.where(all_results['Measured']=='Upper Bound',1,all_results['No_Detect'])\n",
    "all_results['Result Value'] = np.where(all_results['Result Value']=='ND',np.NaN,all_results['Result Value'])\n",
    "all_results['Result Value'] = np.where(all_results['Result Value']=='--',np.NaN,all_results['Result Value'])"
   ]
  },
  {
   "cell_type": "code",
   "execution_count": 72,
   "metadata": {},
   "outputs": [],
   "source": [
    "# export compiled results\n",
    "all_results.to_csv(output_results_path,index = False)"
   ]
  }
 ],
 "metadata": {
  "kernelspec": {
   "display_name": "gis",
   "language": "python",
   "name": "python3"
  },
  "language_info": {
   "codemirror_mode": {
    "name": "ipython",
    "version": 3
   },
   "file_extension": ".py",
   "mimetype": "text/x-python",
   "name": "python",
   "nbconvert_exporter": "python",
   "pygments_lexer": "ipython3",
   "version": "3.11.4"
  },
  "orig_nbformat": 4
 },
 "nbformat": 4,
 "nbformat_minor": 2
}
