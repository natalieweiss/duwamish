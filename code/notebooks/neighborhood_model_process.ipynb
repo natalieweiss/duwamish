{
 "cells": [
  {
   "cell_type": "code",
   "execution_count": 28,
   "metadata": {},
   "outputs": [],
   "source": [
    "import pandas as pd\n",
    "import geopandas as gp\n",
    "import numpy as np\n",
    "import rasterstats\n",
    "import os\n",
    "import fiona\n",
    "import rasterio\n",
    "import rasterio.mask"
   ]
  },
  {
   "cell_type": "code",
   "execution_count": 29,
   "metadata": {},
   "outputs": [],
   "source": [
    "output_path = \"/home/nweiss/gdrive/Year 2/Summer - Duwamish/GIS/Neighborhood_Files\"\n",
    "model_name = \"sp\""
   ]
  },
  {
   "cell_type": "code",
   "execution_count": 30,
   "metadata": {},
   "outputs": [],
   "source": [
    "# set building height\n",
    "default_height = 20"
   ]
  },
  {
   "cell_type": "code",
   "execution_count": 31,
   "metadata": {},
   "outputs": [],
   "source": [
    "# set project crs\n",
    "crs = 2926"
   ]
  },
  {
   "cell_type": "code",
   "execution_count": 32,
   "metadata": {},
   "outputs": [],
   "source": [
    "# set extent boundary\n",
    "extent_path = f\"/home/nweiss/gdrive/Year 2/Summer - Duwamish/GIS/Boundary/{model_name}_extent.shp\"\n",
    "extent = gp.read_file(extent_path)"
   ]
  },
  {
   "cell_type": "code",
   "execution_count": 33,
   "metadata": {},
   "outputs": [],
   "source": [
    "# floodplain extent for clipping\n",
    "floodplain_path = \"/home/nweiss/gdrive/Year 2/Summer - Duwamish/GIS/Boundary/floodplain.shp\"\n",
    "floodplain = gp.read_file(floodplain_path)"
   ]
  },
  {
   "cell_type": "code",
   "execution_count": 47,
   "metadata": {},
   "outputs": [
    {
     "data": {
      "text/html": [
       "<div>\n",
       "<style scoped>\n",
       "    .dataframe tbody tr th:only-of-type {\n",
       "        vertical-align: middle;\n",
       "    }\n",
       "\n",
       "    .dataframe tbody tr th {\n",
       "        vertical-align: top;\n",
       "    }\n",
       "\n",
       "    .dataframe thead th {\n",
       "        text-align: right;\n",
       "    }\n",
       "</style>\n",
       "<table border=\"1\" class=\"dataframe\">\n",
       "  <thead>\n",
       "    <tr style=\"text-align: right;\">\n",
       "      <th></th>\n",
       "      <th>id</th>\n",
       "      <th>geometry</th>\n",
       "    </tr>\n",
       "  </thead>\n",
       "  <tbody>\n",
       "    <tr>\n",
       "      <th>1</th>\n",
       "      <td>3.0</td>\n",
       "      <td>POLYGON ((1269069.169 201239.803, 1278116.746 ...</td>\n",
       "    </tr>\n",
       "  </tbody>\n",
       "</table>\n",
       "</div>"
      ],
      "text/plain": [
       "    id                                           geometry\n",
       "1  3.0  POLYGON ((1269069.169 201239.803, 1278116.746 ..."
      ]
     },
     "execution_count": 47,
     "metadata": {},
     "output_type": "execute_result"
    }
   ],
   "source": [
    "extent[1:]"
   ]
  },
  {
   "cell_type": "code",
   "execution_count": 48,
   "metadata": {},
   "outputs": [],
   "source": [
    "\n",
    "floodplain_extent_intersect = gp.overlay(extent[1:], floodplain, how = \"intersection\")"
   ]
  },
  {
   "cell_type": "code",
   "execution_count": 50,
   "metadata": {},
   "outputs": [],
   "source": [
    "# clip parcels to floodplain\n",
    "parcel_path = \"/home/nweiss/gdrive/Year 2/Summer - Duwamish/GIS/Raw/Building_Parcels.shp\"\n",
    "parcels = gp.read_file(parcel_path)\n",
    "parcels.to_crs(crs, inplace = True)\n",
    "\n",
    "parcels['centroid_geom'] = parcels.centroid\n",
    "parcels.set_geometry('centroid_geom',inplace = True)\n",
    "parcels_clip = gp.overlay(parcels, floodplain_extent_intersect, how = \"intersection\")"
   ]
  },
  {
   "cell_type": "code",
   "execution_count": 51,
   "metadata": {},
   "outputs": [],
   "source": [
    "parcels_merge = pd.merge(parcels_clip, parcels[['OBJECTID','geometry']], left_on ='OBJECTID', right_on = 'OBJECTID', how = 'left')\n",
    "parcels_merge.set_geometry('geometry_y', inplace = True)"
   ]
  },
  {
   "cell_type": "code",
   "execution_count": 52,
   "metadata": {},
   "outputs": [],
   "source": [
    "parcels_merge.drop(['geometry_x'], axis=1, inplace=True)\n",
    "parcels_merge.to_file(os.path.join(output_path, f\"{model_name}_neighborhood_parcels.shp\"))"
   ]
  },
  {
   "cell_type": "markdown",
   "metadata": {},
   "source": [
    "ROADS PROCESSING"
   ]
  },
  {
   "cell_type": "code",
   "execution_count": 53,
   "metadata": {},
   "outputs": [],
   "source": [
    "# roads processing\n",
    "roads_path = \"/home/nweiss/gdrive/Year 2/Summer - Duwamish/GIS/Projected/seattle_streets_projected.shp\"\n",
    "roads = gp.read_file(roads_path)\n",
    "roads_clip = gp.overlay(roads, extent, how='intersection')\n",
    "roads_clip.to_crs(crs, inplace = True)\n",
    "roads_dissolve = roads_clip.dissolve()\n",
    "roads_dissolve.to_file(os.path.join(output_path, f\"{model_name}_neighborhood_streets.shp\"))"
   ]
  },
  {
   "attachments": {},
   "cell_type": "markdown",
   "metadata": {},
   "source": [
    "BUILDINGS PROCESSING"
   ]
  },
  {
   "cell_type": "code",
   "execution_count": 54,
   "metadata": {},
   "outputs": [],
   "source": [
    "buildings_path = \"/home/nweiss/gdrive/Year 2/Summer - Duwamish/GIS/Processed/buildings_projected_trim.shp\"\n",
    "buildings = gp.read_file(buildings_path)"
   ]
  },
  {
   "cell_type": "code",
   "execution_count": 55,
   "metadata": {},
   "outputs": [],
   "source": [
    "buildings['centroid_geom'] = buildings.centroid\n",
    "buildings.set_geometry('centroid_geom',inplace = True)\n",
    "buildings_clip = gp.overlay(buildings, floodplain_extent_intersect, how = \"intersection\")"
   ]
  },
  {
   "cell_type": "code",
   "execution_count": 56,
   "metadata": {},
   "outputs": [],
   "source": [
    "buildings_merge = pd.merge(buildings_clip, buildings[['OBJECTID','geometry']], left_on ='OBJECTID', right_on = 'OBJECTID', how = 'left')\n",
    "buildings_merge['footprint_geom'] = buildings_merge['geometry_y']\n",
    "buildings_merge.set_geometry('footprint_geom', inplace = True)"
   ]
  },
  {
   "cell_type": "code",
   "execution_count": 57,
   "metadata": {},
   "outputs": [],
   "source": [
    "# fill 0 and NA values to default_height\n",
    "buildings_merge['BP99_APEX'].fillna(default_height, inplace = True)\n",
    "buildings_merge['BP99_APEX'] = np.where(buildings_merge['BP99_APEX']==0,default_height, buildings_merge['BP99_APEX'])\n",
    "buildings_merge['BP99_APEX'] = buildings_merge['BP99_APEX'].astype(int)"
   ]
  },
  {
   "cell_type": "code",
   "execution_count": 58,
   "metadata": {},
   "outputs": [
    {
     "name": "stderr",
     "output_type": "stream",
     "text": [
      "/tmp/ipykernel_341/3199497357.py:3: UserWarning: Column names longer than 10 characters will be truncated when saved to ESRI Shapefile.\n",
      "  buildings_merge[['OBJECTID', 'BP99_TYPE', 'BP99_APEX','AREA','footprint_geom']].to_file(os.path.join(output_path,f\"{model_name}_neighborhood_buildings.shp\"))\n"
     ]
    }
   ],
   "source": [
    "buildings_merge.to_crs(crs, inplace = True)\n",
    "buildings_merge['AREA'] = buildings_merge.area\n",
    "buildings_merge[['OBJECTID', 'BP99_TYPE', 'BP99_APEX','AREA','footprint_geom']].to_file(os.path.join(output_path,f\"{model_name}_neighborhood_buildings.shp\"))"
   ]
  },
  {
   "cell_type": "code",
   "execution_count": 59,
   "metadata": {},
   "outputs": [],
   "source": [
    "buildings_merge['bounding_geom'] = buildings_merge.envelope\n",
    "parcel_building_join = gp.sjoin(buildings_merge, parcels_merge, how = 'left')"
   ]
  },
  {
   "cell_type": "code",
   "execution_count": 60,
   "metadata": {},
   "outputs": [],
   "source": [
    "parcel_building_join['geom'] = np.where((parcel_building_join['LAND_USE_1']=='Single Family') | (parcel_building_join['LAND_USE_1']=='Multi-Family'), parcel_building_join['bounding_geom'], parcel_building_join['footprint_geom'])\n",
    "parcel_building_join.set_geometry('geom', inplace = True)"
   ]
  },
  {
   "cell_type": "code",
   "execution_count": 61,
   "metadata": {},
   "outputs": [],
   "source": [
    "building_single = parcel_building_join[parcel_building_join['LAND_USE_1']=='Single Family']\n",
    "building_multi = parcel_building_join[parcel_building_join['LAND_USE_1']=='Multi-Family']\n",
    "building_res = pd.concat([building_single, building_multi])\n",
    "building_res = building_res.sort_values(by=['PIN','AREA']).drop_duplicates(subset=['PIN'], keep='last')\n"
   ]
  },
  {
   "cell_type": "code",
   "execution_count": 62,
   "metadata": {},
   "outputs": [],
   "source": [
    "building_other = parcel_building_join[parcel_building_join['LAND_USE_1']!='Single Family']\n",
    "building_other = building_other[building_other['LAND_USE_1']!='Multi-Family']"
   ]
  },
  {
   "cell_type": "code",
   "execution_count": 63,
   "metadata": {},
   "outputs": [],
   "source": [
    "buildings_all = pd.concat([building_other,building_res])"
   ]
  },
  {
   "cell_type": "code",
   "execution_count": 64,
   "metadata": {},
   "outputs": [],
   "source": [
    "if model_name == 'puget':\n",
    "    buildings_all = buildings_all[buildings_all['AREA']>=2500]\n",
    "elif model_name == 'sp':\n",
    "    buildings_all = buildings_all[buildings_all['AREA']>=500]"
   ]
  },
  {
   "cell_type": "code",
   "execution_count": 65,
   "metadata": {},
   "outputs": [
    {
     "name": "stderr",
     "output_type": "stream",
     "text": [
      "/tmp/ipykernel_341/1308071339.py:2: UserWarning: Column names longer than 10 characters will be truncated when saved to ESRI Shapefile.\n",
      "  buildings_all[['OBJECTID_left', 'BP99_TYPE', 'BP99_APEX','geom']].to_file(os.path.join(output_path, f\"{model_name}_neighborhood_buildings_bb_trim.shp\"))\n"
     ]
    }
   ],
   "source": [
    "buildings_all.set_crs(crs = crs, inplace = True)\n",
    "buildings_all[['OBJECTID_left', 'BP99_TYPE', 'BP99_APEX','geom']].to_file(os.path.join(output_path, f\"{model_name}_neighborhood_buildings_bb_trim.shp\"))"
   ]
  },
  {
   "cell_type": "markdown",
   "metadata": {},
   "source": [
    "WATERCOURSE PROCESSING"
   ]
  },
  {
   "cell_type": "code",
   "execution_count": 11,
   "metadata": {},
   "outputs": [
    {
     "name": "stdout",
     "output_type": "stream",
     "text": [
      "1757\n",
      "2\n",
      "0\n"
     ]
    },
    {
     "name": "stderr",
     "output_type": "stream",
     "text": [
      "/tmp/ipykernel_229/336586033.py:5: UserWarning: CRS mismatch between the CRS of left geometries and the CRS of right geometries.\n",
      "Use `to_crs()` to reproject one of the input geometries to match the CRS of the other.\n",
      "\n",
      "Left CRS: EPSG:4326\n",
      "Right CRS: EPSG:2926\n",
      "\n",
      "  wc_clip = gp.overlay(wc, extent[:1], how='intersection')\n",
      "/home/nweiss/miniconda3/envs/gis/lib/python3.11/site-packages/geopandas/io/file.py:572: UserWarning: You are attempting to write an empty DataFrame to file. For some drivers, this operation may fail.\n",
      "  _to_file_fiona(df, filename, driver, schema, crs, mode, **kwargs)\n"
     ]
    }
   ],
   "source": [
    "watercourses_path = \"/home/nweiss/gdrive/Year 2/Summer - Duwamish/GIS/Raw/Urban_Watercourses/Urban_Watercourses.shp\"\n",
    "wc = gp.read_file(watercourses_path)\n",
    "print(len(wc))\n",
    "print(len(extent))\n",
    "wc_clip = gp.overlay(wc, extent[:1], how='intersection')\n",
    "print(len(wc_clip))\n",
    "wc_clip.to_crs(crs, inplace = True)\n",
    "wc_dissolve = wc_clip.dissolve()\n",
    "wc_dissolve.to_file(os.path.join(output_path, f\"{model_name}_neighborhood_wc.shp\"))"
   ]
  },
  {
   "cell_type": "markdown",
   "metadata": {},
   "source": [
    "CONTOUR PROCESSING"
   ]
  },
  {
   "cell_type": "code",
   "execution_count": null,
   "metadata": {},
   "outputs": [],
   "source": [
    "# clip catherine's topo\n",
    "contours_path = \"/home/nweiss/gdrive/Year 2/Summer - Duwamish/GIS/DV_GIS Topo Data/06_GIS Data/02_Clipping Layers/01_Duwamish Valley/DV King Country Contours_clipped.shp\"\n",
    "contours = gp.read_file(contours_path)\n",
    "contours.to_crs(crs, inplace = True)\n",
    "contours_clip = gp.overlay(contours, extent, how = 'intersection')"
   ]
  },
  {
   "cell_type": "code",
   "execution_count": null,
   "metadata": {},
   "outputs": [],
   "source": [
    "contours_clip_path = \"/home/nweiss/gdrive/Year 2/Summer - Duwamish/GIS/Neighborhood_Files/neighborhood_contours_clip.shp\"\n",
    "contours_clip = gp.read_file(contours_clip_path)"
   ]
  },
  {
   "cell_type": "code",
   "execution_count": null,
   "metadata": {},
   "outputs": [],
   "source": [
    "# if elevation > 0, take every contour 10\n",
    "contours_below_SL = contours_clip[contours_clip['ELEVATION']<=20]\n",
    "contours_above_SL = contours_clip[contours_clip['IDX_20FT']==20]\n",
    "contours_above_SL = contours_above_SL[contours_above_SL['ELEVATION']>20]\n",
    "contours_trimmed = pd.concat([contours_below_SL,contours_above_SL])"
   ]
  },
  {
   "cell_type": "code",
   "execution_count": null,
   "metadata": {},
   "outputs": [],
   "source": [
    "contours_trimmed.to_file(os.path.join(output_path, \"neighborhood_contours_clip_test.shp\"))"
   ]
  },
  {
   "attachments": {},
   "cell_type": "markdown",
   "metadata": {},
   "source": [
    "TOPO PROCESSING\n",
    "- merging bathymetry data with topography dem"
   ]
  },
  {
   "cell_type": "code",
   "execution_count": null,
   "metadata": {},
   "outputs": [],
   "source": [
    "# mask topo_rast by extent\n",
    "topo_rast = \"/home/nweiss/gdrive/Year 2/Summer - Duwamish/GIS/Neighborhood_Files/topo.tif\"\n",
    "\n",
    "with fiona.open(extent_path, \"r\") as shapefile:\n",
    "    shapes = [feature[\"geometry\"] for feature in shapefile]\n",
    "\n",
    "with rasterio.open(topo_rast) as src:\n",
    "    out_image, out_transform = rasterio.mask.mask(src, shapes, crop=True)\n",
    "    out_meta = src.meta"
   ]
  },
  {
   "cell_type": "code",
   "execution_count": null,
   "metadata": {},
   "outputs": [],
   "source": [
    "topo_outpath = \"/home/nweiss/gdrive/Year 2/Summer - Duwamish/GIS/Neighborhood_Files/neighborhood_topo.asc\"\n",
    "\n",
    "# convert to ascii file\n",
    "out_meta.update({\"driver\": \"AAIGrid\",\n",
    "                 \"height\": out_image.shape[1],\n",
    "                 \"width\": out_image.shape[2],\n",
    "                 \"transform\": out_transform})\n",
    "\n",
    "with rasterio.open(topo_outpath, \"w\", **out_meta) as dest:\n",
    "    dest.write(out_image)"
   ]
  },
  {
   "attachments": {},
   "cell_type": "markdown",
   "metadata": {},
   "source": [
    "EXTRA PROCESSING FOR ASSIGNING ABSOLUTE BUILDING HEIGHTS FROM TERRAIN"
   ]
  },
  {
   "cell_type": "code",
   "execution_count": null,
   "metadata": {},
   "outputs": [],
   "source": [
    "## used topo to raster tool with 5ft contours and 5 ft pixel resolution\n",
    "# there may be better ways to get DEM / elevation values as raster\n",
    "topo_rast = \"/home/nweiss/gdrive/Year 2/Summer - Duwamish/GIS/Processed/min_bath_topo.tif\"\n",
    "zonal_stats = rasterstats.zonal_stats(buildings_merge, topo_rast, stats=\"count min mean max median std\")\n",
    "stats_df = pd.DataFrame.from_dict(zonal_stats).reset_index()\n",
    "buildings_merge.reset_index(inplace = True)\n",
    "merged_heights = pd.merge(buildings_merge, stats_df, how = 'left', left_on = 'index', right_on = 'index')\n",
    "merged_heights['height_upd'] = np.where((merged_heights['BP99_APEX'].isna()==False) | (merged_heights['mean'].isna()==False), default_height, (merged_heights['BP99_APEX']-merged_heights['mean']))\n",
    "merged_heights.set_geometry('geometry_y')\n",
    "merged_heights[['OBJECTID','BP99_APEX','mean','min','max','median','std','height_upd','geometry_y']].to_file(\"/home/nweiss/gdrive/Year 2/Summer - Duwamish/GIS/Processed/building_heights_upd.shp\")"
   ]
  }
 ],
 "metadata": {
  "kernelspec": {
   "display_name": "gis",
   "language": "python",
   "name": "python3"
  },
  "language_info": {
   "codemirror_mode": {
    "name": "ipython",
    "version": 3
   },
   "file_extension": ".py",
   "mimetype": "text/x-python",
   "name": "python",
   "nbconvert_exporter": "python",
   "pygments_lexer": "ipython3",
   "version": "3.11.4"
  },
  "orig_nbformat": 4
 },
 "nbformat": 4,
 "nbformat_minor": 2
}
