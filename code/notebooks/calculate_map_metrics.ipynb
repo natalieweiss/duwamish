{
 "cells": [
  {
   "cell_type": "code",
   "execution_count": 1,
   "metadata": {},
   "outputs": [],
   "source": [
    "import pandas as pd\n",
    "import geopandas as gp\n",
    "import numpy as np\n",
    "import os\n",
    "import requests\n",
    "import urllib.parse"
   ]
  },
  {
   "cell_type": "code",
   "execution_count": 2,
   "metadata": {},
   "outputs": [],
   "source": [
    "# initiate file paths\n",
    "input_file_path = \"/home/nweiss/gdrive/Year 2/Summer - Duwamish/Sampling_Results/aggregated_results_geom.csv\""
   ]
  },
  {
   "cell_type": "code",
   "execution_count": 3,
   "metadata": {},
   "outputs": [],
   "source": [
    "def drop_levels(df):\n",
    "    df.reset_index(inplace = True)\n",
    "    df.columns = df.columns.droplevel(1)\n",
    "    return df"
   ]
  },
  {
   "cell_type": "code",
   "execution_count": 4,
   "metadata": {},
   "outputs": [],
   "source": [
    "all_results = pd.read_csv(input_file_path)"
   ]
  },
  {
   "cell_type": "code",
   "execution_count": 5,
   "metadata": {},
   "outputs": [],
   "source": [
    "sl_by_group = all_results.copy()\n",
    "\n",
    "# count screening level exceedances by pah, pcb, df, and each individual metal\n",
    "sl_by_group['Chemical Group'] = np.where(sl_by_group['Chemical Group']=='RCRA8', sl_by_group['Chemical'], sl_by_group['Chemical Group'])"
   ]
  },
  {
   "cell_type": "code",
   "execution_count": 6,
   "metadata": {},
   "outputs": [],
   "source": [
    "# count of total exceedances by group\n",
    "cnt_exceedances = sl_by_group[sl_by_group['SL_exceeded']=='Y']\n",
    "cnt_exceedances = cnt_exceedances.groupby(by = ['DATE','Sample ID','Chemical Group','Medium','Latitude','Longitude']).agg({'SL_exceeded': ['count']}).reset_index()\n",
    "cnt_exceedances = drop_levels(cnt_exceedances)"
   ]
  },
  {
   "cell_type": "code",
   "execution_count": 7,
   "metadata": {},
   "outputs": [],
   "source": [
    "# calculate total screening level count\n",
    "cnt_sl = sl_by_group[sl_by_group['SL_exceeded'] != 'No Screening Level Identified']\n",
    "cnt_sl = cnt_sl.groupby(by = ['DATE','Sample ID','Chemical Group','Medium','Latitude','Longitude']).agg({'SL_exceeded': ['count']}).reset_index()\n",
    "cnt_sl = drop_levels(cnt_sl)"
   ]
  },
  {
   "cell_type": "code",
   "execution_count": 8,
   "metadata": {},
   "outputs": [],
   "source": [
    "cnt_exceedances_merge = cnt_exceedances.merge(cnt_sl, left_on = ['DATE','Sample ID','Chemical Group','Medium','Latitude','Longitude'], right_on = ['DATE','Sample ID','Chemical Group','Medium','Latitude','Longitude'], how = 'left')"
   ]
  },
  {
   "cell_type": "code",
   "execution_count": 9,
   "metadata": {},
   "outputs": [],
   "source": [
    "cnt_exceedances_merge.rename(columns = {'SL_exceeded_x':'cnt_sl_exceed', 'SL_exceeded_y':'tot_cnt_sl'}, inplace = True)\n",
    "cnt_exceedances_merge['pct_exceed'] = cnt_exceedances_merge['cnt_sl_exceed'] /cnt_exceedances_merge['tot_cnt_sl']\n",
    "cnt_exceedances_merge.drop(columns = {'index_x', 'index_y'}, inplace = True)"
   ]
  },
  {
   "cell_type": "code",
   "execution_count": 10,
   "metadata": {},
   "outputs": [],
   "source": [
    "# export results based on count of exceedances and for each results\n",
    "cnt_exceedances_merge.to_csv(\"/home/nweiss/gdrive/Year 2/Summer - Duwamish/Sampling_Results/count_exceedances.csv\", index = False)"
   ]
  }
 ],
 "metadata": {
  "kernelspec": {
   "display_name": "gis",
   "language": "python",
   "name": "python3"
  },
  "language_info": {
   "codemirror_mode": {
    "name": "ipython",
    "version": 3
   },
   "file_extension": ".py",
   "mimetype": "text/x-python",
   "name": "python",
   "nbconvert_exporter": "python",
   "pygments_lexer": "ipython3",
   "version": "3.11.4"
  },
  "orig_nbformat": 4
 },
 "nbformat": 4,
 "nbformat_minor": 2
}
