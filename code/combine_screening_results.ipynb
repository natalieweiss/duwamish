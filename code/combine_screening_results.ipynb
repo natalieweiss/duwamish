{
 "cells": [
  {
   "cell_type": "code",
   "execution_count": 473,
   "metadata": {},
   "outputs": [],
   "source": [
    "import pandas as pd\n",
    "import geopandas as gp\n",
    "import numpy as np\n",
    "import os\n",
    "import requests\n",
    "import urllib.parse"
   ]
  },
  {
   "cell_type": "code",
   "execution_count": 474,
   "metadata": {},
   "outputs": [],
   "source": [
    "soil_RCRA_cols = ['DATE', 'SAMP_ID', 'Arsenic', 'Barium', 'Cadmium', 'Chromium', 'Lead','Selenium', 'Silver', 'Mercury']\n",
    "water_RCRA_cols = ['DATE', 'SAMP_ID', 'Arsenic', 'Barium', 'Cadmium', 'Chromium', 'Lead', 'Selenium', 'Silver', 'Mercury (CVAFS)', 'Mercury (CVAA)']\n",
    "pah_cols = ['DATE','SAMP_ID','1-Methylnaphthalene', '2-Methylnaphthalene', 'Acenaphthene', 'Acenaphthylene', 'Anthracene', 'Benzo(a)anthracene', 'Benzo(a)pyrene', 'Benzo(b)fluoranthene', 'Benzo(g,h,i)perylene', 'Benzo(k)fluoranthene', 'Chrysene', 'Dibenz(a,h)anthracene', 'Fluoranthene', 'Fluorene', 'Indeno(1,2,3-cd)pyrene', 'Naphthalene', 'Phenanthrene', 'Pyrene', '2-Fluorobiphenyl (S) %', 'Terphenyl-d14 (S) %']\n",
    "soil_pcb_cols = ['DATE', 'SAMP_ID', 'PCB Isomer','Concentrations Detected (mg/Kg)']\n",
    "water_pcb_cols = ['DATE', 'SAMP_ID', 'PCB Isomer','Concentrations Detected (ug/L)']"
   ]
  },
  {
   "cell_type": "code",
   "execution_count": 475,
   "metadata": {},
   "outputs": [],
   "source": [
    "soil_rcra = pd.DataFrame()\n",
    "water_rcra = pd.DataFrame()\n",
    "soil_pah = pd.DataFrame()\n",
    "water_pah = pd.DataFrame()\n",
    "soil_pcb = pd.DataFrame()\n",
    "water_pcb = pd.DataFrame()"
   ]
  },
  {
   "cell_type": "code",
   "execution_count": 476,
   "metadata": {},
   "outputs": [],
   "source": [
    "# list all files in the directory\n",
    "subfolder_path = \"/home/nweiss/gdrive/Year 2/Summer - Duwamish/Sampling_Results/2023 Screening Results\"\n",
    "\n",
    "# Use a list comprehension to get all .xlsx files in the subfolder\n",
    "results_files = [f for f in os.listdir(subfolder_path) if f.endswith(\".xlsx\")]\n",
    "results_files.remove(\"TEMPLATE_UPD.xlsx\")\n",
    "results_files.remove(\"S4 and S6 Screening Results_CLEAN.xlsx\")"
   ]
  },
  {
   "cell_type": "code",
   "execution_count": 477,
   "metadata": {},
   "outputs": [
    {
     "name": "stdout",
     "output_type": "stream",
     "text": [
      "August 8 Sampling Event Screening Results_CLEAN.xlsx sheet found\n",
      "Data Entry and QA QC Log.xlsx no sheet\n",
      "Duwamish Puget Creek Screening Results_CLEAN.xlsx sheet found\n",
      "Duwamish Superfund Waters_CLEAN.xlsx no sheet\n",
      "Kellogg Island Screening Results_CLEAN.xlsx sheet found\n",
      "People's Park Screening Result_CLEAN.xlsx sheet found\n",
      "S4 Screening Results_CLEAN.xlsx sheet found\n"
     ]
    }
   ],
   "source": [
    "for i in results_files:\n",
    "    try:\n",
    "        soil_rcra8_df = pd.read_excel(subfolder_path+'/'+i, sheet_name = 'Soil RCRA8')\n",
    "        print(i , \"sheet found\")\n",
    "\n",
    "        soil_rcra8_df = soil_rcra8_df[1:]\n",
    "        soil_rcra8_df = soil_rcra8_df[soil_RCRA_cols]\n",
    "        soil_rcra8_df = soil_rcra8_df.melt(id_vars=['DATE','SAMP_ID'])\n",
    "        soil_rcra8_df['Result Value Units'] = 'mg/kg'\n",
    "        soil_rcra8_df['Sample Matrix'] = 'Soil'\n",
    "        soil_rcra= pd.concat([soil_rcra, soil_rcra8_df], ignore_index= True)\n",
    "    except:\n",
    "        print(i, \"no sheet\")"
   ]
  },
  {
   "cell_type": "code",
   "execution_count": 478,
   "metadata": {},
   "outputs": [
    {
     "name": "stdout",
     "output_type": "stream",
     "text": [
      "August 8 Sampling Event Screening Results_CLEAN.xlsx no sheet\n",
      "Data Entry and QA QC Log.xlsx no sheet\n",
      "Duwamish Puget Creek Screening Results_CLEAN.xlsx sheet found\n",
      "Duwamish Superfund Waters_CLEAN.xlsx sheet found\n",
      "Kellogg Island Screening Results_CLEAN.xlsx no sheet\n",
      "People's Park Screening Result_CLEAN.xlsx sheet found\n",
      "S4 Screening Results_CLEAN.xlsx sheet found\n"
     ]
    }
   ],
   "source": [
    "for i in results_files:\n",
    "    try:\n",
    "        water_rcra8_df = pd.read_excel(subfolder_path+'/'+i, sheet_name = 'Water RCRA8')\n",
    "        print(i , \"sheet found\")\n",
    "        water_rcra8_df = water_rcra8_df[1:]\n",
    "        water_rcra8_df = water_rcra8_df[water_RCRA_cols]\n",
    "        water_rcra8_df = water_rcra8_df.melt(id_vars=['DATE','SAMP_ID'])\n",
    "        water_rcra8_df['Result Value Units'] = 'ug/L'\n",
    "        water_rcra8_df['Sample Matrix'] = 'Water'\n",
    "        water_rcra= pd.concat([water_rcra, water_rcra8_df], ignore_index= True)\n",
    "    except:\n",
    "        print(i, \"no sheet\")"
   ]
  },
  {
   "cell_type": "code",
   "execution_count": 479,
   "metadata": {},
   "outputs": [
    {
     "name": "stdout",
     "output_type": "stream",
     "text": [
      "August 8 Sampling Event Screening Results_CLEAN.xlsx sheet found\n",
      "Data Entry and QA QC Log.xlsx no sheet found\n",
      "Duwamish Puget Creek Screening Results_CLEAN.xlsx sheet found\n",
      "Duwamish Superfund Waters_CLEAN.xlsx no sheet found\n",
      "Kellogg Island Screening Results_CLEAN.xlsx sheet found\n",
      "People's Park Screening Result_CLEAN.xlsx sheet found\n",
      "S4 Screening Results_CLEAN.xlsx sheet found\n"
     ]
    }
   ],
   "source": [
    "for i in results_files:\n",
    "    try:\n",
    "        soil_pah_df = pd.read_excel(subfolder_path+'/'+i, sheet_name = 'PAH Soils')\n",
    "        print(i , \"sheet found\")\n",
    "        soil_pah_df = soil_pah_df[1:]\n",
    "        soil_pah_df= soil_pah_df[pah_cols]\n",
    "        soil_pah_df = soil_pah_df.melt(id_vars=['DATE','SAMP_ID'])\n",
    "        soil_pah_df['Result Value Units'] = 'mg/kg'\n",
    "        soil_pah_df['Sample Matrix'] = 'Soil'\n",
    "        soil_pah = pd.concat([soil_pah, soil_pah_df], ignore_index= True)\n",
    "    except:\n",
    "        print(i, \"no sheet found\")"
   ]
  },
  {
   "cell_type": "code",
   "execution_count": 480,
   "metadata": {},
   "outputs": [
    {
     "name": "stdout",
     "output_type": "stream",
     "text": [
      "August 8 Sampling Event Screening Results_CLEAN.xlsx no sheet found\n",
      "Data Entry and QA QC Log.xlsx no sheet found\n",
      "Duwamish Puget Creek Screening Results_CLEAN.xlsx sheet found\n",
      "Duwamish Superfund Waters_CLEAN.xlsx sheet found\n",
      "Kellogg Island Screening Results_CLEAN.xlsx no sheet found\n",
      "People's Park Screening Result_CLEAN.xlsx sheet found\n",
      "S4 Screening Results_CLEAN.xlsx sheet found\n"
     ]
    }
   ],
   "source": [
    "for i in results_files:\n",
    "    try:\n",
    "        water_pah_df = pd.read_excel(subfolder_path+'/'+i, sheet_name = 'PAH Soil to Groundwater')\n",
    "        print(i , \"sheet found\")\n",
    "        water_pah_df = water_pah_df[1:]\n",
    "        water_pah_df= water_pah_df[pah_cols]\n",
    "        water_pah_df = water_pah_df.melt(id_vars=['DATE','SAMP_ID'])\n",
    "        water_pah_df['Result Value Units'] = 'ug/L'\n",
    "        water_pah_df['Sample Matrix'] = 'Water'\n",
    "        water_pah = pd.concat([water_pah, water_pah_df], ignore_index= True)\n",
    "    except:\n",
    "        print(i, \"no sheet found\")"
   ]
  },
  {
   "cell_type": "code",
   "execution_count": 481,
   "metadata": {},
   "outputs": [
    {
     "name": "stdout",
     "output_type": "stream",
     "text": [
      "August 8 Sampling Event Screening Results_CLEAN.xlsx no sheet found\n",
      "Data Entry and QA QC Log.xlsx no sheet found\n",
      "Duwamish Puget Creek Screening Results_CLEAN.xlsx no sheet found\n",
      "Duwamish Superfund Waters_CLEAN.xlsx no sheet found\n",
      "Kellogg Island Screening Results_CLEAN.xlsx sheet found\n",
      "People's Park Screening Result_CLEAN.xlsx sheet found\n",
      "S4 Screening Results_CLEAN.xlsx sheet found\n"
     ]
    }
   ],
   "source": [
    "for i in results_files:\n",
    "    try:\n",
    "        soil_pcb_df = pd.read_excel(subfolder_path+'/'+i, sheet_name = 'PCBs Soils')\n",
    "        print(i , \"sheet found\")\n",
    "        soil_pcb_df = soil_pcb_df[1:]\n",
    "        soil_pcb_df= soil_pcb_df[soil_pcb_cols]\n",
    "        soil_pcb_df = soil_pcb_df.melt(id_vars=['DATE','SAMP_ID','PCB Isomer'])\n",
    "        soil_pcb_df.drop(columns = 'variable', inplace = True)\n",
    "        soil_pcb_df.rename(columns = {\"PCB Isomer\": 'variable'}, inplace = True)\n",
    "        soil_pcb_df['Result Value Units'] = 'mg/kg'\n",
    "        soil_pcb_df['Sample Matrix'] = 'Soil'\n",
    "        soil_pcb = pd.concat([soil_pcb, soil_pcb_df], ignore_index= True)\n",
    "    except:\n",
    "        print(i, \"no sheet found\")"
   ]
  },
  {
   "cell_type": "code",
   "execution_count": 482,
   "metadata": {},
   "outputs": [
    {
     "name": "stdout",
     "output_type": "stream",
     "text": [
      "August 8 Sampling Event Screening Results_CLEAN.xlsx\n",
      "August 8 Sampling Event Screening Results_CLEAN.xlsx no sheet found\n",
      "Data Entry and QA QC Log.xlsx\n",
      "Data Entry and QA QC Log.xlsx no sheet found\n",
      "Duwamish Puget Creek Screening Results_CLEAN.xlsx\n",
      "Duwamish Puget Creek Screening Results_CLEAN.xlsx no sheet found\n",
      "Duwamish Superfund Waters_CLEAN.xlsx\n",
      "Duwamish Superfund Waters_CLEAN.xlsx no sheet found\n",
      "Kellogg Island Screening Results_CLEAN.xlsx\n",
      "Kellogg Island Screening Results_CLEAN.xlsx no sheet found\n",
      "People's Park Screening Result_CLEAN.xlsx\n",
      "S4 Screening Results_CLEAN.xlsx\n"
     ]
    }
   ],
   "source": [
    "for i in results_files:\n",
    "    print(i)\n",
    "\n",
    "    # TODO: why is s4 and people's park not coming in????\n",
    "    try:\n",
    "        water_pcb_df = pd.read_excel(subfolder_path+'/'+i, sheet_name = 'PCBs Waters')\n",
    "        water_pcb_df = water_pcb_df[1:]\n",
    "\n",
    "        water_pcb_df= water_pcb_df[water_pcb_cols]\n",
    "        water_pcb_df = water_pcb_df.melt(id_vars=['DATE','SAMP_ID','PCB Isomer'])\n",
    "        water_pcb_df.drop(columns = 'variable', inplace = True)\n",
    "        water_pcb_df.rename(columns = {\"PCB Isomer\": 'variable'}, inplace = True)\n",
    "\n",
    "        water_pcb_df['Result Value Units'] = 'ug/L'\n",
    "        water_pcb_df['Sample Matrix'] = 'Water'\n",
    "        water_pcb = pd.concat([water_pcb, water_pcb_df], ignore_index= True)\n",
    "    except:\n",
    "        print(i, \"no sheet found\")"
   ]
  },
  {
   "cell_type": "code",
   "execution_count": 483,
   "metadata": {},
   "outputs": [],
   "source": [
    "all_results = pd.concat([soil_rcra,soil_pah,soil_pcb,water_rcra, water_pah, water_pcb])\n",
    "all_results.rename(columns = {'variable': 'Result Parameter Name', 'value': 'Result Value', 'SAMP_ID': 'Sample ID'}, inplace = True)"
   ]
  },
  {
   "cell_type": "code",
   "execution_count": 484,
   "metadata": {},
   "outputs": [],
   "source": [
    "all_results.dropna(subset=['DATE'], inplace = True)\n",
    "all_results['No_Detect'] = np.where(all_results['Result Value']=='ND',1,0)\n",
    "all_results['Result Value'] = np.where(all_results['Result Value']=='ND',np.NaN,all_results['Result Value'])\n",
    "all_results['Result Value'] = np.where(all_results['Result Value']=='--',np.NaN,all_results['Result Value'])"
   ]
  },
  {
   "cell_type": "code",
   "execution_count": 485,
   "metadata": {},
   "outputs": [],
   "source": [
    "all_results.to_csv(\"/home/nweiss/gdrive/Year 2/Summer - Duwamish/duwamish/code/all_results.csv\")"
   ]
  },
  {
   "cell_type": "markdown",
   "metadata": {},
   "source": [
    "JOIN TO SCREENING LEVELS"
   ]
  },
  {
   "cell_type": "code",
   "execution_count": 486,
   "metadata": {},
   "outputs": [],
   "source": [
    "results = \"/home/nweiss/gdrive/Year 2/Summer - Duwamish/Sampling_Results/S4 and S6 Screening Results_CLEAN.xlsx\"\n",
    "sl = \"/home/nweiss/gdrive/Year 2/Summer - Duwamish/Sampling_Results/Master_Screening_Levels.xlsx\"\n",
    "pcb_arc_lookup = pd.read_excel(results, sheet_name='PCB to Aroclor Lookup')\n",
    "\n",
    "# format pcb to aroclor loo\n",
    "pcb_arc_lookup = pcb_arc_lookup[pcb_arc_lookup['Aroclor Name'].str.contains('aroclor', na=False)][['PCB Isomer', 'Aroclor Name']]\n",
    "\n",
    "# create data frame of the screening levels for soils and\n",
    "sl_soil_df = pd.read_excel(sl, sheet_name='Soil')\n",
    "sl_water_df = pd.read_excel(sl, sheet_name='Water')"
   ]
  },
  {
   "cell_type": "code",
   "execution_count": 487,
   "metadata": {},
   "outputs": [],
   "source": [
    "# replace pcb names with the aroclor names to match with F&B results\n",
    "sl_soil_df_join = pd.merge(sl_soil_df, pcb_arc_lookup, how = 'outer', left_on = 'Chemical', right_on = 'PCB Isomer')\n",
    "sl_soil_df_join['Chemical'] = np.where(sl_soil_df_join['Aroclor Name'].str.contains('aroclor', na=False), sl_soil_df_join['Aroclor Name'], sl_soil_df_join['Chemical'])\n",
    "sl_soil_df_join.drop(columns = pcb_arc_lookup.columns, inplace = True)\n",
    "sl_soil_df_join = sl_soil_df_join[sl_soil_df_join['Medium']=='Soil']\n",
    "\n",
    "# replace pcb names with the aroclor names to match with F&B results\n",
    "sl_water_df_join = pd.merge(sl_water_df, pcb_arc_lookup, how = 'outer', left_on = 'Chemical', right_on = 'PCB Isomer')\n",
    "sl_water_df_join['Chemical'] = np.where(sl_water_df_join['Aroclor Name'].str.contains('aroclor', na=False), sl_water_df_join['Aroclor Name'], sl_water_df_join['Chemical'])\n",
    "sl_water_df_join.drop(columns = pcb_arc_lookup.columns, inplace = True)\n",
    "sl_water_df_join = sl_water_df_join[sl_water_df_join['Medium']=='Water']"
   ]
  },
  {
   "cell_type": "code",
   "execution_count": 488,
   "metadata": {},
   "outputs": [],
   "source": [
    "# split results into soil and water\n",
    "results_soil_df = all_results[all_results['Sample Matrix'] == 'Soil']\n",
    "results_water_df = all_results[all_results['Sample Matrix'] == 'Water']"
   ]
  },
  {
   "cell_type": "code",
   "execution_count": 489,
   "metadata": {},
   "outputs": [],
   "source": [
    "# join screening levels to the results\n",
    "soil_sl_join = pd.merge(sl_soil_df_join,results_soil_df,how = 'outer', left_on = ['Chemical'], right_on = ['Result Parameter Name'])\n",
    "\n",
    "# remove screening levels that do not have values\n",
    "soil_sl_join = soil_sl_join[(soil_sl_join['Screening Level Measurement']!='na')]\n",
    "soil_sl_join = soil_sl_join[(soil_sl_join['Screening Level Measurement']!='TBD')]\n",
    "soil_sl_join = soil_sl_join[(soil_sl_join['Screening Level Measurement']!='PQL')]\n",
    "soil_sl_join['Screening Level Measurement'].astype(float)\n",
    "soil_sl_join['Result Value'].astype(float)\n",
    "\n",
    "# calculate whether the screening levels have been exceeded\n",
    "soil_sl_join['SL_exceeded'] = np.where(soil_sl_join['Screening Level Measurement'] < soil_sl_join['Result Value'],'Y','N')"
   ]
  },
  {
   "cell_type": "code",
   "execution_count": 490,
   "metadata": {},
   "outputs": [],
   "source": [
    "# join screening levels to results\n",
    "water_sl_join = pd.merge(sl_water_df_join,results_water_df,how = 'outer', left_on = ['Chemical'], right_on = ['Result Parameter Name'])\n",
    "water_sl_join = water_sl_join[(water_sl_join['Screening Level Measurement']!='na')]\n",
    "water_sl_join = water_sl_join[(water_sl_join['Screening Level Measurement']!='TBD')]\n",
    "water_sl_join = water_sl_join[(water_sl_join['Screening Level Measurement']!='PQL')]\n",
    "water_sl_join['Screening Level Measurement'].astype(float)\n",
    "\n",
    "## TODO: make sure everything is converted correctly, including ppb / ppm\n",
    "# convert any screening levels that are in mg/L to ug/L\n",
    "water_sl_join['Screening_Level_Measurement_Convert'] = np.where(water_sl_join['Unit'] == 'mg/L', water_sl_join['Screening Level Measurement']*1000, water_sl_join['Screening Level Measurement'])\n",
    "water_sl_join['Screening_Level_Measurement_Convert'] = np.where(water_sl_join['Unit'] == 'ppm', water_sl_join['Screening Level Measurement']*1000, water_sl_join['Screening Level Measurement'])\n",
    "water_sl_join['Screening_Level_Measurement_Convert'].astype(float)\n",
    "water_sl_join['Result Value'].astype(float)\n",
    "\n",
    "# calculate whether the screening levels have been exceeded\n",
    "water_sl_join['SL_exceeded'] = np.where(water_sl_join['Screening_Level_Measurement_Convert']< water_sl_join['Result Value'], 'Y','N')"
   ]
  },
  {
   "cell_type": "code",
   "execution_count": 491,
   "metadata": {},
   "outputs": [],
   "source": [
    "columns = ['Medium', 'DATE','Sample ID','Chemical Group', 'Chemical', 'Result Parameter Name', 'Screening Level Type',\n",
    "       'Screening Level Measurement', 'Result Value', 'Unit', 'Source', 'SL_exceeded']\n",
    "\n",
    "all_SL_results = pd.concat([soil_sl_join[columns],water_sl_join[columns]])\n",
    "\n",
    "# where the screening level is blank, replace exceedance with \"no screening level identified\"\n",
    "all_SL_results['Screening Level Measurement'].fillna('No Screening Level Identified', inplace = True)\n",
    "all_SL_results['SL_exceeded'] = np.where(all_SL_results['Screening Level Measurement']=='No Screening Level Identified','No Screening Level Identified', all_SL_results['SL_exceeded'])"
   ]
  },
  {
   "cell_type": "code",
   "execution_count": 492,
   "metadata": {},
   "outputs": [],
   "source": [
    "all_SL_results.dropna(subset=['Sample ID'], inplace=True)\n",
    "all_SL_results.to_csv('/home/nweiss/gdrive/Year 2/Summer - Duwamish/Sampling_Results/all_previous_results.csv', index = False)"
   ]
  },
  {
   "cell_type": "code",
   "execution_count": 493,
   "metadata": {},
   "outputs": [],
   "source": [
    "df = pd.read_csv(\"/home/nweiss/gdrive/Year 2/Summer - Duwamish/Sampling_Results/s4_and_s6_results.csv\")\n",
    "\n",
    "df_upd = pd.concat([all_SL_results,df])"
   ]
  },
  {
   "cell_type": "code",
   "execution_count": 494,
   "metadata": {},
   "outputs": [],
   "source": [
    "df_upd.to_excel(\"/home/nweiss/gdrive/Year 2/Summer - Duwamish/Sampling_Results/all_results_for_tableau.xlsx\")"
   ]
  }
 ],
 "metadata": {
  "kernelspec": {
   "display_name": "gis",
   "language": "python",
   "name": "python3"
  },
  "language_info": {
   "codemirror_mode": {
    "name": "ipython",
    "version": 3
   },
   "file_extension": ".py",
   "mimetype": "text/x-python",
   "name": "python",
   "nbconvert_exporter": "python",
   "pygments_lexer": "ipython3",
   "version": "3.11.4"
  },
  "orig_nbformat": 4
 },
 "nbformat": 4,
 "nbformat_minor": 2
}
