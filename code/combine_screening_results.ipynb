{
 "cells": [
  {
   "cell_type": "code",
   "execution_count": 1,
   "metadata": {},
   "outputs": [],
   "source": [
    "import pandas as pd\n",
    "import geopandas as gp\n",
    "import numpy as np\n",
    "import os\n",
    "import requests\n",
    "import urllib.parse"
   ]
  },
  {
   "cell_type": "code",
   "execution_count": 76,
   "metadata": {},
   "outputs": [],
   "source": [
    "soil_RCRA_cols = ['DATE', 'SAMP_ID', 'Arsenic', 'Barium', 'Cadmium', 'Chromium', 'Lead','Selenium', 'Silver', 'Mercury']\n",
    "water_RCRA_cols = ['DATE', 'SAMP_ID', 'Arsenic', 'Barium', 'Cadmium', 'Chromium', 'Lead', 'Selenium', 'Silver', 'Mercury (CVAFS)', 'Mercury (CVAA)']\n",
    "pah_cols = ['DATE','SAMP_ID','1-Methylnaphthalene', '2-Methylnaphthalene', 'Acenaphthene', 'Acenaphthylene', 'Anthracene', 'Benzo(a)anthracene', 'Benzo(a)pyrene', 'Benzo(b)fluoranthene', 'Benzo(g,h,i)perylene', 'Benzo(k)fluoranthene', 'Chrysene', 'Dibenz(a,h)anthracene', 'Fluoranthene', 'Fluorene', 'Indeno(1,2,3-cd)pyrene', 'Naphthalene', 'Phenanthrene', 'Pyrene', '2-Fluorobiphenyl (S)', 'Terphenyl-d14 (S)']\n",
    "soil_pcb_cols = ['DATE', 'SAMP_ID', 'PCB Isomer','Concentrations Detected (ng/Kg)']\n",
    "water_pcb_cols = ['DATE', 'SAMP_ID', 'PCB Isomer','Concentrations Detected (ng/L)']"
   ]
  },
  {
   "cell_type": "code",
   "execution_count": 2,
   "metadata": {},
   "outputs": [],
   "source": [
    "# list all files in the directory\n",
    "subfolder_path = \"/home/nweiss/gdrive/Year 2/Summer - Duwamish/Sampling_Results/2023 Screening Results\"\n",
    "\n",
    "# Use a list comprehension to get all .xlsx files in the subfolder\n",
    "results_files = [f for f in os.listdir(subfolder_path) if f.endswith(\".xlsx\")]"
   ]
  },
  {
   "cell_type": "code",
   "execution_count": 62,
   "metadata": {},
   "outputs": [],
   "source": [
    "soil_rcra8_df = pd.read_excel(subfolder_path+'/'+results_files[7], sheet_name = 'Soil RCRA8')\n",
    "soil_rcra8_df = soil_rcra8_df[1:]\n",
    "soil_rcra8_df = soil_rcra8_df[soil_RCRA_cols]\n",
    "soil_rcra8_df = soil_rcra8_df.melt(id_vars=['DATE','SAMP_ID'])\n",
    "\n",
    "# to do: add unit column"
   ]
  },
  {
   "cell_type": "code",
   "execution_count": 63,
   "metadata": {},
   "outputs": [],
   "source": [
    "water_rcra8_df = pd.read_excel(subfolder_path+'/'+results_files[7], sheet_name = 'Water RCRA8')\n",
    "water_rcra8_df = water_rcra8_df[1:]\n",
    "water_rcra8_df = water_rcra8_df[water_RCRA_cols]\n",
    "water_rcra8_df = water_rcra8_df.melt(id_vars=['DATE','SAMP_ID'])\n",
    "\n",
    "# to do: add unit column"
   ]
  },
  {
   "cell_type": "code",
   "execution_count": 64,
   "metadata": {},
   "outputs": [],
   "source": [
    "soil_pah_df = pd.read_excel(subfolder_path+'/'+results_files[7], sheet_name = 'PAH Soils')\n",
    "soil_pah_df = soil_pah_df[1:]\n",
    "soil_pah_df= soil_pah_df[pah_cols]\n",
    "soil_pah_df = soil_pah_df.melt(id_vars=['DATE','SAMP_ID'])\n",
    "\n",
    "# to do: add unit column\n"
   ]
  },
  {
   "cell_type": "code",
   "execution_count": 67,
   "metadata": {},
   "outputs": [],
   "source": [
    "water_pah_df = pd.read_excel(subfolder_path+'/'+results_files[7], sheet_name = 'PAH Soil to Groundwater')\n",
    "water_rcra8_df_pah_df = water_pah_df[1:]\n",
    "water_pah_df= water_pah_df[pah_cols]\n",
    "water_pah_df = water_pah_df.melt(id_vars=['DATE','SAMP_ID'])\n",
    "\n",
    "# to do: add unit column"
   ]
  },
  {
   "cell_type": "code",
   "execution_count": 75,
   "metadata": {},
   "outputs": [],
   "source": [
    "soil_pcb_df = pd.read_excel(subfolder_path+'/'+results_files[7], sheet_name = 'PCBs Soils')\n",
    "soil_pcb_df = soil_pcb_df[1:]\n",
    "\n",
    "### TO DO: convert to mg/kg\n",
    "\n",
    "soil_pcb_df= soil_pcb_df[soil_pcb_cols]\n",
    "soil_pcb_df = soil_pcb_df.melt(id_vars=['DATE','SAMP_ID'])\n",
    "\n",
    "# to do: add unit column"
   ]
  },
  {
   "cell_type": "code",
   "execution_count": 86,
   "metadata": {},
   "outputs": [],
   "source": [
    "water_pcb_df = pd.read_excel(subfolder_path+'/'+results_files[7], sheet_name = 'PCB Waters')\n",
    "water_pcb_df = water_pcb_df[1:]\n",
    "\n",
    "### TO DO: convert to ug/L\n",
    "\n",
    "water_pcb_df= water_pcb_df[water_pcb_cols]\n",
    "water_pcb_df = water_pcb_df.melt(id_vars=['DATE','SAMP_ID','PCB Isomer'])\n",
    "water_pcb_df.drop(columns = 'variable', inplace = True)\n",
    "water_pcb_df.rename(columns = {\"PCB Isomer\": 'variable'}, inplace = True)\n",
    "\n",
    "# to do: add unit column"
   ]
  },
  {
   "cell_type": "code",
   "execution_count": 88,
   "metadata": {},
   "outputs": [
    {
     "data": {
      "text/html": [
       "<div>\n",
       "<style scoped>\n",
       "    .dataframe tbody tr th:only-of-type {\n",
       "        vertical-align: middle;\n",
       "    }\n",
       "\n",
       "    .dataframe tbody tr th {\n",
       "        vertical-align: top;\n",
       "    }\n",
       "\n",
       "    .dataframe thead th {\n",
       "        text-align: right;\n",
       "    }\n",
       "</style>\n",
       "<table border=\"1\" class=\"dataframe\">\n",
       "  <thead>\n",
       "    <tr style=\"text-align: right;\">\n",
       "      <th></th>\n",
       "      <th>DATE</th>\n",
       "      <th>SAMP_ID</th>\n",
       "      <th>variable</th>\n",
       "      <th>value</th>\n",
       "    </tr>\n",
       "  </thead>\n",
       "  <tbody>\n",
       "    <tr>\n",
       "      <th>0</th>\n",
       "      <td>2023-07-24</td>\n",
       "      <td>S4S-2</td>\n",
       "      <td>Arsenic</td>\n",
       "      <td>23.8</td>\n",
       "    </tr>\n",
       "    <tr>\n",
       "      <th>1</th>\n",
       "      <td>2023-07-24</td>\n",
       "      <td>S4S-2</td>\n",
       "      <td>Barium</td>\n",
       "      <td>62.4</td>\n",
       "    </tr>\n",
       "    <tr>\n",
       "      <th>2</th>\n",
       "      <td>2023-07-24</td>\n",
       "      <td>S4S-2</td>\n",
       "      <td>Cadmium</td>\n",
       "      <td>0.81</td>\n",
       "    </tr>\n",
       "    <tr>\n",
       "      <th>3</th>\n",
       "      <td>2023-07-24</td>\n",
       "      <td>S4S-2</td>\n",
       "      <td>Chromium</td>\n",
       "      <td>21.8</td>\n",
       "    </tr>\n",
       "    <tr>\n",
       "      <th>4</th>\n",
       "      <td>2023-07-24</td>\n",
       "      <td>S4S-2</td>\n",
       "      <td>Lead</td>\n",
       "      <td>27.9</td>\n",
       "    </tr>\n",
       "    <tr>\n",
       "      <th>...</th>\n",
       "      <td>...</td>\n",
       "      <td>...</td>\n",
       "      <td>...</td>\n",
       "      <td>...</td>\n",
       "    </tr>\n",
       "    <tr>\n",
       "      <th>214</th>\n",
       "      <td>2023-07-24</td>\n",
       "      <td>S4W-2</td>\n",
       "      <td>Total Heptachloro Biphenyls</td>\n",
       "      <td>1.65</td>\n",
       "    </tr>\n",
       "    <tr>\n",
       "      <th>215</th>\n",
       "      <td>2023-07-24</td>\n",
       "      <td>S4W-2</td>\n",
       "      <td>Total Octachloro Biphenyls</td>\n",
       "      <td>0.457</td>\n",
       "    </tr>\n",
       "    <tr>\n",
       "      <th>216</th>\n",
       "      <td>2023-07-24</td>\n",
       "      <td>S4W-2</td>\n",
       "      <td>Total Nonachloro Biphenyls</td>\n",
       "      <td>0.0431</td>\n",
       "    </tr>\n",
       "    <tr>\n",
       "      <th>217</th>\n",
       "      <td>2023-07-24</td>\n",
       "      <td>S4W-2</td>\n",
       "      <td>Total Decachloro Biphenyls</td>\n",
       "      <td>0</td>\n",
       "    </tr>\n",
       "    <tr>\n",
       "      <th>218</th>\n",
       "      <td>2023-07-24</td>\n",
       "      <td>S4W-2</td>\n",
       "      <td>Total PCBs</td>\n",
       "      <td>12</td>\n",
       "    </tr>\n",
       "  </tbody>\n",
       "</table>\n",
       "<p>1613 rows × 4 columns</p>\n",
       "</div>"
      ],
      "text/plain": [
       "          DATE SAMP_ID                     variable   value\n",
       "0   2023-07-24   S4S-2                      Arsenic    23.8\n",
       "1   2023-07-24   S4S-2                       Barium    62.4\n",
       "2   2023-07-24   S4S-2                      Cadmium    0.81\n",
       "3   2023-07-24   S4S-2                     Chromium    21.8\n",
       "4   2023-07-24   S4S-2                         Lead    27.9\n",
       "..         ...     ...                          ...     ...\n",
       "214 2023-07-24   S4W-2  Total Heptachloro Biphenyls    1.65\n",
       "215 2023-07-24   S4W-2   Total Octachloro Biphenyls   0.457\n",
       "216 2023-07-24   S4W-2   Total Nonachloro Biphenyls  0.0431\n",
       "217 2023-07-24   S4W-2   Total Decachloro Biphenyls       0\n",
       "218 2023-07-24   S4W-2                   Total PCBs      12\n",
       "\n",
       "[1613 rows x 4 columns]"
      ]
     },
     "execution_count": 88,
     "metadata": {},
     "output_type": "execute_result"
    }
   ],
   "source": [
    "all_results = pd.concat([soil_rcra8_df,soil_pah_df,soil_pcb_df,water_rcra8_df, water_pah_df, water_pcb_df])\n",
    "all_results"
   ]
  }
 ],
 "metadata": {
  "kernelspec": {
   "display_name": "gis",
   "language": "python",
   "name": "python3"
  },
  "language_info": {
   "codemirror_mode": {
    "name": "ipython",
    "version": 3
   },
   "file_extension": ".py",
   "mimetype": "text/x-python",
   "name": "python",
   "nbconvert_exporter": "python",
   "pygments_lexer": "ipython3",
   "version": "3.11.4"
  },
  "orig_nbformat": 4
 },
 "nbformat": 4,
 "nbformat_minor": 2
}
