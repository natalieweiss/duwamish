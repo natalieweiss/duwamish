{
 "cells": [
  {
   "cell_type": "code",
   "execution_count": 1,
   "metadata": {},
   "outputs": [],
   "source": [
    "import pandas as pd\n",
    "import geopandas as gp\n",
    "import numpy as np\n",
    "import os\n",
    "import requests\n",
    "import urllib.parse"
   ]
  },
  {
   "cell_type": "code",
   "execution_count": 2,
   "metadata": {},
   "outputs": [],
   "source": [
    "# initiate file paths\n",
    "input_file_path = \"/home/nweiss/gdrive/Year 2/Summer - Duwamish/Sampling_Results/aggregated_results_geom.csv\""
   ]
  },
  {
   "cell_type": "code",
   "execution_count": 3,
   "metadata": {},
   "outputs": [],
   "source": [
    "def drop_levels(df):\n",
    "    df.reset_index(inplace = True)\n",
    "    df.columns = df.columns.droplevel(1)\n",
    "    return df"
   ]
  },
  {
   "cell_type": "code",
   "execution_count": 4,
   "metadata": {},
   "outputs": [],
   "source": [
    "all_results = pd.read_csv(input_file_path)"
   ]
  },
  {
   "cell_type": "code",
   "execution_count": 5,
   "metadata": {},
   "outputs": [],
   "source": [
    "sl_by_group = all_results.copy()\n",
    "\n",
    "# count screening level exceedances by pah, pcb, df, and each individual metal\n",
    "sl_by_group['Chemical Group'] = np.where(sl_by_group['Chemical Group']=='RCRA8', sl_by_group['Chemical'], sl_by_group['Chemical Group'])"
   ]
  },
  {
   "cell_type": "code",
   "execution_count": 6,
   "metadata": {},
   "outputs": [],
   "source": [
    "# count of total exceedances by group\n",
    "cnt_exceedances = sl_by_group[sl_by_group['SL_exceeded']=='Y']\n",
    "cnt_exceedances = cnt_exceedances.groupby(by = ['DATE','Sample ID','Chemical Group','Medium','Latitude','Longitude']).agg({'SL_exceeded': ['count']}).reset_index()\n",
    "cnt_exceedances = drop_levels(cnt_exceedances)"
   ]
  },
  {
   "cell_type": "code",
   "execution_count": 7,
   "metadata": {},
   "outputs": [],
   "source": [
    "# calculate total screening level count\n",
    "cnt_sl = sl_by_group[sl_by_group['SL_exceeded'] != 'No Screening Level Identified']\n",
    "cnt_sl = cnt_sl.groupby(by = ['DATE','Sample ID','Chemical Group','Medium','Latitude','Longitude']).agg({'SL_exceeded': ['count']}).reset_index()\n",
    "cnt_sl = drop_levels(cnt_sl)"
   ]
  },
  {
   "cell_type": "code",
   "execution_count": 8,
   "metadata": {},
   "outputs": [],
   "source": [
    "cnt_exceedances_merge = cnt_exceedances.merge(cnt_sl, left_on = ['DATE','Sample ID','Chemical Group','Medium','Latitude','Longitude'], right_on = ['DATE','Sample ID','Chemical Group','Medium','Latitude','Longitude'], how = 'left')"
   ]
  },
  {
   "cell_type": "code",
   "execution_count": 9,
   "metadata": {},
   "outputs": [],
   "source": [
    "cnt_exceedances_merge.rename(columns = {'SL_exceeded_x':'cnt_sl_exceed', 'SL_exceeded_y':'tot_cnt_sl'}, inplace = True)\n",
    "cnt_exceedances_merge['pct_exceed'] = cnt_exceedances_merge['cnt_sl_exceed'] /cnt_exceedances_merge['tot_cnt_sl']\n",
    "cnt_exceedances_merge.drop(columns = {'index_x', 'index_y'}, inplace = True)"
   ]
  },
  {
   "cell_type": "markdown",
   "metadata": {},
   "source": [
    "CALCULATE MOST STRINGENT - move this to the join SL spreadsheet"
   ]
  },
  {
   "cell_type": "code",
   "execution_count": 62,
   "metadata": {},
   "outputs": [],
   "source": [
    "sl_soil = pd.read_excel(\"/home/nweiss/gdrive/Year 2/Summer - Duwamish/Sampling_Results/Lookup Tables/Master_Screening_Levels.xlsx\", sheet_name='Soil')\n",
    "sl_water = pd.read_excel(\"/home/nweiss/gdrive/Year 2/Summer - Duwamish/Sampling_Results/Lookup Tables/Master_Screening_Levels.xlsx\", sheet_name='Water')\n",
    "stringent_merge = pd.concat([sl_soil, sl_water])"
   ]
  },
  {
   "cell_type": "code",
   "execution_count": 63,
   "metadata": {},
   "outputs": [],
   "source": [
    "stringent_merge = stringent_merge[stringent_merge['Screening Level Measurement']!='N/A']\n",
    "stringent_merge = stringent_merge[(stringent_merge['Screening Level Measurement']!='na')]\n",
    "stringent_merge = stringent_merge[(stringent_merge['Screening Level Measurement']!='TBD')]\n",
    "stringent_merge = stringent_merge[(stringent_merge['Screening Level Measurement']!='PQL')]\n",
    "stringent_merge = stringent_merge[(stringent_merge['Screening Level Measurement']!='No Screening Level Identified')]\n",
    "stringent_merge['Screening Level Measurement'] = stringent_merge['Screening Level Measurement'].astype(float)"
   ]
  },
  {
   "cell_type": "code",
   "execution_count": 64,
   "metadata": {},
   "outputs": [],
   "source": [
    "# for each scenario and chemical combination, calculate the most stringent SL\n",
    "stringent = sl.groupby(by =['Medium', 'Chemical Group', 'Chemical', 'Scenario']).agg({'Screening Level Measurement': ['min']}).reset_index()\n",
    "#stringent = drop_levels(stringent)"
   ]
  },
  {
   "cell_type": "code",
   "execution_count": 65,
   "metadata": {},
   "outputs": [],
   "source": [
    "# for each scenario and chemical combination, count number of SL by chemical group\n",
    "stringent_cnt = stringent_merge.groupby(by =['Medium', 'Chemical Group', 'Scenario']).agg({'Screening Level Measurement': ['count']})\n",
    "stringent_cnt = drop_levels(stringent_cnt)"
   ]
  },
  {
   "cell_type": "code",
   "execution_count": 66,
   "metadata": {},
   "outputs": [],
   "source": [
    "# get all results\n",
    "only_results = all_results[['DATE','Sample ID', 'Medium', 'Chemical Group', 'Chemical','Result Value','Latitude','Longitude']].drop_duplicates()"
   ]
  },
  {
   "cell_type": "code",
   "execution_count": 67,
   "metadata": {},
   "outputs": [],
   "source": [
    "# join the most stringent results to all results\n",
    "stringent_merge = only_results.merge(stringent, left_on = ['Medium', 'Chemical Group', 'Chemical'], right_on = ['Medium', 'Chemical Group', 'Chemical'], how = 'right')"
   ]
  },
  {
   "cell_type": "code",
   "execution_count": 13,
   "metadata": {},
   "outputs": [],
   "source": [
    "sl = sl[(sl['Screening Level Measurement']!='na')]\n",
    "sl = sl[(sl['Screening Level Measurement']!='TBD')]\n",
    "sl = sl[(sl['Screening Level Measurement']!='PQL')]\n",
    "sl = sl[(sl['Screening Level Measurement']!='No Screening Level Identified')]"
   ]
  },
  {
   "cell_type": "code",
   "execution_count": 14,
   "metadata": {},
   "outputs": [],
   "source": [
    "sl['Screening Level Measurement'] = sl['Screening Level Measurement'].astype(float)"
   ]
  },
  {
   "cell_type": "code",
   "execution_count": 68,
   "metadata": {},
   "outputs": [],
   "source": [
    "sl['SL_exceed'] = np.where(sl['Screening Level Measurement'] < sl['Result Value'], 'Y','N')\n",
    "sl['SL_diff'] = sl['Result Value'] - sl['Screening Level Measurement']"
   ]
  },
  {
   "cell_type": "code",
   "execution_count": 16,
   "metadata": {},
   "outputs": [],
   "source": [
    "stringent_merge_exceed = stringent_merge[stringent_merge['SL_exceed']=='Y']"
   ]
  },
  {
   "cell_type": "code",
   "execution_count": 70,
   "metadata": {},
   "outputs": [],
   "source": [
    "# TODO: calculate the % of contaminants within a chemical group and scenario that exceed\n",
    "# count the total number of stringent SL exceeded by chemical"
   ]
  },
  {
   "cell_type": "code",
   "execution_count": 17,
   "metadata": {},
   "outputs": [
    {
     "name": "stderr",
     "output_type": "stream",
     "text": [
      "/tmp/ipykernel_11203/1693271618.py:1: SettingWithCopyWarning: \n",
      "A value is trying to be set on a copy of a slice from a DataFrame\n",
      "\n",
      "See the caveats in the documentation: https://pandas.pydata.org/pandas-docs/stable/user_guide/indexing.html#returning-a-view-versus-a-copy\n",
      "  stringent_merge_exceed.drop(columns = 'index', inplace = True)\n"
     ]
    }
   ],
   "source": [
    "stringent_merge_exceed.drop(columns = 'index', inplace = True)"
   ]
  },
  {
   "cell_type": "markdown",
   "metadata": {},
   "source": [
    "EXPORT FOR MAPS"
   ]
  },
  {
   "cell_type": "code",
   "execution_count": 18,
   "metadata": {},
   "outputs": [],
   "source": [
    "# export results that only exceed most stringent screening levels\n",
    "stringent_merge_exceed.to_csv(\"/home/nweiss/gdrive/Year 2/Summer - Duwamish/Sampling_Results/stringent_exceeded.csv\", index = False)"
   ]
  },
  {
   "cell_type": "code",
   "execution_count": 19,
   "metadata": {},
   "outputs": [],
   "source": [
    "# export results based on count of exceedances and for each results\n",
    "cnt_exceedances_merge.to_csv(\"/home/nweiss/gdrive/Year 2/Summer - Duwamish/Sampling_Results/count_exceedances.csv\", index = False)"
   ]
  }
 ],
 "metadata": {
  "kernelspec": {
   "display_name": "gis",
   "language": "python",
   "name": "python3"
  },
  "language_info": {
   "codemirror_mode": {
    "name": "ipython",
    "version": 3
   },
   "file_extension": ".py",
   "mimetype": "text/x-python",
   "name": "python",
   "nbconvert_exporter": "python",
   "pygments_lexer": "ipython3",
   "version": "3.11.4"
  },
  "orig_nbformat": 4
 },
 "nbformat": 4,
 "nbformat_minor": 2
}
