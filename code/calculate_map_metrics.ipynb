{
 "cells": [
  {
   "cell_type": "code",
   "execution_count": 5,
   "metadata": {},
   "outputs": [],
   "source": [
    "import pandas as pd\n",
    "import geopandas as gp\n",
    "import numpy as np\n",
    "import os\n",
    "import requests\n",
    "import urllib.parse"
   ]
  },
  {
   "cell_type": "markdown",
   "metadata": {},
   "source": [
    "CALCULATE MOST STRINGENT AND COUNT OF ALL SCREENING LEVELS"
   ]
  },
  {
   "cell_type": "code",
   "execution_count": 50,
   "metadata": {},
   "outputs": [],
   "source": [
    "sl['Screening Level Measurement'] = np.where(all_sl['Screening Level Measurement']=='na', np.NaN, all_sl['Screening Level Measurement'])\n",
    "sl['Screening Level Measurement'] = np.where(all_sl['Screening Level Measurement'] == 'na', np.NaN, all_sl['Screening Level Measurement'])\n",
    "sl['Screening Level Measurement'] = np.where(all_sl['Screening Level Measurement'] == 'TBD', np.NaN, all_sl['Screening Level Measurement'])\n",
    "sl['Screening Level Measurement'] = np.where(all_sl['Screening Level Measurement'] == 'PQL', np.NaN, all_sl['Screening Level Measurement'])\n",
    "\n",
    "all_sl['Screening Level Measurement'] = all_sl['Screening Level Measurement'].astype(float)"
   ]
  },
  {
   "cell_type": "code",
   "execution_count": 51,
   "metadata": {},
   "outputs": [],
   "source": [
    "stringent = all_sl.groupby(by =['Medium', 'Chemical Group', 'Chemical', 'Scenario']).agg({'Screening Level Measurement': ['min']}).reset_index()"
   ]
  },
  {
   "cell_type": "code",
   "execution_count": 52,
   "metadata": {},
   "outputs": [],
   "source": [
    "stringent.reset_index(inplace = True)\n",
    "stringent.columns = stringent.columns.droplevel(1)"
   ]
  },
  {
   "cell_type": "code",
   "execution_count": 53,
   "metadata": {},
   "outputs": [],
   "source": [
    "# merge df_upd and stringent\n",
    "stringent_merge = stringent.merge(df_upd, left_on = ['Medium', 'Chemical Group', 'Chemical', 'Scenario', 'Screening Level Measurement'], right_on = ['Medium', 'Chemical Group', 'Chemical', 'Scenario', 'Screening Level Measurement'], how = 'inner')"
   ]
  },
  {
   "cell_type": "code",
   "execution_count": 54,
   "metadata": {},
   "outputs": [
    {
     "name": "stderr",
     "output_type": "stream",
     "text": [
      "/tmp/ipykernel_304/3714314168.py:2: SettingWithCopyWarning: \n",
      "A value is trying to be set on a copy of a slice from a DataFrame.\n",
      "Try using .loc[row_indexer,col_indexer] = value instead\n",
      "\n",
      "See the caveats in the documentation: https://pandas.pydata.org/pandas-docs/stable/user_guide/indexing.html#returning-a-view-versus-a-copy\n",
      "  stringent_merge_exceed['SL_diff'] = stringent_merge_exceed['Screening Level Measurement'] - stringent_merge_exceed['Result Value']\n"
     ]
    }
   ],
   "source": [
    "stringent_merge_exceed = stringent_merge[stringent_merge['SL_exceeded']=='Y']\n",
    "stringent_merge_exceed['SL_diff'] = stringent_merge_exceed['Screening Level Measurement'] - stringent_merge_exceed['Result Value']"
   ]
  },
  {
   "cell_type": "markdown",
   "metadata": {},
   "source": [
    "MAKE COUNT EXCEEDANCES COLUMNS"
   ]
  },
  {
   "cell_type": "code",
   "execution_count": 55,
   "metadata": {},
   "outputs": [],
   "source": [
    "cnt_sl = all_sl.groupby(by =['Medium', 'Chemical Group', 'Chemical', 'Scenario']).agg({'Screening Level Measurement': ['count']}).reset_index()"
   ]
  },
  {
   "cell_type": "code",
   "execution_count": 56,
   "metadata": {},
   "outputs": [],
   "source": [
    "cnt_sl.reset_index(inplace = True)\n",
    "cnt_sl.columns = cnt_sl.columns.droplevel(1)"
   ]
  },
  {
   "cell_type": "code",
   "execution_count": 57,
   "metadata": {},
   "outputs": [],
   "source": [
    "cnt_exceedances = df_upd[df_upd['SL_exceeded']=='Y'].groupby(by =['Medium', 'Sample ID', 'Chemical Group', 'Chemical', 'Scenario']).agg({'SL_exceeded': ['count']}).reset_index()\n",
    "cnt_exceedances.reset_index(inplace = True)\n",
    "cnt_exceedances.columns = cnt_exceedances.columns.droplevel(1)"
   ]
  },
  {
   "cell_type": "code",
   "execution_count": 58,
   "metadata": {},
   "outputs": [],
   "source": [
    "cnt_exceedances_merge = cnt_exceedances.merge(cnt_sl, left_on = ['Medium', 'Chemical Group', 'Chemical', 'Scenario'], right_on = ['Medium', 'Chemical Group', 'Chemical', 'Scenario'])\n",
    "cnt_exceedances_merge['pct_SL_exceeded'] = cnt_exceedances_merge['SL_exceeded'] / cnt_exceedances_merge['Screening Level Measurement']"
   ]
  },
  {
   "cell_type": "code",
   "execution_count": 59,
   "metadata": {},
   "outputs": [],
   "source": [
    "cnt_exceedances_merge.drop(columns = ['index_x', 'index_y'], inplace = True)\n",
    "cnt_exceedances_merge.rename(columns = {'SL_exceeded':'cnt_SL_exceeded', 'Screening Level Measurement':'tot_cnt_SL'}, inplace = True)"
   ]
  },
  {
   "cell_type": "markdown",
   "metadata": {},
   "source": [
    "EXPORT FOR MAPS"
   ]
  },
  {
   "cell_type": "code",
   "execution_count": 60,
   "metadata": {},
   "outputs": [],
   "source": [
    "# export all exceedance results with differences between results and screening levels\n",
    "df_upd_trim = df_upd_trim[df_upd_trim['SL_exceeded']=='Y']\n",
    "df_upd_trim.to_csv(\"/home/nweiss/gdrive/Year 2/Summer - Duwamish/Sampling_Results/exceedances_w_difference.csv\", index = False)"
   ]
  },
  {
   "cell_type": "code",
   "execution_count": 61,
   "metadata": {},
   "outputs": [],
   "source": [
    "# export results that only exceed most stringent screening levels\n",
    "stringent_merge_exceed.to_csv(\"/home/nweiss/gdrive/Year 2/Summer - Duwamish/Sampling_Results/stringent_exceeded.csv\", index = False)"
   ]
  },
  {
   "cell_type": "code",
   "execution_count": 62,
   "metadata": {},
   "outputs": [],
   "source": [
    "# export results based on count of exceedances and for each results\n",
    "cnt_exceedances_merge.to_csv(\"/home/nweiss/gdrive/Year 2/Summer - Duwamish/Sampling_Results/count_exceedances.csv\", index = False)"
   ]
  }
 ],
 "metadata": {
  "kernelspec": {
   "display_name": "gis",
   "language": "python",
   "name": "python3"
  },
  "language_info": {
   "codemirror_mode": {
    "name": "ipython",
    "version": 3
   },
   "file_extension": ".py",
   "mimetype": "text/x-python",
   "name": "python",
   "nbconvert_exporter": "python",
   "pygments_lexer": "ipython3",
   "version": "3.11.4"
  },
  "orig_nbformat": 4
 },
 "nbformat": 4,
 "nbformat_minor": 2
}
