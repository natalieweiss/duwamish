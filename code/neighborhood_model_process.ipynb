{
 "cells": [
  {
   "cell_type": "code",
   "execution_count": 18,
   "metadata": {},
   "outputs": [],
   "source": [
    "import pandas as pd\n",
    "import geopandas as gp\n",
    "import numpy as np\n",
    "import rasterstats\n",
    "import os\n",
    "import fiona\n",
    "import rasterio\n",
    "import rasterio.mask"
   ]
  },
  {
   "cell_type": "code",
   "execution_count": 2,
   "metadata": {},
   "outputs": [],
   "source": [
    "output_path = \"/home/nweiss/gdrive/Year 2/Summer - Duwamish/GIS/Neighborhood_Files\""
   ]
  },
  {
   "attachments": {},
   "cell_type": "markdown",
   "metadata": {},
   "source": [
    "Buildings processing\n",
    "- create raster topo from contours\n",
    "- subtract out contours from building heights to extrude in rhino"
   ]
  },
  {
   "cell_type": "code",
   "execution_count": 3,
   "metadata": {},
   "outputs": [],
   "source": [
    "default_height = 20"
   ]
  },
  {
   "cell_type": "code",
   "execution_count": 4,
   "metadata": {},
   "outputs": [],
   "source": [
    "# set extent boundary\n",
    "extent_path = \"/home/nweiss/gdrive/Year 2/Summer - Duwamish/GIS/Boundary/neighborhood_extent.shp\"\n",
    "extent = gp.read_file(extent_path)"
   ]
  },
  {
   "cell_type": "code",
   "execution_count": 5,
   "metadata": {},
   "outputs": [],
   "source": [
    "# set watershed boundary\n",
    "watershed_path = \"/home/nweiss/gdrive/Year 2/Summer - Duwamish/GIS/Processed/green_duwamish_watershed.shp\"\n",
    "watershed = gp.read_file(watershed_path)"
   ]
  },
  {
   "cell_type": "code",
   "execution_count": 6,
   "metadata": {},
   "outputs": [],
   "source": [
    "# find intersection of watershed boundary and extent\n",
    "watershed_extent_intersect = gp.overlay(watershed, extent, how='intersection')\n",
    "watershed_extent_intersect.to_file(os.path.join(output_path, \"watershed_boundary_intersect.shp\"))"
   ]
  },
  {
   "cell_type": "code",
   "execution_count": 8,
   "metadata": {},
   "outputs": [],
   "source": [
    "# roads processing\n",
    "roads_path = \"/home/nweiss/gdrive/Year 2/Summer - Duwamish/GIS/Projected/seattle_streets_projected.shp\"\n",
    "roads = gp.read_file(roads_path)\n",
    "roads_clip = gp.overlay(roads, extent, how='intersection')\n",
    "roads_clip.to_file(os.path.join(output_path, \"neighborhood_streets.shp\"))"
   ]
  },
  {
   "cell_type": "code",
   "execution_count": 9,
   "metadata": {},
   "outputs": [],
   "source": [
    "buildings_path = \"/home/nweiss/gdrive/Year 2/Summer - Duwamish/GIS/Processed/buildings_projected_trim.shp\"\n",
    "buildings = gp.read_file(buildings_path)"
   ]
  },
  {
   "cell_type": "code",
   "execution_count": 10,
   "metadata": {},
   "outputs": [],
   "source": [
    "# floodplain extent for clipping\n",
    "floodplain_path = \"/home/nweiss/gdrive/Year 2/Summer - Duwamish/GIS/Boundary/floodplain.shp\"\n",
    "floodplain = gp.read_file(floodplain_path)\n"
   ]
  },
  {
   "cell_type": "code",
   "execution_count": 11,
   "metadata": {},
   "outputs": [],
   "source": [
    "buildings['centroid_geom'] = buildings.centroid\n",
    "buildings.set_geometry('centroid_geom',inplace = True)\n",
    "buildings_clip = gp.overlay(buildings, floodplain, how = \"intersection\")"
   ]
  },
  {
   "cell_type": "code",
   "execution_count": 13,
   "metadata": {},
   "outputs": [],
   "source": [
    "buildings_merge = pd.merge(buildings_clip, buildings[['OBJECTID','geometry']], left_on ='OBJECTID', right_on = 'OBJECTID', how = 'left')\n",
    "buildings_merge.set_geometry('geometry_y', inplace = True)"
   ]
  },
  {
   "cell_type": "code",
   "execution_count": null,
   "metadata": {},
   "outputs": [],
   "source": [
    "# fill 0 and NA values to default_height\n",
    "buildings_merge['BP99_APEX'].fillna(default_height, inplace = True)\n",
    "buildings_merge['BP99_APEX'] = np.where(buildings_merge['BP99_APEX']==0,default_height, buildings_merge['BP99_APEX'])"
   ]
  },
  {
   "cell_type": "code",
   "execution_count": null,
   "metadata": {},
   "outputs": [],
   "source": [
    "# TODO: additional processing to make resolution a bit better\n",
    "\n",
    "# bounding box of each building to simplify geometries\n",
    "\n",
    "# remove buildings that are < minimum area"
   ]
  },
  {
   "cell_type": "code",
   "execution_count": null,
   "metadata": {},
   "outputs": [],
   "source": [
    "buildings_merge[['OBJECTID', 'BP99_TYPE', 'BP99_APEX','geometry_y']].to_file(os.path.join(output_path,\"neighborhood_buildings.shp\"))"
   ]
  },
  {
   "attachments": {},
   "cell_type": "markdown",
   "metadata": {},
   "source": [
    "TOPO PROCESSING\n",
    "- merging bathymetry data with topography dem"
   ]
  },
  {
   "cell_type": "code",
   "execution_count": 31,
   "metadata": {},
   "outputs": [],
   "source": [
    "# mask topo_rast by extent\n",
    "topo_rast = \"/home/nweiss/gdrive/Year 2/Summer - Duwamish/GIS/Neighborhood_Files/topo.tif\"\n",
    "\n",
    "with fiona.open(extent_path, \"r\") as shapefile:\n",
    "    shapes = [feature[\"geometry\"] for feature in shapefile]\n",
    "\n",
    "with rasterio.open(topo_rast) as src:\n",
    "    out_image, out_transform = rasterio.mask.mask(src, shapes, crop=True)\n",
    "    out_meta = src.meta"
   ]
  },
  {
   "cell_type": "code",
   "execution_count": 35,
   "metadata": {},
   "outputs": [],
   "source": [
    "topo_outpath = \"/home/nweiss/gdrive/Year 2/Summer - Duwamish/GIS/Neighborhood_Files/neighborhood_topo.asc\"\n",
    "\n",
    "# convert to ascii file\n",
    "out_meta.update({\"driver\": \"AAIGrid\",\n",
    "                 \"height\": out_image.shape[1],\n",
    "                 \"width\": out_image.shape[2],\n",
    "                 \"transform\": out_transform})\n",
    "\n",
    "with rasterio.open(topo_outpath, \"w\", **out_meta) as dest:\n",
    "    dest.write(out_image)"
   ]
  },
  {
   "attachments": {},
   "cell_type": "markdown",
   "metadata": {},
   "source": [
    "EXTRA PROCESSING FOR ASSIGNING ABSOLUTE BUILDING HEIGHTS FROM TERRAIN"
   ]
  },
  {
   "cell_type": "code",
   "execution_count": null,
   "metadata": {},
   "outputs": [],
   "source": [
    "## used topo to raster tool with 5ft contours and 5 ft pixel resolution\n",
    "# there may be better ways to get DEM / elevation values as raster\n",
    "topo_rast = \"/home/nweiss/gdrive/Year 2/Summer - Duwamish/GIS/Processed/min_bath_topo.tif\"\n",
    "zonal_stats = rasterstats.zonal_stats(buildings_merge, topo_rast, stats=\"count min mean max median std\")\n",
    "stats_df = pd.DataFrame.from_dict(zonal_stats).reset_index()\n",
    "buildings_merge.reset_index(inplace = True)\n",
    "merged_heights = pd.merge(buildings_merge, stats_df, how = 'left', left_on = 'index', right_on = 'index')\n",
    "merged_heights['height_upd'] = np.where((merged_heights['BP99_APEX'].isna()==False) | (merged_heights['mean'].isna()==False), default_height, (merged_heights['BP99_APEX']-merged_heights['mean']))\n",
    "merged_heights.set_geometry('geometry_y')\n",
    "merged_heights[['OBJECTID','BP99_APEX','mean','min','max','median','std','height_upd','geometry_y']].to_file(\"/home/nweiss/gdrive/Year 2/Summer - Duwamish/GIS/Processed/building_heights_upd.shp\")"
   ]
  }
 ],
 "metadata": {
  "kernelspec": {
   "display_name": "gis",
   "language": "python",
   "name": "python3"
  },
  "language_info": {
   "codemirror_mode": {
    "name": "ipython",
    "version": 3
   },
   "file_extension": ".py",
   "mimetype": "text/x-python",
   "name": "python",
   "nbconvert_exporter": "python",
   "pygments_lexer": "ipython3",
   "version": "3.11.4"
  },
  "orig_nbformat": 4
 },
 "nbformat": 4,
 "nbformat_minor": 2
}
