{
 "cells": [
  {
   "cell_type": "code",
   "execution_count": 9,
   "metadata": {},
   "outputs": [],
   "source": [
    "import pandas as pd\n",
    "import geopandas as gp\n",
    "import numpy as np\n",
    "import rasterstats\n",
    "import os"
   ]
  },
  {
   "cell_type": "code",
   "execution_count": 1,
   "metadata": {},
   "outputs": [],
   "source": [
    "output_path = \"/home/nweiss/gdrive/Year 2/Summer - Duwamish/GIS/Neighborhood_Files\""
   ]
  },
  {
   "attachments": {},
   "cell_type": "markdown",
   "metadata": {},
   "source": [
    "Buildings processing\n",
    "- create raster topo from contours\n",
    "- subtract out contours from building heights to extrude in rhino"
   ]
  },
  {
   "cell_type": "code",
   "execution_count": 2,
   "metadata": {},
   "outputs": [],
   "source": [
    "default_height = 20"
   ]
  },
  {
   "cell_type": "code",
   "execution_count": 5,
   "metadata": {},
   "outputs": [],
   "source": [
    "extent_path = \"/home/nweiss/gdrive/Year 2/Summer - Duwamish/GIS/Boundary/neighborhood_extent.shp\"\n",
    "extent = gp.read_file(extent_path)"
   ]
  },
  {
   "cell_type": "code",
   "execution_count": 6,
   "metadata": {},
   "outputs": [],
   "source": [
    "# set watershed boundary\n",
    "watershed_path = \"/home/nweiss/gdrive/Year 2/Summer - Duwamish/GIS/Processed/green_duwamish_watershed.shp\"\n",
    "watershed = gp.read_file(watershed_path)"
   ]
  },
  {
   "cell_type": "code",
   "execution_count": 7,
   "metadata": {},
   "outputs": [],
   "source": [
    "# find intersection of watershed boundary and extent\n",
    "watershed_extent_intersect = gp.overlay(watershed, extent, how='intersection')"
   ]
  },
  {
   "cell_type": "code",
   "execution_count": 16,
   "metadata": {},
   "outputs": [],
   "source": [
    "watershed_extent_intersect.to_file(os.path.join(output_path, \"watershed_boundary_intersect.shp\"))"
   ]
  },
  {
   "cell_type": "code",
   "execution_count": 24,
   "metadata": {},
   "outputs": [],
   "source": [
    "# roads processing\n",
    "roads_path = \"/home/nweiss/gdrive/Year 2/Summer - Duwamish/GIS/Projected/seattle_streets_projected.shp\"\n",
    "roads = gp.read_file(roads_path)\n",
    "roads_clip = gp.overlay(roads, watershed_extent_intersect, how='intersection')\n",
    "roads_clip.to_file(os.path.join(output_path, \"neighborhood_streets.shp\"))"
   ]
  },
  {
   "cell_type": "code",
   "execution_count": 8,
   "metadata": {},
   "outputs": [],
   "source": [
    "buildings_path = \"/home/nweiss/gdrive/Year 2/Summer - Duwamish/GIS/Processed/buildings_projected_trim.shp\"\n",
    "buildings = gp.read_file(buildings_path)"
   ]
  },
  {
   "cell_type": "code",
   "execution_count": 11,
   "metadata": {},
   "outputs": [],
   "source": [
    "buildings['centroid_geom'] = buildings.centroid\n",
    "buildings.set_geometry('centroid_geom',inplace = True)"
   ]
  },
  {
   "cell_type": "code",
   "execution_count": 12,
   "metadata": {},
   "outputs": [],
   "source": [
    "buildings_clip = gp.overlay(buildings, watershed_extent_intersect, how = \"intersection\")"
   ]
  },
  {
   "cell_type": "code",
   "execution_count": 13,
   "metadata": {},
   "outputs": [],
   "source": [
    "buildings_merge = pd.merge(buildings_clip, buildings[['OBJECTID','geometry']], left_on ='OBJECTID', right_on = 'OBJECTID', how = 'left')"
   ]
  },
  {
   "cell_type": "code",
   "execution_count": 14,
   "metadata": {},
   "outputs": [],
   "source": [
    "buildings_merge.set_geometry('geometry_y', inplace = True)"
   ]
  },
  {
   "cell_type": "code",
   "execution_count": 28,
   "metadata": {},
   "outputs": [],
   "source": [
    "# fill 0 and NA values to default_height\n",
    "buildings_merge['BP99_APEX'].fillna(default_height, inplace = True)\n",
    "buildings_merge['BP99_APEX'] = np.where(buildings_merge['BP99_APEX']==0,default_height, buildings_merge['BP99_APEX'])"
   ]
  },
  {
   "cell_type": "code",
   "execution_count": 30,
   "metadata": {},
   "outputs": [],
   "source": [
    "buildings_merge[['OBJECTID', 'BP99_TYPE', 'BP99_APEX','geometry_y']].to_file(os.path.join(output_path,\"neighborhood_buildings.shp\"))"
   ]
  },
  {
   "cell_type": "code",
   "execution_count": 17,
   "metadata": {},
   "outputs": [],
   "source": [
    "## used topo to raster tool with 5ft contours and 5 ft pixel resolution\n",
    "# there may be better ways to get DEM / elevation values as raster\n",
    "topo_rast = \"/home/nweiss/gdrive/Year 2/Summer - Duwamish/GIS/Processed/min_bath_topo.tif\""
   ]
  },
  {
   "cell_type": "code",
   "execution_count": 18,
   "metadata": {},
   "outputs": [
    {
     "name": "stderr",
     "output_type": "stream",
     "text": [
      "/home/nweiss/miniconda3/envs/gis/lib/python3.11/site-packages/rasterstats/io.py:328: NodataWarning: Setting nodata to -999; specify nodata explicitly\n",
      "  warnings.warn(\n"
     ]
    }
   ],
   "source": [
    "zonal_stats = rasterstats.zonal_stats(buildings_merge, topo_rast, stats=\"count min mean max median std\")"
   ]
  },
  {
   "cell_type": "code",
   "execution_count": 19,
   "metadata": {},
   "outputs": [],
   "source": [
    "stats_df = pd.DataFrame.from_dict(zonal_stats).reset_index()\n",
    "buildings_merge.reset_index(inplace = True)"
   ]
  },
  {
   "cell_type": "code",
   "execution_count": 20,
   "metadata": {},
   "outputs": [],
   "source": [
    "merged_heights = pd.merge(buildings_merge, stats_df, how = 'left', left_on = 'index', right_on = 'index')"
   ]
  },
  {
   "cell_type": "code",
   "execution_count": 21,
   "metadata": {},
   "outputs": [],
   "source": [
    "merged_heights['height_upd'] = np.where((merged_heights['BP99_APEX'].isna()==False) | (merged_heights['mean'].isna()==False), default_height, (merged_heights['BP99_APEX']-merged_heights['mean']))"
   ]
  },
  {
   "cell_type": "code",
   "execution_count": 23,
   "metadata": {},
   "outputs": [
    {
     "data": {
      "text/plain": [
       "count    20069.0\n",
       "mean        20.0\n",
       "std          0.0\n",
       "min         20.0\n",
       "25%         20.0\n",
       "50%         20.0\n",
       "75%         20.0\n",
       "max         20.0\n",
       "Name: height_upd, dtype: float64"
      ]
     },
     "execution_count": 23,
     "metadata": {},
     "output_type": "execute_result"
    }
   ],
   "source": [
    "merged_heights['height_upd'].describe()"
   ]
  },
  {
   "cell_type": "code",
   "execution_count": 42,
   "metadata": {},
   "outputs": [
    {
     "data": {
      "text/html": [
       "<div>\n",
       "<style scoped>\n",
       "    .dataframe tbody tr th:only-of-type {\n",
       "        vertical-align: middle;\n",
       "    }\n",
       "\n",
       "    .dataframe tbody tr th {\n",
       "        vertical-align: top;\n",
       "    }\n",
       "\n",
       "    .dataframe thead th {\n",
       "        text-align: right;\n",
       "    }\n",
       "</style>\n",
       "<table border=\"1\" class=\"dataframe\">\n",
       "  <thead>\n",
       "    <tr style=\"text-align: right;\">\n",
       "      <th></th>\n",
       "      <th>index</th>\n",
       "      <th>OBJECTID</th>\n",
       "      <th>BP99_TYPE</th>\n",
       "      <th>BP99_APEX</th>\n",
       "      <th>BP99_BLDGK</th>\n",
       "      <th>FEATURE_ID</th>\n",
       "      <th>YEARUPDATE</th>\n",
       "      <th>SHAPE_Leng</th>\n",
       "      <th>SHAPE_Area</th>\n",
       "      <th>geometry_x</th>\n",
       "      <th>...</th>\n",
       "      <th>Shape__Len</th>\n",
       "      <th>id</th>\n",
       "      <th>geometry_y</th>\n",
       "      <th>min</th>\n",
       "      <th>max</th>\n",
       "      <th>mean</th>\n",
       "      <th>count</th>\n",
       "      <th>std</th>\n",
       "      <th>median</th>\n",
       "      <th>height_upd</th>\n",
       "    </tr>\n",
       "  </thead>\n",
       "  <tbody>\n",
       "    <tr>\n",
       "      <th>0</th>\n",
       "      <td>0</td>\n",
       "      <td>263015</td>\n",
       "      <td>BLD</td>\n",
       "      <td>81.0</td>\n",
       "      <td>1603149.0</td>\n",
       "      <td>96359.0</td>\n",
       "      <td>NaN</td>\n",
       "      <td>137.581704</td>\n",
       "      <td>954.986190</td>\n",
       "      <td>POINT (1269718.180 201502.410)</td>\n",
       "      <td>...</td>\n",
       "      <td>305066.764574</td>\n",
       "      <td>NaN</td>\n",
       "      <td>POLYGON Z ((1269728.474 201505.377 0.000, 1269...</td>\n",
       "      <td>-21.110571</td>\n",
       "      <td>-13.896954</td>\n",
       "      <td>-15.643722</td>\n",
       "      <td>38</td>\n",
       "      <td>1.962462</td>\n",
       "      <td>-14.625418</td>\n",
       "      <td>20.0</td>\n",
       "    </tr>\n",
       "    <tr>\n",
       "      <th>1</th>\n",
       "      <td>1</td>\n",
       "      <td>263016</td>\n",
       "      <td>BLD</td>\n",
       "      <td>66.0</td>\n",
       "      <td>1633032.0</td>\n",
       "      <td>332792.0</td>\n",
       "      <td>NaN</td>\n",
       "      <td>164.827831</td>\n",
       "      <td>1059.250511</td>\n",
       "      <td>POINT (1269613.743 201630.253)</td>\n",
       "      <td>...</td>\n",
       "      <td>305066.764574</td>\n",
       "      <td>NaN</td>\n",
       "      <td>POLYGON Z ((1269626.389 201657.008 0.000, 1269...</td>\n",
       "      <td>-19.431469</td>\n",
       "      <td>-15.849288</td>\n",
       "      <td>-17.753135</td>\n",
       "      <td>41</td>\n",
       "      <td>1.158415</td>\n",
       "      <td>-17.612436</td>\n",
       "      <td>20.0</td>\n",
       "    </tr>\n",
       "    <tr>\n",
       "      <th>2</th>\n",
       "      <td>2</td>\n",
       "      <td>263017</td>\n",
       "      <td>BLD</td>\n",
       "      <td>67.0</td>\n",
       "      <td>1633034.0</td>\n",
       "      <td>254322.0</td>\n",
       "      <td>NaN</td>\n",
       "      <td>173.643943</td>\n",
       "      <td>1212.567710</td>\n",
       "      <td>POINT (1269690.633 201612.189)</td>\n",
       "      <td>...</td>\n",
       "      <td>305066.764574</td>\n",
       "      <td>NaN</td>\n",
       "      <td>POLYGON Z ((1269706.538 201640.549 0.000, 1269...</td>\n",
       "      <td>-17.399797</td>\n",
       "      <td>-11.026821</td>\n",
       "      <td>-16.176445</td>\n",
       "      <td>51</td>\n",
       "      <td>1.340995</td>\n",
       "      <td>-16.620689</td>\n",
       "      <td>20.0</td>\n",
       "    </tr>\n",
       "    <tr>\n",
       "      <th>3</th>\n",
       "      <td>3</td>\n",
       "      <td>263018</td>\n",
       "      <td>BLD</td>\n",
       "      <td>64.0</td>\n",
       "      <td>1603150.0</td>\n",
       "      <td>96373.0</td>\n",
       "      <td>NaN</td>\n",
       "      <td>126.707617</td>\n",
       "      <td>799.976889</td>\n",
       "      <td>POINT (1269794.520 201491.913)</td>\n",
       "      <td>...</td>\n",
       "      <td>305066.764574</td>\n",
       "      <td>NaN</td>\n",
       "      <td>POLYGON Z ((1269806.989 201513.120 0.000, 1269...</td>\n",
       "      <td>-20.673250</td>\n",
       "      <td>-16.524836</td>\n",
       "      <td>-18.839761</td>\n",
       "      <td>33</td>\n",
       "      <td>1.224284</td>\n",
       "      <td>-19.055712</td>\n",
       "      <td>20.0</td>\n",
       "    </tr>\n",
       "    <tr>\n",
       "      <th>4</th>\n",
       "      <td>4</td>\n",
       "      <td>263019</td>\n",
       "      <td>BLD</td>\n",
       "      <td>333.0</td>\n",
       "      <td>1370925.0</td>\n",
       "      <td>174844.0</td>\n",
       "      <td>NaN</td>\n",
       "      <td>155.019904</td>\n",
       "      <td>969.706351</td>\n",
       "      <td>POINT (1277358.201 205642.742)</td>\n",
       "      <td>...</td>\n",
       "      <td>305066.764574</td>\n",
       "      <td>NaN</td>\n",
       "      <td>POLYGON Z ((1277365.344 205658.228 0.000, 1277...</td>\n",
       "      <td>318.770691</td>\n",
       "      <td>321.426575</td>\n",
       "      <td>319.810907</td>\n",
       "      <td>38</td>\n",
       "      <td>0.548536</td>\n",
       "      <td>319.763428</td>\n",
       "      <td>20.0</td>\n",
       "    </tr>\n",
       "    <tr>\n",
       "      <th>...</th>\n",
       "      <td>...</td>\n",
       "      <td>...</td>\n",
       "      <td>...</td>\n",
       "      <td>...</td>\n",
       "      <td>...</td>\n",
       "      <td>...</td>\n",
       "      <td>...</td>\n",
       "      <td>...</td>\n",
       "      <td>...</td>\n",
       "      <td>...</td>\n",
       "      <td>...</td>\n",
       "      <td>...</td>\n",
       "      <td>...</td>\n",
       "      <td>...</td>\n",
       "      <td>...</td>\n",
       "      <td>...</td>\n",
       "      <td>...</td>\n",
       "      <td>...</td>\n",
       "      <td>...</td>\n",
       "      <td>...</td>\n",
       "      <td>...</td>\n",
       "    </tr>\n",
       "    <tr>\n",
       "      <th>18447</th>\n",
       "      <td>18447</td>\n",
       "      <td>526892</td>\n",
       "      <td>BLD</td>\n",
       "      <td>85.0</td>\n",
       "      <td>0.0</td>\n",
       "      <td>529445.0</td>\n",
       "      <td>2015</td>\n",
       "      <td>279.660361</td>\n",
       "      <td>4450.874551</td>\n",
       "      <td>POINT (1271445.263 192360.474)</td>\n",
       "      <td>...</td>\n",
       "      <td>305066.764574</td>\n",
       "      <td>NaN</td>\n",
       "      <td>POLYGON Z ((1271490.789 192384.533 0.000, 1271...</td>\n",
       "      <td>56.987404</td>\n",
       "      <td>59.241844</td>\n",
       "      <td>58.212663</td>\n",
       "      <td>180</td>\n",
       "      <td>0.612540</td>\n",
       "      <td>58.207108</td>\n",
       "      <td>20.0</td>\n",
       "    </tr>\n",
       "    <tr>\n",
       "      <th>18448</th>\n",
       "      <td>18448</td>\n",
       "      <td>526948</td>\n",
       "      <td>BLD</td>\n",
       "      <td>42.0</td>\n",
       "      <td>0.0</td>\n",
       "      <td>504530.0</td>\n",
       "      <td>2015</td>\n",
       "      <td>487.845238</td>\n",
       "      <td>13246.238895</td>\n",
       "      <td>POINT (1271745.605 198319.518)</td>\n",
       "      <td>...</td>\n",
       "      <td>305066.764574</td>\n",
       "      <td>NaN</td>\n",
       "      <td>POLYGON Z ((1271810.141 198267.562 0.000, 1271...</td>\n",
       "      <td>9.813066</td>\n",
       "      <td>11.467998</td>\n",
       "      <td>10.704821</td>\n",
       "      <td>525</td>\n",
       "      <td>0.408358</td>\n",
       "      <td>10.736494</td>\n",
       "      <td>20.0</td>\n",
       "    </tr>\n",
       "    <tr>\n",
       "      <th>18449</th>\n",
       "      <td>18449</td>\n",
       "      <td>526949</td>\n",
       "      <td>BLD</td>\n",
       "      <td>55.0</td>\n",
       "      <td>0.0</td>\n",
       "      <td>504530.0</td>\n",
       "      <td>2015</td>\n",
       "      <td>748.231186</td>\n",
       "      <td>25748.409061</td>\n",
       "      <td>POINT (1271678.997 198226.549)</td>\n",
       "      <td>...</td>\n",
       "      <td>305066.764574</td>\n",
       "      <td>NaN</td>\n",
       "      <td>POLYGON Z ((1271555.667 198178.787 0.000, 1271...</td>\n",
       "      <td>10.164929</td>\n",
       "      <td>12.602659</td>\n",
       "      <td>11.524145</td>\n",
       "      <td>1034</td>\n",
       "      <td>0.607931</td>\n",
       "      <td>11.654552</td>\n",
       "      <td>20.0</td>\n",
       "    </tr>\n",
       "    <tr>\n",
       "      <th>18450</th>\n",
       "      <td>18450</td>\n",
       "      <td>526950</td>\n",
       "      <td>BLD</td>\n",
       "      <td>38.0</td>\n",
       "      <td>0.0</td>\n",
       "      <td>504530.0</td>\n",
       "      <td>2015</td>\n",
       "      <td>360.422900</td>\n",
       "      <td>7628.829111</td>\n",
       "      <td>POINT (1271446.646 198324.104)</td>\n",
       "      <td>...</td>\n",
       "      <td>305066.764574</td>\n",
       "      <td>NaN</td>\n",
       "      <td>POLYGON Z ((1271491.239 198365.218 0.000, 1271...</td>\n",
       "      <td>11.180118</td>\n",
       "      <td>12.188333</td>\n",
       "      <td>11.694040</td>\n",
       "      <td>311</td>\n",
       "      <td>0.260908</td>\n",
       "      <td>11.704866</td>\n",
       "      <td>20.0</td>\n",
       "    </tr>\n",
       "    <tr>\n",
       "      <th>18451</th>\n",
       "      <td>18451</td>\n",
       "      <td>526951</td>\n",
       "      <td>BLD</td>\n",
       "      <td>37.0</td>\n",
       "      <td>0.0</td>\n",
       "      <td>504530.0</td>\n",
       "      <td>2015</td>\n",
       "      <td>363.669188</td>\n",
       "      <td>6798.128805</td>\n",
       "      <td>POINT (1271523.947 198326.050)</td>\n",
       "      <td>...</td>\n",
       "      <td>305066.764574</td>\n",
       "      <td>NaN</td>\n",
       "      <td>POLYGON Z ((1271489.290 198278.200 0.000, 1271...</td>\n",
       "      <td>11.042826</td>\n",
       "      <td>12.112799</td>\n",
       "      <td>11.638422</td>\n",
       "      <td>277</td>\n",
       "      <td>0.276653</td>\n",
       "      <td>11.652129</td>\n",
       "      <td>20.0</td>\n",
       "    </tr>\n",
       "  </tbody>\n",
       "</table>\n",
       "<p>18452 rows × 36 columns</p>\n",
       "</div>"
      ],
      "text/plain": [
       "       index  OBJECTID BP99_TYPE  BP99_APEX  BP99_BLDGK  FEATURE_ID  \\\n",
       "0          0    263015       BLD       81.0   1603149.0     96359.0   \n",
       "1          1    263016       BLD       66.0   1633032.0    332792.0   \n",
       "2          2    263017       BLD       67.0   1633034.0    254322.0   \n",
       "3          3    263018       BLD       64.0   1603150.0     96373.0   \n",
       "4          4    263019       BLD      333.0   1370925.0    174844.0   \n",
       "...      ...       ...       ...        ...         ...         ...   \n",
       "18447  18447    526892       BLD       85.0         0.0    529445.0   \n",
       "18448  18448    526948       BLD       42.0         0.0    504530.0   \n",
       "18449  18449    526949       BLD       55.0         0.0    504530.0   \n",
       "18450  18450    526950       BLD       38.0         0.0    504530.0   \n",
       "18451  18451    526951       BLD       37.0         0.0    504530.0   \n",
       "\n",
       "      YEARUPDATE  SHAPE_Leng    SHAPE_Area                      geometry_x  \\\n",
       "0            NaN  137.581704    954.986190  POINT (1269718.180 201502.410)   \n",
       "1            NaN  164.827831   1059.250511  POINT (1269613.743 201630.253)   \n",
       "2            NaN  173.643943   1212.567710  POINT (1269690.633 201612.189)   \n",
       "3            NaN  126.707617    799.976889  POINT (1269794.520 201491.913)   \n",
       "4            NaN  155.019904    969.706351  POINT (1277358.201 205642.742)   \n",
       "...          ...         ...           ...                             ...   \n",
       "18447       2015  279.660361   4450.874551  POINT (1271445.263 192360.474)   \n",
       "18448       2015  487.845238  13246.238895  POINT (1271745.605 198319.518)   \n",
       "18449       2015  748.231186  25748.409061  POINT (1271678.997 198226.549)   \n",
       "18450       2015  360.422900   7628.829111  POINT (1271446.646 198324.104)   \n",
       "18451       2015  363.669188   6798.128805  POINT (1271523.947 198326.050)   \n",
       "\n",
       "       ...     Shape__Len  id  \\\n",
       "0      ...  305066.764574 NaN   \n",
       "1      ...  305066.764574 NaN   \n",
       "2      ...  305066.764574 NaN   \n",
       "3      ...  305066.764574 NaN   \n",
       "4      ...  305066.764574 NaN   \n",
       "...    ...            ...  ..   \n",
       "18447  ...  305066.764574 NaN   \n",
       "18448  ...  305066.764574 NaN   \n",
       "18449  ...  305066.764574 NaN   \n",
       "18450  ...  305066.764574 NaN   \n",
       "18451  ...  305066.764574 NaN   \n",
       "\n",
       "                                              geometry_y         min  \\\n",
       "0      POLYGON Z ((1269728.474 201505.377 0.000, 1269...  -21.110571   \n",
       "1      POLYGON Z ((1269626.389 201657.008 0.000, 1269...  -19.431469   \n",
       "2      POLYGON Z ((1269706.538 201640.549 0.000, 1269...  -17.399797   \n",
       "3      POLYGON Z ((1269806.989 201513.120 0.000, 1269...  -20.673250   \n",
       "4      POLYGON Z ((1277365.344 205658.228 0.000, 1277...  318.770691   \n",
       "...                                                  ...         ...   \n",
       "18447  POLYGON Z ((1271490.789 192384.533 0.000, 1271...   56.987404   \n",
       "18448  POLYGON Z ((1271810.141 198267.562 0.000, 1271...    9.813066   \n",
       "18449  POLYGON Z ((1271555.667 198178.787 0.000, 1271...   10.164929   \n",
       "18450  POLYGON Z ((1271491.239 198365.218 0.000, 1271...   11.180118   \n",
       "18451  POLYGON Z ((1271489.290 198278.200 0.000, 1271...   11.042826   \n",
       "\n",
       "              max        mean count       std      median height_upd  \n",
       "0      -13.896954  -15.643722    38  1.962462  -14.625418       20.0  \n",
       "1      -15.849288  -17.753135    41  1.158415  -17.612436       20.0  \n",
       "2      -11.026821  -16.176445    51  1.340995  -16.620689       20.0  \n",
       "3      -16.524836  -18.839761    33  1.224284  -19.055712       20.0  \n",
       "4      321.426575  319.810907    38  0.548536  319.763428       20.0  \n",
       "...           ...         ...   ...       ...         ...        ...  \n",
       "18447   59.241844   58.212663   180  0.612540   58.207108       20.0  \n",
       "18448   11.467998   10.704821   525  0.408358   10.736494       20.0  \n",
       "18449   12.602659   11.524145  1034  0.607931   11.654552       20.0  \n",
       "18450   12.188333   11.694040   311  0.260908   11.704866       20.0  \n",
       "18451   12.112799   11.638422   277  0.276653   11.652129       20.0  \n",
       "\n",
       "[18452 rows x 36 columns]"
      ]
     },
     "execution_count": 42,
     "metadata": {},
     "output_type": "execute_result"
    }
   ],
   "source": [
    "merged_heights.set_geometry('geometry_y')"
   ]
  },
  {
   "cell_type": "code",
   "execution_count": 43,
   "metadata": {},
   "outputs": [],
   "source": [
    "merged_heights[['OBJECTID','BP99_APEX','mean','min','max','median','std','height_upd','geometry_y']].to_file(\"/home/nweiss/gdrive/Year 2/Summer - Duwamish/GIS/Processed/building_heights_upd.shp\")"
   ]
  },
  {
   "attachments": {},
   "cell_type": "markdown",
   "metadata": {},
   "source": [
    "TOPO PROCESSING\n",
    "- merging bathymetry data with topography dem"
   ]
  },
  {
   "cell_type": "code",
   "execution_count": 44,
   "metadata": {},
   "outputs": [],
   "source": [
    "# mask topo_rast by extent\n",
    "\n",
    "# convert to ascii file\n"
   ]
  }
 ],
 "metadata": {
  "kernelspec": {
   "display_name": "gis",
   "language": "python",
   "name": "python3"
  },
  "language_info": {
   "codemirror_mode": {
    "name": "ipython",
    "version": 3
   },
   "file_extension": ".py",
   "mimetype": "text/x-python",
   "name": "python",
   "nbconvert_exporter": "python",
   "pygments_lexer": "ipython3",
   "version": "3.11.4"
  },
  "orig_nbformat": 4
 },
 "nbformat": 4,
 "nbformat_minor": 2
}
