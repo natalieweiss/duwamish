{
 "cells": [
  {
   "cell_type": "code",
   "execution_count": null,
   "metadata": {},
   "outputs": [],
   "source": [
    "import pandas as pd\n",
    "import geopandas as gp\n",
    "import numpy as np\n",
    "import rasterstats\n",
    "import os\n",
    "import fiona\n",
    "import rasterio\n",
    "import rasterio.mask"
   ]
  },
  {
   "cell_type": "code",
   "execution_count": null,
   "metadata": {},
   "outputs": [],
   "source": [
    "output_path = \"/home/nweiss/gdrive/Year 2/Summer - Duwamish/GIS/Neighborhood_Files\""
   ]
  },
  {
   "cell_type": "code",
   "execution_count": null,
   "metadata": {},
   "outputs": [],
   "source": [
    "# set building height\n",
    "default_height = 20"
   ]
  },
  {
   "cell_type": "code",
   "execution_count": null,
   "metadata": {},
   "outputs": [],
   "source": [
    "# set project crs\n",
    "crs = 2926"
   ]
  },
  {
   "cell_type": "code",
   "execution_count": null,
   "metadata": {},
   "outputs": [],
   "source": [
    "# set extent boundary\n",
    "extent_path = \"/home/nweiss/gdrive/Year 2/Summer - Duwamish/GIS/Boundary/neighborhood_extent.shp\"\n",
    "extent = gp.read_file(extent_path)\n",
    "\n",
    "## TODO: create a shapefile for grasshopper\n",
    "## add one blank row"
   ]
  },
  {
   "cell_type": "code",
   "execution_count": null,
   "metadata": {},
   "outputs": [],
   "source": [
    "# floodplain extent for clipping\n",
    "floodplain_path = \"/home/nweiss/gdrive/Year 2/Summer - Duwamish/GIS/Boundary/floodplain.shp\"\n",
    "floodplain = gp.read_file(floodplain_path)"
   ]
  },
  {
   "cell_type": "code",
   "execution_count": null,
   "metadata": {},
   "outputs": [],
   "source": [
    "# clip parcels to floodplain\n",
    "parcel_path = \"/home/nweiss/gdrive/Year 2/Summer - Duwamish/GIS/Raw/Building_Parcels.shp\"\n",
    "parcels = gp.read_file(parcel_path)\n",
    "parcels.to_crs(crs, inplace = True)\n",
    "\n",
    "print(parcels.head())\n",
    "parcels['centroid_geom'] = parcels.centroid\n",
    "parcels.set_geometry('centroid_geom',inplace = True)\n",
    "parcels_clip = gp.overlay(parcels, floodplain, how = \"intersection\")"
   ]
  },
  {
   "cell_type": "code",
   "execution_count": null,
   "metadata": {},
   "outputs": [],
   "source": [
    "parcels_merge = pd.merge(parcels_clip, parcels[['OBJECTID','geometry']], left_on ='OBJECTID', right_on = 'OBJECTID', how = 'left')\n",
    "parcels_merge.set_geometry('geometry_y', inplace = True)"
   ]
  },
  {
   "cell_type": "code",
   "execution_count": null,
   "metadata": {},
   "outputs": [],
   "source": [
    "parcels_merge.drop(['geometry_x'], axis=1, inplace=True)"
   ]
  },
  {
   "cell_type": "code",
   "execution_count": null,
   "metadata": {},
   "outputs": [],
   "source": [
    "parcels_merge.to_file(os.path.join(output_path, \"neighborhood_parcels_v2.shp\"))"
   ]
  },
  {
   "cell_type": "code",
   "execution_count": null,
   "metadata": {},
   "outputs": [],
   "source": [
    "# clip catherine's topo\n",
    "contours_path = \"/home/nweiss/gdrive/Year 2/Summer - Duwamish/GIS/DV_GIS Topo Data/06_GIS Data/02_Clipping Layers/01_Duwamish Valley/DV King Country Contours_clipped.shp\"\n",
    "contours = gp.read_file(contours_path)\n",
    "contours.to_crs(crs, inplace = True)\n",
    "contours_clip = gp.overlay(contours, extent, how = 'intersection')"
   ]
  },
  {
   "cell_type": "code",
   "execution_count": 21,
   "metadata": {},
   "outputs": [],
   "source": [
    "contours_clip_path = \"/home/nweiss/gdrive/Year 2/Summer - Duwamish/GIS/Neighborhood_Files/neighborhood_contours_clip.shp\"\n",
    "contours_clip = gp.read_file(contours_clip_path)"
   ]
  },
  {
   "cell_type": "code",
   "execution_count": 22,
   "metadata": {},
   "outputs": [
    {
     "data": {
      "text/html": [
       "<div>\n",
       "<style scoped>\n",
       "    .dataframe tbody tr th:only-of-type {\n",
       "        vertical-align: middle;\n",
       "    }\n",
       "\n",
       "    .dataframe tbody tr th {\n",
       "        vertical-align: top;\n",
       "    }\n",
       "\n",
       "    .dataframe thead th {\n",
       "        text-align: right;\n",
       "    }\n",
       "</style>\n",
       "<table border=\"1\" class=\"dataframe\">\n",
       "  <thead>\n",
       "    <tr style=\"text-align: right;\">\n",
       "      <th></th>\n",
       "      <th>OBJECTID</th>\n",
       "      <th>ELEVATION</th>\n",
       "      <th>IDX_MINOR</th>\n",
       "      <th>IDX_20FT</th>\n",
       "      <th>IDX_40FT</th>\n",
       "      <th>IDX_50FT</th>\n",
       "      <th>IDX_100FT</th>\n",
       "      <th>TILE_ID</th>\n",
       "      <th>FIPS_CODE</th>\n",
       "      <th>Shape_Leng</th>\n",
       "      <th>boundary</th>\n",
       "      <th>geometry</th>\n",
       "    </tr>\n",
       "  </thead>\n",
       "  <tbody>\n",
       "    <tr>\n",
       "      <th>0</th>\n",
       "      <td>382707.0</td>\n",
       "      <td>430.0</td>\n",
       "      <td>10.0</td>\n",
       "      <td>1.0</td>\n",
       "      <td>1.0</td>\n",
       "      <td>1.0</td>\n",
       "      <td>1.0</td>\n",
       "      <td>2304.0</td>\n",
       "      <td>033</td>\n",
       "      <td>1579.272640</td>\n",
       "      <td>2</td>\n",
       "      <td>LINESTRING (1267406.119 191999.331, 1267406.13...</td>\n",
       "    </tr>\n",
       "    <tr>\n",
       "      <th>1</th>\n",
       "      <td>382708.0</td>\n",
       "      <td>10.0</td>\n",
       "      <td>10.0</td>\n",
       "      <td>1.0</td>\n",
       "      <td>1.0</td>\n",
       "      <td>1.0</td>\n",
       "      <td>1.0</td>\n",
       "      <td>2304.0</td>\n",
       "      <td>033</td>\n",
       "      <td>124.112645</td>\n",
       "      <td>2</td>\n",
       "      <td>LINESTRING (1275161.118 191977.858, 1275160.90...</td>\n",
       "    </tr>\n",
       "    <tr>\n",
       "      <th>2</th>\n",
       "      <td>382709.0</td>\n",
       "      <td>20.0</td>\n",
       "      <td>10.0</td>\n",
       "      <td>20.0</td>\n",
       "      <td>1.0</td>\n",
       "      <td>1.0</td>\n",
       "      <td>1.0</td>\n",
       "      <td>2304.0</td>\n",
       "      <td>033</td>\n",
       "      <td>112.064917</td>\n",
       "      <td>2</td>\n",
       "      <td>LINESTRING (1275221.118 191945.936, 1275222.43...</td>\n",
       "    </tr>\n",
       "    <tr>\n",
       "      <th>3</th>\n",
       "      <td>382710.0</td>\n",
       "      <td>30.0</td>\n",
       "      <td>10.0</td>\n",
       "      <td>1.0</td>\n",
       "      <td>1.0</td>\n",
       "      <td>1.0</td>\n",
       "      <td>1.0</td>\n",
       "      <td>2304.0</td>\n",
       "      <td>033</td>\n",
       "      <td>232.107374</td>\n",
       "      <td>2</td>\n",
       "      <td>LINESTRING (1272299.118 191932.761, 1272297.66...</td>\n",
       "    </tr>\n",
       "    <tr>\n",
       "      <th>4</th>\n",
       "      <td>382711.0</td>\n",
       "      <td>200.0</td>\n",
       "      <td>10.0</td>\n",
       "      <td>100.0</td>\n",
       "      <td>200.0</td>\n",
       "      <td>100.0</td>\n",
       "      <td>100.0</td>\n",
       "      <td>2304.0</td>\n",
       "      <td>033</td>\n",
       "      <td>503.484610</td>\n",
       "      <td>2</td>\n",
       "      <td>LINESTRING (1281839.100 191941.533, 1281839.11...</td>\n",
       "    </tr>\n",
       "    <tr>\n",
       "      <th>...</th>\n",
       "      <td>...</td>\n",
       "      <td>...</td>\n",
       "      <td>...</td>\n",
       "      <td>...</td>\n",
       "      <td>...</td>\n",
       "      <td>...</td>\n",
       "      <td>...</td>\n",
       "      <td>...</td>\n",
       "      <td>...</td>\n",
       "      <td>...</td>\n",
       "      <td>...</td>\n",
       "      <td>...</td>\n",
       "    </tr>\n",
       "    <tr>\n",
       "      <th>2689</th>\n",
       "      <td>629490.0</td>\n",
       "      <td>350.0</td>\n",
       "      <td>10.0</td>\n",
       "      <td>1.0</td>\n",
       "      <td>1.0</td>\n",
       "      <td>50.0</td>\n",
       "      <td>1.0</td>\n",
       "      <td>2403.0</td>\n",
       "      <td>033</td>\n",
       "      <td>9434.086045</td>\n",
       "      <td>2</td>\n",
       "      <td>LINESTRING (1264518.146 197511.530, 1264518.11...</td>\n",
       "    </tr>\n",
       "    <tr>\n",
       "      <th>2690</th>\n",
       "      <td>629491.0</td>\n",
       "      <td>360.0</td>\n",
       "      <td>10.0</td>\n",
       "      <td>20.0</td>\n",
       "      <td>40.0</td>\n",
       "      <td>1.0</td>\n",
       "      <td>1.0</td>\n",
       "      <td>2403.0</td>\n",
       "      <td>033</td>\n",
       "      <td>8532.467439</td>\n",
       "      <td>2</td>\n",
       "      <td>LINESTRING (1264512.407 197260.427, 1264512.11...</td>\n",
       "    </tr>\n",
       "    <tr>\n",
       "      <th>2691</th>\n",
       "      <td>629492.0</td>\n",
       "      <td>370.0</td>\n",
       "      <td>10.0</td>\n",
       "      <td>1.0</td>\n",
       "      <td>1.0</td>\n",
       "      <td>1.0</td>\n",
       "      <td>1.0</td>\n",
       "      <td>2403.0</td>\n",
       "      <td>033</td>\n",
       "      <td>9559.700957</td>\n",
       "      <td>2</td>\n",
       "      <td>LINESTRING (1264503.559 196875.886, 1264503.11...</td>\n",
       "    </tr>\n",
       "    <tr>\n",
       "      <th>2692</th>\n",
       "      <td>629493.0</td>\n",
       "      <td>380.0</td>\n",
       "      <td>10.0</td>\n",
       "      <td>20.0</td>\n",
       "      <td>1.0</td>\n",
       "      <td>1.0</td>\n",
       "      <td>1.0</td>\n",
       "      <td>2403.0</td>\n",
       "      <td>033</td>\n",
       "      <td>5287.163010</td>\n",
       "      <td>2</td>\n",
       "      <td>LINESTRING (1263947.738 192442.933, 1263948.11...</td>\n",
       "    </tr>\n",
       "    <tr>\n",
       "      <th>2693</th>\n",
       "      <td>629494.0</td>\n",
       "      <td>380.0</td>\n",
       "      <td>10.0</td>\n",
       "      <td>20.0</td>\n",
       "      <td>1.0</td>\n",
       "      <td>1.0</td>\n",
       "      <td>1.0</td>\n",
       "      <td>2403.0</td>\n",
       "      <td>033</td>\n",
       "      <td>10587.538717</td>\n",
       "      <td>2</td>\n",
       "      <td>LINESTRING (1264490.313 196310.104, 1264489.70...</td>\n",
       "    </tr>\n",
       "  </tbody>\n",
       "</table>\n",
       "<p>2694 rows × 12 columns</p>\n",
       "</div>"
      ],
      "text/plain": [
       "      OBJECTID  ELEVATION  IDX_MINOR  IDX_20FT  IDX_40FT  IDX_50FT  IDX_100FT  \\\n",
       "0     382707.0      430.0       10.0       1.0       1.0       1.0        1.0   \n",
       "1     382708.0       10.0       10.0       1.0       1.0       1.0        1.0   \n",
       "2     382709.0       20.0       10.0      20.0       1.0       1.0        1.0   \n",
       "3     382710.0       30.0       10.0       1.0       1.0       1.0        1.0   \n",
       "4     382711.0      200.0       10.0     100.0     200.0     100.0      100.0   \n",
       "...        ...        ...        ...       ...       ...       ...        ...   \n",
       "2689  629490.0      350.0       10.0       1.0       1.0      50.0        1.0   \n",
       "2690  629491.0      360.0       10.0      20.0      40.0       1.0        1.0   \n",
       "2691  629492.0      370.0       10.0       1.0       1.0       1.0        1.0   \n",
       "2692  629493.0      380.0       10.0      20.0       1.0       1.0        1.0   \n",
       "2693  629494.0      380.0       10.0      20.0       1.0       1.0        1.0   \n",
       "\n",
       "      TILE_ID FIPS_CODE    Shape_Leng  boundary  \\\n",
       "0      2304.0       033   1579.272640         2   \n",
       "1      2304.0       033    124.112645         2   \n",
       "2      2304.0       033    112.064917         2   \n",
       "3      2304.0       033    232.107374         2   \n",
       "4      2304.0       033    503.484610         2   \n",
       "...       ...       ...           ...       ...   \n",
       "2689   2403.0       033   9434.086045         2   \n",
       "2690   2403.0       033   8532.467439         2   \n",
       "2691   2403.0       033   9559.700957         2   \n",
       "2692   2403.0       033   5287.163010         2   \n",
       "2693   2403.0       033  10587.538717         2   \n",
       "\n",
       "                                               geometry  \n",
       "0     LINESTRING (1267406.119 191999.331, 1267406.13...  \n",
       "1     LINESTRING (1275161.118 191977.858, 1275160.90...  \n",
       "2     LINESTRING (1275221.118 191945.936, 1275222.43...  \n",
       "3     LINESTRING (1272299.118 191932.761, 1272297.66...  \n",
       "4     LINESTRING (1281839.100 191941.533, 1281839.11...  \n",
       "...                                                 ...  \n",
       "2689  LINESTRING (1264518.146 197511.530, 1264518.11...  \n",
       "2690  LINESTRING (1264512.407 197260.427, 1264512.11...  \n",
       "2691  LINESTRING (1264503.559 196875.886, 1264503.11...  \n",
       "2692  LINESTRING (1263947.738 192442.933, 1263948.11...  \n",
       "2693  LINESTRING (1264490.313 196310.104, 1264489.70...  \n",
       "\n",
       "[2694 rows x 12 columns]"
      ]
     },
     "execution_count": 22,
     "metadata": {},
     "output_type": "execute_result"
    }
   ],
   "source": [
    "contours_clip"
   ]
  },
  {
   "cell_type": "code",
   "execution_count": 50,
   "metadata": {},
   "outputs": [],
   "source": [
    "# if elevation > 0, take every contour 10\n",
    "contours_below_SL = contours_clip[contours_clip['ELEVATION']<=20]\n",
    "contours_above_SL = contours_clip[contours_clip['IDX_20FT']==20]\n",
    "contours_above_SL = contours_above_SL[contours_above_SL['ELEVATION']>20]\n",
    "contours_trimmed = pd.concat([contours_below_SL,contours_above_SL])"
   ]
  },
  {
   "cell_type": "code",
   "execution_count": 51,
   "metadata": {},
   "outputs": [
    {
     "data": {
      "text/plain": [
       "(1322, 2694)"
      ]
     },
     "execution_count": 51,
     "metadata": {},
     "output_type": "execute_result"
    }
   ],
   "source": [
    "len(contours_trimmed), len(contours_clip)"
   ]
  },
  {
   "cell_type": "code",
   "execution_count": 52,
   "metadata": {},
   "outputs": [],
   "source": [
    "contours_trimmed.to_file(os.path.join(output_path, \"neighborhood_contours_clip_test.shp\"))"
   ]
  },
  {
   "cell_type": "code",
   "execution_count": null,
   "metadata": {},
   "outputs": [],
   "source": [
    "# roads processing\n",
    "roads_path = \"/home/nweiss/gdrive/Year 2/Summer - Duwamish/GIS/Projected/seattle_streets_projected.shp\"\n",
    "roads = gp.read_file(roads_path)\n",
    "roads_clip = gp.overlay(roads, extent, how='intersection')\n",
    "roads_clip.to_crs(crs, inplace = True)\n",
    "roads_clip.to_file(os.path.join(output_path, \"neighborhood_streets.shp\"))"
   ]
  },
  {
   "cell_type": "code",
   "execution_count": null,
   "metadata": {},
   "outputs": [],
   "source": [
    "buildings_path = \"/home/nweiss/gdrive/Year 2/Summer - Duwamish/GIS/Processed/buildings_projected_trim.shp\"\n",
    "buildings = gp.read_file(buildings_path)"
   ]
  },
  {
   "attachments": {},
   "cell_type": "markdown",
   "metadata": {},
   "source": [
    "Buildings processing\n",
    "- create raster topo from contours\n",
    "- subtract out contours from building heights to extrude in rhino"
   ]
  },
  {
   "cell_type": "code",
   "execution_count": null,
   "metadata": {},
   "outputs": [],
   "source": [
    "buildings['centroid_geom'] = buildings.centroid\n",
    "buildings.set_geometry('centroid_geom',inplace = True)\n",
    "buildings_clip = gp.overlay(buildings, floodplain, how = \"intersection\")"
   ]
  },
  {
   "cell_type": "code",
   "execution_count": null,
   "metadata": {},
   "outputs": [],
   "source": [
    "buildings_merge = pd.merge(buildings_clip, buildings[['OBJECTID','geometry']], left_on ='OBJECTID', right_on = 'OBJECTID', how = 'left')\n",
    "buildings_merge.set_geometry('geometry_y', inplace = True)"
   ]
  },
  {
   "cell_type": "code",
   "execution_count": null,
   "metadata": {},
   "outputs": [],
   "source": [
    "# fill 0 and NA values to default_height\n",
    "buildings_merge['BP99_APEX'].fillna(default_height, inplace = True)\n",
    "buildings_merge['BP99_APEX'] = np.where(buildings_merge['BP99_APEX']==0,default_height, buildings_merge['BP99_APEX'])\n",
    "buildings_merge['BP99_APEX'] = buildings_merge['BP99_APEX'].astype(int)"
   ]
  },
  {
   "cell_type": "code",
   "execution_count": null,
   "metadata": {},
   "outputs": [],
   "source": [
    "# TODO: additional processing to make resolution a bit better\n",
    "\n",
    "# bounding box of each building to simplify geometries\n",
    "\n",
    "# remove buildings that are < minimum area"
   ]
  },
  {
   "cell_type": "code",
   "execution_count": null,
   "metadata": {},
   "outputs": [],
   "source": [
    "buildings_merge.to_crs(crs, inplace = True)\n",
    "buildings_merge[['OBJECTID', 'BP99_TYPE', 'BP99_APEX','geometry_y']].to_file(os.path.join(output_path,\"neighborhood_buildings.shp\"))"
   ]
  },
  {
   "attachments": {},
   "cell_type": "markdown",
   "metadata": {},
   "source": [
    "TOPO PROCESSING\n",
    "- merging bathymetry data with topography dem"
   ]
  },
  {
   "cell_type": "code",
   "execution_count": null,
   "metadata": {},
   "outputs": [],
   "source": [
    "# mask topo_rast by extent\n",
    "topo_rast = \"/home/nweiss/gdrive/Year 2/Summer - Duwamish/GIS/Neighborhood_Files/topo.tif\"\n",
    "\n",
    "with fiona.open(extent_path, \"r\") as shapefile:\n",
    "    shapes = [feature[\"geometry\"] for feature in shapefile]\n",
    "\n",
    "with rasterio.open(topo_rast) as src:\n",
    "    out_image, out_transform = rasterio.mask.mask(src, shapes, crop=True)\n",
    "    out_meta = src.meta"
   ]
  },
  {
   "cell_type": "code",
   "execution_count": null,
   "metadata": {},
   "outputs": [],
   "source": [
    "topo_outpath = \"/home/nweiss/gdrive/Year 2/Summer - Duwamish/GIS/Neighborhood_Files/neighborhood_topo.asc\"\n",
    "\n",
    "# convert to ascii file\n",
    "out_meta.update({\"driver\": \"AAIGrid\",\n",
    "                 \"height\": out_image.shape[1],\n",
    "                 \"width\": out_image.shape[2],\n",
    "                 \"transform\": out_transform})\n",
    "\n",
    "with rasterio.open(topo_outpath, \"w\", **out_meta) as dest:\n",
    "    dest.write(out_image)"
   ]
  },
  {
   "attachments": {},
   "cell_type": "markdown",
   "metadata": {},
   "source": [
    "EXTRA PROCESSING FOR ASSIGNING ABSOLUTE BUILDING HEIGHTS FROM TERRAIN"
   ]
  },
  {
   "cell_type": "code",
   "execution_count": null,
   "metadata": {},
   "outputs": [],
   "source": [
    "## used topo to raster tool with 5ft contours and 5 ft pixel resolution\n",
    "# there may be better ways to get DEM / elevation values as raster\n",
    "topo_rast = \"/home/nweiss/gdrive/Year 2/Summer - Duwamish/GIS/Processed/min_bath_topo.tif\"\n",
    "zonal_stats = rasterstats.zonal_stats(buildings_merge, topo_rast, stats=\"count min mean max median std\")\n",
    "stats_df = pd.DataFrame.from_dict(zonal_stats).reset_index()\n",
    "buildings_merge.reset_index(inplace = True)\n",
    "merged_heights = pd.merge(buildings_merge, stats_df, how = 'left', left_on = 'index', right_on = 'index')\n",
    "merged_heights['height_upd'] = np.where((merged_heights['BP99_APEX'].isna()==False) | (merged_heights['mean'].isna()==False), default_height, (merged_heights['BP99_APEX']-merged_heights['mean']))\n",
    "merged_heights.set_geometry('geometry_y')\n",
    "merged_heights[['OBJECTID','BP99_APEX','mean','min','max','median','std','height_upd','geometry_y']].to_file(\"/home/nweiss/gdrive/Year 2/Summer - Duwamish/GIS/Processed/building_heights_upd.shp\")"
   ]
  }
 ],
 "metadata": {
  "kernelspec": {
   "display_name": "gis",
   "language": "python",
   "name": "python3"
  },
  "language_info": {
   "codemirror_mode": {
    "name": "ipython",
    "version": 3
   },
   "file_extension": ".py",
   "mimetype": "text/x-python",
   "name": "python",
   "nbconvert_exporter": "python",
   "pygments_lexer": "ipython3",
   "version": "3.11.4"
  },
  "orig_nbformat": 4
 },
 "nbformat": 4,
 "nbformat_minor": 2
}
