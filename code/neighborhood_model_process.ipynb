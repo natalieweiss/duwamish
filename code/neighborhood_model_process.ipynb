{
 "cells": [
  {
   "cell_type": "code",
   "execution_count": 1,
   "metadata": {},
   "outputs": [],
   "source": [
    "import pandas as pd\n",
    "import geopandas as gp\n",
    "import numpy as np\n",
    "import rasterstats\n",
    "import os\n",
    "import fiona\n",
    "import rasterio\n",
    "import rasterio.mask"
   ]
  },
  {
   "cell_type": "code",
   "execution_count": 2,
   "metadata": {},
   "outputs": [],
   "source": [
    "output_path = \"/home/nweiss/gdrive/Year 2/Summer - Duwamish/GIS/Neighborhood_Files\""
   ]
  },
  {
   "cell_type": "code",
   "execution_count": null,
   "metadata": {},
   "outputs": [],
   "source": [
    "# set building height\n",
    "default_height = 20"
   ]
  },
  {
   "cell_type": "code",
   "execution_count": null,
   "metadata": {},
   "outputs": [],
   "source": [
    "# set project crs\n",
    "crs = 2926"
   ]
  },
  {
   "cell_type": "code",
   "execution_count": null,
   "metadata": {},
   "outputs": [],
   "source": [
    "# set extent boundary\n",
    "extent_path = \"/home/nweiss/gdrive/Year 2/Summer - Duwamish/GIS/Boundary/neighborhood_extent.shp\"\n",
    "extent = gp.read_file(extent_path)\n",
    "\n",
    "## TODO: create a shapefile for grasshopper\n",
    "## add one blank row"
   ]
  },
  {
   "cell_type": "code",
   "execution_count": null,
   "metadata": {},
   "outputs": [],
   "source": [
    "# floodplain extent for clipping\n",
    "floodplain_path = \"/home/nweiss/gdrive/Year 2/Summer - Duwamish/GIS/Boundary/floodplain.shp\"\n",
    "floodplain = gp.read_file(floodplain_path)"
   ]
  },
  {
   "cell_type": "code",
   "execution_count": null,
   "metadata": {},
   "outputs": [],
   "source": [
    "# clip parcels to floodplain\n",
    "parcel_path = \"/home/nweiss/gdrive/Year 2/Summer - Duwamish/GIS/Raw/Building_Parcels.shp\"\n",
    "parcels = gp.read_file(parcel_path)\n",
    "parcels.to_crs(crs, inplace = True)\n",
    "\n",
    "print(parcels.head())\n",
    "parcels['centroid_geom'] = parcels.centroid\n",
    "parcels.set_geometry('centroid_geom',inplace = True)\n",
    "parcels_clip = gp.overlay(parcels, floodplain, how = \"intersection\")"
   ]
  },
  {
   "cell_type": "code",
   "execution_count": null,
   "metadata": {},
   "outputs": [],
   "source": [
    "parcels_merge = pd.merge(parcels_clip, parcels[['OBJECTID','geometry']], left_on ='OBJECTID', right_on = 'OBJECTID', how = 'left')\n",
    "parcels_merge.set_geometry('geometry_y', inplace = True)"
   ]
  },
  {
   "cell_type": "code",
   "execution_count": null,
   "metadata": {},
   "outputs": [],
   "source": [
    "parcels_merge.drop(['geometry_x'], axis=1, inplace=True)"
   ]
  },
  {
   "cell_type": "code",
   "execution_count": null,
   "metadata": {},
   "outputs": [],
   "source": [
    "parcels_merge.to_file(os.path.join(output_path, \"neighborhood_parcels_v2.shp\"))"
   ]
  },
  {
   "cell_type": "code",
   "execution_count": null,
   "metadata": {},
   "outputs": [],
   "source": [
    "# clip catherine's topo\n",
    "contours_path = \"/home/nweiss/gdrive/Year 2/Summer - Duwamish/GIS/DV_GIS Topo Data/06_GIS Data/02_Clipping Layers/01_Duwamish Valley/DV King Country Contours_clipped.shp\"\n",
    "contours = gp.read_file(contours_path)\n",
    "contours.to_crs(crs, inplace = True)\n",
    "contours_clip = gp.overlay(contours, extent, how = 'intersection')"
   ]
  },
  {
   "cell_type": "code",
   "execution_count": 21,
   "metadata": {},
   "outputs": [],
   "source": [
    "contours_clip_path = \"/home/nweiss/gdrive/Year 2/Summer - Duwamish/GIS/Neighborhood_Files/neighborhood_contours_clip.shp\"\n",
    "contours_clip = gp.read_file(contours_clip_path)"
   ]
  },
  {
   "cell_type": "code",
   "execution_count": 50,
   "metadata": {},
   "outputs": [],
   "source": [
    "# if elevation > 0, take every contour 10\n",
    "contours_below_SL = contours_clip[contours_clip['ELEVATION']<=20]\n",
    "contours_above_SL = contours_clip[contours_clip['IDX_20FT']==20]\n",
    "contours_above_SL = contours_above_SL[contours_above_SL['ELEVATION']>20]\n",
    "contours_trimmed = pd.concat([contours_below_SL,contours_above_SL])"
   ]
  },
  {
   "cell_type": "code",
   "execution_count": 51,
   "metadata": {},
   "outputs": [
    {
     "data": {
      "text/plain": [
       "(1322, 2694)"
      ]
     },
     "execution_count": 51,
     "metadata": {},
     "output_type": "execute_result"
    }
   ],
   "source": [
    "len(contours_trimmed), len(contours_clip)"
   ]
  },
  {
   "cell_type": "code",
   "execution_count": 52,
   "metadata": {},
   "outputs": [],
   "source": [
    "contours_trimmed.to_file(os.path.join(output_path, \"neighborhood_contours_clip_test.shp\"))"
   ]
  },
  {
   "cell_type": "code",
   "execution_count": null,
   "metadata": {},
   "outputs": [],
   "source": [
    "# roads processing\n",
    "roads_path = \"/home/nweiss/gdrive/Year 2/Summer - Duwamish/GIS/Projected/seattle_streets_projected.shp\"\n",
    "roads = gp.read_file(roads_path)\n",
    "roads_clip = gp.overlay(roads, extent, how='intersection')\n",
    "roads_clip.to_crs(crs, inplace = True)\n",
    "roads_clip.to_file(os.path.join(output_path, \"neighborhood_streets.shp\"))"
   ]
  },
  {
   "cell_type": "code",
   "execution_count": null,
   "metadata": {},
   "outputs": [],
   "source": [
    "buildings_path = \"/home/nweiss/gdrive/Year 2/Summer - Duwamish/GIS/Processed/buildings_projected_trim.shp\"\n",
    "buildings = gp.read_file(buildings_path)"
   ]
  },
  {
   "attachments": {},
   "cell_type": "markdown",
   "metadata": {},
   "source": [
    "Buildings processing\n",
    "- create raster topo from contours\n",
    "- subtract out contours from building heights to extrude in rhino"
   ]
  },
  {
   "cell_type": "code",
   "execution_count": null,
   "metadata": {},
   "outputs": [],
   "source": [
    "buildings['centroid_geom'] = buildings.centroid\n",
    "buildings.set_geometry('centroid_geom',inplace = True)\n",
    "buildings_clip = gp.overlay(buildings, floodplain, how = \"intersection\")"
   ]
  },
  {
   "cell_type": "code",
   "execution_count": null,
   "metadata": {},
   "outputs": [],
   "source": [
    "buildings_merge = pd.merge(buildings_clip, buildings[['OBJECTID','geometry']], left_on ='OBJECTID', right_on = 'OBJECTID', how = 'left')\n",
    "buildings_merge.set_geometry('geometry_y', inplace = True)"
   ]
  },
  {
   "cell_type": "code",
   "execution_count": null,
   "metadata": {},
   "outputs": [],
   "source": [
    "# fill 0 and NA values to default_height\n",
    "buildings_merge['BP99_APEX'].fillna(default_height, inplace = True)\n",
    "buildings_merge['BP99_APEX'] = np.where(buildings_merge['BP99_APEX']==0,default_height, buildings_merge['BP99_APEX'])\n",
    "buildings_merge['BP99_APEX'] = buildings_merge['BP99_APEX'].astype(int)"
   ]
  },
  {
   "cell_type": "code",
   "execution_count": null,
   "metadata": {},
   "outputs": [],
   "source": [
    "buildings_merge.to_crs(crs, inplace = True)\n",
    "buildings_merge[['OBJECTID', 'BP99_TYPE', 'BP99_APEX','geometry_y']].to_file(os.path.join(output_path,\"neighborhood_buildings.shp\"))"
   ]
  },
  {
   "cell_type": "code",
   "execution_count": 3,
   "metadata": {},
   "outputs": [],
   "source": [
    "# TODO: additional processing to make resolution a bit better\n",
    "\n",
    "# bounding box of each building to simplify geometries\n",
    "building_neigh = gp.read_file(\"/home/nweiss/gdrive/Year 2/Summer - Duwamish/GIS/Neighborhood_Files/neighborhood_buildings.shp\")\n",
    "\n",
    "# remove buildings that are < minimum area"
   ]
  },
  {
   "cell_type": "code",
   "execution_count": 11,
   "metadata": {},
   "outputs": [],
   "source": [
    "geom = building_neigh.envelope\n",
    "building_neigh.set_geometry(geom, inplace = True)\n",
    "building_neigh['AREA'] = building_neigh.area\n",
    "building_neigh.to_file(os.path.join(output_path, \"neighborhood_buildings_bb.shp\"))"
   ]
  },
  {
   "cell_type": "code",
   "execution_count": 17,
   "metadata": {},
   "outputs": [],
   "source": [
    "parcels_path = \"/home/nweiss/gdrive/Year 2/Summer - Duwamish/GIS/Neighborhood_Files/neighborhood_parcels_v2.shp\"\n",
    "parcels = gp.read_file(parcels_path)"
   ]
  },
  {
   "cell_type": "code",
   "execution_count": 34,
   "metadata": {},
   "outputs": [],
   "source": [
    "parcels_res_1 = parcels[parcels['LAND_USE_1']=='Single Family']\n",
    "parcels_res_2 = parcels[parcels['LAND_USE_1']=='Multi-Family']"
   ]
  },
  {
   "cell_type": "code",
   "execution_count": 35,
   "metadata": {},
   "outputs": [],
   "source": [
    "parcels_res = pd.concat([parcels_res_1, parcels_res_2])"
   ]
  },
  {
   "cell_type": "code",
   "execution_count": 48,
   "metadata": {},
   "outputs": [],
   "source": [
    "parcel_building_join = gp.sjoin(building_neigh, parcels_res, how = 'inner')\n",
    "#### TODO DOUBLE CHECK THIS"
   ]
  },
  {
   "cell_type": "code",
   "execution_count": 54,
   "metadata": {},
   "outputs": [],
   "source": [
    "parcel_building_single = parcel_building_join.sort_values(by=['PIN','AREA']).drop_duplicates(subset=['PIN'], keep='last')\n",
    "parcel_building_single.to_file(os.path.join(output_path, \"neighborhood_buildings_bb_trim.shp\"))"
   ]
  },
  {
   "attachments": {},
   "cell_type": "markdown",
   "metadata": {},
   "source": [
    "TOPO PROCESSING\n",
    "- merging bathymetry data with topography dem"
   ]
  },
  {
   "cell_type": "code",
   "execution_count": null,
   "metadata": {},
   "outputs": [],
   "source": [
    "# mask topo_rast by extent\n",
    "topo_rast = \"/home/nweiss/gdrive/Year 2/Summer - Duwamish/GIS/Neighborhood_Files/topo.tif\"\n",
    "\n",
    "with fiona.open(extent_path, \"r\") as shapefile:\n",
    "    shapes = [feature[\"geometry\"] for feature in shapefile]\n",
    "\n",
    "with rasterio.open(topo_rast) as src:\n",
    "    out_image, out_transform = rasterio.mask.mask(src, shapes, crop=True)\n",
    "    out_meta = src.meta"
   ]
  },
  {
   "cell_type": "code",
   "execution_count": null,
   "metadata": {},
   "outputs": [],
   "source": [
    "topo_outpath = \"/home/nweiss/gdrive/Year 2/Summer - Duwamish/GIS/Neighborhood_Files/neighborhood_topo.asc\"\n",
    "\n",
    "# convert to ascii file\n",
    "out_meta.update({\"driver\": \"AAIGrid\",\n",
    "                 \"height\": out_image.shape[1],\n",
    "                 \"width\": out_image.shape[2],\n",
    "                 \"transform\": out_transform})\n",
    "\n",
    "with rasterio.open(topo_outpath, \"w\", **out_meta) as dest:\n",
    "    dest.write(out_image)"
   ]
  },
  {
   "attachments": {},
   "cell_type": "markdown",
   "metadata": {},
   "source": [
    "EXTRA PROCESSING FOR ASSIGNING ABSOLUTE BUILDING HEIGHTS FROM TERRAIN"
   ]
  },
  {
   "cell_type": "code",
   "execution_count": null,
   "metadata": {},
   "outputs": [],
   "source": [
    "## used topo to raster tool with 5ft contours and 5 ft pixel resolution\n",
    "# there may be better ways to get DEM / elevation values as raster\n",
    "topo_rast = \"/home/nweiss/gdrive/Year 2/Summer - Duwamish/GIS/Processed/min_bath_topo.tif\"\n",
    "zonal_stats = rasterstats.zonal_stats(buildings_merge, topo_rast, stats=\"count min mean max median std\")\n",
    "stats_df = pd.DataFrame.from_dict(zonal_stats).reset_index()\n",
    "buildings_merge.reset_index(inplace = True)\n",
    "merged_heights = pd.merge(buildings_merge, stats_df, how = 'left', left_on = 'index', right_on = 'index')\n",
    "merged_heights['height_upd'] = np.where((merged_heights['BP99_APEX'].isna()==False) | (merged_heights['mean'].isna()==False), default_height, (merged_heights['BP99_APEX']-merged_heights['mean']))\n",
    "merged_heights.set_geometry('geometry_y')\n",
    "merged_heights[['OBJECTID','BP99_APEX','mean','min','max','median','std','height_upd','geometry_y']].to_file(\"/home/nweiss/gdrive/Year 2/Summer - Duwamish/GIS/Processed/building_heights_upd.shp\")"
   ]
  }
 ],
 "metadata": {
  "kernelspec": {
   "display_name": "gis",
   "language": "python",
   "name": "python3"
  },
  "language_info": {
   "codemirror_mode": {
    "name": "ipython",
    "version": 3
   },
   "file_extension": ".py",
   "mimetype": "text/x-python",
   "name": "python",
   "nbconvert_exporter": "python",
   "pygments_lexer": "ipython3",
   "version": "3.11.4"
  },
  "orig_nbformat": 4
 },
 "nbformat": 4,
 "nbformat_minor": 2
}
