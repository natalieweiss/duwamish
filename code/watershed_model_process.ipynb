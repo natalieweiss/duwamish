{
 "cells": [
  {
   "cell_type": "code",
   "execution_count": 5,
   "metadata": {},
   "outputs": [],
   "source": [
    "import pandas as pd\n",
    "import geopandas as gp\n",
    "import numpy as np"
   ]
  },
  {
   "cell_type": "code",
   "execution_count": 2,
   "metadata": {},
   "outputs": [],
   "source": [
    "# layers: contours, building footprints, watershed boundary, roads, water channel"
   ]
  },
  {
   "cell_type": "code",
   "execution_count": 6,
   "metadata": {},
   "outputs": [],
   "source": [
    "# set crs\n",
    "crs = 2926"
   ]
  },
  {
   "cell_type": "code",
   "execution_count": 11,
   "metadata": {},
   "outputs": [],
   "source": [
    "# set extents\n",
    "extent_path = \"/home/nweiss/gdrive/Year 2/Summer - Duwamish/GIS/Boundary/SP clipping area.shp\"\n",
    "extent = gp.read_file(extent_path)\n",
    "extent = extent.to_crs(crs)"
   ]
  },
  {
   "cell_type": "code",
   "execution_count": 12,
   "metadata": {},
   "outputs": [],
   "source": [
    "# set watershed boundary\n",
    "watershed_path = \"/home/nweiss/gdrive/Year 2/Summer - Duwamish/GIS/Processed/green_duwamish_watershed.shp\"\n",
    "watershed = gp.read_file(watershed_path)\n"
   ]
  },
  {
   "cell_type": "code",
   "execution_count": 13,
   "metadata": {},
   "outputs": [],
   "source": [
    "# find intersection of watershed boundary and extent\n",
    "watershed_extent_intersect = gp.overlay(watershed, extent, how='intersection')"
   ]
  },
  {
   "attachments": {},
   "cell_type": "markdown",
   "metadata": {},
   "source": [
    "Building processing:\n",
    "-find all buidling centroids that fall within the watershed boundaries\n",
    "-export the building footprints of those centroids"
   ]
  },
  {
   "cell_type": "code",
   "execution_count": null,
   "metadata": {},
   "outputs": [],
   "source": [
    "# process building footprints to inside the extent\n",
    "buildings_path = \"/home/nweiss/gdrive/Year 2/Summer - Duwamish/GIS/Processed/buildings_projected_trim.shp\"\n",
    "buildings = gp.read_file(buildings_path)"
   ]
  },
  {
   "cell_type": "code",
   "execution_count": null,
   "metadata": {},
   "outputs": [],
   "source": [
    "buildings['centroid_geom'] = buildings.centroid()\n",
    "buildings.set_geometry('centroid_geom',inplace = True)\n",
    "buildings_clip = gp.overlay(buildings, watershed_extent_intersect, how = \"intersection\")\n",
    "buildings_clip.set_geometry('geom', inplace = True)\n",
    "buildings_clip.to_file(\"/home/nweiss/gdrive/Year 2/Summer - Duwamish/GIS/Processed/buildings_clipped_WS_model.shp\")"
   ]
  },
  {
   "attachments": {},
   "cell_type": "markdown",
   "metadata": {},
   "source": [
    "Contour processing:\n",
    "-get 5' contours within the water channel boundary for greater definition\n",
    "-20' contour resolution within the entire extent of the model area\n",
    "-merge the 5' and 20' contour subsets\n",
    "-export and create mesh in Rhino"
   ]
  },
  {
   "cell_type": "code",
   "execution_count": null,
   "metadata": {},
   "outputs": [],
   "source": [
    "# process contours to inside the extent\n",
    "# select all contours that fall within water channel boundary - processed in QGIS\n",
    "water_channel_cont_path = \"/home/nweiss/gdrive/Year 2/Summer - Duwamish/GIS/Processed/duwamish_river_contours.shp\"\n",
    "water_channel_contours = gp.read_file(water_channel_cont_path)\n",
    "\n",
    "# select all contours that are 20' ft - processed in QGIS\n",
    "contours_path = \"/home/nweiss/gdrive/Year 2/Summer - Duwamish/GIS/Processed/clipped_20ft_contours.shp\"\n",
    "contours = gp.read_file(contours_path)\n",
    "\n",
    "# clip to extent\n",
    "contours_clip = gp.overlay(contours, extent, how = 'intersection')\n",
    "\n",
    "# merge water channel contours and 20' contours\n",
    "contours_merge = gp.merge(contours_clip, water_channel_contours)"
   ]
  },
  {
   "attachments": {},
   "cell_type": "markdown",
   "metadata": {},
   "source": [
    "Road processing\n",
    "- clip to watershed extent ? clip to extent ?\n",
    "- find average street width to backfill NaN\n",
    "- buffer and export outlines"
   ]
  },
  {
   "cell_type": "code",
   "execution_count": null,
   "metadata": {},
   "outputs": [],
   "source": [
    "streets_path = \"/home/nweiss/gdrive/Year 2/Summer - Duwamish/GIS/Projected/seattle_streets_projected.shp\"\n",
    "streets = gp.read_file(streets_path)\n",
    "\n",
    "streets['ARTCLASS'] = streets['ARTCLASS'].map(str)\n",
    "\n",
    "## backfill data by average width for each functional class\n",
    "# remove rows = 0 before finding average\n",
    "streets_wid = streets[['ARTCLASS','SURFACEWID']]\n",
    "streets_wid = streets_wid[streets_wid.SURFACEWID != 0]\n",
    "streets_wid.SURFACEWID.value_counts()\n",
    "\n",
    "## calculate average by arterial class and surface type\n",
    "streets_wid_avg = streets_wid.groupby(['ARTCLASS']).mean()\n",
    "streets_wid_avg.reset_index(inplace = True)\n",
    "streets_wid_avg['ARTCLASS'] = streets_wid_avg['ARTCLASS'].map(str).str[0]\n"
   ]
  },
  {
   "cell_type": "code",
   "execution_count": null,
   "metadata": {},
   "outputs": [],
   "source": [
    "# clip streets to extent\n",
    "streets_clip = gp.overlay(streets, watershed_extent_intersect, how = \"intersection\")"
   ]
  },
  {
   "cell_type": "code",
   "execution_count": null,
   "metadata": {},
   "outputs": [],
   "source": [
    "# backfill data in the CLIPPED AND PROJECTED FILE by average width for each functional class\n",
    "# NOTE: arterial class == 9 has one feature with surface width == 0. there is no backfilled data for this road\n",
    "streets_bfill = pd.merge(left = streets_clip, right = streets_wid_avg, how = 'left', left_on = 'ARTCLASS', right_on = 'ARTCLASS')\n",
    "streets_bfill['width_upd'] = np.where(streets_bfill['SURFACEWID_x'] == 0, streets_bfill['SURFACEWID_y'], streets_bfill['SURFACEWID_x'])"
   ]
  },
  {
   "cell_type": "code",
   "execution_count": null,
   "metadata": {},
   "outputs": [],
   "source": [
    "# buffer by the surface width\n",
    "streets_bfill['geometry'] = streets_bfill.buffer(distance = streets_bfill['width_upd'])\n",
    "columns = ['OBJECTID','ARTCLASS','UNITDESC','STNAME_ORD','ARTDESCRIP','SURFACEWID_x','width_upd','geometry']\n",
    "\n",
    "# output buffers as polygons and as outline polylines\n",
    "streets_bfill[columns].to_file(\"/home/nweiss/gdrive/Year 2/Summer - Duwamish/GIS/Processed/seattle_streets_buffer_WS_model.shp\")\n",
    "streets_bfill.dissolve().boundary.to_file(\"/home/nweiss/gdrive/Year 2/Summer - Duwamish/GIS/Processed/seattle_streets_buffer_outlines_WS_model.shp\")"
   ]
  }
 ],
 "metadata": {
  "kernelspec": {
   "display_name": "gis",
   "language": "python",
   "name": "python3"
  },
  "language_info": {
   "codemirror_mode": {
    "name": "ipython",
    "version": 3
   },
   "file_extension": ".py",
   "mimetype": "text/x-python",
   "name": "python",
   "nbconvert_exporter": "python",
   "pygments_lexer": "ipython3",
   "version": "3.11.4"
  },
  "orig_nbformat": 4
 },
 "nbformat": 4,
 "nbformat_minor": 2
}
