{
 "cells": [
  {
   "cell_type": "code",
   "execution_count": 103,
   "metadata": {},
   "outputs": [],
   "source": [
    "import pandas as pd\n",
    "import geopandas as gp\n",
    "import numpy as np\n",
    "import os\n",
    "import itertools\n",
    "import glob\n",
    "from datetime import date"
   ]
  },
  {
   "cell_type": "code",
   "execution_count": 104,
   "metadata": {},
   "outputs": [],
   "source": [
    "sample_outing_name = 'nov23'\n",
    "# bring in excel spreadsheet\n",
    "df_df = \"/home/nweiss/gdrive/Year 2/Summer - Duwamish/Sampling_Results/2023 Screening Results/2023.12/BI, SI, GPS, HC, SPB, DP 1107-11082023 Screening Results.xlsx\""
   ]
  },
  {
   "cell_type": "code",
   "execution_count": 105,
   "metadata": {},
   "outputs": [],
   "source": [
    "# bring in previous results to append to\n",
    "results_df = f\"/home/nweiss/gdrive/Year 2/Summer - Duwamish/Sampling_Results/{sample_outing_name}_results.csv\"\n",
    "output_file_name =f\"/home/nweiss/gdrive/Year 2/Summer - Duwamish/Sampling_Results/{sample_outing_name}_w_df_results.csv\""
   ]
  },
  {
   "cell_type": "code",
   "execution_count": 106,
   "metadata": {},
   "outputs": [],
   "source": [
    "# columns\n",
    "soil_dxf_teq_cols = ['DATE','SAMP_ID', 'Analyte', 'Result (mg/Kg)', 'UB (mg/kg)']\n",
    "water_dxf_teq_cols = ['DATE','SAMP_ID', 'Analyte', 'Result (pg/L)', 'UB (ug/L)']"
   ]
  },
  {
   "cell_type": "code",
   "execution_count": 107,
   "metadata": {},
   "outputs": [],
   "source": [
    "# calculate TEQ for dioxins and furans\n",
    "soil_dxf_teq_df = pd.read_excel(df_df, sheet_name = 'Dioxins and Furans Soils TEQ')\n",
    "\n",
    "soil_dxf_teq_df = soil_dxf_teq_df[soil_dxf_teq_cols]\n",
    "soil_dxf_teq_df['Analyte'] = soil_dxf_teq_df['Analyte'] + ' TEQ'\n",
    "soil_dxf_teq_df.rename(columns = {\"Analyte\": 'Result Parameter Name', \"UB (mg/kg)\":\"Result Value Unit\", \"SAMP_ID\": \"Sample ID\", \"DATE\":\"Field Collection Start Date\"}, inplace = True)\n",
    "\n",
    "soil_dxf_teq_df['Result Value Units'] = 'mg/kg'\n",
    "soil_dxf_teq_df['Sample Matrix'] = 'Soil'\n",
    "soil_dxf_teq_df['Measured'] = np.where(soil_dxf_teq_df['Result (mg/Kg)'].isna(), 'Upper Bound','Measured')\n",
    "soil_dxf_teq_df['Measured'] = np.where(soil_dxf_teq_df['Result (mg/Kg)']=='ND', 'Upper Bound',soil_dxf_teq_df['Measured'])"
   ]
  },
  {
   "cell_type": "code",
   "execution_count": 108,
   "metadata": {},
   "outputs": [],
   "source": [
    "# water dioxins and furans TEQ results\n",
    "# calculate TEQ for dioxins and furans\n",
    "water_dxf_teq_df = pd.read_excel(df_df, sheet_name = 'Dioxins and Furans Waters TEQ')\n",
    "\n",
    "water_dxf_teq_df = water_dxf_teq_df[water_dxf_teq_cols]\n",
    "water_dxf_teq_df['Analyte'] = water_dxf_teq_df['Analyte'] + ' TEQ'\n",
    "water_dxf_teq_df.rename(columns = {\"Analyte\": 'Result Parameter Name', \"UB (ug/L)\":\"Result Value\",\"SAMP_ID\": \"Sample ID\", \"DATE\":\"Field Collection Start Date\"}, inplace = True)\n",
    "water_dxf_teq_df['Result Value Units'] = 'ug/L'\n",
    "water_dxf_teq_df['Sample Matrix'] = 'Water'\n",
    "water_dxf_teq_df['Measured'] = np.where(water_dxf_teq_df['Result (pg/L)'].isna(), 'Upper Bound','Measured')\n",
    "water_dxf_teq_df['Measured'] = np.where(water_dxf_teq_df['Result (pg/L)']=='ND', 'Upper Bound',water_dxf_teq_df['Measured'])\n",
    "water_dxf_teq_df.drop(columns ='Result (pg/L)', inplace = True)"
   ]
  },
  {
   "cell_type": "code",
   "execution_count": 109,
   "metadata": {},
   "outputs": [],
   "source": [
    "# append to previous results\n",
    "prev_results = pd.read_csv(results_df)"
   ]
  },
  {
   "cell_type": "code",
   "execution_count": 110,
   "metadata": {},
   "outputs": [
    {
     "name": "stdout",
     "output_type": "stream",
     "text": [
      "Index(['Sample ID', 'Field Collection Start Date', 'Sample Matrix_clean',\n",
      "       'Sample Matrix', 'Sample Source', 'Result Parameter Name',\n",
      "       'Result Parameter Name_clean', 'Result Value', 'Result Value Units',\n",
      "       'Result Reporting Limit', 'Result Reporting Limit Type',\n",
      "       'Result Detection Limit', 'Result Detection Limit Type',\n",
      "       'Result Data Qualifier', 'Result Method'],\n",
      "      dtype='object')\n"
     ]
    }
   ],
   "source": [
    "print(prev_results.columns)"
   ]
  },
  {
   "cell_type": "code",
   "execution_count": 111,
   "metadata": {},
   "outputs": [],
   "source": [
    "prev_results = pd.concat([prev_results,soil_dxf_teq_df,water_dxf_teq_df])"
   ]
  },
  {
   "cell_type": "code",
   "execution_count": 112,
   "metadata": {},
   "outputs": [],
   "source": [
    "prev_results.to_csv(output_file_name)"
   ]
  }
 ],
 "metadata": {
  "kernelspec": {
   "display_name": "gis",
   "language": "python",
   "name": "python3"
  },
  "language_info": {
   "codemirror_mode": {
    "name": "ipython",
    "version": 3
   },
   "file_extension": ".py",
   "mimetype": "text/x-python",
   "name": "python",
   "nbconvert_exporter": "python",
   "pygments_lexer": "ipython3",
   "version": "3.11.4"
  },
  "orig_nbformat": 4
 },
 "nbformat": 4,
 "nbformat_minor": 2
}
