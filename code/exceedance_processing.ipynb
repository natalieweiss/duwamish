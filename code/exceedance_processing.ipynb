{
 "cells": [
  {
   "cell_type": "code",
   "execution_count": 11,
   "metadata": {},
   "outputs": [],
   "source": [
    "import pandas as pd\n",
    "import geopandas as gp\n",
    "import numpy as np\n",
    "import os\n",
    "import itertools"
   ]
  },
  {
   "cell_type": "code",
   "execution_count": 60,
   "metadata": {},
   "outputs": [
    {
     "name": "stdout",
     "output_type": "stream",
     "text": [
      "August 8 Sampling Event Screening Results.xlsx\n",
      "Duwamish Puget Creek Screening Results 2023.xlsx\n",
      "Duwamish Superfund Waters Screening Results Jan. 2023.xlsx\n",
      "Kellogg Island Screening Results 2023.xlsx\n",
      "People's Park Screening Results 2023.xlsx\n",
      "S4 Screening Results 2023.xlsx\n"
     ]
    }
   ],
   "source": [
    "# list all files in the directory\n",
    "subfolder_path = \"/home/nweiss/gdrive/Year 2/Summer - Duwamish/Sampling_Results\"\n",
    "\n",
    "# Use a list comprehension to get all .xlsx files in the subfolder\n",
    "results_files = [f for f in os.listdir(subfolder_path) if f.endswith(\".xlsx\")]"
   ]
  },
  {
   "cell_type": "code",
   "execution_count": 56,
   "metadata": {},
   "outputs": [],
   "source": [
    "# list all tabs within the excel file\n",
    "\n",
    "tab_list = ['pah_soils', 'rcra_soils', 'rcra_water', 'pah_soil_gw','pah_water_mtca']"
   ]
  },
  {
   "cell_type": "markdown",
   "metadata": {},
   "source": [
    "PAH SOILS"
   ]
  },
  {
   "cell_type": "code",
   "execution_count": 48,
   "metadata": {},
   "outputs": [],
   "source": [
    "# Read Excel file\n",
    "df = pd.read_excel(\"/home/nweiss/gdrive/Year 2/Summer - Duwamish/Sampling_Results/August 8 Sampling Event Screening Results.xlsx\", sheet_name = \"PAH Soils\")\n",
    "\n",
    "# Process Excel file\n",
    "df.drop([0,2,3,4], inplace = True)\n",
    "df = df[df['Unnamed: 0'].isna()==False]\n",
    "new_columns = df.iloc[0]\n",
    "df.columns = new_columns\n",
    "df.drop(1, inplace = True)\n",
    "df.reset_index(drop = True, inplace = True)\n",
    "\n",
    "# Find the contaminants that are exceeded\n",
    "mask = df.eq('Y').any()\n",
    "df_exceeded = df.loc[:, mask]\n",
    "\n",
    "# join sample id and date collected back to the df_exceeded table\n",
    "df_exceeded = pd.merge(left = df[['Date Collected', 'Sample ID']], right = df_exceeded, how = 'inner', left_index = True, right_index = True)\n",
    "\n",
    "# Concatenate back to other results\n",
    "pah_soils = pd.concat([df_exceeded])"
   ]
  },
  {
   "cell_type": "code",
   "execution_count": 61,
   "metadata": {},
   "outputs": [
    {
     "data": {
      "text/html": [
       "<div>\n",
       "<style scoped>\n",
       "    .dataframe tbody tr th:only-of-type {\n",
       "        vertical-align: middle;\n",
       "    }\n",
       "\n",
       "    .dataframe tbody tr th {\n",
       "        vertical-align: top;\n",
       "    }\n",
       "\n",
       "    .dataframe thead th {\n",
       "        text-align: right;\n",
       "    }\n",
       "</style>\n",
       "<table border=\"1\" class=\"dataframe\">\n",
       "  <thead>\n",
       "    <tr style=\"text-align: right;\">\n",
       "      <th>1</th>\n",
       "      <th>Date Collected</th>\n",
       "      <th>Sample ID</th>\n",
       "      <th>WA DOE Anthracene Default Cleanup Level Method A Unrestricted (mg/kg) (2)</th>\n",
       "      <th>WA DOE Benzo(a)anthracene Cleanup Level (mg/kg) (2)</th>\n",
       "      <th>EPA RSL Benzo(a)pyrene Ingested (mg/kg) (1)</th>\n",
       "      <th>WA DOE Benzo(a)pyrene Default Cleanup Level Method A Unrestricted (mg/kg) (2)</th>\n",
       "      <th>WA DOE Benzo(b)fluoranthene Default Cleanup Level Method A Unrestricted (mg/kg) (2)</th>\n",
       "      <th>WA DOE Benzo(g,h,i)perylene Default Cleanup Level Method A Unrestricted (mg/kg) (2)</th>\n",
       "      <th>WA DOE Benzo(k)fluoranthene Default Cleanup Level Method A Unrestricted (mg/kg) (2)</th>\n",
       "      <th>WA DOE Chrysene Default Cleanup Level Method A Unrestricted (mg/kg) (2)</th>\n",
       "      <th>WA DOE Fluoranthene Default Cleanup Level Method A Unrestricted (mg/kg) (2)</th>\n",
       "      <th>WA DOE Indeno(1,2,3-cd)pyrene Default Cleanup Level Method A Unrestricted (mg/kg) (2)</th>\n",
       "      <th>WA DOE Naphthalene Default Cleanup Level Method A Unrestricted (mg/kg) (2)</th>\n",
       "      <th>WA DOE Phenanthrene Default Cleanup Level Method A Unrestricted (mg/kg) (2)</th>\n",
       "      <th>WA DOE Pyrene Default Cleanup Level Method A Unrestricted (mg/kg) (2)</th>\n",
       "    </tr>\n",
       "  </thead>\n",
       "  <tbody>\n",
       "    <tr>\n",
       "      <th>0</th>\n",
       "      <td>2023-08-08 00:00:00</td>\n",
       "      <td>HPS-1</td>\n",
       "      <td>Y</td>\n",
       "      <td>Y</td>\n",
       "      <td>Y</td>\n",
       "      <td>Y</td>\n",
       "      <td>Y</td>\n",
       "      <td>Y</td>\n",
       "      <td>Y</td>\n",
       "      <td>Y</td>\n",
       "      <td>Y</td>\n",
       "      <td>Y</td>\n",
       "      <td>Y</td>\n",
       "      <td>Y</td>\n",
       "      <td>Y</td>\n",
       "    </tr>\n",
       "  </tbody>\n",
       "</table>\n",
       "</div>"
      ],
      "text/plain": [
       "1       Date Collected Sample ID  \\\n",
       "0  2023-08-08 00:00:00     HPS-1   \n",
       "\n",
       "1 WA DOE Anthracene Default Cleanup Level Method A Unrestricted (mg/kg) (2)  \\\n",
       "0                                                  Y                          \n",
       "\n",
       "1 WA DOE Benzo(a)anthracene Cleanup Level (mg/kg) (2)  \\\n",
       "0                                                  Y    \n",
       "\n",
       "1 EPA RSL Benzo(a)pyrene Ingested (mg/kg) (1)  \\\n",
       "0                                           Y   \n",
       "\n",
       "1 WA DOE Benzo(a)pyrene Default Cleanup Level Method A Unrestricted (mg/kg) (2)  \\\n",
       "0                                                  Y                              \n",
       "\n",
       "1 WA DOE Benzo(b)fluoranthene Default Cleanup Level Method A Unrestricted (mg/kg) (2)  \\\n",
       "0                                                  Y                                    \n",
       "\n",
       "1 WA DOE Benzo(g,h,i)perylene Default Cleanup Level Method A Unrestricted (mg/kg) (2)  \\\n",
       "0                                                  Y                                    \n",
       "\n",
       "1 WA DOE Benzo(k)fluoranthene Default Cleanup Level Method A Unrestricted (mg/kg) (2)  \\\n",
       "0                                                  Y                                    \n",
       "\n",
       "1 WA DOE Chrysene Default Cleanup Level Method A Unrestricted (mg/kg) (2)  \\\n",
       "0                                                  Y                        \n",
       "\n",
       "1 WA DOE Fluoranthene Default Cleanup Level Method A Unrestricted (mg/kg) (2)  \\\n",
       "0                                                  Y                            \n",
       "\n",
       "1 WA DOE Indeno(1,2,3-cd)pyrene Default Cleanup Level Method A Unrestricted (mg/kg) (2)  \\\n",
       "0                                                  Y                                      \n",
       "\n",
       "1 WA DOE Naphthalene Default Cleanup Level Method A Unrestricted (mg/kg) (2)  \\\n",
       "0                                                  Y                           \n",
       "\n",
       "1 WA DOE Phenanthrene Default Cleanup Level Method A Unrestricted (mg/kg) (2)  \\\n",
       "0                                                  Y                            \n",
       "\n",
       "1 WA DOE Pyrene Default Cleanup Level Method A Unrestricted (mg/kg) (2)  \n",
       "0                                                  Y                     "
      ]
     },
     "execution_count": 61,
     "metadata": {},
     "output_type": "execute_result"
    }
   ],
   "source": [
    "df_exceeded"
   ]
  },
  {
   "cell_type": "markdown",
   "metadata": {},
   "source": [
    "JOIN TABLES OF RESULTS TO MASTER SCREENING LEVELS FROM F&B"
   ]
  },
  {
   "cell_type": "code",
   "execution_count": 174,
   "metadata": {},
   "outputs": [],
   "source": [
    "# bring in screening results and master screening level spreadsheets\n",
    "results = \"/home/nweiss/gdrive/Year 2/Summer - Duwamish/Sampling_Results/S4 and S6 Screening Results_CLEAN.xlsx\"\n",
    "sl = \"/home/nweiss/gdrive/Year 2/Summer - Duwamish/Sampling_Results/Master_Screening_Level.xlsx\""
   ]
  },
  {
   "cell_type": "code",
   "execution_count": 175,
   "metadata": {},
   "outputs": [],
   "source": [
    "# create data frames of the raw data and the lookup\n",
    "results_df = pd.read_excel(results, sheet_name='RAW_DATA')\n",
    "pcb_arc_lookup = pd.read_excel(results, sheet_name='PCB to Aroclor Lookup')\n",
    "\n",
    "# create data frame of the screening levels for soils and\n",
    "sl_soil_df = pd.read_excel(sl, sheet_name='Soil')\n",
    "sl_water_df = pd.read_excel(sl, sheet_name='Water')"
   ]
  },
  {
   "cell_type": "code",
   "execution_count": 176,
   "metadata": {},
   "outputs": [],
   "source": [
    "# format pcb to aroclor loo\n",
    "pcb_arc_lookup = pcb_arc_lookup[pcb_arc_lookup['Aroclor Name'].str.contains('aroclor', na=False)][['PCB Isomer', 'Aroclor Name']]"
   ]
  },
  {
   "cell_type": "code",
   "execution_count": 177,
   "metadata": {},
   "outputs": [],
   "source": [
    "# replace pcb names with the aroclor names to match with F&B results\n",
    "sl_soil_df_join = pd.merge(sl_soil_df, pcb_arc_lookup, how = 'outer', left_on = 'Chemical', right_on = 'PCB Isomer')\n",
    "sl_soil_df_join['Chemical'] = np.where(sl_soil_df_join['Aroclor Name'].str.contains('aroclor', na=False), sl_soil_df_join['Aroclor Name'], sl_soil_df_join['Chemical'])\n",
    "sl_soil_df_join.drop(columns = pcb_arc_lookup.columns, inplace = True)\n",
    "sl_soil_df_join = sl_soil_df_join[sl_soil_df_join['Medium']=='Soil']"
   ]
  },
  {
   "cell_type": "code",
   "execution_count": 178,
   "metadata": {},
   "outputs": [],
   "source": [
    "# replace pcb names with the aroclor names to match with F&B results\n",
    "sl_water_df_join = pd.merge(sl_water_df, pcb_arc_lookup, how = 'outer', left_on = 'Chemical', right_on = 'PCB Isomer')\n",
    "sl_water_df_join['Chemical'] = np.where(sl_water_df_join['Aroclor Name'].str.contains('aroclor', na=False), sl_water_df_join['Aroclor Name'], sl_water_df_join['Chemical'])\n",
    "sl_water_df_join.drop(columns = pcb_arc_lookup.columns, inplace = True)\n",
    "sl_water_df_join = sl_water_df_join[sl_water_df_join['Medium']=='Water']"
   ]
  },
  {
   "cell_type": "code",
   "execution_count": 179,
   "metadata": {},
   "outputs": [],
   "source": [
    "# remove unnecessary columns from raw data\n",
    "results_df = results_df[['Sample ID','Sample Matrix','Sample Source','Result Parameter Name','Result Value',\n",
    "       'Result Value Units', 'Result Reporting Limit',\n",
    "       'Result Reporting Limit Type', 'Result Detection Limit',\n",
    "       'Result Detection Limit Type', 'Result Data Qualifier']]"
   ]
  },
  {
   "cell_type": "code",
   "execution_count": 180,
   "metadata": {},
   "outputs": [],
   "source": [
    "# split results into soil and water\n",
    "\n",
    "results_soil_df = results_df[results_df['Sample Source']=='Soil']\n",
    "results_water_df = results_df[results_df['Sample Matrix']=='Water']"
   ]
  },
  {
   "cell_type": "code",
   "execution_count": 181,
   "metadata": {},
   "outputs": [],
   "source": [
    "# join screening levels to the results\n",
    "soil_sl_join = pd.merge(sl_soil_df_join,results_soil_df,how = 'outer', left_on = ['Chemical'], right_on = ['Result Parameter Name'])"
   ]
  },
  {
   "cell_type": "code",
   "execution_count": 182,
   "metadata": {},
   "outputs": [
    {
     "data": {
      "text/plain": [
       "0       0.77\n",
       "1       5.50\n",
       "2      20.00\n",
       "3      46.00\n",
       "4       4.50\n",
       "       ...  \n",
       "754     0.88\n",
       "755     2.90\n",
       "756     0.23\n",
       "757      NaN\n",
       "758      NaN\n",
       "Name: Screening Level Measurement, Length: 548, dtype: float64"
      ]
     },
     "execution_count": 182,
     "metadata": {},
     "output_type": "execute_result"
    }
   ],
   "source": [
    "# remove screening levels that do not have values\n",
    "soil_sl_join = soil_sl_join[(soil_sl_join['Screening Level Measurement']!='na')]\n",
    "soil_sl_join = soil_sl_join[(soil_sl_join['Screening Level Measurement']!='TBD')]\n",
    "soil_sl_join = soil_sl_join[(soil_sl_join['Screening Level Measurement']!='PQL')]\n",
    "soil_sl_join['Screening Level Measurement'].astype(float)"
   ]
  },
  {
   "cell_type": "code",
   "execution_count": 183,
   "metadata": {},
   "outputs": [],
   "source": [
    "# calculate whether the screening levels have been exceeded\n",
    "soil_sl_join['SL_exceeded'] = np.where(soil_sl_join['Screening Level Measurement'] <soil_sl_join['Result Value'],'Y','N')"
   ]
  },
  {
   "cell_type": "code",
   "execution_count": 184,
   "metadata": {},
   "outputs": [],
   "source": [
    "# join screening levels to results\n",
    "water_sl_join = pd.merge(sl_water_df_join,results_water_df,how = 'outer', left_on = ['Chemical'], right_on = ['Result Parameter Name'])"
   ]
  },
  {
   "cell_type": "code",
   "execution_count": 185,
   "metadata": {},
   "outputs": [],
   "source": [
    "# convert any screening levels that are in mg/L to ug/L\n",
    "water_sl_join[water_sl_join['Unit'] == 'mg/L']\n",
    "water_sl_join['Screening_Level_Measurement_Convert'] = np.where(water_sl_join['Unit'] == 'mg/L', water_sl_join['Screening Level Measurement']*1000, water_sl_join['Screening Level Measurement']) "
   ]
  },
  {
   "cell_type": "code",
   "execution_count": 186,
   "metadata": {},
   "outputs": [],
   "source": [
    "# calculate whether the screening levels have been exceeded\n",
    "water_sl_join['SL_exceeded'] = np.where(water_sl_join['Screening_Level_Measurement_Convert']< water_sl_join['Result Value'], 'Y','N')"
   ]
  },
  {
   "cell_type": "code",
   "execution_count": 187,
   "metadata": {},
   "outputs": [
    {
     "data": {
      "text/plain": [
       "Index(['Medium', 'Chemical Group', 'Chemical', 'Screening Level Type',\n",
       "       'Screening Level Measurement', 'Unit', 'Source',\n",
       "       'Parameter in Spreadsheet', 'Sample ID', 'Sample Matrix',\n",
       "       'Sample Source', 'Result Parameter Name', 'Result Value',\n",
       "       'Result Value Units', 'Result Reporting Limit',\n",
       "       'Result Reporting Limit Type', 'Result Detection Limit',\n",
       "       'Result Detection Limit Type', 'Result Data Qualifier',\n",
       "       'Screening_Level_Measurement_Convert', 'SL_exceeded'],\n",
       "      dtype='object')"
      ]
     },
     "execution_count": 187,
     "metadata": {},
     "output_type": "execute_result"
    }
   ],
   "source": [
    "water_sl_join.columns"
   ]
  },
  {
   "cell_type": "code",
   "execution_count": 188,
   "metadata": {},
   "outputs": [],
   "source": [
    "columns = ['Medium', 'Sample ID','Chemical Group', 'Chemical', 'Result Parameter Name', 'Screening Level Type',\n",
    "       'Screening Level Measurement', 'Result Value', 'Result Data Qualifier', 'Unit', 'Source', 'SL_exceeded']\n",
    "\n",
    "all_results = pd.concat([soil_sl_join[columns],water_sl_join[columns]])"
   ]
  },
  {
   "cell_type": "code",
   "execution_count": 194,
   "metadata": {},
   "outputs": [],
   "source": [
    "# where the screening level is blank, replace exceedance with \"no screening level identified\"\n",
    "all_results['Screening Level Measurement'].fillna('No Screening Level Identified', inplace = True)\n",
    "all_results['SL_exceeded'] = np.where(all_results['Screening Level Measurement']=='No Screening Level Identified','No Screening Level Identified', all_results['SL_exceeded'])"
   ]
  },
  {
   "cell_type": "code",
   "execution_count": 196,
   "metadata": {},
   "outputs": [],
   "source": [
    "all_results.dropna(subset=['Sample ID'], inplace=True)\n",
    "all_results.to_csv('/home/nweiss/gdrive/Year 2/Summer - Duwamish/Sampling_Results/all_results.csv', index = False)"
   ]
  }
 ],
 "metadata": {
  "kernelspec": {
   "display_name": "gis",
   "language": "python",
   "name": "python3"
  },
  "language_info": {
   "codemirror_mode": {
    "name": "ipython",
    "version": 3
   },
   "file_extension": ".py",
   "mimetype": "text/x-python",
   "name": "python",
   "nbconvert_exporter": "python",
   "pygments_lexer": "ipython3",
   "version": "3.11.4"
  },
  "orig_nbformat": 4
 },
 "nbformat": 4,
 "nbformat_minor": 2
}
