{
 "cells": [
  {
   "cell_type": "code",
   "execution_count": 3,
   "metadata": {},
   "outputs": [],
   "source": [
    "import pandas as pd\n",
    "import geopandas as gp\n",
    "import numpy as np\n",
    "import os\n",
    "import itertools"
   ]
  },
  {
   "cell_type": "markdown",
   "metadata": {},
   "source": [
    "JOIN TABLES OF RESULTS TO MASTER SCREENING LEVELS FROM F&B"
   ]
  },
  {
   "cell_type": "code",
   "execution_count": 42,
   "metadata": {},
   "outputs": [],
   "source": [
    "# bring in screening results and master screening level spreadsheets\n",
    "results = \"/home/nweiss/gdrive/Year 2/Summer - Duwamish/Sampling_Results/S4 and S6 Screening Results_CLEAN.xlsx\"\n",
    "sl = \"/home/nweiss/gdrive/Year 2/Summer - Duwamish/Sampling_Results/Master_Screening_Levels.xlsx\""
   ]
  },
  {
   "cell_type": "code",
   "execution_count": 43,
   "metadata": {},
   "outputs": [],
   "source": [
    "# create data frames of the raw data and the lookup\n",
    "results_df = pd.read_excel(results, sheet_name='RAW_DATA')\n",
    "pcb_arc_lookup = pd.read_excel(results, sheet_name='PCB to Aroclor Lookup')\n",
    "\n",
    "# create data frame of the screening levels for soils and\n",
    "sl_soil_df = pd.read_excel(sl, sheet_name='Soil')\n",
    "sl_water_df = pd.read_excel(sl, sheet_name='Water')"
   ]
  },
  {
   "cell_type": "code",
   "execution_count": 44,
   "metadata": {},
   "outputs": [],
   "source": [
    "# format pcb to aroclor loo\n",
    "pcb_arc_lookup = pcb_arc_lookup[pcb_arc_lookup['Aroclor Name'].str.contains('aroclor', na=False)][['PCB Isomer', 'Aroclor Name']]"
   ]
  },
  {
   "cell_type": "code",
   "execution_count": 45,
   "metadata": {},
   "outputs": [],
   "source": [
    "# replace pcb names with the aroclor names to match with F&B results\n",
    "sl_soil_df_join = pd.merge(sl_soil_df, pcb_arc_lookup, how = 'outer', left_on = 'Chemical', right_on = 'PCB Isomer')\n",
    "sl_soil_df_join['Chemical'] = np.where(sl_soil_df_join['Aroclor Name'].str.contains('aroclor', na=False), sl_soil_df_join['Aroclor Name'], sl_soil_df_join['Chemical'])\n",
    "sl_soil_df_join.drop(columns = pcb_arc_lookup.columns, inplace = True)\n",
    "sl_soil_df_join = sl_soil_df_join[sl_soil_df_join['Medium']=='Soil']"
   ]
  },
  {
   "cell_type": "code",
   "execution_count": 46,
   "metadata": {},
   "outputs": [],
   "source": [
    "# replace pcb names with the aroclor names to match with F&B results\n",
    "sl_water_df_join = pd.merge(sl_water_df, pcb_arc_lookup, how = 'outer', left_on = 'Chemical', right_on = 'PCB Isomer')\n",
    "sl_water_df_join['Chemical'] = np.where(sl_water_df_join['Aroclor Name'].str.contains('aroclor', na=False), sl_water_df_join['Aroclor Name'], sl_water_df_join['Chemical'])\n",
    "sl_water_df_join.drop(columns = pcb_arc_lookup.columns, inplace = True)\n",
    "sl_water_df_join = sl_water_df_join[sl_water_df_join['Medium']=='Water']"
   ]
  },
  {
   "cell_type": "code",
   "execution_count": 47,
   "metadata": {},
   "outputs": [],
   "source": [
    "# remove unnecessary columns from raw data\n",
    "results_df = results_df[['Sample ID','Field Collection Start Date','Sample Matrix','Sample Source','Result Parameter Name','Result Value',\n",
    "       'Result Value Units', 'Result Reporting Limit',\n",
    "       'Result Reporting Limit Type', 'Result Detection Limit',\n",
    "       'Result Detection Limit Type', 'Result Data Qualifier']]"
   ]
  },
  {
   "cell_type": "code",
   "execution_count": 48,
   "metadata": {},
   "outputs": [],
   "source": [
    "# split results into soil and water\n",
    "results_soil_df = results_df[results_df['Sample Source']=='Soil']\n",
    "results_water_df = results_df[results_df['Sample Matrix']=='Water']"
   ]
  },
  {
   "cell_type": "code",
   "execution_count": 49,
   "metadata": {},
   "outputs": [],
   "source": [
    "# join screening levels to the results\n",
    "soil_sl_join = pd.merge(sl_soil_df_join,results_soil_df,how = 'outer', left_on = ['Chemical'], right_on = ['Result Parameter Name'])"
   ]
  },
  {
   "cell_type": "code",
   "execution_count": 50,
   "metadata": {},
   "outputs": [
    {
     "data": {
      "text/plain": [
       "0       0.77\n",
       "1       5.50\n",
       "2      20.00\n",
       "3      46.00\n",
       "4       4.50\n",
       "       ...  \n",
       "754     0.88\n",
       "755     2.90\n",
       "756     0.23\n",
       "757      NaN\n",
       "758      NaN\n",
       "Name: Screening Level Measurement, Length: 548, dtype: float64"
      ]
     },
     "execution_count": 50,
     "metadata": {},
     "output_type": "execute_result"
    }
   ],
   "source": [
    "# remove screening levels that do not have values\n",
    "soil_sl_join = soil_sl_join[(soil_sl_join['Screening Level Measurement']!='na')]\n",
    "soil_sl_join = soil_sl_join[(soil_sl_join['Screening Level Measurement']!='TBD')]\n",
    "soil_sl_join = soil_sl_join[(soil_sl_join['Screening Level Measurement']!='PQL')]\n",
    "soil_sl_join['Screening Level Measurement'].astype(float)"
   ]
  },
  {
   "cell_type": "code",
   "execution_count": 51,
   "metadata": {},
   "outputs": [],
   "source": [
    "# calculate whether the screening levels have been exceeded\n",
    "soil_sl_join['SL_exceeded'] = np.where(soil_sl_join['Screening Level Measurement'] <soil_sl_join['Result Value'],'Y','N')"
   ]
  },
  {
   "cell_type": "markdown",
   "metadata": {},
   "source": [
    "WATER"
   ]
  },
  {
   "cell_type": "code",
   "execution_count": 52,
   "metadata": {},
   "outputs": [],
   "source": [
    "# join screening levels to results\n",
    "water_sl_join = pd.merge(sl_water_df_join,results_water_df,how = 'outer', left_on = ['Chemical'], right_on = ['Result Parameter Name'])"
   ]
  },
  {
   "cell_type": "code",
   "execution_count": 53,
   "metadata": {},
   "outputs": [
    {
     "data": {
      "text/plain": [
       "0      0.000052\n",
       "1      0.000052\n",
       "2      0.000052\n",
       "3      0.000052\n",
       "4      0.009700\n",
       "         ...   \n",
       "919         NaN\n",
       "920         NaN\n",
       "921         NaN\n",
       "922         NaN\n",
       "923         NaN\n",
       "Name: Screening Level Measurement, Length: 851, dtype: float64"
      ]
     },
     "execution_count": 53,
     "metadata": {},
     "output_type": "execute_result"
    }
   ],
   "source": [
    "water_sl_join = water_sl_join[(water_sl_join['Screening Level Measurement']!='na')]\n",
    "water_sl_join = water_sl_join[(water_sl_join['Screening Level Measurement']!='TBD')]\n",
    "water_sl_join = water_sl_join[(water_sl_join['Screening Level Measurement']!='PQL')]\n",
    "water_sl_join['Screening Level Measurement'].astype(float)"
   ]
  },
  {
   "cell_type": "code",
   "execution_count": 54,
   "metadata": {},
   "outputs": [],
   "source": [
    "# convert any screening levels that are in mg/L to ug/L\n",
    "water_sl_join[water_sl_join['SL Unit'] == 'mg/L']\n",
    "\n",
    "water_sl_join['Screening_Level_Measurement_Convert'] = np.where(water_sl_join['SL Unit'] == 'mg/L', water_sl_join['Screening Level Measurement']*1000, water_sl_join['Screening Level Measurement'])\n",
    "water_sl_join['Screening_Level_Measurement_Convert'] = np.where(water_sl_join['SL Unit'] == 'ppm', water_sl_join['Screening Level Measurement']*1000, water_sl_join['Screening Level Measurement'])\n"
   ]
  },
  {
   "cell_type": "code",
   "execution_count": 55,
   "metadata": {},
   "outputs": [],
   "source": [
    "# calculate whether the screening levels have been exceeded\n",
    "water_sl_join['SL_exceeded'] = np.where(water_sl_join['Screening_Level_Measurement_Convert']< water_sl_join['Result Value'], 'Y','N')"
   ]
  },
  {
   "cell_type": "code",
   "execution_count": 56,
   "metadata": {},
   "outputs": [
    {
     "data": {
      "text/plain": [
       "Index(['Medium', 'Chemical Group', 'Chemical', 'Scenario',\n",
       "       'Screening Level Type', 'Screening Level Measurement', 'SL Unit',\n",
       "       'Source', 'Parameter in Spreadsheet', 'Sample ID',\n",
       "       'Field Collection Start Date', 'Sample Matrix', 'Sample Source',\n",
       "       'Result Parameter Name', 'Result Value', 'Result Value Units',\n",
       "       'Result Reporting Limit', 'Result Reporting Limit Type',\n",
       "       'Result Detection Limit', 'Result Detection Limit Type',\n",
       "       'Result Data Qualifier', 'Screening_Level_Measurement_Convert',\n",
       "       'SL_exceeded'],\n",
       "      dtype='object')"
      ]
     },
     "execution_count": 56,
     "metadata": {},
     "output_type": "execute_result"
    }
   ],
   "source": [
    "water_sl_join.columns"
   ]
  },
  {
   "cell_type": "code",
   "execution_count": 57,
   "metadata": {},
   "outputs": [],
   "source": [
    "columns = ['Medium', 'Sample ID','Field Collection Start Date', 'Chemical Group', 'Chemical', 'Result Parameter Name', 'Scenario', 'Screening Level Type',\n",
    "       'Screening Level Measurement', 'Result Value', 'Result Data Qualifier', 'SL Unit', 'Source', 'SL_exceeded']\n",
    "\n",
    "all_results = pd.concat([soil_sl_join[columns],water_sl_join[columns]])"
   ]
  },
  {
   "cell_type": "code",
   "execution_count": 58,
   "metadata": {},
   "outputs": [],
   "source": [
    "# where the screening level is blank, replace exceedance with \"no screening level identified\"\n",
    "all_results['Screening Level Measurement'].fillna('No Screening Level Identified', inplace = True)\n",
    "all_results['SL_exceeded'] = np.where(all_results['Screening Level Measurement']=='No Screening Level Identified','No Screening Level Identified', all_results['SL_exceeded'])"
   ]
  },
  {
   "cell_type": "code",
   "execution_count": 59,
   "metadata": {},
   "outputs": [],
   "source": [
    "all_results.dropna(subset=['Sample ID'], inplace=True)\n",
    "all_results.to_csv('/home/nweiss/gdrive/Year 2/Summer - Duwamish/Sampling_Results/s4_and_s6_results.csv', index = False)"
   ]
  }
 ],
 "metadata": {
  "kernelspec": {
   "display_name": "gis",
   "language": "python",
   "name": "python3"
  },
  "language_info": {
   "codemirror_mode": {
    "name": "ipython",
    "version": 3
   },
   "file_extension": ".py",
   "mimetype": "text/x-python",
   "name": "python",
   "nbconvert_exporter": "python",
   "pygments_lexer": "ipython3",
   "version": "3.11.4"
  },
  "orig_nbformat": 4
 },
 "nbformat": 4,
 "nbformat_minor": 2
}
