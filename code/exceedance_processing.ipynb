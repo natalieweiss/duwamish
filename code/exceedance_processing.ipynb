{
 "cells": [
  {
   "cell_type": "code",
   "execution_count": 3,
   "metadata": {},
   "outputs": [],
   "source": [
    "import pandas as pd\n",
    "import geopandas as gp\n",
    "import numpy as np\n",
    "import os\n",
    "import itertools"
   ]
  },
  {
   "cell_type": "markdown",
   "metadata": {},
   "source": [
    "JOIN TABLES OF RESULTS TO MASTER SCREENING LEVELS FROM F&B"
   ]
  },
  {
   "cell_type": "code",
   "execution_count": 42,
   "metadata": {},
   "outputs": [],
   "source": [
    "# bring in screening results and master screening level spreadsheets\n",
    "results = \"/home/nweiss/gdrive/Year 2/Summer - Duwamish/Sampling_Results/S4 and S6 Screening Results_CLEAN.xlsx\"\n",
    "sl = \"/home/nweiss/gdrive/Year 2/Summer - Duwamish/Sampling_Results/Master_Screening_Levels.xlsx\""
   ]
  },
  {
   "cell_type": "code",
   "execution_count": 43,
   "metadata": {},
   "outputs": [],
   "source": [
    "# create data frames of the raw data and the lookup\n",
    "results_df = pd.read_excel(results, sheet_name='RAW_DATA')\n",
    "pcb_arc_lookup = pd.read_excel(results, sheet_name='PCB to Aroclor Lookup')\n",
    "\n",
    "# create data frame of the screening levels for soils and\n",
    "sl_soil_df = pd.read_excel(sl, sheet_name='Soil')\n",
    "sl_water_df = pd.read_excel(sl, sheet_name='Water')"
   ]
  },
  {
   "cell_type": "code",
   "execution_count": 44,
   "metadata": {},
   "outputs": [],
   "source": [
    "# format pcb to aroclor loo\n",
    "pcb_arc_lookup = pcb_arc_lookup[pcb_arc_lookup['Aroclor Name'].str.contains('aroclor', na=False)][['PCB Isomer', 'Aroclor Name']]"
   ]
  },
  {
   "cell_type": "code",
   "execution_count": 45,
   "metadata": {},
   "outputs": [],
   "source": [
    "# replace pcb names with the aroclor names to match with F&B results\n",
    "sl_soil_df_join = pd.merge(sl_soil_df, pcb_arc_lookup, how = 'outer', left_on = 'Chemical', right_on = 'PCB Isomer')\n",
    "sl_soil_df_join['Chemical'] = np.where(sl_soil_df_join['Aroclor Name'].str.contains('aroclor', na=False), sl_soil_df_join['Aroclor Name'], sl_soil_df_join['Chemical'])\n",
    "sl_soil_df_join.drop(columns = pcb_arc_lookup.columns, inplace = True)\n",
    "sl_soil_df_join = sl_soil_df_join[sl_soil_df_join['Medium']=='Soil']"
   ]
  },
  {
   "cell_type": "code",
   "execution_count": 46,
   "metadata": {},
   "outputs": [],
   "source": [
    "# replace pcb names with the aroclor names to match with F&B results\n",
    "sl_water_df_join = pd.merge(sl_water_df, pcb_arc_lookup, how = 'outer', left_on = 'Chemical', right_on = 'PCB Isomer')\n",
    "sl_water_df_join['Chemical'] = np.where(sl_water_df_join['Aroclor Name'].str.contains('aroclor', na=False), sl_water_df_join['Aroclor Name'], sl_water_df_join['Chemical'])\n",
    "sl_water_df_join.drop(columns = pcb_arc_lookup.columns, inplace = True)\n",
    "sl_water_df_join = sl_water_df_join[sl_water_df_join['Medium']=='Water']"
   ]
  },
  {
   "cell_type": "code",
   "execution_count": 47,
   "metadata": {},
   "outputs": [],
   "source": [
    "# remove unnecessary columns from raw data\n",
    "results_df = results_df[['Sample ID','Field Collection Start Date','Sample Matrix','Sample Source','Result Parameter Name','Result Value',\n",
    "       'Result Value Units', 'Result Reporting Limit',\n",
    "       'Result Reporting Limit Type', 'Result Detection Limit',\n",
    "       'Result Detection Limit Type', 'Result Data Qualifier']]"
   ]
  },
  {
   "cell_type": "code",
   "execution_count": 48,
   "metadata": {},
   "outputs": [],
   "source": [
    "# split results into soil and water\n",
    "results_soil_df = results_df[results_df['Sample Source']=='Soil']\n",
    "results_water_df = results_df[results_df['Sample Matrix']=='Water']"
   ]
  },
  {
   "cell_type": "code",
   "execution_count": 49,
   "metadata": {},
   "outputs": [],
   "source": [
    "# join screening levels to the results\n",
    "soil_sl_join = pd.merge(sl_soil_df_join,results_soil_df,how = 'outer', left_on = ['Chemical'], right_on = ['Result Parameter Name'])"
   ]
  },
  {
   "cell_type": "code",
   "execution_count": 50,
   "metadata": {},
   "outputs": [
    {
     "data": {
      "text/plain": [
       "0       0.77\n",
       "1       5.50\n",
       "2      20.00\n",
       "3      46.00\n",
       "4       4.50\n",
       "       ...  \n",
       "754     0.88\n",
       "755     2.90\n",
       "756     0.23\n",
       "757      NaN\n",
       "758      NaN\n",
       "Name: Screening Level Measurement, Length: 548, dtype: float64"
      ]
     },
     "execution_count": 50,
     "metadata": {},
     "output_type": "execute_result"
    }
   ],
   "source": [
    "# remove screening levels that do not have values\n",
    "soil_sl_join = soil_sl_join[(soil_sl_join['Screening Level Measurement']!='na')]\n",
    "soil_sl_join = soil_sl_join[(soil_sl_join['Screening Level Measurement']!='TBD')]\n",
    "soil_sl_join = soil_sl_join[(soil_sl_join['Screening Level Measurement']!='PQL')]\n",
    "soil_sl_join['Screening Level Measurement'].astype(float)"
   ]
  },
  {
   "cell_type": "code",
   "execution_count": 51,
   "metadata": {},
   "outputs": [],
   "source": [
    "# calculate whether the screening levels have been exceeded\n",
    "soil_sl_join['SL_exceeded'] = np.where(soil_sl_join['Screening Level Measurement'] <soil_sl_join['Result Value'],'Y','N')"
   ]
  },
  {
   "cell_type": "markdown",
   "metadata": {},
   "source": [
    "WATER"
   ]
  },
  {
   "cell_type": "code",
   "execution_count": 52,
   "metadata": {},
   "outputs": [],
   "source": [
    "# join screening levels to results\n",
    "water_sl_join = pd.merge(sl_water_df_join,results_water_df,how = 'outer', left_on = ['Chemical'], right_on = ['Result Parameter Name'])"
   ]
  },
  {
   "cell_type": "code",
   "execution_count": 53,
   "metadata": {},
   "outputs": [
    {
     "data": {
      "text/plain": [
       "0      0.000052\n",
       "1      0.000052\n",
       "2      0.000052\n",
       "3      0.000052\n",
       "4      0.009700\n",
       "         ...   \n",
       "919         NaN\n",
       "920         NaN\n",
       "921         NaN\n",
       "922         NaN\n",
       "923         NaN\n",
       "Name: Screening Level Measurement, Length: 851, dtype: float64"
      ]
     },
     "execution_count": 53,
     "metadata": {},
     "output_type": "execute_result"
    }
   ],
   "source": [
    "water_sl_join = water_sl_join[(water_sl_join['Screening Level Measurement']!='na')]\n",
    "water_sl_join = water_sl_join[(water_sl_join['Screening Level Measurement']!='TBD')]\n",
    "water_sl_join = water_sl_join[(water_sl_join['Screening Level Measurement']!='PQL')]\n",
    "water_sl_join['Screening Level Measurement'].astype(float)"
   ]
  },
  {
   "cell_type": "code",
   "execution_count": 54,
   "metadata": {},
   "outputs": [],
   "source": [
    "# convert any screening levels that are in mg/L to ug/L\n",
    "water_sl_join[water_sl_join['SL Unit'] == 'mg/L']\n",
    "\n",
    "water_sl_join['Screening_Level_Measurement_Convert'] = np.where(water_sl_join['SL Unit'] == 'mg/L', water_sl_join['Screening Level Measurement']*1000, water_sl_join['Screening Level Measurement'])\n",
    "water_sl_join['Screening_Level_Measurement_Convert'] = np.where(water_sl_join['SL Unit'] == 'ppm', water_sl_join['Screening Level Measurement']*1000, water_sl_join['Screening Level Measurement'])\n"
   ]
  },
  {
   "cell_type": "code",
   "execution_count": 55,
   "metadata": {},
   "outputs": [],
   "source": [
    "# calculate whether the screening levels have been exceeded\n",
    "water_sl_join['SL_exceeded'] = np.where(water_sl_join['Screening_Level_Measurement_Convert']< water_sl_join['Result Value'], 'Y','N')"
   ]
  },
  {
   "cell_type": "code",
   "execution_count": 56,
   "metadata": {},
   "outputs": [
    {
     "data": {
      "text/plain": [
       "Index(['Medium', 'Chemical Group', 'Chemical', 'Scenario',\n",
       "       'Screening Level Type', 'Screening Level Measurement', 'SL Unit',\n",
       "       'Source', 'Parameter in Spreadsheet', 'Sample ID',\n",
       "       'Field Collection Start Date', 'Sample Matrix', 'Sample Source',\n",
       "       'Result Parameter Name', 'Result Value', 'Result Value Units',\n",
       "       'Result Reporting Limit', 'Result Reporting Limit Type',\n",
       "       'Result Detection Limit', 'Result Detection Limit Type',\n",
       "       'Result Data Qualifier', 'Screening_Level_Measurement_Convert',\n",
       "       'SL_exceeded'],\n",
       "      dtype='object')"
      ]
     },
     "execution_count": 56,
     "metadata": {},
     "output_type": "execute_result"
    }
   ],
   "source": [
    "water_sl_join.columns"
   ]
  },
  {
   "cell_type": "code",
   "execution_count": 57,
   "metadata": {},
   "outputs": [],
   "source": [
    "columns = ['Medium', 'Sample ID','Field Collection Start Date', 'Chemical Group', 'Chemical', 'Result Parameter Name', 'Scenario', 'Screening Level Type',\n",
    "       'Screening Level Measurement', 'Result Value', 'Result Data Qualifier', 'SL Unit', 'Source', 'SL_exceeded']\n",
    "\n",
    "all_results = pd.concat([soil_sl_join[columns],water_sl_join[columns]])"
   ]
  },
  {
   "cell_type": "code",
   "execution_count": 58,
   "metadata": {},
   "outputs": [],
   "source": [
    "# where the screening level is blank, replace exceedance with \"no screening level identified\"\n",
    "all_results['Screening Level Measurement'].fillna('No Screening Level Identified', inplace = True)\n",
    "all_results['SL_exceeded'] = np.where(all_results['Screening Level Measurement']=='No Screening Level Identified','No Screening Level Identified', all_results['SL_exceeded'])"
   ]
  },
  {
   "cell_type": "code",
   "execution_count": 59,
   "metadata": {},
   "outputs": [],
   "source": [
    "all_results.dropna(subset=['Sample ID'], inplace=True)\n",
    "all_results.to_csv('/home/nweiss/gdrive/Year 2/Summer - Duwamish/Sampling_Results/s4_and_s6_results.csv', index = False)"
   ]
  },
  {
   "cell_type": "markdown",
   "metadata": {},
   "source": [
    "GET MOST STRINGENT SCREENING LEVELS BY SCENARIO"
   ]
  },
  {
   "cell_type": "code",
   "execution_count": 72,
   "metadata": {},
   "outputs": [],
   "source": [
    "sl = \"/home/nweiss/gdrive/Year 2/Summer - Duwamish/Sampling_Results/Master_Screening_Levels.xlsx\""
   ]
  },
  {
   "cell_type": "code",
   "execution_count": 73,
   "metadata": {},
   "outputs": [],
   "source": [
    "sl_soil_df = pd.read_excel(sl, sheet_name='Soil')\n",
    "sl_water_df = pd.read_excel(sl, sheet_name='Water')"
   ]
  },
  {
   "cell_type": "code",
   "execution_count": 74,
   "metadata": {},
   "outputs": [],
   "source": [
    "all_sl = pd.concat([sl_soil_df, sl_water_df])"
   ]
  },
  {
   "cell_type": "code",
   "execution_count": 75,
   "metadata": {},
   "outputs": [],
   "source": [
    "all_sl['Screening Level Measurement'] = np.where(all_sl['Screening Level Measurement'] == 'na', np.NaN, all_sl['Screening Level Measurement'])\n",
    "all_sl['Screening Level Measurement'] = np.where(all_sl['Screening Level Measurement'] == 'TBD', np.NaN, all_sl['Screening Level Measurement'])\n",
    "all_sl['Screening Level Measurement'] = np.where(all_sl['Screening Level Measurement'] == 'PQL', np.NaN, all_sl['Screening Level Measurement'])\n",
    "\n",
    "all_sl['Screening Level Measurement'] = all_sl['Screening Level Measurement'].astype(float)\n",
    "stringent = all_sl.groupby(by =['Medium', 'Chemical Group', 'Chemical', 'Scenario']).agg({'Screening Level Measurement': ['max']}).reset_index()"
   ]
  },
  {
   "cell_type": "code",
   "execution_count": 76,
   "metadata": {},
   "outputs": [],
   "source": [
    "stringent.reset_index(inplace = True)"
   ]
  },
  {
   "cell_type": "code",
   "execution_count": 77,
   "metadata": {},
   "outputs": [],
   "source": [
    "stringent.columns = stringent.columns.droplevel(1)"
   ]
  },
  {
   "cell_type": "code",
   "execution_count": 78,
   "metadata": {},
   "outputs": [
    {
     "data": {
      "text/html": [
       "<div>\n",
       "<style scoped>\n",
       "    .dataframe tbody tr th:only-of-type {\n",
       "        vertical-align: middle;\n",
       "    }\n",
       "\n",
       "    .dataframe tbody tr th {\n",
       "        vertical-align: top;\n",
       "    }\n",
       "\n",
       "    .dataframe thead th {\n",
       "        text-align: right;\n",
       "    }\n",
       "</style>\n",
       "<table border=\"1\" class=\"dataframe\">\n",
       "  <thead>\n",
       "    <tr style=\"text-align: right;\">\n",
       "      <th></th>\n",
       "      <th>index</th>\n",
       "      <th>Medium</th>\n",
       "      <th>Chemical Group</th>\n",
       "      <th>Chemical</th>\n",
       "      <th>Scenario</th>\n",
       "      <th>Screening Level Measurement</th>\n",
       "    </tr>\n",
       "  </thead>\n",
       "  <tbody>\n",
       "    <tr>\n",
       "      <th>0</th>\n",
       "      <td>0</td>\n",
       "      <td>Soil</td>\n",
       "      <td>Dioxin Furans</td>\n",
       "      <td>2,3,7,8-TCDD</td>\n",
       "      <td>Drinking Water</td>\n",
       "      <td>0.000017</td>\n",
       "    </tr>\n",
       "    <tr>\n",
       "      <th>1</th>\n",
       "      <td>1</td>\n",
       "      <td>Soil</td>\n",
       "      <td>Dioxin Furans</td>\n",
       "      <td>2,3,7,8-TCDD</td>\n",
       "      <td>Human Health</td>\n",
       "      <td>0.000013</td>\n",
       "    </tr>\n",
       "    <tr>\n",
       "      <th>2</th>\n",
       "      <td>2</td>\n",
       "      <td>Soil</td>\n",
       "      <td>Dioxin Furans</td>\n",
       "      <td>2,3,7,8-TCDD</td>\n",
       "      <td>Method B</td>\n",
       "      <td>0.000093</td>\n",
       "    </tr>\n",
       "    <tr>\n",
       "      <th>3</th>\n",
       "      <td>3</td>\n",
       "      <td>Soil</td>\n",
       "      <td>Dioxin Furans</td>\n",
       "      <td>2,3,7,8-TCDD</td>\n",
       "      <td>Method C</td>\n",
       "      <td>0.004100</td>\n",
       "    </tr>\n",
       "    <tr>\n",
       "      <th>4</th>\n",
       "      <td>4</td>\n",
       "      <td>Soil</td>\n",
       "      <td>Dioxin Furans</td>\n",
       "      <td>2,3,7,8-TCDD</td>\n",
       "      <td>Resident</td>\n",
       "      <td>0.000140</td>\n",
       "    </tr>\n",
       "    <tr>\n",
       "      <th>...</th>\n",
       "      <td>...</td>\n",
       "      <td>...</td>\n",
       "      <td>...</td>\n",
       "      <td>...</td>\n",
       "      <td>...</td>\n",
       "      <td>...</td>\n",
       "    </tr>\n",
       "    <tr>\n",
       "      <th>740</th>\n",
       "      <td>740</td>\n",
       "      <td>Water</td>\n",
       "      <td>RCRA8</td>\n",
       "      <td>Vanadium</td>\n",
       "      <td>Nonpotable</td>\n",
       "      <td>NaN</td>\n",
       "    </tr>\n",
       "    <tr>\n",
       "      <th>741</th>\n",
       "      <td>741</td>\n",
       "      <td>Water</td>\n",
       "      <td>RCRA8</td>\n",
       "      <td>Zinc</td>\n",
       "      <td>Direct Contact and Seafood Consumption</td>\n",
       "      <td>772.705856</td>\n",
       "    </tr>\n",
       "    <tr>\n",
       "      <th>742</th>\n",
       "      <td>742</td>\n",
       "      <td>Water</td>\n",
       "      <td>RCRA8</td>\n",
       "      <td>Zinc</td>\n",
       "      <td>Drinking Water</td>\n",
       "      <td>4800.000000</td>\n",
       "    </tr>\n",
       "    <tr>\n",
       "      <th>743</th>\n",
       "      <td>743</td>\n",
       "      <td>Water</td>\n",
       "      <td>RCRA8</td>\n",
       "      <td>Zinc</td>\n",
       "      <td>Human Seafood Consumption</td>\n",
       "      <td>81.000000</td>\n",
       "    </tr>\n",
       "    <tr>\n",
       "      <th>744</th>\n",
       "      <td>744</td>\n",
       "      <td>Water</td>\n",
       "      <td>RCRA8</td>\n",
       "      <td>Zinc</td>\n",
       "      <td>Nonpotable</td>\n",
       "      <td>81.000000</td>\n",
       "    </tr>\n",
       "  </tbody>\n",
       "</table>\n",
       "<p>745 rows × 6 columns</p>\n",
       "</div>"
      ],
      "text/plain": [
       "     index Medium Chemical Group      Chemical  \\\n",
       "0        0   Soil  Dioxin Furans  2,3,7,8-TCDD   \n",
       "1        1   Soil  Dioxin Furans  2,3,7,8-TCDD   \n",
       "2        2   Soil  Dioxin Furans  2,3,7,8-TCDD   \n",
       "3        3   Soil  Dioxin Furans  2,3,7,8-TCDD   \n",
       "4        4   Soil  Dioxin Furans  2,3,7,8-TCDD   \n",
       "..     ...    ...            ...           ...   \n",
       "740    740  Water          RCRA8      Vanadium   \n",
       "741    741  Water          RCRA8          Zinc   \n",
       "742    742  Water          RCRA8          Zinc   \n",
       "743    743  Water          RCRA8          Zinc   \n",
       "744    744  Water          RCRA8          Zinc   \n",
       "\n",
       "                                   Scenario  Screening Level Measurement  \n",
       "0                            Drinking Water                     0.000017  \n",
       "1                              Human Health                     0.000013  \n",
       "2                                  Method B                     0.000093  \n",
       "3                                  Method C                     0.004100  \n",
       "4                                  Resident                     0.000140  \n",
       "..                                      ...                          ...  \n",
       "740                              Nonpotable                          NaN  \n",
       "741  Direct Contact and Seafood Consumption                   772.705856  \n",
       "742                          Drinking Water                  4800.000000  \n",
       "743               Human Seafood Consumption                    81.000000  \n",
       "744                              Nonpotable                    81.000000  \n",
       "\n",
       "[745 rows x 6 columns]"
      ]
     },
     "execution_count": 78,
     "metadata": {},
     "output_type": "execute_result"
    }
   ],
   "source": [
    "stringent"
   ]
  },
  {
   "cell_type": "code",
   "execution_count": 81,
   "metadata": {},
   "outputs": [
    {
     "data": {
      "text/html": [
       "<div>\n",
       "<style scoped>\n",
       "    .dataframe tbody tr th:only-of-type {\n",
       "        vertical-align: middle;\n",
       "    }\n",
       "\n",
       "    .dataframe tbody tr th {\n",
       "        vertical-align: top;\n",
       "    }\n",
       "\n",
       "    .dataframe thead th {\n",
       "        text-align: right;\n",
       "    }\n",
       "</style>\n",
       "<table border=\"1\" class=\"dataframe\">\n",
       "  <thead>\n",
       "    <tr style=\"text-align: right;\">\n",
       "      <th></th>\n",
       "      <th>index</th>\n",
       "      <th>Medium</th>\n",
       "      <th>Chemical Group</th>\n",
       "      <th>Chemical</th>\n",
       "      <th>Scenario</th>\n",
       "      <th>Screening Level Measurement</th>\n",
       "      <th>Screening Level Type</th>\n",
       "      <th>SL Unit</th>\n",
       "      <th>Source</th>\n",
       "      <th>Parameter in Spreadsheet</th>\n",
       "    </tr>\n",
       "  </thead>\n",
       "  <tbody>\n",
       "    <tr>\n",
       "      <th>0</th>\n",
       "      <td>0</td>\n",
       "      <td>Soil</td>\n",
       "      <td>Dioxin Furans</td>\n",
       "      <td>2,3,7,8-TCDD</td>\n",
       "      <td>Drinking Water</td>\n",
       "      <td>0.000017</td>\n",
       "      <td>Protect Drinking Water Vadose Zone Leach</td>\n",
       "      <td>mg/kg</td>\n",
       "      <td>PCUL SL-2, Vadose Zone Protection of Drinking ...</td>\n",
       "      <td>NaN</td>\n",
       "    </tr>\n",
       "    <tr>\n",
       "      <th>1</th>\n",
       "      <td>1</td>\n",
       "      <td>Soil</td>\n",
       "      <td>Dioxin Furans</td>\n",
       "      <td>2,3,7,8-TCDD</td>\n",
       "      <td>Human Health</td>\n",
       "      <td>0.000013</td>\n",
       "      <td>Direct Contact Unrestricted Upland Soil</td>\n",
       "      <td>mg/kg</td>\n",
       "      <td>PCUL SL-1, Direct Contact Under Unrestricted L...</td>\n",
       "      <td>NaN</td>\n",
       "    </tr>\n",
       "    <tr>\n",
       "      <th>2</th>\n",
       "      <td>2</td>\n",
       "      <td>Soil</td>\n",
       "      <td>Dioxin Furans</td>\n",
       "      <td>2,3,7,8-TCDD</td>\n",
       "      <td>Method B</td>\n",
       "      <td>0.000093</td>\n",
       "      <td>Direct Contact, Non Cancer</td>\n",
       "      <td>mg/kg</td>\n",
       "      <td>NaN</td>\n",
       "      <td>Soil Method B Direct Contact Noncancer (mg/kg)</td>\n",
       "    </tr>\n",
       "    <tr>\n",
       "      <th>3</th>\n",
       "      <td>3</td>\n",
       "      <td>Soil</td>\n",
       "      <td>Dioxin Furans</td>\n",
       "      <td>2,3,7,8-TCDD</td>\n",
       "      <td>Method C</td>\n",
       "      <td>0.004100</td>\n",
       "      <td>Direct Contact, Non Cancer</td>\n",
       "      <td>mg/kg</td>\n",
       "      <td>NaN</td>\n",
       "      <td>Soil Method C Direct Contact Noncancer (mg/kg)</td>\n",
       "    </tr>\n",
       "    <tr>\n",
       "      <th>4</th>\n",
       "      <td>4</td>\n",
       "      <td>Soil</td>\n",
       "      <td>Dioxin Furans</td>\n",
       "      <td>2,3,7,8-TCDD</td>\n",
       "      <td>Resident</td>\n",
       "      <td>0.000140</td>\n",
       "      <td>Inhalation</td>\n",
       "      <td>mg/kg</td>\n",
       "      <td>EPA Regional Screening Level</td>\n",
       "      <td>Inhalation Exceeded (mg/kg)</td>\n",
       "    </tr>\n",
       "    <tr>\n",
       "      <th>...</th>\n",
       "      <td>...</td>\n",
       "      <td>...</td>\n",
       "      <td>...</td>\n",
       "      <td>...</td>\n",
       "      <td>...</td>\n",
       "      <td>...</td>\n",
       "      <td>...</td>\n",
       "      <td>...</td>\n",
       "      <td>...</td>\n",
       "      <td>...</td>\n",
       "    </tr>\n",
       "    <tr>\n",
       "      <th>917</th>\n",
       "      <td>740</td>\n",
       "      <td>Water</td>\n",
       "      <td>RCRA8</td>\n",
       "      <td>Vanadium</td>\n",
       "      <td>Nonpotable</td>\n",
       "      <td>NaN</td>\n",
       "      <td>Nonpotable</td>\n",
       "      <td>ug/L</td>\n",
       "      <td>NaN</td>\n",
       "      <td>Most Stringent PCUL Nonpotable Water</td>\n",
       "    </tr>\n",
       "    <tr>\n",
       "      <th>918</th>\n",
       "      <td>741</td>\n",
       "      <td>Water</td>\n",
       "      <td>RCRA8</td>\n",
       "      <td>Zinc</td>\n",
       "      <td>Direct Contact and Seafood Consumption</td>\n",
       "      <td>772.705856</td>\n",
       "      <td>Sediment</td>\n",
       "      <td>ug/L</td>\n",
       "      <td>PCUL GW-3</td>\n",
       "      <td>PCUL Protect Sediment</td>\n",
       "    </tr>\n",
       "    <tr>\n",
       "      <th>919</th>\n",
       "      <td>742</td>\n",
       "      <td>Water</td>\n",
       "      <td>RCRA8</td>\n",
       "      <td>Zinc</td>\n",
       "      <td>Drinking Water</td>\n",
       "      <td>4800.000000</td>\n",
       "      <td>Drinking Water</td>\n",
       "      <td>ug/L</td>\n",
       "      <td>PCUL GW-1</td>\n",
       "      <td>PCUL GW-1 Protect Drinking Water</td>\n",
       "    </tr>\n",
       "    <tr>\n",
       "      <th>920</th>\n",
       "      <td>743</td>\n",
       "      <td>Water</td>\n",
       "      <td>RCRA8</td>\n",
       "      <td>Zinc</td>\n",
       "      <td>Human Seafood Consumption</td>\n",
       "      <td>81.000000</td>\n",
       "      <td>Surface Water</td>\n",
       "      <td>ug/L</td>\n",
       "      <td>PCUL GW-2</td>\n",
       "      <td>PCUL Protect Surface Water</td>\n",
       "    </tr>\n",
       "    <tr>\n",
       "      <th>921</th>\n",
       "      <td>744</td>\n",
       "      <td>Water</td>\n",
       "      <td>RCRA8</td>\n",
       "      <td>Zinc</td>\n",
       "      <td>Nonpotable</td>\n",
       "      <td>81.000000</td>\n",
       "      <td>Nonpotable</td>\n",
       "      <td>ug/L</td>\n",
       "      <td>NaN</td>\n",
       "      <td>Most Stringent PCUL Nonpotable Water</td>\n",
       "    </tr>\n",
       "  </tbody>\n",
       "</table>\n",
       "<p>922 rows × 10 columns</p>\n",
       "</div>"
      ],
      "text/plain": [
       "     index Medium Chemical Group      Chemical  \\\n",
       "0        0   Soil  Dioxin Furans  2,3,7,8-TCDD   \n",
       "1        1   Soil  Dioxin Furans  2,3,7,8-TCDD   \n",
       "2        2   Soil  Dioxin Furans  2,3,7,8-TCDD   \n",
       "3        3   Soil  Dioxin Furans  2,3,7,8-TCDD   \n",
       "4        4   Soil  Dioxin Furans  2,3,7,8-TCDD   \n",
       "..     ...    ...            ...           ...   \n",
       "917    740  Water          RCRA8      Vanadium   \n",
       "918    741  Water          RCRA8          Zinc   \n",
       "919    742  Water          RCRA8          Zinc   \n",
       "920    743  Water          RCRA8          Zinc   \n",
       "921    744  Water          RCRA8          Zinc   \n",
       "\n",
       "                                   Scenario  Screening Level Measurement  \\\n",
       "0                            Drinking Water                     0.000017   \n",
       "1                              Human Health                     0.000013   \n",
       "2                                  Method B                     0.000093   \n",
       "3                                  Method C                     0.004100   \n",
       "4                                  Resident                     0.000140   \n",
       "..                                      ...                          ...   \n",
       "917                              Nonpotable                          NaN   \n",
       "918  Direct Contact and Seafood Consumption                   772.705856   \n",
       "919                          Drinking Water                  4800.000000   \n",
       "920               Human Seafood Consumption                    81.000000   \n",
       "921                              Nonpotable                    81.000000   \n",
       "\n",
       "                         Screening Level Type SL Unit  \\\n",
       "0    Protect Drinking Water Vadose Zone Leach   mg/kg   \n",
       "1     Direct Contact Unrestricted Upland Soil   mg/kg   \n",
       "2                  Direct Contact, Non Cancer   mg/kg   \n",
       "3                  Direct Contact, Non Cancer   mg/kg   \n",
       "4                                  Inhalation   mg/kg   \n",
       "..                                        ...     ...   \n",
       "917                                Nonpotable    ug/L   \n",
       "918                                  Sediment    ug/L   \n",
       "919                            Drinking Water    ug/L   \n",
       "920                             Surface Water    ug/L   \n",
       "921                                Nonpotable    ug/L   \n",
       "\n",
       "                                                Source  \\\n",
       "0    PCUL SL-2, Vadose Zone Protection of Drinking ...   \n",
       "1    PCUL SL-1, Direct Contact Under Unrestricted L...   \n",
       "2                                                  NaN   \n",
       "3                                                  NaN   \n",
       "4                         EPA Regional Screening Level   \n",
       "..                                                 ...   \n",
       "917                                                NaN   \n",
       "918                                          PCUL GW-3   \n",
       "919                                          PCUL GW-1   \n",
       "920                                          PCUL GW-2   \n",
       "921                                                NaN   \n",
       "\n",
       "                           Parameter in Spreadsheet  \n",
       "0                                               NaN  \n",
       "1                                               NaN  \n",
       "2    Soil Method B Direct Contact Noncancer (mg/kg)  \n",
       "3    Soil Method C Direct Contact Noncancer (mg/kg)  \n",
       "4                       Inhalation Exceeded (mg/kg)  \n",
       "..                                              ...  \n",
       "917            Most Stringent PCUL Nonpotable Water  \n",
       "918                           PCUL Protect Sediment  \n",
       "919                PCUL GW-1 Protect Drinking Water  \n",
       "920                      PCUL Protect Surface Water  \n",
       "921            Most Stringent PCUL Nonpotable Water  \n",
       "\n",
       "[922 rows x 10 columns]"
      ]
     },
     "execution_count": 81,
     "metadata": {},
     "output_type": "execute_result"
    }
   ],
   "source": [
    "stringent.merge(all_sl, left_on = ['Medium', 'Chemical Group', 'Chemical', 'Scenario', 'Screening Level Measurement'], right_on = ['Medium', 'Chemical Group', 'Chemical', 'Scenario', 'Screening Level Measurement'])"
   ]
  }
 ],
 "metadata": {
  "kernelspec": {
   "display_name": "gis",
   "language": "python",
   "name": "python3"
  },
  "language_info": {
   "codemirror_mode": {
    "name": "ipython",
    "version": 3
   },
   "file_extension": ".py",
   "mimetype": "text/x-python",
   "name": "python",
   "nbconvert_exporter": "python",
   "pygments_lexer": "ipython3",
   "version": "3.11.4"
  },
  "orig_nbformat": 4
 },
 "nbformat": 4,
 "nbformat_minor": 2
}
