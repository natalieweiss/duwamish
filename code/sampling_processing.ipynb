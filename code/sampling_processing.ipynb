{
 "cells": [
  {
   "cell_type": "code",
   "execution_count": 4,
   "metadata": {},
   "outputs": [],
   "source": [
    "import geopandas as gp\n",
    "import pandas as pd\n",
    "from shapely.geometry import Point\n",
    "import pandas as pd"
   ]
  },
  {
   "cell_type": "code",
   "execution_count": 20,
   "metadata": {},
   "outputs": [],
   "source": [
    "data_path = \"/home/nweiss/gdrive/Year 2/Summer - Duwamish/Sampling Data/Data Entry for Sampling.csv\"\n",
    "orig_crs = 4326\n",
    "project_crs = 2926"
   ]
  },
  {
   "cell_type": "code",
   "execution_count": 24,
   "metadata": {},
   "outputs": [],
   "source": [
    "# import sampling data\n",
    "sampling = pd.read_csv(data_path)\n",
    "geometry = [Point(xy) for xy in zip(sampling['Longitude'], sampling['Latitude'])]\n",
    "sampling_gdf = gp.GeoDataFrame(data = sampling, crs = orig_crs, geometry = geometry)\n",
    "sampling_gdf = sampling_gdf.to_crs(project_crs)\n"
   ]
  },
  {
   "cell_type": "code",
   "execution_count": 25,
   "metadata": {},
   "outputs": [
    {
     "name": "stderr",
     "output_type": "stream",
     "text": [
      "/tmp/ipykernel_373/3722692865.py:1: UserWarning: Column names longer than 10 characters will be truncated when saved to ESRI Shapefile.\n",
      "  sampling_gdf.to_file(\"/home/nweiss/gdrive/Year 2/Summer - Duwamish/Sampling Data/sampling_619.shp\")\n"
     ]
    }
   ],
   "source": [
    "sampling_gdf.to_file(\"/home/nweiss/gdrive/Year 2/Summer - Duwamish/Sampling Data/sampling_619.shp\")"
   ]
  },
  {
   "cell_type": "code",
   "execution_count": 22,
   "metadata": {},
   "outputs": [],
   "source": [
    "# processing for all sample dates into one shapefile\n",
    "xls = pd.ExcelFile(\"/home/nweiss/gdrive/Year 2/Summer - Duwamish/Sampling Data/Data Entry for Sampling.xlsx\")\n",
    "sheets = xls.sheet_names\n",
    "\n",
    "all_sheets = []\n",
    "\n",
    "for s in sheets:\n",
    "    if s != 'Reference Sheet':\n",
    "        sampling = pd.read_excel(xls, sheet_name = s)\n",
    "        geometry = [Point(xy) for xy in zip(sampling['Longitude'], sampling['Latitude'])]\n",
    "        sampling_gdf = gp.GeoDataFrame(data = sampling, crs = orig_crs, geometry = geometry)\n",
    "        sampling_gdf = sampling_gdf.to_crs(project_crs)\n",
    "        all_sheets.append(sampling_gdf)\n",
    "\n",
    "all_sheets = pd.concat(all_sheets)\n",
    "\n",
    "all_sheets.to_file(\"/home/nweiss/gdrive/Year 2/Summer - Duwamish/Sampling Data/sampling_ALL.shp\")\n"
   ]
  }
 ],
 "metadata": {
  "kernelspec": {
   "display_name": "gis",
   "language": "python",
   "name": "python3"
  },
  "language_info": {
   "codemirror_mode": {
    "name": "ipython",
    "version": 3
   },
   "file_extension": ".py",
   "mimetype": "text/x-python",
   "name": "python",
   "nbconvert_exporter": "python",
   "pygments_lexer": "ipython3",
   "version": "3.11.4"
  },
  "orig_nbformat": 4
 },
 "nbformat": 4,
 "nbformat_minor": 2
}
