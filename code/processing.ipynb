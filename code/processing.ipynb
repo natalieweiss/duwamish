{
 "cells": [
  {
   "cell_type": "code",
   "execution_count": 169,
   "metadata": {},
   "outputs": [],
   "source": [
    "import pandas as pd\n",
    "import geopandas as gp\n",
    "import os\n",
    "import numpy as np\n",
    "import matplotlib\n",
    "import fiona\n",
    "import pathlib\n",
    "import glob"
   ]
  },
  {
   "cell_type": "code",
   "execution_count": 178,
   "metadata": {},
   "outputs": [],
   "source": [
    "#### SET FILE PATHS ####\n",
    "\n",
    "boundary_path = \"/home/nweiss/gdrive/Year 2/Summer - Duwamish/GIS/Boundary/SP clipping area.shp\"\n",
    "clip_path = \"/home/nweiss/gdrive/Year 2/Summer - Duwamish/GIS/Clipped\"\n",
    "raw_path = \"/home/nweiss/gdrive/Year 2/Summer - Duwamish/GIS/Raw\"\n",
    "project_path = \"/home/nweiss/gdrive/Year 2/Summer - Duwamish/GIS/Projected\""
   ]
  },
  {
   "cell_type": "code",
   "execution_count": 179,
   "metadata": {},
   "outputs": [],
   "source": [
    "# set project CRS\n",
    "crs = 2926\n",
    "\n",
    "# set boundary\n",
    "boundary = gp.read_file(boundary_path)\n",
    "boundary_project = boundary.to_crs(crs)\n",
    "boundary_project.to_file(boundary_path)"
   ]
  },
  {
   "cell_type": "code",
   "execution_count": 191,
   "metadata": {},
   "outputs": [
    {
     "name": "stdout",
     "output_type": "stream",
     "text": [
      "/home/nweiss/gdrive/Year 2/Summer - Duwamish/GIS/Raw/Building_Outlines_2015/Building_Outlines_2015.shp\n",
      "/home/nweiss/gdrive/Year 2/Summer - Duwamish/GIS/Projected/Building_Outlines_2015_projected.shp\n",
      "/home/nweiss/gdrive/Year 2/Summer - Duwamish/GIS/Clipped/Building_Outlines_2015_clipped.shp\n",
      "/home/nweiss/gdrive/Year 2/Summer - Duwamish/GIS/Raw/Seattle_Streets/Seattle_Streets.shp\n",
      "/home/nweiss/gdrive/Year 2/Summer - Duwamish/GIS/Projected/Seattle_Streets_projected.shp\n",
      "/home/nweiss/gdrive/Year 2/Summer - Duwamish/GIS/Clipped/Seattle_Streets_clipped.shp\n",
      "/home/nweiss/gdrive/Year 2/Summer - Duwamish/GIS/Raw/Street_Network_Database_(SND)-20230505T014240Z-001/Street_Network_Database_(SND)/Street_Network_Database_(SND).shp\n",
      "/home/nweiss/gdrive/Year 2/Summer - Duwamish/GIS/Projected/Street_Network_Database_(SND)_projected.shp\n",
      "/home/nweiss/gdrive/Year 2/Summer - Duwamish/GIS/Clipped/Street_Network_Database_(SND)_clipped.shp\n"
     ]
    }
   ],
   "source": [
    "# project to project's crs and clip to boundary\n",
    "\n",
    "files = glob.glob(raw_path + '/**/*.shp', recursive = True)\n",
    "\n",
    "for f in files:\n",
    "    file_name = os.path.basename(f)[:-4]\n",
    "    print(f'processing {file_name}')\n",
    "    gdf = gp.read_file(f)\n",
    "    gdf_project = gdf.to_crs(crs)\n",
    "    gdf_project.to_file(os.path.join(project_path, f'{file_name}_projected.shp'))\n",
    "    print(os.path.join(project_path, f'{file_name}_projected.shp'))\n",
    "\n",
    "    gdf_clip = gp.clip(gdf_project, boundary)\n",
    "    gdf_clip.to_file(os.path.join(clip_path, f'{file_name}_clipped.shp'))\n",
    "    print(os.path.join(clip_path, f'{file_name}_clipped.shp'))\n"
   ]
  },
  {
   "attachments": {},
   "cell_type": "markdown",
   "metadata": {},
   "source": [
    "STREET ANALYSIS"
   ]
  },
  {
   "cell_type": "code",
   "execution_count": 192,
   "metadata": {},
   "outputs": [],
   "source": [
    "# find average street width by functional class\n",
    "#### TODO- should this be within our zone or across the whole data set?\n",
    "\n",
    "streets = gp.read_file(\"/home/nweiss/gdrive/Year 2/Summer - Duwamish/GIS/Raw/Seattle_Streets/Seattle_Streets.shp\")\n",
    "streets = streets.to_crs(crs)\n"
   ]
  },
  {
   "cell_type": "code",
   "execution_count": 236,
   "metadata": {},
   "outputs": [
    {
     "name": "stdout",
     "output_type": "stream",
     "text": [
      "number of roads with no width:  3633\n"
     ]
    }
   ],
   "source": [
    "streets.SURFACEWID.value_counts()\n",
    "print('number of roads with no width: ', len(streets[streets.SURFACEWID == 0]))\n",
    "\n",
    "streets['ARTCLASS'] = streets['ARTCLASS'].map(str)\n",
    "\n",
    "# backfill data by average width for each functional class\n",
    "streets_wid = streets[['ARTCLASS','SURFACEWID']]\n",
    "\n",
    "# remove rows = 0 before finding average\n",
    "streets_wid = streets_wid[streets_wid.SURFACEWID != 0]\n",
    "streets_wid.SURFACEWID.value_counts()\n",
    "\n",
    "# calculate average by arterial class and surface type\n",
    "streets_wid_avg = streets_wid.groupby(['ARTCLASS']).mean()\n",
    "streets_wid_avg.reset_index(inplace = True)\n",
    "streets_wid_avg['ARTCLASS'] = streets_wid_avg['ARTCLASS'].map(str).str[0]\n",
    "\n",
    "## histogram of artclass = 0 surface width\n",
    "# IQR of not designated roads with a surface width ranges from 22-25. min = 8 and max = 84\n",
    "# streets[streets['ARTCLASS']=='0.0'][streets['SURFACEWID']!= 0]['SURFACEWID'].describe()"
   ]
  },
  {
   "cell_type": "code",
   "execution_count": 255,
   "metadata": {},
   "outputs": [],
   "source": [
    "streets_clipped = \"/home/nweiss/gdrive/Year 2/Summer - Duwamish/GIS/Projected/seattle_streets_clipped_projected.shp\"\n",
    "\n",
    "streets_clipped_gdf = gp.read_file(streets_clipped)\n",
    "streets_clipped_gdf = streets_clipped_gdf.to_crs(crs)\n",
    "streets_clipped_gdf['ARTCLASS'] = streets_clipped_gdf['ARTCLASS'].map(str)\n"
   ]
  },
  {
   "cell_type": "code",
   "execution_count": 256,
   "metadata": {},
   "outputs": [],
   "source": [
    "# backfill data in the CLIPPED AND PROJECTED FILE by average width for each functional class\n",
    "# NOTE: arterial class == 9 has one feature with surface width == 0. there is no backfilled data for this road\n",
    "streets_bfill = pd.merge(left = streets_clipped_gdf, right = streets_wid_avg, how = 'left', left_on = 'ARTCLASS', right_on = 'ARTCLASS')\n",
    "streets_bfill[['OBJECTID','ARTCLASS','UNITDESC','ARTDESCRIP','SURFACEWID_x','SURFACEWID_y','geometry']]\n",
    "streets_bfill['width_upd'] = np.where(streets_bfill['SURFACEWID_x'] == 0, streets_bfill['SURFACEWID_y'], streets_bfill['SURFACEWID_x'])"
   ]
  },
  {
   "cell_type": "code",
   "execution_count": 257,
   "metadata": {},
   "outputs": [
    {
     "name": "stderr",
     "output_type": "stream",
     "text": [
      "/tmp/ipykernel_431/3488204830.py:4: UserWarning: Column names longer than 10 characters will be truncated when saved to ESRI Shapefile.\n",
      "  streets_bfill[columns].to_file(\"/home/nweiss/gdrive/Year 2/Summer - Duwamish/GIS/Processed/seattle_streets_buffer.shp\")\n"
     ]
    }
   ],
   "source": [
    "# buffer by the surface width\n",
    "streets_bfill['geometry'] = streets_bfill.buffer(distance = streets_bfill['width_upd'])\n",
    "columns = ['OBJECTID','ARTCLASS','UNITDESC','STNAME_ORD','ARTDESCRIP','SURFACEWID_x','width_upd','geometry']\n"
   ]
  },
  {
   "cell_type": "code",
   "execution_count": 259,
   "metadata": {},
   "outputs": [
    {
     "name": "stderr",
     "output_type": "stream",
     "text": [
      "/tmp/ipykernel_431/1532605591.py:1: UserWarning: Column names longer than 10 characters will be truncated when saved to ESRI Shapefile.\n",
      "  streets_bfill[columns].to_file(\"/home/nweiss/gdrive/Year 2/Summer - Duwamish/GIS/Processed/seattle_streets_buffer.shp\")\n"
     ]
    }
   ],
   "source": [
    "streets_bfill[columns].to_file(\"/home/nweiss/gdrive/Year 2/Summer - Duwamish/GIS/Processed/seattle_streets_buffer.shp\")\n",
    "streets_bfill.dissolve().boundary.to_file(\"/home/nweiss/gdrive/Year 2/Summer - Duwamish/GIS/Processed/seattle_streets_buffer_outlines.shp\")"
   ]
  },
  {
   "cell_type": "code",
   "execution_count": 109,
   "metadata": {},
   "outputs": [],
   "source": [
    "## looking at SND network to compare against seattle streets\n",
    "SND = gp.read_file(\"/home/nweiss/gdrive/Year 2/Summer - Duwamish/GIS/Raw/Street_Network_Database_(SND)-20230505T014240Z-001/Street_Network_Database_(SND)/Street_Network_Database_(SND).shp\")"
   ]
  },
  {
   "cell_type": "code",
   "execution_count": 112,
   "metadata": {},
   "outputs": [
    {
     "data": {
      "text/plain": [
       "ARTERIAL_C\n",
       "0    24818\n",
       "1     8482\n",
       "6      382\n",
       "5      369\n",
       "4      216\n",
       "Name: count, dtype: int64"
      ]
     },
     "execution_count": 112,
     "metadata": {},
     "output_type": "execute_result"
    }
   ],
   "source": [
    "# TODO: need to look up what the arterial class widths are\n",
    "SND.columns\n",
    "SND['ARTERIAL_C'].value_counts()"
   ]
  },
  {
   "attachments": {},
   "cell_type": "markdown",
   "metadata": {},
   "source": [
    "BUILDING ANALYSIS"
   ]
  },
  {
   "cell_type": "code",
   "execution_count": 115,
   "metadata": {},
   "outputs": [],
   "source": [
    "buildings = gp.read_file(\"/home/nweiss/gdrive/Year 2/Summer - Duwamish/GIS/Projected/buildings_2015_clipped_projected.shp\")"
   ]
  },
  {
   "cell_type": "code",
   "execution_count": 263,
   "metadata": {},
   "outputs": [],
   "source": [
    "buildings.to_crs(crs).to_file(\"/home/nweiss/gdrive/Year 2/Summer - Duwamish/GIS/Projected/buildings_2015_clipped_projected.shp\")"
   ]
  },
  {
   "cell_type": "code",
   "execution_count": 135,
   "metadata": {},
   "outputs": [
    {
     "data": {
      "text/plain": [
       "SHAPE_Area\n",
       "26068.058444    2\n",
       "191.249730      2\n",
       "1899.627866     1\n",
       "2142.086791     1\n",
       "1433.509470     1\n",
       "               ..\n",
       "103.478245      1\n",
       "251.598456      1\n",
       "76.055774       1\n",
       "78.800585       1\n",
       "564.278786      1\n",
       "Name: count, Length: 29668, dtype: int64"
      ]
     },
     "execution_count": 135,
     "metadata": {},
     "output_type": "execute_result"
    },
    {
     "data": {
      "image/png": "[encoded data removed]",
      "text/plain": [
       "<Figure size 640x480 with 1 Axes>"
      ]
     },
     "metadata": {},
     "output_type": "display_data"
    }
   ],
   "source": [
    "buildings.columns\n",
    "# 5k buildings do not have building heights\n",
    "# buildings['BP99_APEX'].value_counts()\n",
    "\n",
    "# scatter plot of area x building apex for grouping and backfilling\n",
    "buildings['SHAPE_Area'].describe()\n",
    "buildings_scatter = buildings[buildings.BP99_APEX!=0]\n",
    "buildings_scatter = buildings_scatter[buildings_scatter.SHAPE_Area!=0]\n",
    "buildings_scatter.plot.scatter('SHAPE_Area','BP99_APEX')"
   ]
  },
  {
   "cell_type": "code",
   "execution_count": null,
   "metadata": {},
   "outputs": [],
   "source": [
    "#TODO find default height and backfill for any height < ???"
   ]
  }
 ],
 "metadata": {
  "kernelspec": {
   "display_name": "gis",
   "language": "python",
   "name": "python3"
  },
  "language_info": {
   "codemirror_mode": {
    "name": "ipython",
    "version": 3
   },
   "file_extension": ".py",
   "mimetype": "text/x-python",
   "name": "python",
   "nbconvert_exporter": "python",
   "pygments_lexer": "ipython3",
   "version": "3.11.4"
  },
  "orig_nbformat": 4
 },
 "nbformat": 4,
 "nbformat_minor": 2
}
