{
 "cells": [
  {
   "cell_type": "code",
   "execution_count": 101,
   "metadata": {},
   "outputs": [],
   "source": [
    "import pandas as pd\n",
    "import geopandas as gp\n",
    "import os\n",
    "import numpy as np"
   ]
  },
  {
   "cell_type": "code",
   "execution_count": 24,
   "metadata": {},
   "outputs": [],
   "source": [
    "clip_path = \"/home/nweiss/gdrive/Year 2/Summer - Duwamish/GIS/Clipped\"\n",
    "raw_path = \"/home/nweiss/gdrive/Year 2/Summer - Duwamish/GIS/Raw\"\n",
    "project_path = \"/home/nweiss/gdrive/Year 2/Summer - Duwamish/GIS/Projected\""
   ]
  },
  {
   "cell_type": "code",
   "execution_count": 21,
   "metadata": {},
   "outputs": [],
   "source": [
    "# set project CRS\n",
    "crs = 2926\n",
    "\n",
    "# TODO: set clipping extent\n"
   ]
  },
  {
   "cell_type": "code",
   "execution_count": 5,
   "metadata": {},
   "outputs": [],
   "source": [
    "# clip to boundary\n",
    "buildings = gp.read_file(os.path.join(raw_path,\"/Building_Outlines_2015/Building_Outlines_2015.shp\"))"
   ]
  },
  {
   "cell_type": "code",
   "execution_count": 26,
   "metadata": {},
   "outputs": [
    {
     "name": "stdout",
     "output_type": "stream",
     "text": [
      "contours_5ft_clipped.shp\n",
      "buildings_2015_clipped.shp\n",
      "seattle_streets_clipped.shp\n",
      "SND_streets_clipped.shp\n"
     ]
    }
   ],
   "source": [
    "# project to crs\n",
    "\n",
    "dir_list = os.listdir(clip_path)\n",
    "\n",
    "for f in dir_list:\n",
    "    if f[-4:] == '.shp':\n",
    "        gdf = gp.read_file(os.path.join(clip_path,f))\n",
    "        print(f)\n",
    "        gdf_project = gdf.to_crs(crs)\n",
    "        gdf.to_file(os.path.join(project_path,f'{f[:-4]}_projected.shp'))"
   ]
  },
  {
   "attachments": {},
   "cell_type": "markdown",
   "metadata": {},
   "source": [
    "STREET ANALYSIS"
   ]
  },
  {
   "cell_type": "code",
   "execution_count": 29,
   "metadata": {},
   "outputs": [],
   "source": [
    "# find average street width by functional class\n",
    "#### TODO- should this be within our zone or across the whole data set?\n",
    "\n",
    "streets = gp.read_file(\"/home/nweiss/gdrive/Year 2/Summer - Duwamish/GIS/Raw/Seattle_Streets/Seattle_Streets.shp\")\n"
   ]
  },
  {
   "cell_type": "code",
   "execution_count": 104,
   "metadata": {},
   "outputs": [
    {
     "name": "stdout",
     "output_type": "stream",
     "text": [
      "number of roads with no width:  3633\n"
     ]
    }
   ],
   "source": [
    "streets.SURFACEWID.value_counts()\n",
    "print('number of roads with no width: ', len(streets[streets.SURFACEWID == 0]))\n",
    "\n",
    "streets['ARTCLASS'] = streets['ARTCLASS'].map(str)\n",
    "\n",
    "# backfill data by average width for each functional class\n",
    "streets_wid = streets[['ARTCLASS','SURFACEWID']]\n",
    "\n",
    "# remove rows = 0 before finding average\n",
    "streets_wid = streets_wid[streets_wid.SURFACEWID != 0]\n",
    "streets_wid.SURFACEWID.value_counts()\n",
    "\n",
    "# calculate average by arterial class and surface type\n",
    "streets_wid['ARTCLASS'] = streets_wid['ARTCLASS'].map(str)\n",
    "streets_wid_avg = streets_wid.groupby(['ARTCLASS']).mean()\n",
    "\n",
    "## histogram of artclass = 0 surface width\n",
    "# IQR of not designated roads with a surface width ranges from 22-25. min = 8 and max = 84\n",
    "# streets[streets['ARTCLASS']=='0.0'][streets['SURFACEWID']!= 0]['SURFACEWID'].describe()"
   ]
  },
  {
   "cell_type": "code",
   "execution_count": 107,
   "metadata": {},
   "outputs": [],
   "source": [
    "streets_clipped = \"/home/nweiss/gdrive/Year 2/Summer - Duwamish/GIS/Clipped/seattle_streets_clipped.shp\"\n",
    "\n",
    "streets_clipped_gdf = gp.read_file(streets_clipped)\n",
    "streets_clipped_gdf['ARTCLASS'] = streets_clipped_gdf['ARTCLASS'].map(str)\n",
    "\n",
    "# backfill data in the CLIPPED AND PROJECTED FILE by average width for each functional class\n",
    "# NOTE: arterial class == 9 has one feature with surface width == 0. there is no backfilled data for this road\n",
    "streets_bfill = pd.merge(left = streets_clipped_gdf, right = streets_wid_avg, how = 'left', left_on = 'ARTCLASS', right_on = 'ARTCLASS')\n",
    "streets_bfill[['OBJECTID','ARTCLASS','UNITDESC','ARTDESCRIP','SURFACEWID_x','SURFACEWID_y','geometry']]\n",
    "streets_bfill['surface_wid_upd'] = np.where(streets_bfill['SURFACEWID_x'] == 0, streets_bfill['SURFACEWID_y'], streets_bfill['SURFACEWID_x'])"
   ]
  },
  {
   "cell_type": "code",
   "execution_count": 108,
   "metadata": {},
   "outputs": [
    {
     "name": "stderr",
     "output_type": "stream",
     "text": [
      "/tmp/ipykernel_431/3478708111.py:2: UserWarning: Geometry is in a geographic CRS. Results from 'buffer' are likely incorrect. Use 'GeoSeries.to_crs()' to re-project geometries to a projected CRS before this operation.\n",
      "\n",
      "  streets_buffer = streets_bfill.buffer(distance=streets_bfill['surface_wid_upd'])\n"
     ]
    }
   ],
   "source": [
    "# buffer by average width by arterial class\n",
    "# NOTE: this could also be offset in rhino? if we just want them to be lines\n",
    "streets_buffer = streets_bfill.buffer(distance=streets_bfill['surface_wid_upd'])"
   ]
  },
  {
   "cell_type": "code",
   "execution_count": 109,
   "metadata": {},
   "outputs": [],
   "source": [
    "## looking at SND network to compare against seattle streets\n",
    "SND = gp.read_file(\"/home/nweiss/gdrive/Year 2/Summer - Duwamish/GIS/Raw/Street_Network_Database_(SND)-20230505T014240Z-001/Street_Network_Database_(SND)/Street_Network_Database_(SND).shp\")"
   ]
  },
  {
   "cell_type": "code",
   "execution_count": 112,
   "metadata": {},
   "outputs": [
    {
     "data": {
      "text/plain": [
       "ARTERIAL_C\n",
       "0    24818\n",
       "1     8482\n",
       "6      382\n",
       "5      369\n",
       "4      216\n",
       "Name: count, dtype: int64"
      ]
     },
     "execution_count": 112,
     "metadata": {},
     "output_type": "execute_result"
    }
   ],
   "source": [
    "# TODO: need to look up what the arterial class widths are\n",
    "SND.columns\n",
    "SND['ARTERIAL_C'].value_counts()"
   ]
  },
  {
   "attachments": {},
   "cell_type": "markdown",
   "metadata": {},
   "source": [
    "BUILDING ANALYSIS"
   ]
  },
  {
   "cell_type": "code",
   "execution_count": 115,
   "metadata": {},
   "outputs": [],
   "source": [
    "buildings = gp.read_file(\"/home/nweiss/gdrive/Year 2/Summer - Duwamish/GIS/Projected/buildings_2015_clipped_projected.shp\")"
   ]
  },
  {
   "cell_type": "code",
   "execution_count": 123,
   "metadata": {},
   "outputs": [
    {
     "data": {
      "text/plain": [
       "count     34838.000000\n",
       "mean       1515.829439\n",
       "std        7203.228198\n",
       "min           0.092071\n",
       "25%         153.964832\n",
       "50%         491.794649\n",
       "75%        1424.510160\n",
       "max      319801.892776\n",
       "Name: SHAPE_Area, dtype: float64"
      ]
     },
     "execution_count": 123,
     "metadata": {},
     "output_type": "execute_result"
    }
   ],
   "source": [
    "buildings.columns\n",
    "# 5k buildings do not have building heights\n",
    "# buildings['BP99_APEX'].value_counts()\n",
    "\n",
    "# scatter plot of area x building apex for grouping and backfilling\n",
    "buildings['SHAPE_Area'].describe()"
   ]
  }
 ],
 "metadata": {
  "kernelspec": {
   "display_name": "gis",
   "language": "python",
   "name": "python3"
  },
  "language_info": {
   "codemirror_mode": {
    "name": "ipython",
    "version": 3
   },
   "file_extension": ".py",
   "mimetype": "text/x-python",
   "name": "python",
   "nbconvert_exporter": "python",
   "pygments_lexer": "ipython3",
   "version": "3.11.4"
  },
  "orig_nbformat": 4
 },
 "nbformat": 4,
 "nbformat_minor": 2
}
