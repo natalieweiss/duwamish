{
 "cells": [
  {
   "cell_type": "code",
   "execution_count": 1,
   "metadata": {},
   "outputs": [],
   "source": [
    "import pandas as pd\n",
    "import geopandas as gp\n",
    "import os\n",
    "import numpy as np\n",
    "import matplotlib\n",
    "import fiona\n",
    "import pathlib\n",
    "import glob\n",
    "import rasterstats"
   ]
  },
  {
   "cell_type": "code",
   "execution_count": null,
   "metadata": {},
   "outputs": [],
   "source": [
    "#### SET FILE PATHS ####\n",
    "\n",
    "boundary_path = \"/home/nweiss/gdrive/Year 2/Summer - Duwamish/GIS/Boundary/SP clipping area.shp\"\n",
    "clip_path = \"/home/nweiss/gdrive/Year 2/Summer - Duwamish/GIS/Clipped\"\n",
    "raw_path = \"/home/nweiss/gdrive/Year 2/Summer - Duwamish/GIS/Raw\"\n",
    "project_path = \"/home/nweiss/gdrive/Year 2/Summer - Duwamish/GIS/Projected\""
   ]
  },
  {
   "cell_type": "code",
   "execution_count": null,
   "metadata": {},
   "outputs": [],
   "source": [
    "# set project CRS\n",
    "crs = 2926\n",
    "\n",
    "# set boundary\n",
    "boundary = gp.read_file(boundary_path)\n",
    "boundary_project = boundary.to_crs(crs)\n",
    "boundary_project.to_file(boundary_path)"
   ]
  },
  {
   "cell_type": "code",
   "execution_count": null,
   "metadata": {},
   "outputs": [],
   "source": [
    "# project to project's crs and clip to boundary\n",
    "\n",
    "files = glob.glob(raw_path + '/**/*.shp', recursive = True)\n",
    "\n",
    "for f in files:\n",
    "    file_name = os.path.basename(f)[:-4]\n",
    "    print(f'processing {file_name}')\n",
    "    gdf = gp.read_file(f)\n",
    "    gdf_project = gdf.to_crs(crs)\n",
    "    gdf_project.to_file(os.path.join(project_path, f'{file_name}_projected.shp'))\n",
    "    print(os.path.join(project_path, f'{file_name}_projected.shp'))\n",
    "\n",
    "    gdf_clip = gp.clip(gdf_project, boundary)\n",
    "    gdf_clip.to_file(os.path.join(clip_path, f'{file_name}_clipped.shp'))\n",
    "    print(os.path.join(clip_path, f'{file_name}_clipped.shp'))\n"
   ]
  },
  {
   "attachments": {},
   "cell_type": "markdown",
   "metadata": {},
   "source": [
    "CONTOUR PROCESSING"
   ]
  },
  {
   "cell_type": "code",
   "execution_count": null,
   "metadata": {},
   "outputs": [],
   "source": [
    "# grab all 20' contours\n",
    "\n",
    "# clip to extent\n",
    "\n",
    "# grab all 5' contours that are within a 5 distance of the river boundary (do by hand)"
   ]
  },
  {
   "attachments": {},
   "cell_type": "markdown",
   "metadata": {},
   "source": [
    "STREET ANALYSIS"
   ]
  },
  {
   "cell_type": "code",
   "execution_count": null,
   "metadata": {},
   "outputs": [],
   "source": [
    "# find average street width by functional class\n",
    "#### TODO should this be within our zone or across the whole data set?\n",
    "#### TODO change file path to one just processed\n",
    "\n",
    "streets = gp.read_file(\"/home/nweiss/gdrive/Year 2/Summer - Duwamish/GIS/Raw/Seattle_Streets/Seattle_Streets.shp\")\n",
    "streets = streets.to_crs(crs)\n"
   ]
  },
  {
   "cell_type": "code",
   "execution_count": null,
   "metadata": {},
   "outputs": [],
   "source": [
    "## check how many streets are missing width values\n",
    "#streets.SURFACEWID.value_counts()\n",
    "#print('number of roads with no width: ', len(streets[streets.SURFACEWID == 0]))\n",
    "\n",
    "streets['ARTCLASS'] = streets['ARTCLASS'].map(str)\n",
    "\n",
    "## backfill data by average width for each functional class\n",
    "# remove rows = 0 before finding average\n",
    "streets_wid = streets[['ARTCLASS','SURFACEWID']]\n",
    "streets_wid = streets_wid[streets_wid.SURFACEWID != 0]\n",
    "streets_wid.SURFACEWID.value_counts()\n",
    "\n",
    "## calculate average by arterial class and surface type\n",
    "streets_wid_avg = streets_wid.groupby(['ARTCLASS']).mean()\n",
    "streets_wid_avg.reset_index(inplace = True)\n",
    "streets_wid_avg['ARTCLASS'] = streets_wid_avg['ARTCLASS'].map(str).str[0]\n",
    "\n",
    "## histogram of artclass = 0 surface width\n",
    "# IQR of not designated roads with a surface width ranges from 22-25. min = 8 and max = 84\n",
    "#streets[streets['ARTCLASS']=='0.0'][streets['SURFACEWID']!= 0]['SURFACEWID'].describe()"
   ]
  },
  {
   "cell_type": "code",
   "execution_count": null,
   "metadata": {},
   "outputs": [],
   "source": [
    "# bring in and process clipped data\n",
    "#### TODO change file path\n",
    "streets_clipped = \"/home/nweiss/gdrive/Year 2/Summer - Duwamish/GIS/Projected/seattle_streets_clipped_projected.shp\"\n",
    "\n",
    "streets_clipped_gdf = gp.read_file(streets_clipped)\n",
    "streets_clipped_gdf = streets_clipped_gdf.to_crs(crs)\n",
    "streets_clipped_gdf['ARTCLASS'] = streets_clipped_gdf['ARTCLASS'].map(str)\n"
   ]
  },
  {
   "cell_type": "code",
   "execution_count": null,
   "metadata": {},
   "outputs": [],
   "source": [
    "# backfill data in the CLIPPED AND PROJECTED FILE by average width for each functional class\n",
    "# NOTE: arterial class == 9 has one feature with surface width == 0. there is no backfilled data for this road\n",
    "streets_bfill = pd.merge(left = streets_clipped_gdf, right = streets_wid_avg, how = 'left', left_on = 'ARTCLASS', right_on = 'ARTCLASS')\n",
    "streets_bfill[['OBJECTID','ARTCLASS','UNITDESC','ARTDESCRIP','SURFACEWID_x','SURFACEWID_y','geometry']]\n",
    "streets_bfill['width_upd'] = np.where(streets_bfill['SURFACEWID_x'] == 0, streets_bfill['SURFACEWID_y'], streets_bfill['SURFACEWID_x'])"
   ]
  },
  {
   "cell_type": "code",
   "execution_count": null,
   "metadata": {},
   "outputs": [],
   "source": [
    "# buffer by the surface width\n",
    "streets_bfill['geometry'] = streets_bfill.buffer(distance = streets_bfill['width_upd'])\n",
    "columns = ['OBJECTID','ARTCLASS','UNITDESC','STNAME_ORD','ARTDESCRIP','SURFACEWID_x','width_upd','geometry']\n"
   ]
  },
  {
   "cell_type": "code",
   "execution_count": null,
   "metadata": {},
   "outputs": [],
   "source": [
    "# output buffers as polygons and as outline polylines\n",
    "streets_bfill[columns].to_file(\"/home/nweiss/gdrive/Year 2/Summer - Duwamish/GIS/Processed/seattle_streets_buffer.shp\")\n",
    "streets_bfill.dissolve().boundary.to_file(\"/home/nweiss/gdrive/Year 2/Summer - Duwamish/GIS/Processed/seattle_streets_buffer_outlines.shp\")"
   ]
  },
  {
   "cell_type": "code",
   "execution_count": null,
   "metadata": {},
   "outputs": [],
   "source": [
    "## looking at SND network to compare against seattle streets\n",
    "SND = gp.read_file(\"/home/nweiss/gdrive/Year 2/Summer - Duwamish/GIS/Raw/Street_Network_Database_(SND)-20230505T014240Z-001/Street_Network_Database_(SND)/Street_Network_Database_(SND).shp\")"
   ]
  },
  {
   "cell_type": "code",
   "execution_count": null,
   "metadata": {},
   "outputs": [],
   "source": [
    "# TODO: need to look up what the arterial class widths are\n",
    "SND.columns\n",
    "SND['ARTERIAL_C'].value_counts()"
   ]
  },
  {
   "attachments": {},
   "cell_type": "markdown",
   "metadata": {},
   "source": [
    "BUILDING ANALYSIS"
   ]
  },
  {
   "cell_type": "code",
   "execution_count": 2,
   "metadata": {},
   "outputs": [],
   "source": [
    "#### TODO UPDATE TO THE MORE RECENT FILE (https://seattlecitygis.maps.arcgis.com/home/item.html?id=c7265e8e78f14970bf375d9b2259e82a)\n",
    "\n",
    "buildings = gp.read_file(\"/home/nweiss/gdrive/Year 2/Summer - Duwamish/GIS/Projected/buildings_2015_clipped_projected.shp\")"
   ]
  },
  {
   "cell_type": "code",
   "execution_count": 3,
   "metadata": {},
   "outputs": [],
   "source": [
    "## used topo to raster tool with 5ft contours and 5 ft pixel resolution\n",
    "# there may be better ways to get DEM / elevation values as raster\n",
    "topo_rast = \"/home/nweiss/gdrive/Year 2/Summer - Duwamish/GIS/elevation_rast_5ft_cont.tif\""
   ]
  },
  {
   "cell_type": "code",
   "execution_count": 44,
   "metadata": {},
   "outputs": [],
   "source": [
    "# find building height\n",
    "# option 1: spatial join building centroid to nearest 5ft contour\n",
    "# option 2: zonal statistic over raster for building footprint\n",
    "\n",
    "test = buildings[:1000]\n",
    "zonal_stats = rasterstats.zonal_stats(test, topo_rast, stats=\"count min mean max median std\")\n",
    "stats_df = pd.DataFrame.from_dict(zonal_stats).reset_index()\n",
    "test.reset_index(inplace = True)"
   ]
  },
  {
   "cell_type": "code",
   "execution_count": 45,
   "metadata": {},
   "outputs": [],
   "source": [
    "merged_heights = pd.merge(test, stats_df, how = 'left', left_on = 'index', right_on = 'index')"
   ]
  },
  {
   "cell_type": "code",
   "execution_count": 46,
   "metadata": {},
   "outputs": [
    {
     "data": {
      "text/html": [
       "<div>\n",
       "<style scoped>\n",
       "    .dataframe tbody tr th:only-of-type {\n",
       "        vertical-align: middle;\n",
       "    }\n",
       "\n",
       "    .dataframe tbody tr th {\n",
       "        vertical-align: top;\n",
       "    }\n",
       "\n",
       "    .dataframe thead th {\n",
       "        text-align: right;\n",
       "    }\n",
       "</style>\n",
       "<table border=\"1\" class=\"dataframe\">\n",
       "  <thead>\n",
       "    <tr style=\"text-align: right;\">\n",
       "      <th></th>\n",
       "      <th>BP99_APEX</th>\n",
       "      <th>mean</th>\n",
       "      <th>min</th>\n",
       "      <th>max</th>\n",
       "      <th>median</th>\n",
       "      <th>std</th>\n",
       "      <th>height_upd</th>\n",
       "    </tr>\n",
       "  </thead>\n",
       "  <tbody>\n",
       "    <tr>\n",
       "      <th>0</th>\n",
       "      <td>81</td>\n",
       "      <td>-15.643722</td>\n",
       "      <td>-21.110571</td>\n",
       "      <td>-13.896954</td>\n",
       "      <td>-14.625418</td>\n",
       "      <td>1.962462</td>\n",
       "      <td>96</td>\n",
       "    </tr>\n",
       "    <tr>\n",
       "      <th>1</th>\n",
       "      <td>66</td>\n",
       "      <td>-17.753135</td>\n",
       "      <td>-19.431469</td>\n",
       "      <td>-15.849288</td>\n",
       "      <td>-17.612436</td>\n",
       "      <td>1.158415</td>\n",
       "      <td>83</td>\n",
       "    </tr>\n",
       "    <tr>\n",
       "      <th>2</th>\n",
       "      <td>67</td>\n",
       "      <td>-16.176445</td>\n",
       "      <td>-17.399797</td>\n",
       "      <td>-11.026821</td>\n",
       "      <td>-16.620689</td>\n",
       "      <td>1.340995</td>\n",
       "      <td>83</td>\n",
       "    </tr>\n",
       "    <tr>\n",
       "      <th>3</th>\n",
       "      <td>64</td>\n",
       "      <td>-18.839761</td>\n",
       "      <td>-20.673250</td>\n",
       "      <td>-16.524836</td>\n",
       "      <td>-19.055712</td>\n",
       "      <td>1.224284</td>\n",
       "      <td>82</td>\n",
       "    </tr>\n",
       "    <tr>\n",
       "      <th>4</th>\n",
       "      <td>333</td>\n",
       "      <td>319.810907</td>\n",
       "      <td>318.770691</td>\n",
       "      <td>321.426575</td>\n",
       "      <td>319.763428</td>\n",
       "      <td>0.548536</td>\n",
       "      <td>13</td>\n",
       "    </tr>\n",
       "    <tr>\n",
       "      <th>...</th>\n",
       "      <td>...</td>\n",
       "      <td>...</td>\n",
       "      <td>...</td>\n",
       "      <td>...</td>\n",
       "      <td>...</td>\n",
       "      <td>...</td>\n",
       "      <td>...</td>\n",
       "    </tr>\n",
       "    <tr>\n",
       "      <th>995</th>\n",
       "      <td>223</td>\n",
       "      <td>205.324419</td>\n",
       "      <td>201.509674</td>\n",
       "      <td>209.290298</td>\n",
       "      <td>205.050278</td>\n",
       "      <td>1.977568</td>\n",
       "      <td>17</td>\n",
       "    </tr>\n",
       "    <tr>\n",
       "      <th>996</th>\n",
       "      <td>275</td>\n",
       "      <td>248.877339</td>\n",
       "      <td>246.540436</td>\n",
       "      <td>250.444458</td>\n",
       "      <td>249.079468</td>\n",
       "      <td>0.982626</td>\n",
       "      <td>26</td>\n",
       "    </tr>\n",
       "    <tr>\n",
       "      <th>997</th>\n",
       "      <td>265</td>\n",
       "      <td>249.631660</td>\n",
       "      <td>247.140228</td>\n",
       "      <td>251.764267</td>\n",
       "      <td>249.980835</td>\n",
       "      <td>1.263988</td>\n",
       "      <td>15</td>\n",
       "    </tr>\n",
       "    <tr>\n",
       "      <th>998</th>\n",
       "      <td>260</td>\n",
       "      <td>236.834256</td>\n",
       "      <td>235.562592</td>\n",
       "      <td>238.720810</td>\n",
       "      <td>236.722687</td>\n",
       "      <td>0.770638</td>\n",
       "      <td>23</td>\n",
       "    </tr>\n",
       "    <tr>\n",
       "      <th>999</th>\n",
       "      <td>278</td>\n",
       "      <td>261.965481</td>\n",
       "      <td>259.106995</td>\n",
       "      <td>265.545166</td>\n",
       "      <td>261.751160</td>\n",
       "      <td>1.789124</td>\n",
       "      <td>16</td>\n",
       "    </tr>\n",
       "  </tbody>\n",
       "</table>\n",
       "<p>1000 rows × 7 columns</p>\n",
       "</div>"
      ],
      "text/plain": [
       "     BP99_APEX        mean         min         max      median       std  \\\n",
       "0           81  -15.643722  -21.110571  -13.896954  -14.625418  1.962462   \n",
       "1           66  -17.753135  -19.431469  -15.849288  -17.612436  1.158415   \n",
       "2           67  -16.176445  -17.399797  -11.026821  -16.620689  1.340995   \n",
       "3           64  -18.839761  -20.673250  -16.524836  -19.055712  1.224284   \n",
       "4          333  319.810907  318.770691  321.426575  319.763428  0.548536   \n",
       "..         ...         ...         ...         ...         ...       ...   \n",
       "995        223  205.324419  201.509674  209.290298  205.050278  1.977568   \n",
       "996        275  248.877339  246.540436  250.444458  249.079468  0.982626   \n",
       "997        265  249.631660  247.140228  251.764267  249.980835  1.263988   \n",
       "998        260  236.834256  235.562592  238.720810  236.722687  0.770638   \n",
       "999        278  261.965481  259.106995  265.545166  261.751160  1.789124   \n",
       "\n",
       "     height_upd  \n",
       "0            96  \n",
       "1            83  \n",
       "2            83  \n",
       "3            82  \n",
       "4            13  \n",
       "..          ...  \n",
       "995          17  \n",
       "996          26  \n",
       "997          15  \n",
       "998          23  \n",
       "999          16  \n",
       "\n",
       "[1000 rows x 7 columns]"
      ]
     },
     "execution_count": 46,
     "metadata": {},
     "output_type": "execute_result"
    }
   ],
   "source": [
    "merged_heights['height_upd'] = (merged_heights['BP99_APEX']-merged_heights['mean']).astype(int)\n",
    "merged_heights[['BP99_APEX','mean','min','max','median','std','height_upd']]"
   ]
  },
  {
   "cell_type": "code",
   "execution_count": 47,
   "metadata": {},
   "outputs": [
    {
     "data": {
      "text/plain": [
       "array([[<Axes: title={'center': 'std'}>]], dtype=object)"
      ]
     },
     "execution_count": 47,
     "metadata": {},
     "output_type": "execute_result"
    },
    {
     "data": {
      "image/png": "[encoded data removed]",
      "text/plain": [
       "<Figure size 640x480 with 1 Axes>"
      ]
     },
     "metadata": {},
     "output_type": "display_data"
    },
    {
     "data": {
      "image/png": "[encoded data removed]",
      "text/plain": [
       "<Figure size 640x480 with 1 Axes>"
      ]
     },
     "metadata": {},
     "output_type": "display_data"
    }
   ],
   "source": [
    "merged_heights.hist(column ='height_upd')\n",
    "merged_heights.hist(column ='std') ## need to look at the ones with high std dev"
   ]
  }
 ],
 "metadata": {
  "kernelspec": {
   "display_name": "gis",
   "language": "python",
   "name": "python3"
  },
  "language_info": {
   "codemirror_mode": {
    "name": "ipython",
    "version": 3
   },
   "file_extension": ".py",
   "mimetype": "text/x-python",
   "name": "python",
   "nbconvert_exporter": "python",
   "pygments_lexer": "ipython3",
   "version": "3.11.4"
  },
  "orig_nbformat": 4
 },
 "nbformat": 4,
 "nbformat_minor": 2
}
