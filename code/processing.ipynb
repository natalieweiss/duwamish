{
 "cells": [
  {
   "cell_type": "code",
   "execution_count": null,
   "metadata": {},
   "outputs": [],
   "source": [
    "import pandas as pd\n",
    "import geopandas as gp\n",
    "import os\n",
    "import numpy as np\n",
    "import matplotlib\n",
    "import fiona\n",
    "import pathlib\n",
    "import glob"
   ]
  },
  {
   "cell_type": "code",
   "execution_count": null,
   "metadata": {},
   "outputs": [],
   "source": [
    "#### SET FILE PATHS ####\n",
    "\n",
    "boundary_path = \"/home/nweiss/gdrive/Year 2/Summer - Duwamish/GIS/Boundary/SP clipping area.shp\"\n",
    "clip_path = \"/home/nweiss/gdrive/Year 2/Summer - Duwamish/GIS/Clipped\"\n",
    "raw_path = \"/home/nweiss/gdrive/Year 2/Summer - Duwamish/GIS/Raw\"\n",
    "project_path = \"/home/nweiss/gdrive/Year 2/Summer - Duwamish/GIS/Projected\""
   ]
  },
  {
   "cell_type": "code",
   "execution_count": null,
   "metadata": {},
   "outputs": [],
   "source": [
    "# set project CRS\n",
    "crs = 2926\n",
    "\n",
    "# set boundary\n",
    "boundary = gp.read_file(boundary_path)\n",
    "boundary_project = boundary.to_crs(crs)\n",
    "boundary_project.to_file(boundary_path)"
   ]
  },
  {
   "cell_type": "code",
   "execution_count": null,
   "metadata": {},
   "outputs": [],
   "source": [
    "# project to project's crs and clip to boundary\n",
    "\n",
    "files = glob.glob(raw_path + '/**/*.shp', recursive = True)\n",
    "\n",
    "for f in files:\n",
    "    file_name = os.path.basename(f)[:-4]\n",
    "    print(f'processing {file_name}')\n",
    "    gdf = gp.read_file(f)\n",
    "    gdf_project = gdf.to_crs(crs)\n",
    "    gdf_project.to_file(os.path.join(project_path, f'{file_name}_projected.shp'))\n",
    "    print(os.path.join(project_path, f'{file_name}_projected.shp'))\n",
    "\n",
    "    gdf_clip = gp.clip(gdf_project, boundary)\n",
    "    gdf_clip.to_file(os.path.join(clip_path, f'{file_name}_clipped.shp'))\n",
    "    print(os.path.join(clip_path, f'{file_name}_clipped.shp'))\n"
   ]
  },
  {
   "attachments": {},
   "cell_type": "markdown",
   "metadata": {},
   "source": [
    "STREET ANALYSIS"
   ]
  },
  {
   "cell_type": "code",
   "execution_count": null,
   "metadata": {},
   "outputs": [],
   "source": [
    "# find average street width by functional class\n",
    "#### TODO should this be within our zone or across the whole data set?\n",
    "#### TODO change file path to one just processed\n",
    "\n",
    "streets = gp.read_file(\"/home/nweiss/gdrive/Year 2/Summer - Duwamish/GIS/Raw/Seattle_Streets/Seattle_Streets.shp\")\n",
    "streets = streets.to_crs(crs)\n"
   ]
  },
  {
   "cell_type": "code",
   "execution_count": null,
   "metadata": {},
   "outputs": [],
   "source": [
    "## check how many streets are missing width values\n",
    "#streets.SURFACEWID.value_counts()\n",
    "#print('number of roads with no width: ', len(streets[streets.SURFACEWID == 0]))\n",
    "\n",
    "streets['ARTCLASS'] = streets['ARTCLASS'].map(str)\n",
    "\n",
    "## backfill data by average width for each functional class\n",
    "# remove rows = 0 before finding average\n",
    "streets_wid = streets[['ARTCLASS','SURFACEWID']]\n",
    "streets_wid = streets_wid[streets_wid.SURFACEWID != 0]\n",
    "streets_wid.SURFACEWID.value_counts()\n",
    "\n",
    "## calculate average by arterial class and surface type\n",
    "streets_wid_avg = streets_wid.groupby(['ARTCLASS']).mean()\n",
    "streets_wid_avg.reset_index(inplace = True)\n",
    "streets_wid_avg['ARTCLASS'] = streets_wid_avg['ARTCLASS'].map(str).str[0]\n",
    "\n",
    "## histogram of artclass = 0 surface width\n",
    "# IQR of not designated roads with a surface width ranges from 22-25. min = 8 and max = 84\n",
    "#streets[streets['ARTCLASS']=='0.0'][streets['SURFACEWID']!= 0]['SURFACEWID'].describe()"
   ]
  },
  {
   "cell_type": "code",
   "execution_count": null,
   "metadata": {},
   "outputs": [],
   "source": [
    "# bring in and process clipped data\n",
    "#### TODO change file path\n",
    "streets_clipped = \"/home/nweiss/gdrive/Year 2/Summer - Duwamish/GIS/Projected/seattle_streets_clipped_projected.shp\"\n",
    "\n",
    "streets_clipped_gdf = gp.read_file(streets_clipped)\n",
    "streets_clipped_gdf = streets_clipped_gdf.to_crs(crs)\n",
    "streets_clipped_gdf['ARTCLASS'] = streets_clipped_gdf['ARTCLASS'].map(str)\n"
   ]
  },
  {
   "cell_type": "code",
   "execution_count": null,
   "metadata": {},
   "outputs": [],
   "source": [
    "# backfill data in the CLIPPED AND PROJECTED FILE by average width for each functional class\n",
    "# NOTE: arterial class == 9 has one feature with surface width == 0. there is no backfilled data for this road\n",
    "streets_bfill = pd.merge(left = streets_clipped_gdf, right = streets_wid_avg, how = 'left', left_on = 'ARTCLASS', right_on = 'ARTCLASS')\n",
    "streets_bfill[['OBJECTID','ARTCLASS','UNITDESC','ARTDESCRIP','SURFACEWID_x','SURFACEWID_y','geometry']]\n",
    "streets_bfill['width_upd'] = np.where(streets_bfill['SURFACEWID_x'] == 0, streets_bfill['SURFACEWID_y'], streets_bfill['SURFACEWID_x'])"
   ]
  },
  {
   "cell_type": "code",
   "execution_count": null,
   "metadata": {},
   "outputs": [],
   "source": [
    "# buffer by the surface width\n",
    "streets_bfill['geometry'] = streets_bfill.buffer(distance = streets_bfill['width_upd'])\n",
    "columns = ['OBJECTID','ARTCLASS','UNITDESC','STNAME_ORD','ARTDESCRIP','SURFACEWID_x','width_upd','geometry']\n"
   ]
  },
  {
   "cell_type": "code",
   "execution_count": null,
   "metadata": {},
   "outputs": [],
   "source": [
    "# output buffers as polygons and as outline polylines\n",
    "streets_bfill[columns].to_file(\"/home/nweiss/gdrive/Year 2/Summer - Duwamish/GIS/Processed/seattle_streets_buffer.shp\")\n",
    "streets_bfill.dissolve().boundary.to_file(\"/home/nweiss/gdrive/Year 2/Summer - Duwamish/GIS/Processed/seattle_streets_buffer_outlines.shp\")"
   ]
  },
  {
   "cell_type": "code",
   "execution_count": null,
   "metadata": {},
   "outputs": [],
   "source": [
    "## looking at SND network to compare against seattle streets\n",
    "SND = gp.read_file(\"/home/nweiss/gdrive/Year 2/Summer - Duwamish/GIS/Raw/Street_Network_Database_(SND)-20230505T014240Z-001/Street_Network_Database_(SND)/Street_Network_Database_(SND).shp\")"
   ]
  },
  {
   "cell_type": "code",
   "execution_count": null,
   "metadata": {},
   "outputs": [],
   "source": [
    "# TODO: need to look up what the arterial class widths are\n",
    "SND.columns\n",
    "SND['ARTERIAL_C'].value_counts()"
   ]
  },
  {
   "attachments": {},
   "cell_type": "markdown",
   "metadata": {},
   "source": [
    "BUILDING ANALYSIS"
   ]
  },
  {
   "cell_type": "code",
   "execution_count": null,
   "metadata": {},
   "outputs": [],
   "source": [
    "#### TODO UPDATE TO THE MORE RECENT FILE (https://seattlecitygis.maps.arcgis.com/home/item.html?id=c7265e8e78f14970bf375d9b2259e82a)\n",
    "\n",
    "buildings = gp.read_file(\"/home/nweiss/gdrive/Year 2/Summer - Duwamish/GIS/Projected/buildings_2015_clipped_projected.shp\")"
   ]
  },
  {
   "cell_type": "code",
   "execution_count": null,
   "metadata": {},
   "outputs": [],
   "source": [
    "buildings.to_crs(crs).to_file(\"/home/nweiss/gdrive/Year 2/Summer - Duwamish/GIS/Projected/buildings_2015_clipped_projected.shp\")"
   ]
  },
  {
   "cell_type": "code",
   "execution_count": null,
   "metadata": {},
   "outputs": [],
   "source": [
    "buildings.columns\n",
    "# 5k buildings do not have building heights\n",
    "# buildings['BP99_APEX'].value_counts()\n",
    "\n",
    "# scatter plot of area x building apex for grouping and backfilling\n",
    "buildings['SHAPE_Area'].describe()\n",
    "buildings_scatter = buildings[buildings.BP99_APEX!=0]\n",
    "buildings_scatter = buildings_scatter[buildings_scatter.SHAPE_Area!=0]\n",
    "buildings_scatter.plot.scatter('SHAPE_Area','BP99_APEX')"
   ]
  },
  {
   "cell_type": "code",
   "execution_count": null,
   "metadata": {},
   "outputs": [],
   "source": [
    "#TODO find default height neighborhood's one story buildings. there are so many 300'+ buildings??"
   ]
  }
 ],
 "metadata": {
  "kernelspec": {
   "display_name": "gis",
   "language": "python",
   "name": "python3"
  },
  "language_info": {
   "codemirror_mode": {
    "name": "ipython",
    "version": 3
   },
   "file_extension": ".py",
   "mimetype": "text/x-python",
   "name": "python",
   "nbconvert_exporter": "python",
   "pygments_lexer": "ipython3",
   "version": "3.11.4"
  },
  "orig_nbformat": 4
 },
 "nbformat": 4,
 "nbformat_minor": 2
}
