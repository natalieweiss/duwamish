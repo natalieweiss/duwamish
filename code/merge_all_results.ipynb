{
 "cells": [
  {
   "cell_type": "code",
   "execution_count": 68,
   "metadata": {},
   "outputs": [],
   "source": [
    "import pandas as pd\n",
    "import geopandas as gp\n",
    "import numpy as np\n",
    "from datetime import date\n",
    "import glob\n",
    "import os"
   ]
  },
  {
   "cell_type": "code",
   "execution_count": 69,
   "metadata": {},
   "outputs": [],
   "source": [
    "# initiate file names\n",
    "output_file_name = \"aggregated_results\""
   ]
  },
  {
   "cell_type": "code",
   "execution_count": 70,
   "metadata": {},
   "outputs": [],
   "source": [
    "# initiate folder path where results are stored\n",
    "results_folder_path = \"/home/nweiss/gdrive/Year 2/Summer - Duwamish/Sampling_Results\""
   ]
  },
  {
   "cell_type": "code",
   "execution_count": 71,
   "metadata": {},
   "outputs": [],
   "source": [
    "# bring in all results with just screening levels\n",
    "file_extension = '*.csv'\n",
    "\n",
    "# List all files with the specified extension in the folder\n",
    "files = os.listdir(results_folder_path)\n",
    "\n",
    "sl_results = []\n",
    "sl_geom_results = []\n",
    "# Iterate through each file and read its content\n",
    "for file_path in files:\n",
    "    if \"joined_SL\" in file_path:\n",
    "        df = pd.read_csv(results_folder_path + '/' + file_path)\n",
    "        sl_results.append(df)\n",
    "    if \"join_geometry\" in file_path:\n",
    "        df = pd.read_csv(results_folder_path + '/' + file_path)\n",
    "        sl_geom_results.append(df)\n",
    "\n",
    "sl_results = pd.concat(sl_results)\n",
    "sl_geom_results = pd.concat(sl_geom_results)"
   ]
  },
  {
   "cell_type": "code",
   "execution_count": 81,
   "metadata": {},
   "outputs": [],
   "source": [
    "sl_results = sl_results[sl_results['Result Value'].isna()==False]\n",
    "sl_geom_results = sl_geom_results[sl_geom_results['Result Value'].isna()==False]"
   ]
  },
  {
   "cell_type": "code",
   "execution_count": 82,
   "metadata": {},
   "outputs": [],
   "source": [
    "cols = sl_results.columns\n",
    "cols = cols.insert(loc = len(cols), item =['Latitude','Longitude'])"
   ]
  },
  {
   "cell_type": "code",
   "execution_count": 83,
   "metadata": {},
   "outputs": [],
   "source": [
    "sl_results.to_csv(results_folder_path + '/' + output_file_name + '.csv', index = False)\n",
    "sl_geom_results[cols].to_csv(results_folder_path + '/'  + output_file_name + \"_geom.csv\", index = False)"
   ]
  }
 ],
 "metadata": {
  "kernelspec": {
   "display_name": "gis",
   "language": "python",
   "name": "python3"
  },
  "language_info": {
   "codemirror_mode": {
    "name": "ipython",
    "version": 3
   },
   "file_extension": ".py",
   "mimetype": "text/x-python",
   "name": "python",
   "nbconvert_exporter": "python",
   "pygments_lexer": "ipython3",
   "version": "3.11.4"
  },
  "orig_nbformat": 4
 },
 "nbformat": 4,
 "nbformat_minor": 2
}
