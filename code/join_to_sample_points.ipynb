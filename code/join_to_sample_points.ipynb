{
 "cells": [
  {
   "cell_type": "code",
   "execution_count": 210,
   "metadata": {},
   "outputs": [],
   "source": [
    "import pandas as pd\n",
    "import geopandas as gp\n",
    "import numpy as np\n",
    "import os\n",
    "import itertools\n",
    "import datetime"
   ]
  },
  {
   "cell_type": "code",
   "execution_count": 211,
   "metadata": {},
   "outputs": [],
   "source": [
    "## initiate file paths\n",
    "#screening_results_path = \"/home/nweiss/gdrive/Year 2/Summer - Duwamish/Sampling_Results/all_results_for_tableau.xlsx\"\n",
    "screening_results_path = \"/home/nweiss/gdrive/Year 2/Summer - Duwamish/Sampling_Results/all_results_joined_SL.csv\"\n",
    "sample_points_path = \"/home/nweiss/gdrive/Year 2/Summer - Duwamish/Sampling_Results/Sampling_Sites_MASTER.xlsx\"\n",
    "file_name = \"screening_results_join_geometry\"\n",
    "scenario = 'Drinking Water'"
   ]
  },
  {
   "cell_type": "code",
   "execution_count": 212,
   "metadata": {},
   "outputs": [],
   "source": [
    "sample_pts = pd.read_excel(sample_points_path, sheet_name = \"Sample_Locations\")\n",
    "screening_results = pd.read_csv(screening_results_path)"
   ]
  },
  {
   "cell_type": "code",
   "execution_count": 213,
   "metadata": {},
   "outputs": [],
   "source": [
    "sample_pts_gdf = gp.GeoDataFrame(sample_pts, geometry=gp.points_from_xy(sample_pts.Longitude, sample_pts.Latitude), crs=\"EPSG:4326\")"
   ]
  },
  {
   "cell_type": "code",
   "execution_count": 214,
   "metadata": {},
   "outputs": [
    {
     "data": {
      "text/plain": [
       "Index(['Medium', 'Sample ID', 'Chemical Group', 'Chemical', 'Scenario',\n",
       "       'cnt_SL_exceeded', 'tot_cnt_SL', 'pct_SL_exceeded'],\n",
       "      dtype='object')"
      ]
     },
     "execution_count": 214,
     "metadata": {},
     "output_type": "execute_result"
    }
   ],
   "source": [
    "screening_results.columns"
   ]
  },
  {
   "cell_type": "code",
   "execution_count": 215,
   "metadata": {},
   "outputs": [
    {
     "name": "stdout",
     "output_type": "stream",
     "text": [
      "date not included\n"
     ]
    }
   ],
   "source": [
    "try:\n",
    "    screening_results['DATE'] = screening_results['DATE'].str[:10]\n",
    "    screening_results[\"DATE\"] = pd.to_datetime(screening_results[\"DATE\"])\n",
    "except:\n",
    "    print(\"date not included\")"
   ]
  },
  {
   "cell_type": "code",
   "execution_count": 216,
   "metadata": {},
   "outputs": [],
   "source": [
    "sample_pts_gdf['Date']\n",
    "sample_pts_gdf[\"Date\"] = pd.to_datetime(sample_pts_gdf[\"Date\"], format='mixed')"
   ]
  },
  {
   "cell_type": "code",
   "execution_count": 217,
   "metadata": {},
   "outputs": [],
   "source": [
    "try:\n",
    "    sample_pts_join_results = pd.merge(screening_results, sample_pts_gdf, left_on = ['Sample ID', 'DATE'], right_on = ['Sampling ID', 'Date'], how = 'left')\n",
    "    sample_pts_join_results.rename(columns = {'Medium_x':'Medium'}, inplace = True)\n",
    "except:\n",
    "    sample_pts_join_results = pd.merge(screening_results, sample_pts_gdf, left_on = ['Sample ID'], right_on = ['Sampling ID'], how = 'left')\n",
    "    sample_pts_join_results.rename(columns = {'Medium_x':'Medium'}, inplace = True)"
   ]
  },
  {
   "cell_type": "code",
   "execution_count": 218,
   "metadata": {},
   "outputs": [],
   "source": [
    "sample_pts_join_results_gdf = gp.GeoDataFrame(sample_pts_join_results)\n",
    "sample_pts_join_results_gdf['Date'] = sample_pts_join_results_gdf['Date'].astype(str)"
   ]
  },
  {
   "cell_type": "code",
   "execution_count": 219,
   "metadata": {},
   "outputs": [],
   "source": [
    "#sample_pts_join_results.to_csv(\"/home/nweiss/gdrive/Year 2/Summer - Duwamish/Sampling_Results/screening_results_join_geometry.csv\")"
   ]
  },
  {
   "cell_type": "code",
   "execution_count": 224,
   "metadata": {},
   "outputs": [
    {
     "name": "stdout",
     "output_type": "stream",
     "text": [
      "no exceedance column\n"
     ]
    }
   ],
   "source": [
    "try:\n",
    "    exceedances_only = sample_pts_join_results[sample_pts_join_results['SL_exceeded']=='Y']\n",
    "    exceedances_only.drop(columns=['Medium_y', 'DateTime', 'Issues Peter has Found','Resolved', 'Photo', 'Sampling ID', 'Site ID'], inplace = True)\n",
    "except:\n",
    "    exceedances_only = sample_pts_join_results_gdf\n",
    "    print(\"no exceedance column\")\n",
    "#exceedances_only = exceedances_only[exceedances_only['Scenario']==scenario]\n",
    "exceedances_only.to_csv(f\"/home/nweiss/gdrive/Year 2/Summer - Duwamish/Sampling_Results/{file_name}.csv\", index=False)"
   ]
  },
  {
   "cell_type": "code",
   "execution_count": 222,
   "metadata": {},
   "outputs": [
    {
     "data": {
      "text/plain": [
       "Index(['index', 'Medium', 'Chemical Group', 'Chemical', 'Scenario',\n",
       "       'Screening Level Measurement', 'DATE', 'Sample ID',\n",
       "       'Result Parameter Name', 'Screening Level Type', 'SL Unit',\n",
       "       'Result Value', 'Result Value Units', 'Source', 'SL_exceeded',\n",
       "       'Result Data Qualifier', 'SL_diff', 'Date', 'Latitude', 'Longitude',\n",
       "       'Description', 'geometry'],\n",
       "      dtype='object')"
      ]
     },
     "execution_count": 222,
     "metadata": {},
     "output_type": "execute_result"
    }
   ],
   "source": [
    "exceedances_only.columns"
   ]
  },
  {
   "cell_type": "code",
   "execution_count": null,
   "metadata": {},
   "outputs": [
    {
     "data": {
      "text/plain": [
       "'scenarios = exceedances_only[\\'Scenario\\'].unique()\\nfor i in scenarios:\\n    df = exceedances_only[exceedances_only[\\'Scenario\\']==i]\\n    df.to_csv(f\"/home/nweiss/gdrive/Year 2/Summer - Duwamish/Sampling_Results/screening results by scenario/screening_results_join_geometry_exceeded_{i}.csv\", index=False)'"
      ]
     },
     "execution_count": 209,
     "metadata": {},
     "output_type": "execute_result"
    }
   ],
   "source": [
    "'''scenarios = exceedances_only['Scenario'].unique()\n",
    "for i in scenarios:\n",
    "    df = exceedances_only[exceedances_only['Scenario']==i]\n",
    "    df.to_csv(f\"/home/nweiss/gdrive/Year 2/Summer - Duwamish/Sampling_Results/screening results by scenario/screening_results_join_geometry_exceeded_{i}.csv\", index=False)'''"
   ]
  }
 ],
 "metadata": {
  "kernelspec": {
   "display_name": "gis",
   "language": "python",
   "name": "python3"
  },
  "language_info": {
   "codemirror_mode": {
    "name": "ipython",
    "version": 3
   },
   "file_extension": ".py",
   "mimetype": "text/x-python",
   "name": "python",
   "nbconvert_exporter": "python",
   "pygments_lexer": "ipython3",
   "version": "3.11.4"
  },
  "orig_nbformat": 4
 },
 "nbformat": 4,
 "nbformat_minor": 2
}
