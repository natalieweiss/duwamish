{
 "cells": [
  {
   "cell_type": "code",
   "execution_count": 31,
   "metadata": {},
   "outputs": [],
   "source": [
    "import pandas as pd\n",
    "import geopandas as gp\n",
    "import numpy as np\n",
    "from datetime import date"
   ]
  },
  {
   "cell_type": "code",
   "execution_count": 32,
   "metadata": {},
   "outputs": [],
   "source": [
    "## initiate file paths\n",
    "sample_outing_name = 'nov23'"
   ]
  },
  {
   "cell_type": "code",
   "execution_count": 33,
   "metadata": {},
   "outputs": [],
   "source": [
    "# create output file names\n",
    "input_results_path = f\"/home/nweiss/gdrive/Year 2/Summer - Duwamish/Sampling_Results/{sample_outing_name}_results_joined_SL_{date.today().strftime('%Y%m%d')}.csv\"\n",
    "sample_pts_path = \"/home/nweiss/gdrive/Year 2/Summer - Duwamish/Sampling_Results/Lookup Tables/Sampling_Sites_MASTER.xlsx\"\n",
    "output_results_path = f\"{sample_outing_name}_results_join_geometry_{date.today().strftime('%Y%m%d')}\""
   ]
  },
  {
   "cell_type": "code",
   "execution_count": 34,
   "metadata": {},
   "outputs": [],
   "source": [
    "sample_pts = pd.read_excel(sample_pts_path, sheet_name = \"Sample_Locations\")\n",
    "sample_pts_gdf = gp.GeoDataFrame(sample_pts, geometry=gp.points_from_xy(sample_pts.Longitude, sample_pts.Latitude), crs=\"EPSG:4326\")"
   ]
  },
  {
   "cell_type": "code",
   "execution_count": 35,
   "metadata": {},
   "outputs": [],
   "source": [
    "screening_results = pd.read_csv(input_results_path)\n",
    "\n",
    "# TODO: remove any screening results with U and C qualifiers. do not want to show these in the map"
   ]
  },
  {
   "cell_type": "code",
   "execution_count": 36,
   "metadata": {},
   "outputs": [],
   "source": [
    "try:\n",
    "    screening_results['DATE'] = screening_results['DATE'].str[:10]\n",
    "    screening_results[\"DATE\"] = pd.to_datetime(screening_results[\"DATE\"])\n",
    "except:\n",
    "    print(\"date not included\")"
   ]
  },
  {
   "cell_type": "code",
   "execution_count": 37,
   "metadata": {},
   "outputs": [],
   "source": [
    "sample_pts_gdf['Date']\n",
    "sample_pts_gdf[\"Date\"] = pd.to_datetime(sample_pts_gdf[\"Date\"], format='mixed')"
   ]
  },
  {
   "cell_type": "code",
   "execution_count": 38,
   "metadata": {},
   "outputs": [],
   "source": [
    "try:\n",
    "    sample_pts_join_results = pd.merge(screening_results, sample_pts_gdf, left_on = ['Sample ID', 'DATE'], right_on = ['Sampling ID', 'Date'], how = 'left')\n",
    "    sample_pts_join_results.rename(columns = {'Medium_x':'Medium'}, inplace = True)\n",
    "except:\n",
    "    sample_pts_join_results = pd.merge(screening_results, sample_pts_gdf, left_on = ['Sample ID'], right_on = ['Sampling ID'], how = 'left')\n",
    "    sample_pts_join_results.rename(columns = {'Medium_x':'Medium'}, inplace = True)"
   ]
  },
  {
   "cell_type": "code",
   "execution_count": 39,
   "metadata": {},
   "outputs": [],
   "source": [
    "sample_pts_join_results_gdf = gp.GeoDataFrame(sample_pts_join_results)\n",
    "sample_pts_join_results_gdf['Date'] = sample_pts_join_results_gdf['Date'].astype(str)"
   ]
  },
  {
   "cell_type": "code",
   "execution_count": 40,
   "metadata": {},
   "outputs": [],
   "source": [
    "sample_pts_join_results.to_csv(f\"/home/nweiss/gdrive/Year 2/Summer - Duwamish/Sampling_Results/{output_results_path}.csv\")"
   ]
  }
 ],
 "metadata": {
  "kernelspec": {
   "display_name": "gis",
   "language": "python",
   "name": "python3"
  },
  "language_info": {
   "codemirror_mode": {
    "name": "ipython",
    "version": 3
   },
   "file_extension": ".py",
   "mimetype": "text/x-python",
   "name": "python",
   "nbconvert_exporter": "python",
   "pygments_lexer": "ipython3",
   "version": "3.11.4"
  },
  "orig_nbformat": 4
 },
 "nbformat": 4,
 "nbformat_minor": 2
}
