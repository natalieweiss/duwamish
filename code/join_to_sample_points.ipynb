{
 "cells": [
  {
   "cell_type": "code",
   "execution_count": 55,
   "metadata": {},
   "outputs": [],
   "source": [
    "import pandas as pd\n",
    "import geopandas as gp\n",
    "import numpy as np\n",
    "from datetime import date"
   ]
  },
  {
   "cell_type": "code",
   "execution_count": 56,
   "metadata": {},
   "outputs": [],
   "source": [
    "## initiate file paths\n",
    "sample_outing_name = 's4_s6'"
   ]
  },
  {
   "cell_type": "code",
   "execution_count": 57,
   "metadata": {},
   "outputs": [],
   "source": [
    "# create output file names\n",
    "input_results_path = f\"/home/nweiss/gdrive/Year 2/Summer - Duwamish/Sampling_Results/{sample_outing_name}_results_joined_SL_{date.today().strftime('%Y%m%d')}.csv\"\n",
    "sample_pts_path = \"/home/nweiss/gdrive/Year 2/Summer - Duwamish/Sampling_Results/Lookup Tables/Sampling_Sites_MASTER.xlsx\"\n",
    "output_results_path = f\"{sample_outing_name}_results_join_geometry_{date.today().strftime('%Y%m%d')}\""
   ]
  },
  {
   "cell_type": "code",
   "execution_count": 58,
   "metadata": {},
   "outputs": [],
   "source": [
    "sample_pts = pd.read_excel(sample_pts_path, sheet_name = \"Sample_Locations\")\n",
    "sample_pts_gdf = gp.GeoDataFrame(sample_pts, geometry=gp.points_from_xy(sample_pts.Longitude, sample_pts.Latitude), crs=\"EPSG:4326\")"
   ]
  },
  {
   "cell_type": "code",
   "execution_count": 59,
   "metadata": {},
   "outputs": [],
   "source": [
    "screening_results = pd.read_csv(input_results_path)\n",
    "\n",
    "# TODO: remove any screening results with U and C qualifiers. do not want to show these in the map"
   ]
  },
  {
   "cell_type": "code",
   "execution_count": 60,
   "metadata": {},
   "outputs": [],
   "source": [
    "try:\n",
    "    screening_results['DATE'] = screening_results['DATE'].str[:10]\n",
    "    screening_results[\"DATE\"] = pd.to_datetime(screening_results[\"DATE\"])\n",
    "except:\n",
    "    print(\"date not included\")"
   ]
  },
  {
   "cell_type": "code",
   "execution_count": 61,
   "metadata": {},
   "outputs": [],
   "source": [
    "sample_pts_gdf[\"Date\"] = pd.to_datetime(sample_pts_gdf[\"Date\"], format='mixed')"
   ]
  },
  {
   "cell_type": "code",
   "execution_count": 65,
   "metadata": {},
   "outputs": [],
   "source": [
    "sample_pts_join_results = pd.merge(screening_results, sample_pts_gdf, left_on = ['Sample ID', 'DATE'], right_on = ['Sampling ID', 'Date'], how = 'left')\n",
    "sample_pts_join_results.rename(columns = {'Medium_x':'Medium'}, inplace = True)"
   ]
  },
  {
   "cell_type": "code",
   "execution_count": 63,
   "metadata": {},
   "outputs": [],
   "source": [
    "sample_pts_join_results_gdf = gp.GeoDataFrame(sample_pts_join_results)\n",
    "sample_pts_join_results_gdf['Date'] = sample_pts_join_results_gdf['Date'].astype(str)"
   ]
  },
  {
   "cell_type": "code",
   "execution_count": 64,
   "metadata": {},
   "outputs": [],
   "source": [
    "sample_pts_join_results[['DATE', 'Sample ID', 'Medium', 'Chemical Group', 'Chemical', 'Scenario',\n",
    "       'Screening Level Type', 'Screening Level Measurement', 'SL Unit',\n",
    "       'Source', 'Parameter in Spreadsheet', 'Result Value',\n",
    "       'Result Value Units', 'SL_exceeded', 'SL_diff','Latitude', 'Longitude','Description']].to_csv(f\"/home/nweiss/gdrive/Year 2/Summer - Duwamish/Sampling_Results/{output_results_path}.csv\", index = False)"
   ]
  }
 ],
 "metadata": {
  "kernelspec": {
   "display_name": "gis",
   "language": "python",
   "name": "python3"
  },
  "language_info": {
   "codemirror_mode": {
    "name": "ipython",
    "version": 3
   },
   "file_extension": ".py",
   "mimetype": "text/x-python",
   "name": "python",
   "nbconvert_exporter": "python",
   "pygments_lexer": "ipython3",
   "version": "3.11.4"
  },
  "orig_nbformat": 4
 },
 "nbformat": 4,
 "nbformat_minor": 2
}
