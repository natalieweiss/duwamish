{
 "cells": [
  {
   "cell_type": "code",
   "execution_count": 120,
   "metadata": {},
   "outputs": [],
   "source": [
    "import pandas as pd\n",
    "import geopandas as gp\n",
    "import numpy as np\n",
    "import os\n",
    "import itertools\n",
    "import datetime"
   ]
  },
  {
   "cell_type": "code",
   "execution_count": 121,
   "metadata": {},
   "outputs": [],
   "source": [
    "## initiate file paths\n",
    "screening_results_path = \"/home/nweiss/gdrive/Year 2/Summer - Duwamish/Sampling_Results/all_results_for_tableau.xlsx\"\n",
    "sample_points_path = \"/home/nweiss/gdrive/Year 2/Summer - Duwamish/Sampling_Results/Sampling_Sites_MASTER.xlsx\""
   ]
  },
  {
   "cell_type": "code",
   "execution_count": 122,
   "metadata": {},
   "outputs": [],
   "source": [
    "sample_pts = pd.read_excel(sample_points_path, sheet_name = \"Sample_Locations\")\n",
    "screening_results = pd.read_excel(screening_results_path, sheet_name = \"Sheet1\")"
   ]
  },
  {
   "cell_type": "code",
   "execution_count": 123,
   "metadata": {},
   "outputs": [],
   "source": [
    "sample_pts_gdf = gp.GeoDataFrame(sample_pts, geometry=gp.points_from_xy(sample_pts.Longitude, sample_pts.Latitude), crs=\"EPSG:4326\")"
   ]
  },
  {
   "cell_type": "code",
   "execution_count": 124,
   "metadata": {},
   "outputs": [],
   "source": [
    "screening_results[\"DATE\"] = pd.to_datetime(screening_results[\"DATE\"])"
   ]
  },
  {
   "cell_type": "code",
   "execution_count": 125,
   "metadata": {},
   "outputs": [],
   "source": [
    "sample_pts_gdf['Date']\n",
    "sample_pts_gdf[\"Date\"] = pd.to_datetime(sample_pts_gdf[\"Date\"], format='mixed')"
   ]
  },
  {
   "cell_type": "code",
   "execution_count": 126,
   "metadata": {},
   "outputs": [],
   "source": [
    "sample_pts_join_results = pd.merge(screening_results, sample_pts_gdf, left_on = ['Sample ID', 'DATE'], right_on = ['Sampling ID', 'Date'], how = 'left')\n",
    "sample_pts_join_results.rename(columns = {'Medium_x':'Medium'}, inplace = True)"
   ]
  },
  {
   "cell_type": "code",
   "execution_count": 127,
   "metadata": {},
   "outputs": [],
   "source": [
    "columns = ['Medium', 'DATE', 'Sample ID', 'Site ID','Chemical Group',\n",
    "       'Chemical', 'Result Parameter Name', 'Screening Level Type',\n",
    "       'Screening Level Measurement', 'Result Value', 'Result Value Units', 'Source',\n",
    "       'SL_exceeded', 'Result Data Qualifier','Latitude',\n",
    "       'Longitude','geometry']\n",
    "\n",
    "sample_pts_join_results_gdf = gp.GeoDataFrame(sample_pts_join_results)\n",
    "sample_pts_join_results_gdf['DATE'] = sample_pts_join_results_gdf['DATE'].astype(str)\n",
    "#sample_pts_join_results_gdf[columns].to_file(\"/home/nweiss/gdrive/Year 2/Summer - Duwamish/Sampling_Results/screening_results_join_geometry.shp\")"
   ]
  },
  {
   "cell_type": "code",
   "execution_count": 128,
   "metadata": {},
   "outputs": [],
   "source": [
    "sample_pts_join_results.to_csv(\"/home/nweiss/gdrive/Year 2/Summer - Duwamish/Sampling_Results/screening_results_join_geometry.csv\")"
   ]
  },
  {
   "cell_type": "code",
   "execution_count": 129,
   "metadata": {},
   "outputs": [],
   "source": [
    "exceedances_only = sample_pts_join_results[sample_pts_join_results['SL_exceeded']=='Y']\n",
    "exceedances_only.to_csv(\"/home/nweiss/gdrive/Year 2/Summer - Duwamish/Sampling_Results/screening_results_join_geometry_exceeded.csv\", index=False)"
   ]
  },
  {
   "cell_type": "code",
   "execution_count": 116,
   "metadata": {},
   "outputs": [],
   "source": [
    "scenarios = exceedances_only['Scenario'].unique()"
   ]
  },
  {
   "cell_type": "code",
   "execution_count": 132,
   "metadata": {},
   "outputs": [],
   "source": [
    "for i in scenarios:\n",
    "    df = exceedances_only[exceedances_only['Scenario']==i]\n",
    "    df.to_csv(f\"/home/nweiss/gdrive/Year 2/Summer - Duwamish/Sampling_Results/screening results by scenario/screening_results_join_geometry_exceeded_{i}.csv\", index=False)"
   ]
  }
 ],
 "metadata": {
  "kernelspec": {
   "display_name": "gis",
   "language": "python",
   "name": "python3"
  },
  "language_info": {
   "codemirror_mode": {
    "name": "ipython",
    "version": 3
   },
   "file_extension": ".py",
   "mimetype": "text/x-python",
   "name": "python",
   "nbconvert_exporter": "python",
   "pygments_lexer": "ipython3",
   "version": "3.11.4"
  },
  "orig_nbformat": 4
 },
 "nbformat": 4,
 "nbformat_minor": 2
}
