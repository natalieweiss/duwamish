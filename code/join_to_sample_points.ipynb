{
 "cells": [
  {
   "cell_type": "code",
   "execution_count": 2,
   "metadata": {},
   "outputs": [],
   "source": [
    "import pandas as pd\n",
    "import geopandas as gp\n",
    "import numpy as np\n",
    "import os\n",
    "import itertools"
   ]
  },
  {
   "cell_type": "code",
   "execution_count": 3,
   "metadata": {},
   "outputs": [],
   "source": [
    "## initiate file paths\n",
    "screening_results_path = \"/home/nweiss/gdrive/Year 2/Summer - Duwamish/Sampling_Results/all_results_for_tableau.xlsx\"\n",
    "sample_points_path = \"/home/nweiss/gdrive/Year 2/Summer - Duwamish/Sampling_Results/Sampling_Sites_MASTER.xlsx\""
   ]
  },
  {
   "cell_type": "code",
   "execution_count": 4,
   "metadata": {},
   "outputs": [],
   "source": [
    "sample_pts = pd.read_excel(sample_points_path, sheet_name = \"Sample_Locations\")\n",
    "screening_results = pd.read_excel(screening_results_path, sheet_name = \"Sheet1\")"
   ]
  },
  {
   "cell_type": "code",
   "execution_count": 5,
   "metadata": {},
   "outputs": [],
   "source": [
    "sample_pts_gdf = gp.GeoDataFrame(sample_pts, geometry=gp.points_from_xy(sample_pts.Longitude, sample_pts.Latitude), crs=\"EPSG:4326\")"
   ]
  },
  {
   "cell_type": "code",
   "execution_count": 6,
   "metadata": {},
   "outputs": [
    {
     "data": {
      "text/plain": [
       "Index(['Sampling ID', 'Site ID', 'DateTime', 'Date', 'Medium',\n",
       "       'Number of Times Sampled', 'Latitude', 'Longitude', 'Description',\n",
       "       'Photo', 'Issues Peter has Found', 'Resolved', 'geometry'],\n",
       "      dtype='object')"
      ]
     },
     "execution_count": 6,
     "metadata": {},
     "output_type": "execute_result"
    }
   ],
   "source": [
    "sample_pts_gdf.columns"
   ]
  },
  {
   "cell_type": "code",
   "execution_count": 7,
   "metadata": {},
   "outputs": [],
   "source": [
    "screening_results['DATE']\n",
    "screening_results[\"DATE\"] = pd.to_datetime(screening_results[\"DATE\"])"
   ]
  },
  {
   "cell_type": "code",
   "execution_count": 8,
   "metadata": {},
   "outputs": [],
   "source": [
    "sample_pts_gdf['Date']\n",
    "sample_pts_gdf[\"Date\"] = pd.to_datetime(sample_pts_gdf[\"Date\"], format='mixed')"
   ]
  },
  {
   "cell_type": "code",
   "execution_count": 12,
   "metadata": {},
   "outputs": [],
   "source": [
    "sample_pts_join_results = pd.merge(screening_results, sample_pts_gdf, left_on = ['Sample ID', 'DATE'], right_on = ['Sampling ID', 'Date'], how = 'left')\n",
    "sample_pts_join_results.rename(columns = {'Medium_x':'Medium'}, inplace = True)"
   ]
  },
  {
   "cell_type": "code",
   "execution_count": 21,
   "metadata": {},
   "outputs": [
    {
     "name": "stderr",
     "output_type": "stream",
     "text": [
      "/tmp/ipykernel_228/2715928309.py:9: UserWarning: Column names longer than 10 characters will be truncated when saved to ESRI Shapefile.\n",
      "  sample_pts_join_results_gdf[columns].to_file(\"/home/nweiss/gdrive/Year 2/Summer - Duwamish/Sampling_Results/screening_results_join_geometry.shp\")\n"
     ]
    }
   ],
   "source": [
    "columns = ['Medium', 'DATE', 'Sample ID', 'Site ID','Chemical Group',\n",
    "       'Chemical', 'Result Parameter Name', 'Screening Level Type',\n",
    "       'Screening Level Measurement', 'Result Value', 'Unit', 'Source',\n",
    "       'SL_exceeded', 'Result Data Qualifier','Latitude',\n",
    "       'Longitude','geometry']\n",
    "\n",
    "sample_pts_join_results_gdf = gp.GeoDataFrame(sample_pts_join_results)\n",
    "sample_pts_join_results_gdf['DATE'] = sample_pts_join_results_gdf['DATE'].astype(str)\n",
    "sample_pts_join_results_gdf[columns].to_file(\"/home/nweiss/gdrive/Year 2/Summer - Duwamish/Sampling_Results/screening_results_join_geometry.shp\")"
   ]
  }
 ],
 "metadata": {
  "kernelspec": {
   "display_name": "gis",
   "language": "python",
   "name": "python3"
  },
  "language_info": {
   "codemirror_mode": {
    "name": "ipython",
    "version": 3
   },
   "file_extension": ".py",
   "mimetype": "text/x-python",
   "name": "python",
   "nbconvert_exporter": "python",
   "pygments_lexer": "ipython3",
   "version": "3.11.4"
  },
  "orig_nbformat": 4
 },
 "nbformat": 4,
 "nbformat_minor": 2
}
