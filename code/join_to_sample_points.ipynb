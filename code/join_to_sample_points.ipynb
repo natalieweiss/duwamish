{
 "cells": [
  {
   "cell_type": "code",
   "execution_count": 339,
   "metadata": {},
   "outputs": [],
   "source": [
    "import pandas as pd\n",
    "import geopandas as gp\n",
    "import numpy as np\n",
    "from datetime import date"
   ]
  },
  {
   "cell_type": "code",
   "execution_count": 340,
   "metadata": {},
   "outputs": [],
   "source": [
    "## initiate file paths\n",
    "sample_outing_name = 'all'"
   ]
  },
  {
   "cell_type": "code",
   "execution_count": 341,
   "metadata": {},
   "outputs": [],
   "source": [
    "# create output file names\n",
    "input_results_path = f\"/home/nweiss/gdrive/Year 2/Summer - Duwamish/Sampling_Results/{sample_outing_name}_results_joined_SL.csv\"\n",
    "sample_pts_path = \"/home/nweiss/gdrive/Year 2/Summer - Duwamish/Sampling_Results/Lookup Tables/Sampling_Sites_MASTER.xlsx\"\n",
    "output_results_path = f\"{sample_outing_name}_results_join_geometry\""
   ]
  },
  {
   "cell_type": "code",
   "execution_count": 342,
   "metadata": {},
   "outputs": [],
   "source": [
    "sample_pts = pd.read_excel(sample_pts_path, sheet_name = \"Sample_Locations\")\n",
    "sample_pts_gdf = gp.GeoDataFrame(sample_pts, geometry=gp.points_from_xy(sample_pts.Longitude, sample_pts.Latitude), crs=\"EPSG:4326\")\n",
    "\n",
    "# replace SI-W-2 to S1-W-2 to match results spreadsheet\n",
    "sample_pts_gdf['Sampling ID_match_fb'] = np.where(sample_pts_gdf['Sampling ID'] == 'SI-W-2', 'S1-W-2', sample_pts_gdf['Sampling ID'])\n",
    "\n",
    "# replace BI-W-1 to B1-W-1 to match results spreadsheet\n",
    "sample_pts_gdf['Sampling ID_match_fb'] = np.where(sample_pts_gdf['Sampling ID_match_fb'] == 'BI-W-1', 'B1-W-1', sample_pts_gdf['Sampling ID_match_fb'])\n",
    "\n",
    "# replace DP-S-1 to DPS-1 to match results spreadsheet\n",
    "sample_pts_gdf['Sampling ID_match_fb'] = np.where(sample_pts_gdf['Sampling ID_match_fb'] == 'DP-S-1', 'DPS-1', sample_pts_gdf['Sampling ID_match_fb'])\n",
    "\n",
    "# replace BI-55-W to BI-55-1-W to match results spreadsheet\n",
    "sample_pts_gdf['Sampling ID_match_fb'] = np.where(sample_pts_gdf['Sampling ID_match_fb'] == 'BI-55-W', 'BI-55-1-W', sample_pts_gdf['Sampling ID_match_fb'])\n",
    "\n",
    "# replace date for BIS-1-2 from 11/9/2023 to 11/8/2023\n",
    "sample_pts_gdf['Date_match_fb'] = np.where(sample_pts_gdf['Sampling ID_match_fb'] == 'BIS-1-2', date(2023, 11, 8).strftime('%m/%d/%Y'), sample_pts_gdf['Date'])\n",
    "sample_pts_gdf['Date_match_fb'] = pd.to_datetime(sample_pts_gdf['Date_match_fb'])"
   ]
  },
  {
   "cell_type": "code",
   "execution_count": 343,
   "metadata": {},
   "outputs": [],
   "source": [
    "screening_results = pd.read_csv(input_results_path)\n",
    "\n",
    "# strip all sample ids of leading spaces\n",
    "screening_results['Sample ID'] = screening_results['Sample ID'].str.strip()\n",
    "\n",
    "# replace sampling ID for SPB-0159-S-1 to SPB-O159-S-1\n",
    "screening_results['Sample ID'] = np.where(screening_results['Sample ID'] == 'SPB-0159-S-1', 'SPB-O159-S-1', screening_results['Sample ID'])\n",
    "\n",
    "# TODO: remove any screening results with U and C qualifiers. do not want to show these in the map"
   ]
  },
  {
   "cell_type": "code",
   "execution_count": 344,
   "metadata": {},
   "outputs": [],
   "source": [
    "try:\n",
    "    screening_results['DATE'] = screening_results['DATE'].str[:10]\n",
    "    screening_results[\"DATE\"] = pd.to_datetime(screening_results[\"DATE\"])\n",
    "except:\n",
    "    print(\"date not included\")"
   ]
  },
  {
   "cell_type": "code",
   "execution_count": 345,
   "metadata": {},
   "outputs": [],
   "source": [
    "# replace date for BIS-1-2 from 11/9/2023 to 11/8/2023\n",
    "screening_results['DATE'] = np.where(screening_results['Sample ID'] == 'BIS-1-2', np.datetime64(date(2023, 11, 8)), screening_results['DATE'])"
   ]
  },
  {
   "cell_type": "code",
   "execution_count": 346,
   "metadata": {},
   "outputs": [],
   "source": [
    "sample_pts_gdf[\"Date\"] = pd.to_datetime(sample_pts_gdf[\"Date\"], format='mixed')"
   ]
  },
  {
   "cell_type": "code",
   "execution_count": 347,
   "metadata": {},
   "outputs": [],
   "source": [
    "sample_pts_join_results = pd.merge(screening_results, sample_pts_gdf, left_on = ['Sample ID', 'DATE'], right_on = ['Sampling ID_match_fb', 'Date'], how = 'left')\n",
    "sample_pts_join_results.rename(columns = {'Medium_x':'Medium'}, inplace = True)"
   ]
  },
  {
   "cell_type": "code",
   "execution_count": 348,
   "metadata": {},
   "outputs": [],
   "source": [
    "sample_pts_join_results_gdf = gp.GeoDataFrame(sample_pts_join_results)\n",
    "sample_pts_join_results_gdf['Date'] = sample_pts_join_results_gdf['Date'].astype(str)"
   ]
  },
  {
   "cell_type": "code",
   "execution_count": 349,
   "metadata": {},
   "outputs": [],
   "source": [
    "sample_pts_join_results[['DATE', 'Sample ID', 'Sampling ID', 'Medium', 'Chemical Group', 'Chemical', 'Scenario',\n",
    "       'Screening Level Type', 'Screening Level Measurement', 'SL Unit',\n",
    "       'Source', 'Parameter in Spreadsheet', 'Result Value',\n",
    "       'Result Value Units', 'SL_exceeded', 'SL_diff','stringent_ind','Latitude', 'Longitude','Description']].to_csv(f\"/home/nweiss/gdrive/Year 2/Summer - Duwamish/Sampling_Results/{output_results_path}.csv\", index = False)"
   ]
  }
 ],
 "metadata": {
  "kernelspec": {
   "display_name": "gis",
   "language": "python",
   "name": "python3"
  },
  "language_info": {
   "codemirror_mode": {
    "name": "ipython",
    "version": 3
   },
   "file_extension": ".py",
   "mimetype": "text/x-python",
   "name": "python",
   "nbconvert_exporter": "python",
   "pygments_lexer": "ipython3",
   "version": "3.11.4"
  },
  "orig_nbformat": 4
 },
 "nbformat": 4,
 "nbformat_minor": 2
}
