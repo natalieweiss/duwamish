{
 "cells": [
  {
   "cell_type": "code",
   "execution_count": 647,
   "metadata": {},
   "outputs": [],
   "source": [
    "import pandas as pd\n",
    "import numpy as np\n",
    "from datetime import date\n",
    "import os"
   ]
  },
  {
   "cell_type": "code",
   "execution_count": 648,
   "metadata": {},
   "outputs": [],
   "source": [
    "## initiate file paths\n",
    "sample_outing_name = 's4_s6'"
   ]
  },
  {
   "cell_type": "code",
   "execution_count": 649,
   "metadata": {},
   "outputs": [],
   "source": [
    "# create file paths\n",
    "if os.path.exists(f\"/home/nweiss/gdrive/Year 2/Summer - Duwamish/Sampling_Results/{sample_outing_name}_w_df_results.csv\"):\n",
    "    input_results_path = f\"/home/nweiss/gdrive/Year 2/Summer - Duwamish/Sampling_Results/{sample_outing_name}_w_df_results.csv\"\n",
    "else:\n",
    "    input_results_path = f\"/home/nweiss/gdrive/Year 2/Summer - Duwamish/Sampling_Results/{sample_outing_name}_results.csv\"\n",
    "\n",
    "output_results_path = f\"{sample_outing_name}_results_joined_SL\""
   ]
  },
  {
   "cell_type": "code",
   "execution_count": 650,
   "metadata": {},
   "outputs": [],
   "source": [
    "# initiate look up table file paths\n",
    "sl_path = \"/home/nweiss/gdrive/Year 2/Summer - Duwamish/Sampling_Results/Lookup Tables/Master_Screening_Levels.xlsx\"\n",
    "pcb_arc_lookup_path = \"/home/nweiss/gdrive/Year 2/Summer - Duwamish/Sampling_Results/Lookup Tables/PCB_aroclor_lookup.csv\""
   ]
  },
  {
   "cell_type": "code",
   "execution_count": 651,
   "metadata": {},
   "outputs": [],
   "source": [
    "results_df = pd.read_csv(input_results_path)"
   ]
  },
  {
   "cell_type": "code",
   "execution_count": 652,
   "metadata": {},
   "outputs": [],
   "source": [
    "#convert units to be ug/L\n",
    "results_df['Result Value'] = np.where(results_df['Result Value Units']=='pg/L', results_df['Result Value']/1000000, results_df['Result Value'])\n",
    "results_df['Result Value Units'] = np.where(results_df['Result Value Units']=='pg/L', 'ug/L', results_df['Result Value Units'])\n",
    "\n",
    "#convert units to be ug/L\n",
    "results_df['Result Value'] = np.where(results_df['Result Value Units']=='mg/L', results_df['Result Value']/1000, results_df['Result Value'])\n",
    "results_df['Result Value Units'] = np.where(results_df['Result Value Units']=='mg/L', 'ug/L', results_df['Result Value Units'])\n",
    "\n",
    "#TODO calculate total pcbs for epa method"
   ]
  },
  {
   "cell_type": "markdown",
   "metadata": {},
   "source": [
    "JOIN TABLES OF RESULTS TO MASTER SCREENING LEVELS FROM F&B"
   ]
  },
  {
   "cell_type": "code",
   "execution_count": 653,
   "metadata": {},
   "outputs": [],
   "source": [
    "# create data frame of the screening levels for soils and\n",
    "sl_soil_df = pd.read_excel(sl_path, sheet_name='Soil')\n",
    "sl_water_df = pd.read_excel(sl_path, sheet_name='Water')\n",
    "\n",
    "# concatenate to all screening levels\n",
    "sl = pd.concat([sl_soil_df, sl_water_df])"
   ]
  },
  {
   "cell_type": "code",
   "execution_count": 654,
   "metadata": {},
   "outputs": [],
   "source": [
    "# strip dioxin furans screening levels of their commas to match the results spreadsheet\n",
    "sl['Chemical'] = np.where(sl['Chemical Group']== 'Dioxin Furans', sl['Chemical'].str.replace(',',''), sl['Chemical'])\n",
    "\n",
    "# strip pcbs of their commas to match the results spreadsheet\n",
    "sl['Chemical'] = np.where(sl['Chemical Group']== 'PCB', sl['Chemical'].str.replace(',',''), sl['Chemical'])"
   ]
  },
  {
   "cell_type": "markdown",
   "metadata": {},
   "source": [
    "JOIN SCREENING LEVELS TO RESULTS"
   ]
  },
  {
   "cell_type": "code",
   "execution_count": 655,
   "metadata": {},
   "outputs": [],
   "source": [
    "# create data frames of the raw data and the lookup\n",
    "pcb_arc_lookup = pd.read_csv(pcb_arc_lookup_path)\n",
    "pcb_arc_lookup['PCB Isomer'] = pcb_arc_lookup['PCB Isomer'].str.replace(\",\",\"\")"
   ]
  },
  {
   "cell_type": "code",
   "execution_count": 656,
   "metadata": {},
   "outputs": [],
   "source": [
    "# replace pcb names with the aroclor names to match with F&B results\n",
    "sl_arc_join = pd.merge(sl, pcb_arc_lookup, how = 'outer', left_on = 'Chemical', right_on = 'PCB Isomer')\n",
    "sl_arc_join['Chemical'] = np.where(sl_arc_join['Aroclor Name'].str.contains('aroclor', na=False),sl_arc_join['Aroclor Name'], sl_arc_join['Chemical'])"
   ]
  },
  {
   "cell_type": "code",
   "execution_count": 657,
   "metadata": {},
   "outputs": [],
   "source": [
    "# join screening levels to the results\n",
    "sl_results_join = pd.merge(sl_arc_join, results_df, how = 'outer', left_on = ['Chemical','Medium'], right_on = ['Result Parameter Name','Sample Matrix_clean'])"
   ]
  },
  {
   "cell_type": "code",
   "execution_count": 658,
   "metadata": {},
   "outputs": [],
   "source": [
    "# remove screening levels that do not have values\n",
    "sl_results_join = sl_results_join[(sl_results_join['Screening Level Measurement']!='na')]\n",
    "sl_results_join = sl_results_join[(sl_results_join['Screening Level Measurement']!='TBD')]\n",
    "sl_results_join = sl_results_join[(sl_results_join['Screening Level Measurement']!='PQL')]"
   ]
  },
  {
   "cell_type": "code",
   "execution_count": 659,
   "metadata": {},
   "outputs": [],
   "source": [
    "# calculate whether the screening levels have been exceeded\n",
    "sl_results_join['SL_exceeded'] = np.where(sl_results_join['Screening Level Measurement'] < sl_results_join['Result Value'],'Y','N')"
   ]
  },
  {
   "cell_type": "code",
   "execution_count": 660,
   "metadata": {},
   "outputs": [],
   "source": [
    "sl_results_join['SL_diff'] = sl_results_join['Result Value'] - sl_results_join['Screening Level Measurement']"
   ]
  },
  {
   "cell_type": "code",
   "execution_count": 661,
   "metadata": {},
   "outputs": [],
   "source": [
    "# where the screening level is blank, replace exceedance with \"no screening level identified\"\n",
    "sl_results_join['Screening Level Measurement'].fillna('No Screening Level Identified', inplace = True)\n",
    "sl_results_join['SL_exceeded'] = np.where(sl_results_join['Screening Level Measurement']=='No Screening Level Identified','No Screening Level Identified', sl_results_join['SL_exceeded'])"
   ]
  },
  {
   "cell_type": "code",
   "execution_count": 662,
   "metadata": {},
   "outputs": [],
   "source": [
    "sl_results_join.dropna(subset=['Sample ID'], inplace=True)\n",
    "sl_results_join.rename(columns = {'Field Collection Start Date': 'DATE'}, inplace = True)"
   ]
  },
  {
   "cell_type": "code",
   "execution_count": 663,
   "metadata": {},
   "outputs": [],
   "source": [
    "sl_results_join['Medium'] = np.where(sl_results_join['Medium'].isna() == True, sl_results_join['Sample Matrix_clean'], sl_results_join['Medium'])\n",
    "sl_results_join['Chemical'] = np.where(sl_results_join['Chemical'].isna() == True, sl_results_join['Result Parameter Name'], sl_results_join['Chemical'])"
   ]
  },
  {
   "cell_type": "code",
   "execution_count": 664,
   "metadata": {},
   "outputs": [],
   "source": [
    "#sl_results_join[columns].to_csv(f'/home/nweiss/gdrive/Year 2/Summer - Duwamish/Sampling_Results/{output_results_path}.csv', index = False)"
   ]
  },
  {
   "cell_type": "markdown",
   "metadata": {},
   "source": [
    "CALCUALTE MOST STRINGENT AND COUNT OF STRINGENT EXCEEDED"
   ]
  },
  {
   "cell_type": "code",
   "execution_count": 665,
   "metadata": {},
   "outputs": [],
   "source": [
    "def drop_levels(df):\n",
    "    df.reset_index(inplace = True)\n",
    "    df.columns = df.columns.droplevel(1)\n",
    "    return df"
   ]
  },
  {
   "cell_type": "code",
   "execution_count": 666,
   "metadata": {},
   "outputs": [],
   "source": [
    "sl_arc_join = sl_arc_join[sl_arc_join['Screening Level Measurement']!='N/A']\n",
    "sl_arc_join = sl_arc_join[(sl_arc_join['Screening Level Measurement']!='na')]\n",
    "sl_arc_join = sl_arc_join[(sl_arc_join['Screening Level Measurement']!='TBD')]\n",
    "sl_arc_join = sl_arc_join[(sl_arc_join['Screening Level Measurement']!='PQL')]\n",
    "sl_arc_join = sl_arc_join[(sl_arc_join['Screening Level Measurement']!='No Screening Level Identified')]\n",
    "sl_arc_join['Screening Level Measurement'] = sl_arc_join['Screening Level Measurement'].astype(float)"
   ]
  },
  {
   "cell_type": "code",
   "execution_count": 667,
   "metadata": {},
   "outputs": [],
   "source": [
    "# find the most stringent screening level for each scenario\n",
    "sl_stringent = sl_arc_join.groupby(by =['Medium', 'Chemical Group', 'Chemical', 'Scenario']).agg({'Screening Level Measurement': ['min']}).reset_index()\n",
    "sl_stringent = drop_levels(sl_stringent)"
   ]
  },
  {
   "cell_type": "code",
   "execution_count": 668,
   "metadata": {},
   "outputs": [],
   "source": [
    "#For the results that signify most stringent, add column indicating stringent value for filtering\n",
    "sl_results_join = sl_results_join.merge(sl_stringent, how = 'left', indicator = True)\n",
    "sl_results_join['stringent_ind'] = np.where(sl_results_join['_merge']=='both', 'Stringent','')"
   ]
  },
  {
   "cell_type": "code",
   "execution_count": 669,
   "metadata": {},
   "outputs": [],
   "source": [
    "columns = ['DATE','Sample ID','Medium', 'Chemical Group', 'Chemical', 'Scenario',\n",
    "       'Screening Level Type', 'Screening Level Measurement', 'SL Unit',\n",
    "       'Source', 'Parameter in Spreadsheet','Result Value','Result Value Units','SL_exceeded', 'SL_diff','stringent_ind']"
   ]
  },
  {
   "cell_type": "code",
   "execution_count": 670,
   "metadata": {},
   "outputs": [],
   "source": [
    "sl_results_join[columns].to_csv(f'/home/nweiss/gdrive/Year 2/Summer - Duwamish/Sampling_Results/{output_results_path}.csv', index = False)"
   ]
  },
  {
   "cell_type": "markdown",
   "metadata": {},
   "source": [
    "FIX THIS"
   ]
  },
  {
   "cell_type": "code",
   "execution_count": 671,
   "metadata": {},
   "outputs": [],
   "source": [
    "# TODO: debug issues with percentages exceeding 100. something going on with null values counting as exceeded\n",
    "# count number of screening levels associated for a scenario across an entire chemical group\n",
    "sl_stringent_count = sl_stringent.groupby(by =['Medium', 'Chemical Group', 'Scenario']).agg({'Screening Level Measurement': ['count']}).reset_index()\n",
    "sl_stringent_count = drop_levels(sl_stringent_count)"
   ]
  },
  {
   "cell_type": "code",
   "execution_count": 672,
   "metadata": {},
   "outputs": [],
   "source": [
    "# for each sample id, count how many stringent screening levels were exceeded for a scenario\n",
    "sl_stringent_exceed_count = sl_stringent_exceed.groupby(by =['Medium', 'Sample ID','Chemical Group', 'Scenario']).agg({'Screening Level Measurement': ['count']}).reset_index()\n",
    "sl_stringent_exceed_count = drop_levels(sl_stringent_exceed_count)"
   ]
  },
  {
   "cell_type": "code",
   "execution_count": 673,
   "metadata": {},
   "outputs": [],
   "source": [
    "sl_stringent_exceed_count = sl_stringent_exceed_count.merge(sl_stringent_count, on= ['Medium', 'Chemical Group', 'Scenario'])\n",
    "sl_stringent_exceed_count['pct_stingent_exceeded'] = sl_stringent_exceed_count['Screening Level Measurement_x'] / sl_stringent_exceed_count['Screening Level Measurement_y']"
   ]
  }
 ],
 "metadata": {
  "kernelspec": {
   "display_name": "gis",
   "language": "python",
   "name": "python3"
  },
  "language_info": {
   "codemirror_mode": {
    "name": "ipython",
    "version": 3
   },
   "file_extension": ".py",
   "mimetype": "text/x-python",
   "name": "python",
   "nbconvert_exporter": "python",
   "pygments_lexer": "ipython3",
   "version": "3.11.4"
  },
  "orig_nbformat": 4
 },
 "nbformat": 4,
 "nbformat_minor": 2
}
